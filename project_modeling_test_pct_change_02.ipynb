{
  "nbformat": 4,
  "nbformat_minor": 0,
  "metadata": {
    "accelerator": "GPU",
    "colab": {
      "name": "project_modeling_test_pct_change.ipynb",
      "provenance": [],
      "collapsed_sections": []
    },
    "kernelspec": {
      "display_name": "Python 3",
      "language": "python",
      "name": "python3"
    },
    "language_info": {
      "codemirror_mode": {
        "name": "ipython",
        "version": 3
      },
      "file_extension": ".py",
      "mimetype": "text/x-python",
      "name": "python",
      "nbconvert_exporter": "python",
      "pygments_lexer": "ipython3",
      "version": "3.8.5"
    }
  },
  "cells": [
    {
      "cell_type": "code",
      "metadata": {
        "colab": {
          "base_uri": "https://localhost:8080/"
        },
        "id": "4KKRBHQ3I-ym",
        "outputId": "53ae8c42-03d0-4e3a-e105-fcef8bccd49c"
      },
      "source": [
        "!python --version"
      ],
      "execution_count": 1,
      "outputs": [
        {
          "output_type": "stream",
          "text": [
            "Python 3.6.9\n"
          ],
          "name": "stdout"
        }
      ]
    },
    {
      "cell_type": "code",
      "metadata": {
        "id": "AB_y1LAPI-y2"
      },
      "source": [
        "import pandas as pd\n",
        "pd.options.mode.chained_assignment = None  # default='warn'"
      ],
      "execution_count": 2,
      "outputs": []
    },
    {
      "cell_type": "code",
      "metadata": {
        "colab": {
          "base_uri": "https://localhost:8080/",
          "height": 35
        },
        "id": "lzz2cZgcI-y6",
        "outputId": "8f8bc6d4-2423-4f78-cca7-412f2ec27499"
      },
      "source": [
        "pd.__version__"
      ],
      "execution_count": 3,
      "outputs": [
        {
          "output_type": "execute_result",
          "data": {
            "application/vnd.google.colaboratory.intrinsic+json": {
              "type": "string"
            },
            "text/plain": [
              "'1.1.5'"
            ]
          },
          "metadata": {
            "tags": []
          },
          "execution_count": 3
        }
      ]
    },
    {
      "cell_type": "code",
      "metadata": {
        "colab": {
          "base_uri": "https://localhost:8080/"
        },
        "id": "lrEOU_btJDW1",
        "outputId": "6fa72e62-84ed-492b-b26e-3b132065c2fc"
      },
      "source": [
        "# Run this cell to connect to your Drive folder\n",
        "\n",
        "from google.colab import drive\n",
        "drive.mount('/content/gdrive')"
      ],
      "execution_count": 4,
      "outputs": [
        {
          "output_type": "stream",
          "text": [
            "Drive already mounted at /content/gdrive; to attempt to forcibly remount, call drive.mount(\"/content/gdrive\", force_remount=True).\n"
          ],
          "name": "stdout"
        }
      ]
    },
    {
      "cell_type": "code",
      "metadata": {
        "colab": {
          "base_uri": "https://localhost:8080/"
        },
        "id": "M1nYg0vyI-y7",
        "outputId": "cbd4a001-886e-45eb-8b8a-418f0b207fab"
      },
      "source": [
        "import numpy as np\n",
        "from sklearn.model_selection import TimeSeriesSplit\n",
        "import matplotlib as mpl\n",
        "import matplotlib.pyplot as plt\n",
        "import tensorflow as tf\n",
        "tf.keras.backend.set_floatx('float64')\n",
        "from tensorflow.keras.preprocessing.sequence import TimeseriesGenerator\n",
        "from tensorflow.keras.layers import Conv1D, Input, Flatten, Dense, LSTM, Dropout\n",
        "from tensorflow.keras import Model\n",
        "\n",
        "from statsmodels.tsa.stattools import adfuller\n",
        "from sklearn.preprocessing import StandardScaler, MinMaxScaler\n"
      ],
      "execution_count": 5,
      "outputs": [
        {
          "output_type": "stream",
          "text": [
            "/usr/local/lib/python3.6/dist-packages/statsmodels/tools/_testing.py:19: FutureWarning: pandas.util.testing is deprecated. Use the functions in the public API at pandas.testing instead.\n",
            "  import pandas.util.testing as tm\n"
          ],
          "name": "stderr"
        }
      ]
    },
    {
      "cell_type": "code",
      "metadata": {
        "colab": {
          "base_uri": "https://localhost:8080/",
          "height": 35
        },
        "id": "8Gv4UKmQI-y9",
        "outputId": "2deb825b-bbf4-4f8d-8eee-1357a14f0b82"
      },
      "source": [
        "tf.__version__"
      ],
      "execution_count": 6,
      "outputs": [
        {
          "output_type": "execute_result",
          "data": {
            "application/vnd.google.colaboratory.intrinsic+json": {
              "type": "string"
            },
            "text/plain": [
              "'2.3.0'"
            ]
          },
          "metadata": {
            "tags": []
          },
          "execution_count": 6
        }
      ]
    },
    {
      "cell_type": "markdown",
      "metadata": {
        "id": "qwvjio6Rp2ml"
      },
      "source": [
        "Technical indicators: these indicators are widely-used for stock price data. "
      ]
    },
    {
      "cell_type": "code",
      "metadata": {
        "id": "Ss_InUNRp1jJ"
      },
      "source": [
        "## https://stackoverflow.com/questions/57006437/calculate-rsi-indicator-from-pandas-dataframe/57037866\n",
        "def RSI(df, n=14):\n",
        "  df = pd.DataFrame(df)\n",
        "  def rma(x, n, y0):\n",
        "      a = (n-1) / n\n",
        "      ak = a**np.arange(len(x)-1, -1, -1)\n",
        "      return np.append(y0, np.cumsum(ak * x) / ak / n + y0 * a**np.arange(1, len(x)+1))\n",
        "\n",
        "  df['change'] = df.iloc[:].diff()\n",
        "  df['gain'] = df['change'].mask(df.change < 0, 0.0)\n",
        "  df['loss'] = -df['change'].mask(df.change > 0, -0.0)\n",
        "  df.loc[n:,'avg_gain'] = rma( df.loc[n+1:,'gain'].values, n, df.loc[:n, 'gain'].mean())\n",
        "  df.loc[n:,'avg_loss'] = rma( df.loc[n+1:,'loss'].values, n, df.loc[:n, 'loss'].mean())\n",
        "  df['rs'] = df.avg_gain / df.avg_loss\n",
        "  df['rsi_14'] = 100 - (100 / (1 + df['rs']))\n",
        "  return df['rsi_14']\n",
        "\n",
        "def weighted_moving_average(df, n=30):\n",
        "  df = pd.DataFrame(df)\n",
        "  weights = np.arange(1, n+1)\n",
        "  res = df.iloc[:].rolling(n).apply(lambda x: np.dot(x, weights)/weights.sum(), raw=True)\n",
        "  return res\n",
        "\n",
        "## similar to Moving Average Convergence Divergence (MACD)\n",
        "def MACD(df, slow=60, fast=10):\n",
        "  df = pd.DataFrame(df)\n",
        "  exp1 = df.ewm(span=fast, adjust=False).mean()\n",
        "  exp2 = df.ewm(span=slow, adjust=False).mean()\n",
        "  macd = exp1-exp2\n",
        "  return macd"
      ],
      "execution_count": 7,
      "outputs": []
    },
    {
      "cell_type": "code",
      "metadata": {
        "id": "8nehk6kZI-y-"
      },
      "source": [
        "def create_features(data, name):\n",
        "    data = data[['datetime', 'level']]\n",
        "    data['pct_change_1m'] = data['level'].pct_change(periods=1)\n",
        "    \n",
        "    data['short_ma'] = data['level'].rolling(window=10).mean()\n",
        "    data['short_ma_pct_change_baseline'] = (data['short_ma']-data['level'])/data['level']\n",
        "    data['short_ma_pct_change_10m'] = data['short_ma'].pct_change(periods=10)\n",
        "    data['short_std'] = data['level'].rolling(window=10).std()\n",
        "    data['short_std_pct_change_10m'] = data['short_std'].pct_change(periods=10)\n",
        "\n",
        "    data['long_ma'] = data['level'].rolling(window=60).mean()\n",
        "    data['long_ma_pct_change_baseline'] = (data['long_ma']-data['level'])/data['level']\n",
        "    data['long_ma_pct_change_60m'] = data['long_ma'].pct_change(periods=60)\n",
        "    data['long_std'] = data['level'].rolling(window=60).std()\n",
        "    data['long_std_pct_change_60m'] = data['long_std'].pct_change(periods=60)\n",
        "\n",
        "    data['short_ewm'] = data['level'].ewm(span=10, adjust=False).mean()\n",
        "    data['short_ewm_pct_change_baseline'] = (data['short_ewm']-data['level'])/data['level']\n",
        "\n",
        "    data['long_ewm'] = data['level'].ewm(span=60, adjust=False).mean()\n",
        "    data['long_ewm_pct_change_baseline'] = (data['long_ewm']-data['level'])/data['level']\n",
        "\n",
        "    ## technical indicators\n",
        "    data['rsi'] = RSI(data['level'], n=30)\n",
        "    data['wma'] = weighted_moving_average(data['level'], n=30)\n",
        "    data['wma_pct_change'] = data['wma'].pct_change(periods=1)\n",
        "    data['macd'] = MACD(data['level'], slow=60, fast=10)\n",
        "\n",
        "    # data = data.drop(['level', 'short_ma', 'long_ma', 'short_std', 'long_std', 'short_ewm', 'long_ewm'], axis=1)\n",
        "    # data = data.drop(['level', 'short_ma', 'long_ma', 'short_std', 'long_std'], axis=1)\n",
        "\n",
        "    rename_mapper = {col: name+'_'+col for col in data.columns[1:]}\n",
        "    data = data.rename(columns=rename_mapper)\n",
        "    return data"
      ],
      "execution_count": 8,
      "outputs": []
    },
    {
      "cell_type": "code",
      "metadata": {
        "id": "11iG1ltsI-y-"
      },
      "source": [
        "def create_dataset(data, window_size=5, batch_size=32, shuffle=False):\n",
        "    data = data.dropna()\n",
        "    data = data.reset_index()\n",
        "    data = data.drop(['index', 'datetime'], axis=1)\n",
        "    # target = np.concatenate((np.zeros(window_size), data['sym_pct_change_1m'][window_size:]))\n",
        "    target =  data['sym_pct_change_1m']\n",
        "    x = np.array(data)\n",
        "    \n",
        "    ts_dataset = TimeseriesGenerator(x, target, \n",
        "                                     length=window_size, \n",
        "                                     stride=1,\n",
        "                                     batch_size=batch_size, \n",
        "                                     shuffle=shuffle)\n",
        "    \n",
        "    return ts_dataset\n",
        "    "
      ],
      "execution_count": 9,
      "outputs": []
    },
    {
      "cell_type": "code",
      "metadata": {
        "id": "V9zjjioZI-y_"
      },
      "source": [
        "def train_val_test_split(data, window_size=5, batch_size=32, train_pct=0.7, val_pct=0.2, shuffle=False):\n",
        "    data = data.dropna()\n",
        "    n = data.shape[0]\n",
        "    n_train = int(n*train_pct)\n",
        "    n_validation = int(n*val_pct)\n",
        "    n_test = n-n_train-n_validation\n",
        "    print(\"number of total data samples\", n, \"n_train\", n_train, \"n_validation\", n_validation, \"n_test\", n_test)\n",
        "    train_data = data.iloc[:n_train].copy()\n",
        "    validation_data = data.iloc[n_train-window_size:n_train+n_validation].copy()\n",
        "    test_data = data.iloc[n_train+n_validation-window_size:].copy()\n",
        "    \n",
        "    ## feature scaling\n",
        "    scaler = StandardScaler()\n",
        "    # scaler = MinMaxScaler()\n",
        "    train_data.iloc[:, 1:] = scaler.fit_transform(train_data.iloc[:, 1:])\n",
        "    validation_data.iloc[:, 1:] = scaler.transform(validation_data.iloc[:, 1:])\n",
        "    test_data.iloc[:, 1:] = scaler.transform(test_data.iloc[:, 1:])\n",
        "\n",
        "    ## here, we can temporily use (batch_size=1, shuffle=False) to verify that the dataset object is correct\n",
        "    train_dataset = create_dataset(train_data, window_size=window_size, \n",
        "                                   batch_size=batch_size, shuffle=shuffle)\n",
        "    print(\"train number of batches\", len(train_dataset))\n",
        "    validation_dataset = create_dataset(validation_data, window_size=window_size, \n",
        "                                        batch_size=batch_size, shuffle=shuffle)\n",
        "    print(\"validation number of batches\", len(validation_dataset))\n",
        "    test_dataset = create_dataset(test_data, window_size=window_size, \n",
        "                                  batch_size=batch_size, shuffle=shuffle)\n",
        "    print(\"test number of batches\", len(test_dataset))\n",
        "    \n",
        "#     i = 0\n",
        "#     for x, y in train_dataset:\n",
        "#         assert np.array_equal(x[0], np.array(data.iloc[i:i+window_size, 1:]))\n",
        "#         assert np.array_equal(y[0], np.array(data.iloc[i+window_size, 1]))\n",
        "#         i += 1\n",
        "\n",
        "#     for x, y in validation_dataset:\n",
        "#         assert np.array_equal(x[0], np.array(data.iloc[i:i+window_size, 1:]))\n",
        "#         assert np.array_equal(y[0], np.array(data.iloc[i+window_size, 1]))\n",
        "#         i += 1\n",
        "    \n",
        "#     for x, y in test_dataset:\n",
        "#         assert np.array_equal(x[0], np.array(data.iloc[i:i+window_size, 1:]))\n",
        "#         assert np.array_equal(y[0], np.array(data.iloc[i+window_size, 1]))\n",
        "#         i += 1\n",
        "        \n",
        "    return train_dataset, validation_dataset, test_dataset, test_data, scaler"
      ],
      "execution_count": 10,
      "outputs": []
    },
    {
      "cell_type": "markdown",
      "metadata": {
        "id": "h-QqoC1FMeKF"
      },
      "source": [
        "Baseline model: use the value from last trade"
      ]
    },
    {
      "cell_type": "code",
      "metadata": {
        "id": "8XTxQyorMU4d"
      },
      "source": [
        "class Baseline_last_trade(Model):\n",
        "    def __init__(self, name=None):\n",
        "        super().__init__()\n",
        "        self.model_name = 'Baseline_last_trade'\n",
        "\n",
        "    def call(self, inputs):\n",
        "        return tf.zeros_like(inputs[:, -1:, 0])"
      ],
      "execution_count": 11,
      "outputs": []
    },
    {
      "cell_type": "markdown",
      "metadata": {
        "id": "rUUWpIR2I-zc"
      },
      "source": [
        "Baseline model class: use moving average from previous trades"
      ]
    },
    {
      "cell_type": "code",
      "metadata": {
        "id": "TuWV25qEI-zd"
      },
      "source": [
        "class Baseline_ma(Model):\n",
        "    def __init__(self, ma_index=None):\n",
        "        super().__init__()\n",
        "        if ma_index is None:\n",
        "            raise ValueError('Index of moving average is needed for this baseline model')\n",
        "        self.ma_index = ma_index\n",
        "\n",
        "    def call(self, inputs):\n",
        "        result = inputs[:, -1:, self.ma_index]\n",
        "        return result"
      ],
      "execution_count": 12,
      "outputs": []
    },
    {
      "cell_type": "markdown",
      "metadata": {
        "id": "gJ8wN0viN-aY"
      },
      "source": [
        "Conv1D model"
      ]
    },
    {
      "cell_type": "code",
      "metadata": {
        "id": "XxHw3heSMXgh"
      },
      "source": [
        "def get_conv1d_model(input_shape, conv_width=None, filter_size=None):\n",
        "    if conv_width is None:\n",
        "        raise ValueError(\"conv_width is needed as a list of integers\")\n",
        "    if filter_size is None:\n",
        "        raise ValueError(\"filter_size is needed as a list of integers\")\n",
        "    if len(conv_width) != len(filter_size):\n",
        "        raise ValueError(\"len(conv_width) != filter_size\")\n",
        "    \n",
        "    input_ = Input(input_shape)\n",
        "    x = input_\n",
        "    for width, filters in zip(conv_width, filter_size):\n",
        "        x = Conv1D(filters=filters, kernel_size=(width,), activation='relu')(x)\n",
        "        x = Dropout(0.5)(x)\n",
        "\n",
        "    x = Flatten()(x)\n",
        "#     x = Dense(64)(x)\n",
        "    # x = Dense(16)(x)\n",
        "    output_ = Dense(1)(x)\n",
        "    model = Model(inputs=input_, outputs=output_)\n",
        "    model.compile(loss=tf.losses.Huber(delta=0.01),\n",
        "                optimizer=tf.optimizers.Adam(learning_rate=0.001),\n",
        "                metrics=[tf.metrics.MeanAbsoluteError(), tf.keras.metrics.RootMeanSquaredError()])\n",
        "    return model"
      ],
      "execution_count": 13,
      "outputs": []
    },
    {
      "cell_type": "markdown",
      "metadata": {
        "id": "S1nuklCyOJT7"
      },
      "source": [
        "LSTM model"
      ]
    },
    {
      "cell_type": "code",
      "metadata": {
        "id": "wLsmKpE-MXuf"
      },
      "source": [
        "def get_LSTM_model(input_shape, units_list=None):\n",
        "    if units_list is None:\n",
        "        raise ValueError(\"units is needed as a list of integers\")\n",
        "    \n",
        "    input_ = Input(input_shape)\n",
        "    x = input_\n",
        "    for units in units_list:\n",
        "        x = LSTM(units, return_sequences=True, activation='tanh')(x)\n",
        "        x = Dropout(0.5)(x)\n",
        "        \n",
        "    x = LSTM(units_list[-1], activation='tanh')(x)\n",
        "    x = Dense(units_list[-1])(x)\n",
        "    output_ = Dense(1)(x)\n",
        "    model = Model(inputs=input_, outputs=output_)\n",
        "    model.compile(loss=tf.losses.Huber(),\n",
        "                optimizer=tf.optimizers.Adam(learning_rate=0.1),\n",
        "                metrics=[tf.metrics.MeanAbsoluteError(), tf.keras.metrics.RootMeanSquaredError()])\n",
        "    return model"
      ],
      "execution_count": 14,
      "outputs": []
    },
    {
      "cell_type": "markdown",
      "metadata": {
        "id": "H1rSXgVxmyiH"
      },
      "source": [
        "Linear regression model: to avoid overfitting, the window_size is reduced"
      ]
    },
    {
      "cell_type": "code",
      "metadata": {
        "id": "xihOov1vmxvk"
      },
      "source": [
        "def get_lr_model(input_shape, lr_window_size=5, units_list=None):\n",
        "    input_ = Input(input_shape)\n",
        "    x = input_[:, -lr_window_size:, :]\n",
        "    x = Flatten()(x)\n",
        "    output_ = Dense(1, kernel_regularizer='l1', bias_regularizer='l1')(x)\n",
        "    model = Model(inputs=input_, outputs=output_)\n",
        "    model.compile(loss=tf.losses.Huber(),\n",
        "                optimizer=tf.optimizers.Adam(learning_rate=0.01),\n",
        "                metrics=[tf.metrics.MeanAbsoluteError(), tf.keras.metrics.RootMeanSquaredError()])\n",
        "    return model"
      ],
      "execution_count": 15,
      "outputs": []
    },
    {
      "cell_type": "markdown",
      "metadata": {
        "id": "EFPEatxPqqSh"
      },
      "source": [
        "Ensemble model #1: simple average"
      ]
    },
    {
      "cell_type": "code",
      "metadata": {
        "id": "hGblgk5gqqeT"
      },
      "source": [
        "def get_myMajority_model(input_shape, models=None):\n",
        "    if models is None:\n",
        "        raise ValueError('models are needed for this ensemble model')\n",
        "    for model in models:\n",
        "      model.trainable = False\n",
        "    input_ = Input(input_shape)\n",
        "    outputs_ = [model(input_) for model in models]\n",
        "    outputs_ = tf.stack(outputs_, axis=1)\n",
        "    outputs_ = Flatten()(outputs_)\n",
        "    outputs_ = tf.math.reduce_mean(outputs_, axis=1, keepdims=True)\n",
        "    model = Model(inputs=input_, outputs=outputs_)\n",
        "    model.compile(loss=tf.losses.Huber(),\n",
        "                optimizer=tf.optimizers.Adam(learning_rate=0.001),\n",
        "                metrics=[tf.metrics.MeanAbsoluteError(), tf.keras.metrics.RootMeanSquaredError()])\n",
        "    return model"
      ],
      "execution_count": 16,
      "outputs": []
    },
    {
      "cell_type": "markdown",
      "metadata": {
        "id": "yfYZc-QQqwdJ"
      },
      "source": [
        "Ensemble model #2: learned weighted average"
      ]
    },
    {
      "cell_type": "code",
      "metadata": {
        "id": "37AZfEh5qwu6"
      },
      "source": [
        "def get_myEnsStack_model(input_shape, models=None):\n",
        "    if models is None:\n",
        "        raise ValueError('models are needed for this ensemble model')\n",
        "    for model in models:\n",
        "      model.trainable = False\n",
        "    input_ = Input(input_shape)\n",
        "    outputs_ = [model(input_) for model in models]\n",
        "    outputs_ = tf.stack(outputs_, axis=1)\n",
        "    outputs_ = Flatten()(outputs_)\n",
        "    outputs_ = Dense(1, use_bias=False)(outputs_)\n",
        "    model = Model(inputs=input_, outputs=outputs_)\n",
        "    model.compile(loss=tf.losses.Huber(),\n",
        "                optimizer=tf.optimizers.Adam(learning_rate=0.001),\n",
        "                metrics=[tf.metrics.MeanAbsoluteError(), tf.keras.metrics.RootMeanSquaredError()])\n",
        "    return model"
      ],
      "execution_count": 17,
      "outputs": []
    },
    {
      "cell_type": "markdown",
      "metadata": {
        "id": "XE6k5HAvgLG4"
      },
      "source": [
        "The following function helps compute the actual root-mean-square error of our predicted level. Also, the predictions are made one by one to simulate the real-time prediction."
      ]
    },
    {
      "cell_type": "code",
      "metadata": {
        "id": "bD4CIN3Zbn-i"
      },
      "source": [
        "def model_eval(model, data, scaler):\n",
        "    i = 0\n",
        "    RMSE_raw = []\n",
        "    RMSE_pct = []\n",
        "    RMSE_level = []\n",
        "\n",
        "    preds_raw = []\n",
        "    preds_pct = []\n",
        "    preds_level = []\n",
        "    for i in range(len(data)-window_size):\n",
        "      input_ = data.iloc[i:i+window_size, 1:]\n",
        "      input_ = scaler.transform(input_)\n",
        "      # print(input_[0])\n",
        "      input_ = tf.expand_dims(input_, axis=0)\n",
        "\n",
        "      last_row = data.iloc[i+window_size-1, 1:]\n",
        "      last_price = last_row[0]\n",
        "\n",
        "      target_row = np.array(data.iloc[i+window_size, 1:])\n",
        "      target_row = np.expand_dims(target_row, axis=0)\n",
        "      transformed_target_row = scaler.transform(target_row)\n",
        "      transformed_target = transformed_target_row[:, 1]\n",
        "      target_level = target_row[:, 0]\n",
        "      target_pct = target_row[:, 1]\n",
        "      \n",
        "      transformed_pred_pct = model(input_).numpy()[0, 0]\n",
        "      transformed_pred_row = np.zeros_like(target_row)\n",
        "      transformed_pred_row[:, 1] = transformed_pred_pct\n",
        "      pred_row = scaler.inverse_transform(transformed_pred_row)\n",
        "\n",
        "      if hasattr(model, 'model_name') and model.model_name == 'Baseline_last_trade':\n",
        "        pred_pct = np.array([0.0])\n",
        "      else:\n",
        "        pred_pct = pred_row[:, 1]\n",
        "\n",
        "      pred_level = last_price * (1+pred_pct)\n",
        "      preds_pct.append(pred_pct)\n",
        "      preds_level.append(pred_level)\n",
        "\n",
        "      RMSE_raw.append(tf.math.squared_difference(transformed_target.astype('float32'), transformed_pred_pct.astype('float32')))\n",
        "      RMSE_pct.append(tf.math.squared_difference(target_pct.astype('float32'), pred_pct.astype('float32')))\n",
        "      RMSE_level.append(tf.math.squared_difference(target_level.astype('float32'), pred_level.astype('float32')))\n",
        "\n",
        "      rmse_raw = tf.math.sqrt(tf.math.reduce_mean(RMSE_raw)).numpy()\n",
        "      rmse_pct = tf.math.sqrt(tf.math.reduce_mean(RMSE_pct)).numpy()\n",
        "      rmse_level = tf.math.sqrt(tf.math.reduce_mean(RMSE_level)).numpy()\n",
        "      # break\n",
        "      \n",
        "    return rmse_raw, rmse_pct, rmse_level, preds_pct, preds_level"
      ],
      "execution_count": 18,
      "outputs": []
    },
    {
      "cell_type": "markdown",
      "metadata": {
        "id": "3fwcdejkn-Ou"
      },
      "source": [
        "# Load data"
      ]
    },
    {
      "cell_type": "code",
      "metadata": {
        "colab": {
          "base_uri": "https://localhost:8080/",
          "height": 258
        },
        "id": "hjcU6qq6boHi",
        "outputId": "3b9291dd-7b4d-4f6c-a372-b4454ae2641d"
      },
      "source": [
        "file_path = \"/content/gdrive/My Drive/Colab Notebooks/project_modeling_test/bond_spreads.csv\"\n",
        "data = pd.read_csv(file_path, index_col=0)\n",
        "data['datetime'] = pd.to_datetime(data['datetime'])\n",
        "data.sort_values(by='datetime')\n",
        "data.head()"
      ],
      "execution_count": 19,
      "outputs": [
        {
          "output_type": "stream",
          "text": [
            "/usr/local/lib/python3.6/dist-packages/numpy/lib/arraysetops.py:569: FutureWarning: elementwise comparison failed; returning scalar instead, but in the future will perform elementwise comparison\n",
            "  mask |= (ar1 == a)\n"
          ],
          "name": "stderr"
        },
        {
          "output_type": "execute_result",
          "data": {
            "text/html": [
              "<div>\n",
              "<style scoped>\n",
              "    .dataframe tbody tr th:only-of-type {\n",
              "        vertical-align: middle;\n",
              "    }\n",
              "\n",
              "    .dataframe tbody tr th {\n",
              "        vertical-align: top;\n",
              "    }\n",
              "\n",
              "    .dataframe thead th {\n",
              "        text-align: right;\n",
              "    }\n",
              "</style>\n",
              "<table border=\"1\" class=\"dataframe\">\n",
              "  <thead>\n",
              "    <tr style=\"text-align: right;\">\n",
              "      <th></th>\n",
              "      <th>datetime</th>\n",
              "      <th>sym</th>\n",
              "      <th>level</th>\n",
              "    </tr>\n",
              "  </thead>\n",
              "  <tbody>\n",
              "    <tr>\n",
              "      <th>0</th>\n",
              "      <td>2020-11-01 08:00:00</td>\n",
              "      <td>US0ATXMR1KXH</td>\n",
              "      <td>135.484079</td>\n",
              "    </tr>\n",
              "    <tr>\n",
              "      <th>1</th>\n",
              "      <td>2020-11-01 08:00:00</td>\n",
              "      <td>US1Q9L9LWF70</td>\n",
              "      <td>134.431820</td>\n",
              "    </tr>\n",
              "    <tr>\n",
              "      <th>2</th>\n",
              "      <td>2020-11-01 08:00:00</td>\n",
              "      <td>US6KJNEMVUB3</td>\n",
              "      <td>173.589274</td>\n",
              "    </tr>\n",
              "    <tr>\n",
              "      <th>3</th>\n",
              "      <td>2020-11-01 08:00:00</td>\n",
              "      <td>USVB60AAKLSG</td>\n",
              "      <td>168.731458</td>\n",
              "    </tr>\n",
              "    <tr>\n",
              "      <th>4</th>\n",
              "      <td>2020-11-01 08:00:00</td>\n",
              "      <td>US0GLYO7VCOH</td>\n",
              "      <td>81.383554</td>\n",
              "    </tr>\n",
              "  </tbody>\n",
              "</table>\n",
              "</div>"
            ],
            "text/plain": [
              "             datetime           sym       level\n",
              "0 2020-11-01 08:00:00  US0ATXMR1KXH  135.484079\n",
              "1 2020-11-01 08:00:00  US1Q9L9LWF70  134.431820\n",
              "2 2020-11-01 08:00:00  US6KJNEMVUB3  173.589274\n",
              "3 2020-11-01 08:00:00  USVB60AAKLSG  168.731458\n",
              "4 2020-11-01 08:00:00  US0GLYO7VCOH   81.383554"
            ]
          },
          "metadata": {
            "tags": []
          },
          "execution_count": 19
        }
      ]
    },
    {
      "cell_type": "code",
      "metadata": {
        "colab": {
          "base_uri": "https://localhost:8080/"
        },
        "id": "LzIXVp85boOC",
        "outputId": "00597658-051d-44ba-8c90-342938cbd89d"
      },
      "source": [
        "df_sym_to_sector = pd.read_csv('/content/gdrive/My Drive/Colab Notebooks/project_modeling_test/sym_to_sector.csv')\n",
        "# df_sym_to_sector.head()\n",
        "df_sym_to_sector['sector'].value_counts()"
      ],
      "execution_count": 20,
      "outputs": [
        {
          "output_type": "execute_result",
          "data": {
            "text/plain": [
              "CONSUMER_CYCLICALS    512\n",
              "INDUSTRIALS           330\n",
              "ENERGY                311\n",
              "TECHNOLOGY            292\n",
              "Name: sector, dtype: int64"
            ]
          },
          "metadata": {
            "tags": []
          },
          "execution_count": 20
        }
      ]
    },
    {
      "cell_type": "code",
      "metadata": {
        "colab": {
          "base_uri": "https://localhost:8080/"
        },
        "id": "nhMZkASUjkVS",
        "outputId": "e39c0781-6186-48ce-f32f-eab92db57f41"
      },
      "source": [
        "df_sym_to_issuer = pd.read_csv('/content/gdrive/My Drive/Colab Notebooks/project_modeling_test/sym_to_issuer.csv')\n",
        "df_sym_to_issuer['issuer'].value_counts()"
      ],
      "execution_count": 21,
      "outputs": [
        {
          "output_type": "execute_result",
          "data": {
            "text/plain": [
              "ECH     94\n",
              "HGJU    94\n",
              "XOY     93\n",
              "X       87\n",
              "TA      86\n",
              "F       85\n",
              "J       73\n",
              "EEQ     60\n",
              "ZBPY    55\n",
              "T       53\n",
              "FV      50\n",
              "D       42\n",
              "OERT    41\n",
              "NL      40\n",
              "RY      40\n",
              "U       39\n",
              "YVPO    39\n",
              "MH      38\n",
              "Q       36\n",
              "LFU     31\n",
              "XPHX    30\n",
              "XG      29\n",
              "LGK     29\n",
              "XZET    26\n",
              "EJMR    23\n",
              "TOT     20\n",
              "C       18\n",
              "VYIV    15\n",
              "RYDM    13\n",
              "NMYQ    13\n",
              "B       10\n",
              "I        8\n",
              "AH       8\n",
              "SPW      7\n",
              "XRC      5\n",
              "KNRI     4\n",
              "WNR      4\n",
              "GV       2\n",
              "M        2\n",
              "OFR      1\n",
              "GK       1\n",
              "TT       1\n",
              "Name: issuer, dtype: int64"
            ]
          },
          "metadata": {
            "tags": []
          },
          "execution_count": 21
        }
      ]
    },
    {
      "cell_type": "code",
      "metadata": {
        "colab": {
          "base_uri": "https://localhost:8080/",
          "height": 204
        },
        "id": "UgYNMdiXjcSv",
        "outputId": "da68f88b-9ace-411b-892e-57e3373ef018"
      },
      "source": [
        "raw_data = data.merge(df_sym_to_sector, on='sym')\n",
        "raw_data = raw_data.merge(df_sym_to_issuer, on='sym')\n",
        "raw_data.head()"
      ],
      "execution_count": 22,
      "outputs": [
        {
          "output_type": "execute_result",
          "data": {
            "text/html": [
              "<div>\n",
              "<style scoped>\n",
              "    .dataframe tbody tr th:only-of-type {\n",
              "        vertical-align: middle;\n",
              "    }\n",
              "\n",
              "    .dataframe tbody tr th {\n",
              "        vertical-align: top;\n",
              "    }\n",
              "\n",
              "    .dataframe thead th {\n",
              "        text-align: right;\n",
              "    }\n",
              "</style>\n",
              "<table border=\"1\" class=\"dataframe\">\n",
              "  <thead>\n",
              "    <tr style=\"text-align: right;\">\n",
              "      <th></th>\n",
              "      <th>datetime</th>\n",
              "      <th>sym</th>\n",
              "      <th>level</th>\n",
              "      <th>sector</th>\n",
              "      <th>issuer</th>\n",
              "    </tr>\n",
              "  </thead>\n",
              "  <tbody>\n",
              "    <tr>\n",
              "      <th>0</th>\n",
              "      <td>2020-11-01 08:00:00</td>\n",
              "      <td>US0ATXMR1KXH</td>\n",
              "      <td>135.484079</td>\n",
              "      <td>CONSUMER_CYCLICALS</td>\n",
              "      <td>XOY</td>\n",
              "    </tr>\n",
              "    <tr>\n",
              "      <th>1</th>\n",
              "      <td>2020-11-01 08:01:00</td>\n",
              "      <td>US0ATXMR1KXH</td>\n",
              "      <td>133.008120</td>\n",
              "      <td>CONSUMER_CYCLICALS</td>\n",
              "      <td>XOY</td>\n",
              "    </tr>\n",
              "    <tr>\n",
              "      <th>2</th>\n",
              "      <td>2020-11-01 08:02:00</td>\n",
              "      <td>US0ATXMR1KXH</td>\n",
              "      <td>133.269386</td>\n",
              "      <td>CONSUMER_CYCLICALS</td>\n",
              "      <td>XOY</td>\n",
              "    </tr>\n",
              "    <tr>\n",
              "      <th>3</th>\n",
              "      <td>2020-11-01 08:03:00</td>\n",
              "      <td>US0ATXMR1KXH</td>\n",
              "      <td>132.534590</td>\n",
              "      <td>CONSUMER_CYCLICALS</td>\n",
              "      <td>XOY</td>\n",
              "    </tr>\n",
              "    <tr>\n",
              "      <th>4</th>\n",
              "      <td>2020-11-01 08:04:00</td>\n",
              "      <td>US0ATXMR1KXH</td>\n",
              "      <td>134.908804</td>\n",
              "      <td>CONSUMER_CYCLICALS</td>\n",
              "      <td>XOY</td>\n",
              "    </tr>\n",
              "  </tbody>\n",
              "</table>\n",
              "</div>"
            ],
            "text/plain": [
              "             datetime           sym       level              sector issuer\n",
              "0 2020-11-01 08:00:00  US0ATXMR1KXH  135.484079  CONSUMER_CYCLICALS    XOY\n",
              "1 2020-11-01 08:01:00  US0ATXMR1KXH  133.008120  CONSUMER_CYCLICALS    XOY\n",
              "2 2020-11-01 08:02:00  US0ATXMR1KXH  133.269386  CONSUMER_CYCLICALS    XOY\n",
              "3 2020-11-01 08:03:00  US0ATXMR1KXH  132.534590  CONSUMER_CYCLICALS    XOY\n",
              "4 2020-11-01 08:04:00  US0ATXMR1KXH  134.908804  CONSUMER_CYCLICALS    XOY"
            ]
          },
          "metadata": {
            "tags": []
          },
          "execution_count": 22
        }
      ]
    },
    {
      "cell_type": "code",
      "metadata": {
        "colab": {
          "base_uri": "https://localhost:8080/"
        },
        "id": "pD3oQtDjzAE-",
        "outputId": "bd55cb91-b374-4a0e-a344-bec47b452512"
      },
      "source": [
        "syms_all = raw_data['sym'].unique()\n",
        "syms_all"
      ],
      "execution_count": 23,
      "outputs": [
        {
          "output_type": "execute_result",
          "data": {
            "text/plain": [
              "array(['US0ATXMR1KXH', 'US1Q9L9LWF70', 'US6KJNEMVUB3', ...,\n",
              "       'USL3W14NOS6O', 'USOYXI6CIQ2M', 'USS7E04EJOAJ'], dtype=object)"
            ]
          },
          "metadata": {
            "tags": []
          },
          "execution_count": 23
        }
      ]
    },
    {
      "cell_type": "markdown",
      "metadata": {
        "id": "r-HfJFb6lGJT"
      },
      "source": [
        "Select a target sym"
      ]
    },
    {
      "cell_type": "code",
      "metadata": {
        "colab": {
          "base_uri": "https://localhost:8080/",
          "height": 204
        },
        "id": "gS2aJtvHlGlg",
        "outputId": "88cce084-74cf-46de-c5cb-0c1afb20357f"
      },
      "source": [
        "# sym = 'USV9CQ7RNR6Y'\n",
        "sym = np.random.choice(syms_all, 1)[0]\n",
        "sym_data = raw_data[raw_data['sym']==sym].reset_index().drop('index', axis=1)\n",
        "sym_data.head()"
      ],
      "execution_count": 24,
      "outputs": [
        {
          "output_type": "execute_result",
          "data": {
            "text/html": [
              "<div>\n",
              "<style scoped>\n",
              "    .dataframe tbody tr th:only-of-type {\n",
              "        vertical-align: middle;\n",
              "    }\n",
              "\n",
              "    .dataframe tbody tr th {\n",
              "        vertical-align: top;\n",
              "    }\n",
              "\n",
              "    .dataframe thead th {\n",
              "        text-align: right;\n",
              "    }\n",
              "</style>\n",
              "<table border=\"1\" class=\"dataframe\">\n",
              "  <thead>\n",
              "    <tr style=\"text-align: right;\">\n",
              "      <th></th>\n",
              "      <th>datetime</th>\n",
              "      <th>sym</th>\n",
              "      <th>level</th>\n",
              "      <th>sector</th>\n",
              "      <th>issuer</th>\n",
              "    </tr>\n",
              "  </thead>\n",
              "  <tbody>\n",
              "    <tr>\n",
              "      <th>0</th>\n",
              "      <td>2020-11-01 08:00:00</td>\n",
              "      <td>USGTETXHV9BX</td>\n",
              "      <td>75.314544</td>\n",
              "      <td>INDUSTRIALS</td>\n",
              "      <td>HGJU</td>\n",
              "    </tr>\n",
              "    <tr>\n",
              "      <th>1</th>\n",
              "      <td>2020-11-01 08:01:00</td>\n",
              "      <td>USGTETXHV9BX</td>\n",
              "      <td>73.678934</td>\n",
              "      <td>INDUSTRIALS</td>\n",
              "      <td>HGJU</td>\n",
              "    </tr>\n",
              "    <tr>\n",
              "      <th>2</th>\n",
              "      <td>2020-11-01 08:02:00</td>\n",
              "      <td>USGTETXHV9BX</td>\n",
              "      <td>74.189835</td>\n",
              "      <td>INDUSTRIALS</td>\n",
              "      <td>HGJU</td>\n",
              "    </tr>\n",
              "    <tr>\n",
              "      <th>3</th>\n",
              "      <td>2020-11-01 08:03:00</td>\n",
              "      <td>USGTETXHV9BX</td>\n",
              "      <td>73.877081</td>\n",
              "      <td>INDUSTRIALS</td>\n",
              "      <td>HGJU</td>\n",
              "    </tr>\n",
              "    <tr>\n",
              "      <th>4</th>\n",
              "      <td>2020-11-01 08:04:00</td>\n",
              "      <td>USGTETXHV9BX</td>\n",
              "      <td>75.365499</td>\n",
              "      <td>INDUSTRIALS</td>\n",
              "      <td>HGJU</td>\n",
              "    </tr>\n",
              "  </tbody>\n",
              "</table>\n",
              "</div>"
            ],
            "text/plain": [
              "             datetime           sym      level       sector issuer\n",
              "0 2020-11-01 08:00:00  USGTETXHV9BX  75.314544  INDUSTRIALS   HGJU\n",
              "1 2020-11-01 08:01:00  USGTETXHV9BX  73.678934  INDUSTRIALS   HGJU\n",
              "2 2020-11-01 08:02:00  USGTETXHV9BX  74.189835  INDUSTRIALS   HGJU\n",
              "3 2020-11-01 08:03:00  USGTETXHV9BX  73.877081  INDUSTRIALS   HGJU\n",
              "4 2020-11-01 08:04:00  USGTETXHV9BX  75.365499  INDUSTRIALS   HGJU"
            ]
          },
          "metadata": {
            "tags": []
          },
          "execution_count": 24
        }
      ]
    },
    {
      "cell_type": "code",
      "metadata": {
        "colab": {
          "base_uri": "https://localhost:8080/",
          "height": 286
        },
        "id": "IpygI2KjydOF",
        "outputId": "ee27ae2b-b92b-4127-e944-5c1947ad20e9"
      },
      "source": [
        "sym_data.plot(y='level')"
      ],
      "execution_count": 25,
      "outputs": [
        {
          "output_type": "execute_result",
          "data": {
            "text/plain": [
              "<matplotlib.axes._subplots.AxesSubplot at 0x7f5dfda2afd0>"
            ]
          },
          "metadata": {
            "tags": []
          },
          "execution_count": 25
        },
        {
          "output_type": "display_data",
          "data": {
            "image/png": "[encoded data removed]",
            "text/plain": [
              "<Figure size 432x288 with 1 Axes>"
            ]
          },
          "metadata": {
            "tags": [],
            "needs_background": "light"
          }
        }
      ]
    },
    {
      "cell_type": "markdown",
      "metadata": {
        "id": "Yd7ZWuunmM2z"
      },
      "source": [
        "Get sector and issuer data of this bond\n",
        "\n",
        "1.   Compute the average price of the sector\n",
        "2.   Compute the average price of the issuer\n",
        "\n",
        "The intuition is: the bonds in the same sector or from the same issuer may provide some information for prediction of this bond. For example, the momentum of the aggregated price data can be informative to our model. \n",
        "\n"
      ]
    },
    {
      "cell_type": "code",
      "metadata": {
        "colab": {
          "base_uri": "https://localhost:8080/",
          "height": 204
        },
        "id": "WPg4kbw3jcaG",
        "outputId": "bd8281be-fe6a-4379-b271-a6c97e26c996"
      },
      "source": [
        "sec = sym_data.loc[0, 'sector']\n",
        "sec_data = raw_data[raw_data['sector']==sec]\n",
        "sec_avg_price_data = sec_data.groupby(by='datetime').mean()\n",
        "sec_avg_price_data = sec_avg_price_data.reset_index()\n",
        "sec_avg_price_data.head()"
      ],
      "execution_count": 26,
      "outputs": [
        {
          "output_type": "execute_result",
          "data": {
            "text/html": [
              "<div>\n",
              "<style scoped>\n",
              "    .dataframe tbody tr th:only-of-type {\n",
              "        vertical-align: middle;\n",
              "    }\n",
              "\n",
              "    .dataframe tbody tr th {\n",
              "        vertical-align: top;\n",
              "    }\n",
              "\n",
              "    .dataframe thead th {\n",
              "        text-align: right;\n",
              "    }\n",
              "</style>\n",
              "<table border=\"1\" class=\"dataframe\">\n",
              "  <thead>\n",
              "    <tr style=\"text-align: right;\">\n",
              "      <th></th>\n",
              "      <th>datetime</th>\n",
              "      <th>level</th>\n",
              "    </tr>\n",
              "  </thead>\n",
              "  <tbody>\n",
              "    <tr>\n",
              "      <th>0</th>\n",
              "      <td>2020-11-01 08:00:00</td>\n",
              "      <td>116.475832</td>\n",
              "    </tr>\n",
              "    <tr>\n",
              "      <th>1</th>\n",
              "      <td>2020-11-01 08:01:00</td>\n",
              "      <td>114.809296</td>\n",
              "    </tr>\n",
              "    <tr>\n",
              "      <th>2</th>\n",
              "      <td>2020-11-01 08:02:00</td>\n",
              "      <td>116.873162</td>\n",
              "    </tr>\n",
              "    <tr>\n",
              "      <th>3</th>\n",
              "      <td>2020-11-01 08:03:00</td>\n",
              "      <td>114.216128</td>\n",
              "    </tr>\n",
              "    <tr>\n",
              "      <th>4</th>\n",
              "      <td>2020-11-01 08:04:00</td>\n",
              "      <td>116.195580</td>\n",
              "    </tr>\n",
              "  </tbody>\n",
              "</table>\n",
              "</div>"
            ],
            "text/plain": [
              "             datetime       level\n",
              "0 2020-11-01 08:00:00  116.475832\n",
              "1 2020-11-01 08:01:00  114.809296\n",
              "2 2020-11-01 08:02:00  116.873162\n",
              "3 2020-11-01 08:03:00  114.216128\n",
              "4 2020-11-01 08:04:00  116.195580"
            ]
          },
          "metadata": {
            "tags": []
          },
          "execution_count": 26
        }
      ]
    },
    {
      "cell_type": "code",
      "metadata": {
        "colab": {
          "base_uri": "https://localhost:8080/",
          "height": 204
        },
        "id": "mLZWY1B7ncl4",
        "outputId": "4fc06a3c-b96e-47e0-aa75-6916eda2ace8"
      },
      "source": [
        "iss = sym_data.loc[0, 'issuer']\n",
        "iss_data = raw_data[raw_data['issuer']==iss]\n",
        "iss_avg_price_data = iss_data.groupby(by='datetime').mean()\n",
        "iss_avg_price_data = iss_avg_price_data.reset_index()\n",
        "iss_avg_price_data.head()"
      ],
      "execution_count": 27,
      "outputs": [
        {
          "output_type": "execute_result",
          "data": {
            "text/html": [
              "<div>\n",
              "<style scoped>\n",
              "    .dataframe tbody tr th:only-of-type {\n",
              "        vertical-align: middle;\n",
              "    }\n",
              "\n",
              "    .dataframe tbody tr th {\n",
              "        vertical-align: top;\n",
              "    }\n",
              "\n",
              "    .dataframe thead th {\n",
              "        text-align: right;\n",
              "    }\n",
              "</style>\n",
              "<table border=\"1\" class=\"dataframe\">\n",
              "  <thead>\n",
              "    <tr style=\"text-align: right;\">\n",
              "      <th></th>\n",
              "      <th>datetime</th>\n",
              "      <th>level</th>\n",
              "    </tr>\n",
              "  </thead>\n",
              "  <tbody>\n",
              "    <tr>\n",
              "      <th>0</th>\n",
              "      <td>2020-11-01 08:00:00</td>\n",
              "      <td>116.317353</td>\n",
              "    </tr>\n",
              "    <tr>\n",
              "      <th>1</th>\n",
              "      <td>2020-11-01 08:01:00</td>\n",
              "      <td>114.700035</td>\n",
              "    </tr>\n",
              "    <tr>\n",
              "      <th>2</th>\n",
              "      <td>2020-11-01 08:02:00</td>\n",
              "      <td>112.647130</td>\n",
              "    </tr>\n",
              "    <tr>\n",
              "      <th>3</th>\n",
              "      <td>2020-11-01 08:03:00</td>\n",
              "      <td>116.738561</td>\n",
              "    </tr>\n",
              "    <tr>\n",
              "      <th>4</th>\n",
              "      <td>2020-11-01 08:04:00</td>\n",
              "      <td>118.546856</td>\n",
              "    </tr>\n",
              "  </tbody>\n",
              "</table>\n",
              "</div>"
            ],
            "text/plain": [
              "             datetime       level\n",
              "0 2020-11-01 08:00:00  116.317353\n",
              "1 2020-11-01 08:01:00  114.700035\n",
              "2 2020-11-01 08:02:00  112.647130\n",
              "3 2020-11-01 08:03:00  116.738561\n",
              "4 2020-11-01 08:04:00  118.546856"
            ]
          },
          "metadata": {
            "tags": []
          },
          "execution_count": 27
        }
      ]
    },
    {
      "cell_type": "markdown",
      "metadata": {
        "id": "cF4IfTEt0vsw"
      },
      "source": [
        "\n",
        "#### Data usage: train_data: 70%, validation_data: 20%, test_data: 10%; in chronological order"
      ]
    },
    {
      "cell_type": "code",
      "metadata": {
        "id": "7ysDEsGbQKGd"
      },
      "source": [
        "train_pct=0.7\n",
        "val_pct=0.2\n",
        "# shuffle = False \n",
        "## here, we do not shuffle data during training, validation, testing; \n",
        "## it is easier to debug\n",
        "## after debugging, it can be set to true\n",
        "shuffle = True "
      ],
      "execution_count": 28,
      "outputs": []
    },
    {
      "cell_type": "markdown",
      "metadata": {
        "id": "RKPO40vjQKeS"
      },
      "source": [
        "# Create features and targets, dataset (generotor)\n",
        "Using sym, sector, issuer data"
      ]
    },
    {
      "cell_type": "code",
      "metadata": {
        "colab": {
          "base_uri": "https://localhost:8080/"
        },
        "id": "qFm8qKVRQUAr",
        "outputId": "96986a4b-2431-4da3-8446-36ea33252392"
      },
      "source": [
        "sym_feature_data = create_features(data=sym_data, name='sym')\n",
        "sec_feature_data = create_features(data=sec_avg_price_data, name='sec')\n",
        "issuer_feature_data = create_features(data=iss_avg_price_data, name='iss')\n",
        "\n",
        "sym_feature_data.shape, sec_feature_data.shape, issuer_feature_data.shape"
      ],
      "execution_count": 29,
      "outputs": [
        {
          "output_type": "execute_result",
          "data": {
            "text/plain": [
              "((9024, 21), (10000, 21), (10000, 21))"
            ]
          },
          "metadata": {
            "tags": []
          },
          "execution_count": 29
        }
      ]
    },
    {
      "cell_type": "code",
      "metadata": {
        "colab": {
          "base_uri": "https://localhost:8080/",
          "height": 394
        },
        "id": "KxxXJ7gBI-zM",
        "outputId": "7349d617-c085-4248-a6b7-dd6cda9484ee"
      },
      "source": [
        "feature_data = sym_feature_data.merge(sec_feature_data, on='datetime')\n",
        "feature_data = feature_data.merge(issuer_feature_data, on='datetime')\n",
        "feature_data.dropna().head()"
      ],
      "execution_count": 30,
      "outputs": [
        {
          "output_type": "execute_result",
          "data": {
            "text/html": [
              "<div>\n",
              "<style scoped>\n",
              "    .dataframe tbody tr th:only-of-type {\n",
              "        vertical-align: middle;\n",
              "    }\n",
              "\n",
              "    .dataframe tbody tr th {\n",
              "        vertical-align: top;\n",
              "    }\n",
              "\n",
              "    .dataframe thead th {\n",
              "        text-align: right;\n",
              "    }\n",
              "</style>\n",
              "<table border=\"1\" class=\"dataframe\">\n",
              "  <thead>\n",
              "    <tr style=\"text-align: right;\">\n",
              "      <th></th>\n",
              "      <th>datetime</th>\n",
              "      <th>sym_level</th>\n",
              "      <th>sym_pct_change_1m</th>\n",
              "      <th>sym_short_ma</th>\n",
              "      <th>sym_short_ma_pct_change_baseline</th>\n",
              "      <th>sym_short_ma_pct_change_10m</th>\n",
              "      <th>sym_short_std</th>\n",
              "      <th>sym_short_std_pct_change_10m</th>\n",
              "      <th>sym_long_ma</th>\n",
              "      <th>sym_long_ma_pct_change_baseline</th>\n",
              "      <th>sym_long_ma_pct_change_60m</th>\n",
              "      <th>sym_long_std</th>\n",
              "      <th>sym_long_std_pct_change_60m</th>\n",
              "      <th>sym_short_ewm</th>\n",
              "      <th>sym_short_ewm_pct_change_baseline</th>\n",
              "      <th>sym_long_ewm</th>\n",
              "      <th>sym_long_ewm_pct_change_baseline</th>\n",
              "      <th>sym_rsi</th>\n",
              "      <th>sym_wma</th>\n",
              "      <th>sym_wma_pct_change</th>\n",
              "      <th>sym_macd</th>\n",
              "      <th>sec_level</th>\n",
              "      <th>sec_pct_change_1m</th>\n",
              "      <th>sec_short_ma</th>\n",
              "      <th>sec_short_ma_pct_change_baseline</th>\n",
              "      <th>sec_short_ma_pct_change_10m</th>\n",
              "      <th>sec_short_std</th>\n",
              "      <th>sec_short_std_pct_change_10m</th>\n",
              "      <th>sec_long_ma</th>\n",
              "      <th>sec_long_ma_pct_change_baseline</th>\n",
              "      <th>sec_long_ma_pct_change_60m</th>\n",
              "      <th>sec_long_std</th>\n",
              "      <th>sec_long_std_pct_change_60m</th>\n",
              "      <th>sec_short_ewm</th>\n",
              "      <th>sec_short_ewm_pct_change_baseline</th>\n",
              "      <th>sec_long_ewm</th>\n",
              "      <th>sec_long_ewm_pct_change_baseline</th>\n",
              "      <th>sec_rsi</th>\n",
              "      <th>sec_wma</th>\n",
              "      <th>sec_wma_pct_change</th>\n",
              "      <th>sec_macd</th>\n",
              "      <th>iss_level</th>\n",
              "      <th>iss_pct_change_1m</th>\n",
              "      <th>iss_short_ma</th>\n",
              "      <th>iss_short_ma_pct_change_baseline</th>\n",
              "      <th>iss_short_ma_pct_change_10m</th>\n",
              "      <th>iss_short_std</th>\n",
              "      <th>iss_short_std_pct_change_10m</th>\n",
              "      <th>iss_long_ma</th>\n",
              "      <th>iss_long_ma_pct_change_baseline</th>\n",
              "      <th>iss_long_ma_pct_change_60m</th>\n",
              "      <th>iss_long_std</th>\n",
              "      <th>iss_long_std_pct_change_60m</th>\n",
              "      <th>iss_short_ewm</th>\n",
              "      <th>iss_short_ewm_pct_change_baseline</th>\n",
              "      <th>iss_long_ewm</th>\n",
              "      <th>iss_long_ewm_pct_change_baseline</th>\n",
              "      <th>iss_rsi</th>\n",
              "      <th>iss_wma</th>\n",
              "      <th>iss_wma_pct_change</th>\n",
              "      <th>iss_macd</th>\n",
              "    </tr>\n",
              "  </thead>\n",
              "  <tbody>\n",
              "    <tr>\n",
              "      <th>119</th>\n",
              "      <td>2020-11-01 10:05:00</td>\n",
              "      <td>74.344350</td>\n",
              "      <td>0.029036</td>\n",
              "      <td>72.646975</td>\n",
              "      <td>-0.022831</td>\n",
              "      <td>0.032778</td>\n",
              "      <td>0.797593</td>\n",
              "      <td>-0.504331</td>\n",
              "      <td>72.043486</td>\n",
              "      <td>-0.030949</td>\n",
              "      <td>-0.038613</td>\n",
              "      <td>3.488040</td>\n",
              "      <td>0.462537</td>\n",
              "      <td>72.630812</td>\n",
              "      <td>-0.023049</td>\n",
              "      <td>71.884907</td>\n",
              "      <td>-0.033082</td>\n",
              "      <td>54.581321</td>\n",
              "      <td>71.373283</td>\n",
              "      <td>0.004004</td>\n",
              "      <td>0.745905</td>\n",
              "      <td>121.995944</td>\n",
              "      <td>0.010824</td>\n",
              "      <td>119.504232</td>\n",
              "      <td>-0.020425</td>\n",
              "      <td>0.016404</td>\n",
              "      <td>2.063626</td>\n",
              "      <td>-0.015925</td>\n",
              "      <td>115.537837</td>\n",
              "      <td>-0.052937</td>\n",
              "      <td>-0.001619</td>\n",
              "      <td>2.933256</td>\n",
              "      <td>0.382061</td>\n",
              "      <td>120.011147</td>\n",
              "      <td>-0.016269</td>\n",
              "      <td>116.588845</td>\n",
              "      <td>-0.044322</td>\n",
              "      <td>55.667789</td>\n",
              "      <td>118.604556</td>\n",
              "      <td>0.002729</td>\n",
              "      <td>3.422302</td>\n",
              "      <td>119.082025</td>\n",
              "      <td>0.033557</td>\n",
              "      <td>116.404760</td>\n",
              "      <td>-0.022483</td>\n",
              "      <td>0.027095</td>\n",
              "      <td>2.632150</td>\n",
              "      <td>-0.096106</td>\n",
              "      <td>112.181318</td>\n",
              "      <td>-0.057949</td>\n",
              "      <td>-0.013598</td>\n",
              "      <td>3.425565</td>\n",
              "      <td>0.080850</td>\n",
              "      <td>116.728743</td>\n",
              "      <td>-0.019762</td>\n",
              "      <td>113.399325</td>\n",
              "      <td>-0.047721</td>\n",
              "      <td>53.580164</td>\n",
              "      <td>115.187198</td>\n",
              "      <td>0.003060</td>\n",
              "      <td>3.329418</td>\n",
              "    </tr>\n",
              "    <tr>\n",
              "      <th>120</th>\n",
              "      <td>2020-11-01 10:06:00</td>\n",
              "      <td>74.560951</td>\n",
              "      <td>0.002913</td>\n",
              "      <td>72.956818</td>\n",
              "      <td>-0.021514</td>\n",
              "      <td>0.032292</td>\n",
              "      <td>0.883538</td>\n",
              "      <td>-0.384732</td>\n",
              "      <td>72.003306</td>\n",
              "      <td>-0.034303</td>\n",
              "      <td>-0.039504</td>\n",
              "      <td>3.443913</td>\n",
              "      <td>0.435606</td>\n",
              "      <td>72.981746</td>\n",
              "      <td>-0.021180</td>\n",
              "      <td>71.972646</td>\n",
              "      <td>-0.034714</td>\n",
              "      <td>54.941046</td>\n",
              "      <td>71.659038</td>\n",
              "      <td>0.004004</td>\n",
              "      <td>1.009100</td>\n",
              "      <td>121.101035</td>\n",
              "      <td>-0.007336</td>\n",
              "      <td>119.959741</td>\n",
              "      <td>-0.009424</td>\n",
              "      <td>0.019824</td>\n",
              "      <td>1.827276</td>\n",
              "      <td>-0.113015</td>\n",
              "      <td>115.600390</td>\n",
              "      <td>-0.045422</td>\n",
              "      <td>-0.001051</td>\n",
              "      <td>3.011485</td>\n",
              "      <td>0.420695</td>\n",
              "      <td>120.209308</td>\n",
              "      <td>-0.007363</td>\n",
              "      <td>116.736785</td>\n",
              "      <td>-0.036038</td>\n",
              "      <td>54.639399</td>\n",
              "      <td>118.850397</td>\n",
              "      <td>0.002073</td>\n",
              "      <td>3.472523</td>\n",
              "      <td>114.738012</td>\n",
              "      <td>-0.036479</td>\n",
              "      <td>116.532251</td>\n",
              "      <td>0.015638</td>\n",
              "      <td>0.026583</td>\n",
              "      <td>2.501469</td>\n",
              "      <td>-0.122838</td>\n",
              "      <td>112.157647</td>\n",
              "      <td>-0.022489</td>\n",
              "      <td>-0.013709</td>\n",
              "      <td>3.402447</td>\n",
              "      <td>0.076958</td>\n",
              "      <td>116.366792</td>\n",
              "      <td>0.014196</td>\n",
              "      <td>113.443216</td>\n",
              "      <td>-0.011285</td>\n",
              "      <td>50.780735</td>\n",
              "      <td>115.241213</td>\n",
              "      <td>0.000469</td>\n",
              "      <td>2.923576</td>\n",
              "    </tr>\n",
              "    <tr>\n",
              "      <th>121</th>\n",
              "      <td>2020-11-01 10:08:00</td>\n",
              "      <td>74.275863</td>\n",
              "      <td>-0.003824</td>\n",
              "      <td>73.188329</td>\n",
              "      <td>-0.014642</td>\n",
              "      <td>0.030474</td>\n",
              "      <td>0.896755</td>\n",
              "      <td>-0.284073</td>\n",
              "      <td>71.981351</td>\n",
              "      <td>-0.030892</td>\n",
              "      <td>-0.040205</td>\n",
              "      <td>3.424786</td>\n",
              "      <td>0.430414</td>\n",
              "      <td>73.217040</td>\n",
              "      <td>-0.014255</td>\n",
              "      <td>72.048161</td>\n",
              "      <td>-0.029992</td>\n",
              "      <td>54.354884</td>\n",
              "      <td>71.907951</td>\n",
              "      <td>0.003474</td>\n",
              "      <td>1.168879</td>\n",
              "      <td>122.151412</td>\n",
              "      <td>-0.000316</td>\n",
              "      <td>120.651828</td>\n",
              "      <td>-0.012276</td>\n",
              "      <td>0.019853</td>\n",
              "      <td>1.867051</td>\n",
              "      <td>0.154548</td>\n",
              "      <td>115.820119</td>\n",
              "      <td>-0.051832</td>\n",
              "      <td>0.001053</td>\n",
              "      <td>3.237767</td>\n",
              "      <td>0.529359</td>\n",
              "      <td>120.857074</td>\n",
              "      <td>-0.010596</td>\n",
              "      <td>117.087247</td>\n",
              "      <td>-0.041458</td>\n",
              "      <td>55.623924</td>\n",
              "      <td>119.412641</td>\n",
              "      <td>0.002266</td>\n",
              "      <td>3.769826</td>\n",
              "      <td>118.709466</td>\n",
              "      <td>-0.009108</td>\n",
              "      <td>117.337285</td>\n",
              "      <td>-0.011559</td>\n",
              "      <td>0.026870</td>\n",
              "      <td>2.377682</td>\n",
              "      <td>-0.181654</td>\n",
              "      <td>112.387365</td>\n",
              "      <td>-0.053257</td>\n",
              "      <td>-0.010617</td>\n",
              "      <td>3.616884</td>\n",
              "      <td>0.144458</td>\n",
              "      <td>117.303547</td>\n",
              "      <td>-0.011843</td>\n",
              "      <td>113.817485</td>\n",
              "      <td>-0.041210</td>\n",
              "      <td>52.997130</td>\n",
              "      <td>115.878925</td>\n",
              "      <td>0.002352</td>\n",
              "      <td>3.486062</td>\n",
              "    </tr>\n",
              "    <tr>\n",
              "      <th>122</th>\n",
              "      <td>2020-11-01 10:09:00</td>\n",
              "      <td>71.799771</td>\n",
              "      <td>-0.033336</td>\n",
              "      <td>73.119566</td>\n",
              "      <td>0.018382</td>\n",
              "      <td>0.024705</td>\n",
              "      <td>0.979060</td>\n",
              "      <td>-0.140575</td>\n",
              "      <td>71.921926</td>\n",
              "      <td>0.001701</td>\n",
              "      <td>-0.041248</td>\n",
              "      <td>3.395886</td>\n",
              "      <td>0.419473</td>\n",
              "      <td>72.959355</td>\n",
              "      <td>0.016150</td>\n",
              "      <td>72.040017</td>\n",
              "      <td>0.003346</td>\n",
              "      <td>49.600264</td>\n",
              "      <td>71.982944</td>\n",
              "      <td>0.001043</td>\n",
              "      <td>0.919338</td>\n",
              "      <td>120.021142</td>\n",
              "      <td>-0.017440</td>\n",
              "      <td>120.704663</td>\n",
              "      <td>0.005695</td>\n",
              "      <td>0.018928</td>\n",
              "      <td>1.837855</td>\n",
              "      <td>0.113096</td>\n",
              "      <td>115.908876</td>\n",
              "      <td>-0.034263</td>\n",
              "      <td>0.002220</td>\n",
              "      <td>3.279150</td>\n",
              "      <td>0.555518</td>\n",
              "      <td>120.705086</td>\n",
              "      <td>0.005699</td>\n",
              "      <td>117.183441</td>\n",
              "      <td>-0.023643</td>\n",
              "      <td>53.099713</td>\n",
              "      <td>119.525772</td>\n",
              "      <td>0.000947</td>\n",
              "      <td>3.521645</td>\n",
              "      <td>117.190365</td>\n",
              "      <td>-0.012797</td>\n",
              "      <td>117.397560</td>\n",
              "      <td>0.001768</td>\n",
              "      <td>0.022056</td>\n",
              "      <td>2.364167</td>\n",
              "      <td>-0.116657</td>\n",
              "      <td>112.476255</td>\n",
              "      <td>-0.040226</td>\n",
              "      <td>-0.009148</td>\n",
              "      <td>3.668794</td>\n",
              "      <td>0.167082</td>\n",
              "      <td>117.282968</td>\n",
              "      <td>0.000790</td>\n",
              "      <td>113.928071</td>\n",
              "      <td>-0.027838</td>\n",
              "      <td>52.020178</td>\n",
              "      <td>116.035320</td>\n",
              "      <td>0.001350</td>\n",
              "      <td>3.354898</td>\n",
              "    </tr>\n",
              "    <tr>\n",
              "      <th>123</th>\n",
              "      <td>2020-11-01 10:10:00</td>\n",
              "      <td>73.279657</td>\n",
              "      <td>0.020611</td>\n",
              "      <td>73.184432</td>\n",
              "      <td>-0.001299</td>\n",
              "      <td>0.021756</td>\n",
              "      <td>0.964473</td>\n",
              "      <td>-0.109645</td>\n",
              "      <td>71.882073</td>\n",
              "      <td>-0.019072</td>\n",
              "      <td>-0.042161</td>\n",
              "      <td>3.365036</td>\n",
              "      <td>0.408503</td>\n",
              "      <td>73.017592</td>\n",
              "      <td>-0.003576</td>\n",
              "      <td>72.080661</td>\n",
              "      <td>-0.016362</td>\n",
              "      <td>52.186187</td>\n",
              "      <td>72.144081</td>\n",
              "      <td>0.002239</td>\n",
              "      <td>0.936931</td>\n",
              "      <td>121.164020</td>\n",
              "      <td>0.009522</td>\n",
              "      <td>121.049974</td>\n",
              "      <td>-0.000941</td>\n",
              "      <td>0.020059</td>\n",
              "      <td>1.507591</td>\n",
              "      <td>0.106868</td>\n",
              "      <td>116.058697</td>\n",
              "      <td>-0.042136</td>\n",
              "      <td>0.004380</td>\n",
              "      <td>3.310852</td>\n",
              "      <td>0.554968</td>\n",
              "      <td>120.788529</td>\n",
              "      <td>-0.003099</td>\n",
              "      <td>117.313951</td>\n",
              "      <td>-0.031776</td>\n",
              "      <td>54.251907</td>\n",
              "      <td>119.702942</td>\n",
              "      <td>0.001482</td>\n",
              "      <td>3.474577</td>\n",
              "      <td>116.763781</td>\n",
              "      <td>-0.003640</td>\n",
              "      <td>117.401882</td>\n",
              "      <td>0.005465</td>\n",
              "      <td>0.017998</td>\n",
              "      <td>2.362831</td>\n",
              "      <td>-0.070308</td>\n",
              "      <td>112.635695</td>\n",
              "      <td>-0.035354</td>\n",
              "      <td>-0.006253</td>\n",
              "      <td>3.643275</td>\n",
              "      <td>0.136820</td>\n",
              "      <td>117.188571</td>\n",
              "      <td>0.003638</td>\n",
              "      <td>114.021045</td>\n",
              "      <td>-0.023490</td>\n",
              "      <td>51.743093</td>\n",
              "      <td>116.153524</td>\n",
              "      <td>0.001019</td>\n",
              "      <td>3.167526</td>\n",
              "    </tr>\n",
              "  </tbody>\n",
              "</table>\n",
              "</div>"
            ],
            "text/plain": [
              "               datetime  sym_level  ...  iss_wma_pct_change  iss_macd\n",
              "119 2020-11-01 10:05:00  74.344350  ...            0.003060  3.329418\n",
              "120 2020-11-01 10:06:00  74.560951  ...            0.000469  2.923576\n",
              "121 2020-11-01 10:08:00  74.275863  ...            0.002352  3.486062\n",
              "122 2020-11-01 10:09:00  71.799771  ...            0.001350  3.354898\n",
              "123 2020-11-01 10:10:00  73.279657  ...            0.001019  3.167526\n",
              "\n",
              "[5 rows x 61 columns]"
            ]
          },
          "metadata": {
            "tags": []
          },
          "execution_count": 30
        }
      ]
    },
    {
      "cell_type": "code",
      "metadata": {
        "colab": {
          "base_uri": "https://localhost:8080/"
        },
        "id": "ZO-RweAEI-zN",
        "outputId": "5c613420-96cf-4f7f-d408-430cd57a7d7c"
      },
      "source": [
        "feature_data.shape"
      ],
      "execution_count": 31,
      "outputs": [
        {
          "output_type": "execute_result",
          "data": {
            "text/plain": [
              "(9024, 61)"
            ]
          },
          "metadata": {
            "tags": []
          },
          "execution_count": 31
        }
      ]
    },
    {
      "cell_type": "code",
      "metadata": {
        "id": "PYrl2YzbWU6Z"
      },
      "source": [
        "col_idx_map = {col: idx for idx, col in enumerate(feature_data.columns)}\n",
        "# col_idx_map"
      ],
      "execution_count": 32,
      "outputs": []
    },
    {
      "cell_type": "markdown",
      "metadata": {
        "id": "5-74j0oNRW0A"
      },
      "source": [
        "#### Target variable: sym_pct_change_1m\n",
        "We aim to predict the next-minute level, and the actual target variable is the percentage change of the next-minute level compared to current time (minute). \n",
        "\n",
        "\n",
        "sym_pct_change_1m (target) is stationary via test. "
      ]
    },
    {
      "cell_type": "code",
      "metadata": {
        "colab": {
          "base_uri": "https://localhost:8080/"
        },
        "id": "RqFEyJR0I-zW",
        "outputId": "6b1793dd-6b8f-4999-8e7c-62238156e562"
      },
      "source": [
        "result = adfuller(feature_data['sym_pct_change_1m'].dropna())\n",
        "print('ADF Statistic: {}'.format(result[0]))\n",
        "print('p-value: {}'.format(result[1]))\n",
        "print('Critical Values:')\n",
        "for key, value in result[4].items():\n",
        "    print('\\t{}: {}'.format(key, value))"
      ],
      "execution_count": 33,
      "outputs": [
        {
          "output_type": "stream",
          "text": [
            "ADF Statistic: -43.89247752000353\n",
            "p-value: 0.0\n",
            "Critical Values:\n",
            "\t1%: -3.4310753451280855\n",
            "\t5%: -2.86186055555531\n",
            "\t10%: -2.5669406266897465\n"
          ],
          "name": "stdout"
        }
      ]
    },
    {
      "cell_type": "code",
      "metadata": {
        "id": "oxmQ2C-BI-zX"
      },
      "source": [
        "window_size = 20\n",
        "batch_size = 32\n",
        "feature_dim = feature_data.shape[1]-1"
      ],
      "execution_count": 34,
      "outputs": []
    },
    {
      "cell_type": "code",
      "metadata": {
        "colab": {
          "base_uri": "https://localhost:8080/"
        },
        "id": "l-d_jdxyI-za",
        "outputId": "09d1a070-35fc-4463-c9e0-ac88b3dd12b0"
      },
      "source": [
        "train_dataset, validation_dataset, test_dataset, test_data, scaler = train_val_test_split(feature_data, \n",
        "                                                                                          window_size=window_size, \n",
        "                                                                                          batch_size=batch_size,\n",
        "                                                                                          train_pct=train_pct, \n",
        "                                                                                          val_pct=val_pct,\n",
        "                                                                                          shuffle=shuffle)\n",
        "## scaler: used to do feature scaling, and to transform data in model evaluation\n"
      ],
      "execution_count": 35,
      "outputs": [
        {
          "output_type": "stream",
          "text": [
            "number of total data samples 8905 n_train 6233 n_validation 1781 n_test 891\n",
            "train number of batches 195\n",
            "validation number of batches 56\n",
            "test number of batches 28\n"
          ],
          "name": "stdout"
        }
      ]
    },
    {
      "cell_type": "markdown",
      "metadata": {
        "id": "A9aG4FY6ujOe"
      },
      "source": [
        "### check the correctness of our created dataset object"
      ]
    },
    {
      "cell_type": "code",
      "metadata": {
        "colab": {
          "base_uri": "https://localhost:8080/",
          "height": 134
        },
        "id": "8ulMneLuBfao",
        "outputId": "704cad6c-80d4-448e-80d8-f06995628473"
      },
      "source": [
        "transformed_feature_data = feature_data.dropna().copy()\n",
        "transformed_feature_data.iloc[:, 1:] = scaler.transform(feature_data.dropna().iloc[:, 1:])\n",
        "transformed_feature_data.head(1)"
      ],
      "execution_count": 36,
      "outputs": [
        {
          "output_type": "execute_result",
          "data": {
            "text/html": [
              "<div>\n",
              "<style scoped>\n",
              "    .dataframe tbody tr th:only-of-type {\n",
              "        vertical-align: middle;\n",
              "    }\n",
              "\n",
              "    .dataframe tbody tr th {\n",
              "        vertical-align: top;\n",
              "    }\n",
              "\n",
              "    .dataframe thead th {\n",
              "        text-align: right;\n",
              "    }\n",
              "</style>\n",
              "<table border=\"1\" class=\"dataframe\">\n",
              "  <thead>\n",
              "    <tr style=\"text-align: right;\">\n",
              "      <th></th>\n",
              "      <th>datetime</th>\n",
              "      <th>sym_level</th>\n",
              "      <th>sym_pct_change_1m</th>\n",
              "      <th>sym_short_ma</th>\n",
              "      <th>sym_short_ma_pct_change_baseline</th>\n",
              "      <th>sym_short_ma_pct_change_10m</th>\n",
              "      <th>sym_short_std</th>\n",
              "      <th>sym_short_std_pct_change_10m</th>\n",
              "      <th>sym_long_ma</th>\n",
              "      <th>sym_long_ma_pct_change_baseline</th>\n",
              "      <th>sym_long_ma_pct_change_60m</th>\n",
              "      <th>sym_long_std</th>\n",
              "      <th>sym_long_std_pct_change_60m</th>\n",
              "      <th>sym_short_ewm</th>\n",
              "      <th>sym_short_ewm_pct_change_baseline</th>\n",
              "      <th>sym_long_ewm</th>\n",
              "      <th>sym_long_ewm_pct_change_baseline</th>\n",
              "      <th>sym_rsi</th>\n",
              "      <th>sym_wma</th>\n",
              "      <th>sym_wma_pct_change</th>\n",
              "      <th>sym_macd</th>\n",
              "      <th>sec_level</th>\n",
              "      <th>sec_pct_change_1m</th>\n",
              "      <th>sec_short_ma</th>\n",
              "      <th>sec_short_ma_pct_change_baseline</th>\n",
              "      <th>sec_short_ma_pct_change_10m</th>\n",
              "      <th>sec_short_std</th>\n",
              "      <th>sec_short_std_pct_change_10m</th>\n",
              "      <th>sec_long_ma</th>\n",
              "      <th>sec_long_ma_pct_change_baseline</th>\n",
              "      <th>sec_long_ma_pct_change_60m</th>\n",
              "      <th>sec_long_std</th>\n",
              "      <th>sec_long_std_pct_change_60m</th>\n",
              "      <th>sec_short_ewm</th>\n",
              "      <th>sec_short_ewm_pct_change_baseline</th>\n",
              "      <th>sec_long_ewm</th>\n",
              "      <th>sec_long_ewm_pct_change_baseline</th>\n",
              "      <th>sec_rsi</th>\n",
              "      <th>sec_wma</th>\n",
              "      <th>sec_wma_pct_change</th>\n",
              "      <th>sec_macd</th>\n",
              "      <th>iss_level</th>\n",
              "      <th>iss_pct_change_1m</th>\n",
              "      <th>iss_short_ma</th>\n",
              "      <th>iss_short_ma_pct_change_baseline</th>\n",
              "      <th>iss_short_ma_pct_change_10m</th>\n",
              "      <th>iss_short_std</th>\n",
              "      <th>iss_short_std_pct_change_10m</th>\n",
              "      <th>iss_long_ma</th>\n",
              "      <th>iss_long_ma_pct_change_baseline</th>\n",
              "      <th>iss_long_ma_pct_change_60m</th>\n",
              "      <th>iss_long_std</th>\n",
              "      <th>iss_long_std_pct_change_60m</th>\n",
              "      <th>iss_short_ewm</th>\n",
              "      <th>iss_short_ewm_pct_change_baseline</th>\n",
              "      <th>iss_long_ewm</th>\n",
              "      <th>iss_long_ewm_pct_change_baseline</th>\n",
              "      <th>iss_rsi</th>\n",
              "      <th>iss_wma</th>\n",
              "      <th>iss_wma_pct_change</th>\n",
              "      <th>iss_macd</th>\n",
              "    </tr>\n",
              "  </thead>\n",
              "  <tbody>\n",
              "    <tr>\n",
              "      <th>119</th>\n",
              "      <td>2020-11-01 10:05:00</td>\n",
              "      <td>1.77567</td>\n",
              "      <td>-0.007979</td>\n",
              "      <td>1.700954</td>\n",
              "      <td>0.002272</td>\n",
              "      <td>0.023948</td>\n",
              "      <td>-1.103283</td>\n",
              "      <td>-0.80201</td>\n",
              "      <td>1.689888</td>\n",
              "      <td>0.012678</td>\n",
              "      <td>-0.012403</td>\n",
              "      <td>-0.337035</td>\n",
              "      <td>0.477452</td>\n",
              "      <td>1.703085</td>\n",
              "      <td>0.006216</td>\n",
              "      <td>1.69847</td>\n",
              "      <td>0.008341</td>\n",
              "      <td>0.603698</td>\n",
              "      <td>1.647595</td>\n",
              "      <td>-0.001795</td>\n",
              "      <td>0.207273</td>\n",
              "      <td>0.579389</td>\n",
              "      <td>0.547911</td>\n",
              "      <td>0.358037</td>\n",
              "      <td>-1.191224</td>\n",
              "      <td>0.826308</td>\n",
              "      <td>0.525345</td>\n",
              "      <td>-0.21542</td>\n",
              "      <td>-0.00111</td>\n",
              "      <td>-1.588268</td>\n",
              "      <td>-0.076576</td>\n",
              "      <td>0.111265</td>\n",
              "      <td>0.658553</td>\n",
              "      <td>0.405486</td>\n",
              "      <td>-1.089567</td>\n",
              "      <td>0.098839</td>\n",
              "      <td>-1.512854</td>\n",
              "      <td>1.706848</td>\n",
              "      <td>0.278448</td>\n",
              "      <td>1.584135</td>\n",
              "      <td>1.409689</td>\n",
              "      <td>1.120465</td>\n",
              "      <td>0.921589</td>\n",
              "      <td>0.900093</td>\n",
              "      <td>-0.87219</td>\n",
              "      <td>1.178809</td>\n",
              "      <td>-0.128266</td>\n",
              "      <td>-0.406031</td>\n",
              "      <td>0.520192</td>\n",
              "      <td>-1.425268</td>\n",
              "      <td>-0.30282</td>\n",
              "      <td>-0.166698</td>\n",
              "      <td>0.123448</td>\n",
              "      <td>0.932945</td>\n",
              "      <td>-0.863493</td>\n",
              "      <td>0.645774</td>\n",
              "      <td>-1.30212</td>\n",
              "      <td>1.585566</td>\n",
              "      <td>0.792751</td>\n",
              "      <td>1.350795</td>\n",
              "      <td>1.363044</td>\n",
              "    </tr>\n",
              "  </tbody>\n",
              "</table>\n",
              "</div>"
            ],
            "text/plain": [
              "               datetime  sym_level  ...  iss_wma_pct_change  iss_macd\n",
              "119 2020-11-01 10:05:00    1.77567  ...            1.350795  1.363044\n",
              "\n",
              "[1 rows x 61 columns]"
            ]
          },
          "metadata": {
            "tags": []
          },
          "execution_count": 36
        }
      ]
    },
    {
      "cell_type": "code",
      "metadata": {
        "id": "UUh1t8_ZI-za"
      },
      "source": [
        "if shuffle==False:\n",
        "  for x, y in train_dataset:\n",
        "      print(\"x.shape: (batch_size, window_size, feature_dimension)\", x.shape)\n",
        "      print(\"y.shape:\", y.shape)\n",
        "      init_idx = feature_data.dropna().index[0]\n",
        "      transformed_row = np.array(scaler.transform(feature_data.iloc[init_idx:init_idx+window_size, 1:]))\n",
        "      print(\"The first time step in the first sample:\")\n",
        "      print(x[0, 0, :])\n",
        "      assert np.array_equal(x[0], transformed_row)\n",
        "      target_row = np.array(feature_data.iloc[init_idx+window_size, 1:])\n",
        "      target_row = scaler.transform(target_row[np.newaxis, :]) \n",
        "      assert np.array_equal(y[0], np.array(target_row[0, 1]))\n",
        "      break"
      ],
      "execution_count": 37,
      "outputs": []
    },
    {
      "cell_type": "markdown",
      "metadata": {
        "id": "BB1XIPQSI-zb"
      },
      "source": [
        "# Create, train and test models\n",
        "The root_mean_squared_error presented here is computed based on the transformed target (percentage change of the next minute), which is not the RMSE of the predicted level of the next minute. The final evaluation of the models will be presented later. \n",
        "\n"
      ]
    },
    {
      "cell_type": "markdown",
      "metadata": {
        "id": "vQ9C4Vpbv2xI"
      },
      "source": [
        "Baseline model #1: use the value from last trade"
      ]
    },
    {
      "cell_type": "code",
      "metadata": {
        "colab": {
          "base_uri": "https://localhost:8080/"
        },
        "id": "4NEa3LEuI-zc",
        "outputId": "6127dd5b-8d2d-44f2-caa6-a9daff1ca3d4"
      },
      "source": [
        "baseline_last_trade_model = Baseline_last_trade()\n",
        "baseline_last_trade_model.compile(loss=tf.losses.MeanSquaredError(),\n",
        "                                  metrics=[tf.metrics.MeanAbsoluteError(), tf.keras.metrics.RootMeanSquaredError()])\n",
        "baseline_last_trade_model.evaluate(test_dataset, steps=len(test_dataset))"
      ],
      "execution_count": 38,
      "outputs": [
        {
          "output_type": "stream",
          "text": [
            "28/28 [==============================] - 0s 2ms/step - loss: 3.4554e-04 - mean_absolute_error: 0.0167 - root_mean_squared_error: 0.0186\n"
          ],
          "name": "stdout"
        },
        {
          "output_type": "execute_result",
          "data": {
            "text/plain": [
              "[0.00034553824454113577, 0.01665610698780295, 0.01858865896690026]"
            ]
          },
          "metadata": {
            "tags": []
          },
          "execution_count": 38
        }
      ]
    },
    {
      "cell_type": "markdown",
      "metadata": {
        "id": "fPxRfT64I-zd"
      },
      "source": [
        "Baseline model #2: use the short-term moving average from previous trades"
      ]
    },
    {
      "cell_type": "code",
      "metadata": {
        "colab": {
          "base_uri": "https://localhost:8080/"
        },
        "id": "LHynb9K3I-zf",
        "outputId": "7ddd71ef-3297-4ddf-ba24-4a456bbe3e25"
      },
      "source": [
        "baseline_st_ma = Baseline_ma(ma_index=col_idx_map['sym_short_ma_pct_change_baseline']-1) ## short-term moving average\n",
        "\n",
        "baseline_st_ma.compile(loss=tf.losses.MeanSquaredError(),\n",
        "                        metrics=[tf.metrics.MeanAbsoluteError(), tf.keras.metrics.RootMeanSquaredError()])\n",
        "baseline_st_ma.evaluate(test_dataset, steps=len(test_dataset))"
      ],
      "execution_count": 39,
      "outputs": [
        {
          "output_type": "stream",
          "text": [
            "28/28 [==============================] - 0s 2ms/step - loss: 0.0014 - mean_absolute_error: 0.0307 - root_mean_squared_error: 0.0380\n"
          ],
          "name": "stdout"
        },
        {
          "output_type": "execute_result",
          "data": {
            "text/plain": [
              "[0.0014447083563676902, 0.030726049666005593, 0.03800931957080479]"
            ]
          },
          "metadata": {
            "tags": []
          },
          "execution_count": 39
        }
      ]
    },
    {
      "cell_type": "markdown",
      "metadata": {
        "id": "Vdh2duaMI-zi"
      },
      "source": [
        "Baseline model #3: use the long-term moving average from previous trades"
      ]
    },
    {
      "cell_type": "code",
      "metadata": {
        "colab": {
          "base_uri": "https://localhost:8080/"
        },
        "id": "q1VKeNBXI-zj",
        "outputId": "c8c26424-8770-4fe8-9b90-ae9a73bf7a8a"
      },
      "source": [
        "baseline_lt_ma = Baseline_ma(ma_index=col_idx_map['sym_long_ma_pct_change_baseline']-1) ## long-term moving average\n",
        "\n",
        "baseline_lt_ma.compile(loss=tf.losses.MeanSquaredError(),\n",
        "                        metrics=[tf.metrics.MeanAbsoluteError(), tf.keras.metrics.RootMeanSquaredError()])\n",
        "baseline_lt_ma.evaluate(test_dataset, steps=len(test_dataset))"
      ],
      "execution_count": 40,
      "outputs": [
        {
          "output_type": "stream",
          "text": [
            "28/28 [==============================] - 0s 2ms/step - loss: 9.6899e-04 - mean_absolute_error: 0.0288 - root_mean_squared_error: 0.0311\n"
          ],
          "name": "stdout"
        },
        {
          "output_type": "execute_result",
          "data": {
            "text/plain": [
              "[0.0009689854071309258, 0.028791997614308458, 0.03112853033628188]"
            ]
          },
          "metadata": {
            "tags": []
          },
          "execution_count": 40
        }
      ]
    },
    {
      "cell_type": "markdown",
      "metadata": {
        "id": "wpq853YtI-zk"
      },
      "source": [
        "Conv1D model"
      ]
    },
    {
      "cell_type": "code",
      "metadata": {
        "colab": {
          "base_uri": "https://localhost:8080/"
        },
        "id": "l8CWqzH_I-zk",
        "outputId": "e296cb85-5b0d-41dd-ce1e-d8d57b3f7819"
      },
      "source": [
        "conv1d_model = get_conv1d_model(input_shape=(window_size, feature_dim), \n",
        "                                conv_width=[10, 5, 2, 2], \n",
        "                                filter_size=[64, 64, 32, 16])\n",
        "conv1d_model.summary()"
      ],
      "execution_count": 41,
      "outputs": [
        {
          "output_type": "stream",
          "text": [
            "Model: \"functional_1\"\n",
            "_________________________________________________________________\n",
            "Layer (type)                 Output Shape              Param #   \n",
            "=================================================================\n",
            "input_1 (InputLayer)         [(None, 20, 60)]          0         \n",
            "_________________________________________________________________\n",
            "conv1d (Conv1D)              (None, 11, 64)            38464     \n",
            "_________________________________________________________________\n",
            "dropout (Dropout)            (None, 11, 64)            0         \n",
            "_________________________________________________________________\n",
            "conv1d_1 (Conv1D)            (None, 7, 64)             20544     \n",
            "_________________________________________________________________\n",
            "dropout_1 (Dropout)          (None, 7, 64)             0         \n",
            "_________________________________________________________________\n",
            "conv1d_2 (Conv1D)            (None, 6, 32)             4128      \n",
            "_________________________________________________________________\n",
            "dropout_2 (Dropout)          (None, 6, 32)             0         \n",
            "_________________________________________________________________\n",
            "conv1d_3 (Conv1D)            (None, 5, 16)             1040      \n",
            "_________________________________________________________________\n",
            "dropout_3 (Dropout)          (None, 5, 16)             0         \n",
            "_________________________________________________________________\n",
            "flatten (Flatten)            (None, 80)                0         \n",
            "_________________________________________________________________\n",
            "dense (Dense)                (None, 1)                 81        \n",
            "=================================================================\n",
            "Total params: 64,257\n",
            "Trainable params: 64,257\n",
            "Non-trainable params: 0\n",
            "_________________________________________________________________\n"
          ],
          "name": "stdout"
        }
      ]
    },
    {
      "cell_type": "code",
      "metadata": {
        "id": "5M8BM1OgI-zl"
      },
      "source": [
        "# # print('Input shape:', (window_size, 10))\n",
        "# for x, y in train_dataset:\n",
        "#     print('Input shape:', x.shape)\n",
        "#     output_ = conv1d_model(x)\n",
        "#     print('Output shape:', output_.shape)\n",
        "#     print(\"Label shapre:\", y.shape)\n",
        "#     break\n"
      ],
      "execution_count": 42,
      "outputs": []
    },
    {
      "cell_type": "code",
      "metadata": {
        "colab": {
          "base_uri": "https://localhost:8080/"
        },
        "id": "Moztce8vI-zl",
        "outputId": "d024d815-49c8-4391-be64-b32a499801ec"
      },
      "source": [
        "history = conv1d_model.fit(train_dataset, \n",
        "                            epochs=50, \n",
        "                            steps_per_epoch=len(train_dataset),\n",
        "                            validation_data=validation_dataset, \n",
        "                            validation_steps=len(validation_dataset),\n",
        "                            callbacks=[tf.keras.callbacks.EarlyStopping(monitor='val_root_mean_squared_error', patience=2)],\n",
        "                            verbose=2)"
      ],
      "execution_count": 43,
      "outputs": [
        {
          "output_type": "stream",
          "text": [
            "Epoch 1/50\n",
            "195/195 - 1s - loss: 0.0022 - mean_absolute_error: 0.2251 - root_mean_squared_error: 1.6943 - val_loss: 4.8270e-05 - val_mean_absolute_error: 0.0085 - val_root_mean_squared_error: 0.0115\n",
            "Epoch 2/50\n",
            "195/195 - 1s - loss: 3.5172e-04 - mean_absolute_error: 0.0392 - root_mean_squared_error: 0.3314 - val_loss: 4.4721e-05 - val_mean_absolute_error: 0.0081 - val_root_mean_squared_error: 0.0110\n",
            "Epoch 3/50\n",
            "195/195 - 1s - loss: 3.3740e-04 - mean_absolute_error: 0.0377 - root_mean_squared_error: 0.3850 - val_loss: 4.7328e-05 - val_mean_absolute_error: 0.0084 - val_root_mean_squared_error: 0.0113\n",
            "Epoch 4/50\n",
            "195/195 - 1s - loss: 6.7280e-04 - mean_absolute_error: 0.0712 - root_mean_squared_error: 1.6861 - val_loss: 4.7870e-05 - val_mean_absolute_error: 0.0084 - val_root_mean_squared_error: 0.0113\n"
          ],
          "name": "stdout"
        }
      ]
    },
    {
      "cell_type": "code",
      "metadata": {
        "colab": {
          "base_uri": "https://localhost:8080/"
        },
        "id": "meThuAlaI-zm",
        "scrolled": true,
        "outputId": "dd948c33-8874-4248-8f72-9d8d10b18275"
      },
      "source": [
        "conv1d_model.evaluate(test_dataset, steps=len(test_dataset))"
      ],
      "execution_count": 44,
      "outputs": [
        {
          "output_type": "stream",
          "text": [
            "28/28 [==============================] - 0s 3ms/step - loss: 2.7480e-05 - mean_absolute_error: 0.0058 - root_mean_squared_error: 0.0085\n"
          ],
          "name": "stdout"
        },
        {
          "output_type": "execute_result",
          "data": {
            "text/plain": [
              "[2.747979023557231e-05, 0.00579406219299194, 0.008515476335073564]"
            ]
          },
          "metadata": {
            "tags": []
          },
          "execution_count": 44
        }
      ]
    },
    {
      "cell_type": "markdown",
      "metadata": {
        "id": "S8ZOZHcPiDAW"
      },
      "source": [
        "LSTM model"
      ]
    },
    {
      "cell_type": "code",
      "metadata": {
        "colab": {
          "base_uri": "https://localhost:8080/"
        },
        "id": "8PU4BXCPI-zn",
        "outputId": "094ebdc5-d451-4796-b96d-3415730a4609"
      },
      "source": [
        "LSTM_model = get_LSTM_model(input_shape=(window_size, feature_dim),\n",
        "                               units_list=[64, 64, 32, 16])\n",
        "LSTM_model.summary()\n"
      ],
      "execution_count": 45,
      "outputs": [
        {
          "output_type": "stream",
          "text": [
            "Model: \"functional_3\"\n",
            "_________________________________________________________________\n",
            "Layer (type)                 Output Shape              Param #   \n",
            "=================================================================\n",
            "input_2 (InputLayer)         [(None, 20, 60)]          0         \n",
            "_________________________________________________________________\n",
            "lstm (LSTM)                  (None, 20, 64)            32000     \n",
            "_________________________________________________________________\n",
            "dropout_4 (Dropout)          (None, 20, 64)            0         \n",
            "_________________________________________________________________\n",
            "lstm_1 (LSTM)                (None, 20, 64)            33024     \n",
            "_________________________________________________________________\n",
            "dropout_5 (Dropout)          (None, 20, 64)            0         \n",
            "_________________________________________________________________\n",
            "lstm_2 (LSTM)                (None, 20, 32)            12416     \n",
            "_________________________________________________________________\n",
            "dropout_6 (Dropout)          (None, 20, 32)            0         \n",
            "_________________________________________________________________\n",
            "lstm_3 (LSTM)                (None, 20, 16)            3136      \n",
            "_________________________________________________________________\n",
            "dropout_7 (Dropout)          (None, 20, 16)            0         \n",
            "_________________________________________________________________\n",
            "lstm_4 (LSTM)                (None, 16)                2112      \n",
            "_________________________________________________________________\n",
            "dense_1 (Dense)              (None, 16)                272       \n",
            "_________________________________________________________________\n",
            "dense_2 (Dense)              (None, 1)                 17        \n",
            "=================================================================\n",
            "Total params: 82,977\n",
            "Trainable params: 82,977\n",
            "Non-trainable params: 0\n",
            "_________________________________________________________________\n"
          ],
          "name": "stdout"
        }
      ]
    },
    {
      "cell_type": "code",
      "metadata": {
        "colab": {
          "base_uri": "https://localhost:8080/"
        },
        "id": "PpslED87I-zn",
        "outputId": "faaf25e1-6c89-41bd-c0ad-3a14c2ea95b5"
      },
      "source": [
        "history = LSTM_model.fit(train_dataset, \n",
        "                          epochs=20, \n",
        "                          steps_per_epoch=len(train_dataset),\n",
        "                          validation_data=validation_dataset, \n",
        "                          validation_steps=len(validation_dataset),\n",
        "                          callbacks=[tf.keras.callbacks.EarlyStopping(monitor='val_root_mean_squared_error', patience=3)],\n",
        "                          verbose=2)"
      ],
      "execution_count": 46,
      "outputs": [
        {
          "output_type": "stream",
          "text": [
            "Epoch 1/20\n",
            "195/195 - 5s - loss: 0.0552 - mean_absolute_error: 0.1336 - root_mean_squared_error: 1.4102 - val_loss: 1.4331e-04 - val_mean_absolute_error: 0.0141 - val_root_mean_squared_error: 0.0169\n",
            "Epoch 2/20\n",
            "195/195 - 3s - loss: 0.0577 - mean_absolute_error: 0.0945 - root_mean_squared_error: 1.9096 - val_loss: 2.4533e-04 - val_mean_absolute_error: 0.0195 - val_root_mean_squared_error: 0.0222\n",
            "Epoch 3/20\n",
            "195/195 - 3s - loss: 0.0205 - mean_absolute_error: 0.0516 - root_mean_squared_error: 0.9690 - val_loss: 2.4459e-04 - val_mean_absolute_error: 0.0198 - val_root_mean_squared_error: 0.0221\n",
            "Epoch 4/20\n",
            "195/195 - 3s - loss: 0.0325 - mean_absolute_error: 0.0612 - root_mean_squared_error: 1.3511 - val_loss: 1.1464e-04 - val_mean_absolute_error: 0.0124 - val_root_mean_squared_error: 0.0151\n",
            "Epoch 5/20\n",
            "195/195 - 3s - loss: 0.0180 - mean_absolute_error: 0.0437 - root_mean_squared_error: 0.9583 - val_loss: 1.4846e-04 - val_mean_absolute_error: 0.0143 - val_root_mean_squared_error: 0.0172\n",
            "Epoch 6/20\n",
            "195/195 - 3s - loss: 0.0374 - mean_absolute_error: 0.0640 - root_mean_squared_error: 1.3804 - val_loss: 2.8718e-04 - val_mean_absolute_error: 0.0216 - val_root_mean_squared_error: 0.0240\n",
            "Epoch 7/20\n",
            "195/195 - 3s - loss: 0.0227 - mean_absolute_error: 0.0528 - root_mean_squared_error: 0.9952 - val_loss: 7.7789e-05 - val_mean_absolute_error: 0.0096 - val_root_mean_squared_error: 0.0125\n",
            "Epoch 8/20\n",
            "195/195 - 3s - loss: 0.0502 - mean_absolute_error: 0.0772 - root_mean_squared_error: 1.6984 - val_loss: 3.0476e-04 - val_mean_absolute_error: 0.0225 - val_root_mean_squared_error: 0.0247\n",
            "Epoch 9/20\n",
            "195/195 - 3s - loss: 0.0061 - mean_absolute_error: 0.0326 - root_mean_squared_error: 0.1643 - val_loss: 6.6857e-04 - val_mean_absolute_error: 0.0347 - val_root_mean_squared_error: 0.0366\n",
            "Epoch 10/20\n",
            "195/195 - 3s - loss: 0.0478 - mean_absolute_error: 0.0756 - root_mean_squared_error: 1.6705 - val_loss: 7.6038e-05 - val_mean_absolute_error: 0.0094 - val_root_mean_squared_error: 0.0123\n",
            "Epoch 11/20\n",
            "195/195 - 3s - loss: 0.0359 - mean_absolute_error: 0.0612 - root_mean_squared_error: 1.3914 - val_loss: 1.3270e-04 - val_mean_absolute_error: 0.0134 - val_root_mean_squared_error: 0.0163\n",
            "Epoch 12/20\n",
            "195/195 - 3s - loss: 0.0205 - mean_absolute_error: 0.0495 - root_mean_squared_error: 0.9869 - val_loss: 2.0296e-04 - val_mean_absolute_error: 0.0177 - val_root_mean_squared_error: 0.0201\n",
            "Epoch 13/20\n",
            "195/195 - 3s - loss: 0.0110 - mean_absolute_error: 0.0390 - root_mean_squared_error: 0.2502 - val_loss: 1.0621e-04 - val_mean_absolute_error: 0.0116 - val_root_mean_squared_error: 0.0146\n"
          ],
          "name": "stdout"
        }
      ]
    },
    {
      "cell_type": "code",
      "metadata": {
        "colab": {
          "base_uri": "https://localhost:8080/"
        },
        "id": "nWN1jVo6I-zn",
        "outputId": "5d9d35a4-de43-495b-af09-acdbdcc310f4"
      },
      "source": [
        "LSTM_model.evaluate(test_dataset, steps=len(test_dataset))"
      ],
      "execution_count": 47,
      "outputs": [
        {
          "output_type": "stream",
          "text": [
            "28/28 [==============================] - 0s 6ms/step - loss: 8.6598e-05 - mean_absolute_error: 0.0111 - root_mean_squared_error: 0.0132\n"
          ],
          "name": "stdout"
        },
        {
          "output_type": "execute_result",
          "data": {
            "text/plain": [
              "[8.659830707204361e-05, 0.011111041947941125, 0.013160418430243988]"
            ]
          },
          "metadata": {
            "tags": []
          },
          "execution_count": 47
        }
      ]
    },
    {
      "cell_type": "markdown",
      "metadata": {
        "id": "PayTwGepTIbj"
      },
      "source": [
        "Linear regression model"
      ]
    },
    {
      "cell_type": "code",
      "metadata": {
        "colab": {
          "base_uri": "https://localhost:8080/"
        },
        "id": "aRf4K2K526qZ",
        "outputId": "1a5cb223-e24e-415c-d1b2-c6a5b519ce02"
      },
      "source": [
        "my_lr_model = get_lr_model(input_shape=(window_size, feature_dim))\n",
        "my_lr_model.summary()"
      ],
      "execution_count": 48,
      "outputs": [
        {
          "output_type": "stream",
          "text": [
            "Model: \"functional_5\"\n",
            "_________________________________________________________________\n",
            "Layer (type)                 Output Shape              Param #   \n",
            "=================================================================\n",
            "input_3 (InputLayer)         [(None, 20, 60)]          0         \n",
            "_________________________________________________________________\n",
            "tf_op_layer_strided_slice (T [(None, 5, 60)]           0         \n",
            "_________________________________________________________________\n",
            "flatten_1 (Flatten)          (None, 300)               0         \n",
            "_________________________________________________________________\n",
            "dense_3 (Dense)              (None, 1)                 301       \n",
            "=================================================================\n",
            "Total params: 301\n",
            "Trainable params: 301\n",
            "Non-trainable params: 0\n",
            "_________________________________________________________________\n"
          ],
          "name": "stdout"
        }
      ]
    },
    {
      "cell_type": "code",
      "metadata": {
        "colab": {
          "base_uri": "https://localhost:8080/"
        },
        "id": "8Fr1EW7Hnw2z",
        "outputId": "b02c505a-ec84-4bf8-e467-a769a3a48900"
      },
      "source": [
        "history = my_lr_model.fit(train_dataset, \n",
        "                          epochs=20, \n",
        "                          steps_per_epoch=len(train_dataset),\n",
        "                          validation_data=validation_dataset, \n",
        "                          validation_steps=len(validation_dataset),\n",
        "                          callbacks=[tf.keras.callbacks.EarlyStopping(monitor='val_root_mean_squared_error', patience=3)],\n",
        "                          verbose=2)"
      ],
      "execution_count": 49,
      "outputs": [
        {
          "output_type": "stream",
          "text": [
            "Epoch 1/20\n",
            "195/195 - 1s - loss: 0.1187 - mean_absolute_error: 0.1959 - root_mean_squared_error: 0.4625 - val_loss: 0.0578 - val_mean_absolute_error: 0.2385 - val_root_mean_squared_error: 0.2914\n",
            "Epoch 2/20\n",
            "195/195 - 1s - loss: 0.0562 - mean_absolute_error: 0.1631 - root_mean_squared_error: 0.4947 - val_loss: 0.0166 - val_mean_absolute_error: 0.0789 - val_root_mean_squared_error: 0.0992\n",
            "Epoch 3/20\n",
            "195/195 - 1s - loss: 0.0623 - mean_absolute_error: 0.1597 - root_mean_squared_error: 1.1203 - val_loss: 0.0630 - val_mean_absolute_error: 0.2616 - val_root_mean_squared_error: 0.3157\n",
            "Epoch 4/20\n",
            "195/195 - 1s - loss: 0.0617 - mean_absolute_error: 0.1703 - root_mean_squared_error: 1.0425 - val_loss: 0.0435 - val_mean_absolute_error: 0.1699 - val_root_mean_squared_error: 0.2137\n",
            "Epoch 5/20\n",
            "195/195 - 1s - loss: 0.0823 - mean_absolute_error: 0.1808 - root_mean_squared_error: 1.4810 - val_loss: 0.0235 - val_mean_absolute_error: 0.0950 - val_root_mean_squared_error: 0.1189\n"
          ],
          "name": "stdout"
        }
      ]
    },
    {
      "cell_type": "code",
      "metadata": {
        "colab": {
          "base_uri": "https://localhost:8080/"
        },
        "id": "jIyGK8sh26vp",
        "outputId": "1e4f3209-b49a-4b12-db02-c5e13e6dad48"
      },
      "source": [
        "my_lr_model.evaluate(test_dataset, steps=len(test_dataset))"
      ],
      "execution_count": 50,
      "outputs": [
        {
          "output_type": "stream",
          "text": [
            "28/28 [==============================] - 0s 3ms/step - loss: 0.0226 - mean_absolute_error: 0.0883 - root_mean_squared_error: 0.1111\n"
          ],
          "name": "stdout"
        },
        {
          "output_type": "execute_result",
          "data": {
            "text/plain": [
              "[0.02262469167440744, 0.08833526104232155, 0.11105214335263443]"
            ]
          },
          "metadata": {
            "tags": []
          },
          "execution_count": 50
        }
      ]
    },
    {
      "cell_type": "markdown",
      "metadata": {
        "id": "tkiRWnANauxt"
      },
      "source": [
        "Majority-voting model (simple averaging) uses the above two models: conv1d and LSTM.\n",
        "\n",
        "\n",
        "\n",
        "\n",
        "\n"
      ]
    },
    {
      "cell_type": "code",
      "metadata": {
        "colab": {
          "base_uri": "https://localhost:8080/"
        },
        "id": "moey_ZgfrLT9",
        "outputId": "09a340e2-af7b-4ef9-b6cc-de95fafa0fd2"
      },
      "source": [
        "maj_model = get_myMajority_model(input_shape=(window_size, feature_dim), models=[conv1d_model, LSTM_model])\n",
        "maj_model.summary() ## no trainable parameters"
      ],
      "execution_count": 51,
      "outputs": [
        {
          "output_type": "stream",
          "text": [
            "Model: \"functional_7\"\n",
            "__________________________________________________________________________________________________\n",
            "Layer (type)                    Output Shape         Param #     Connected to                     \n",
            "==================================================================================================\n",
            "input_4 (InputLayer)            [(None, 20, 60)]     0                                            \n",
            "__________________________________________________________________________________________________\n",
            "functional_1 (Functional)       (None, 1)            64257       input_4[0][0]                    \n",
            "__________________________________________________________________________________________________\n",
            "functional_3 (Functional)       (None, 1)            82977       input_4[0][0]                    \n",
            "__________________________________________________________________________________________________\n",
            "tf_op_layer_stack (TensorFlowOp [(None, 2, 1)]       0           functional_1[0][0]               \n",
            "                                                                 functional_3[0][0]               \n",
            "__________________________________________________________________________________________________\n",
            "flatten_2 (Flatten)             (None, 2)            0           tf_op_layer_stack[0][0]          \n",
            "__________________________________________________________________________________________________\n",
            "tf_op_layer_Mean (TensorFlowOpL [(None, 1)]          0           flatten_2[0][0]                  \n",
            "==================================================================================================\n",
            "Total params: 147,234\n",
            "Trainable params: 0\n",
            "Non-trainable params: 147,234\n",
            "__________________________________________________________________________________________________\n"
          ],
          "name": "stdout"
        }
      ]
    },
    {
      "cell_type": "code",
      "metadata": {
        "colab": {
          "base_uri": "https://localhost:8080/"
        },
        "id": "bWG0w75drPJI",
        "outputId": "96246590-28d8-4fc3-b41e-2b9ebc0dc638"
      },
      "source": [
        "maj_model.evaluate(test_dataset, steps=len(test_dataset))"
      ],
      "execution_count": 52,
      "outputs": [
        {
          "output_type": "stream",
          "text": [
            "28/28 [==============================] - 0s 10ms/step - loss: 5.1063e-05 - mean_absolute_error: 0.0075 - root_mean_squared_error: 0.0101\n"
          ],
          "name": "stdout"
        },
        {
          "output_type": "execute_result",
          "data": {
            "text/plain": [
              "[5.1063206553538165e-05, 0.007532388166300834, 0.010105761450947517]"
            ]
          },
          "metadata": {
            "tags": []
          },
          "execution_count": 52
        }
      ]
    },
    {
      "cell_type": "markdown",
      "metadata": {
        "id": "NG1Yf8sKa62m"
      },
      "source": [
        "The ensemble model (weighted averaging) uses the above two models: conv1d and LSTM.\n"
      ]
    },
    {
      "cell_type": "code",
      "metadata": {
        "colab": {
          "base_uri": "https://localhost:8080/"
        },
        "id": "C73ST00ArctK",
        "outputId": "80035acf-48d9-4425-dc56-95f393d12c8b"
      },
      "source": [
        "# ensStack_model = get_myEnsStack_model(input_shape=(window_size, feature_dim), models=[my_lr_model, conv1d_model, LSTM_model])\n",
        "ensStack_model = get_myEnsStack_model(input_shape=(window_size, feature_dim), models=[conv1d_model, LSTM_model])\n",
        "ensStack_model.summary()"
      ],
      "execution_count": 53,
      "outputs": [
        {
          "output_type": "stream",
          "text": [
            "Model: \"functional_9\"\n",
            "__________________________________________________________________________________________________\n",
            "Layer (type)                    Output Shape         Param #     Connected to                     \n",
            "==================================================================================================\n",
            "input_5 (InputLayer)            [(None, 20, 60)]     0                                            \n",
            "__________________________________________________________________________________________________\n",
            "functional_1 (Functional)       (None, 1)            64257       input_5[0][0]                    \n",
            "__________________________________________________________________________________________________\n",
            "functional_3 (Functional)       (None, 1)            82977       input_5[0][0]                    \n",
            "__________________________________________________________________________________________________\n",
            "tf_op_layer_stack_1 (TensorFlow [(None, 2, 1)]       0           functional_1[1][0]               \n",
            "                                                                 functional_3[1][0]               \n",
            "__________________________________________________________________________________________________\n",
            "flatten_3 (Flatten)             (None, 2)            0           tf_op_layer_stack_1[0][0]        \n",
            "__________________________________________________________________________________________________\n",
            "dense_4 (Dense)                 (None, 1)            2           flatten_3[0][0]                  \n",
            "==================================================================================================\n",
            "Total params: 147,236\n",
            "Trainable params: 2\n",
            "Non-trainable params: 147,234\n",
            "__________________________________________________________________________________________________\n"
          ],
          "name": "stdout"
        }
      ]
    },
    {
      "cell_type": "code",
      "metadata": {
        "colab": {
          "base_uri": "https://localhost:8080/"
        },
        "id": "LWGMXogMr8tD",
        "outputId": "8d156c41-879f-454f-f23b-7077d49e9115"
      },
      "source": [
        "history = ensStack_model.fit(train_dataset, \n",
        "                            epochs=50, \n",
        "                            steps_per_epoch=len(train_dataset),\n",
        "                            validation_data=validation_dataset, \n",
        "                            validation_steps=len(validation_dataset),\n",
        "                            callbacks=[tf.keras.callbacks.EarlyStopping(monitor='val_root_mean_squared_error', patience=2)],\n",
        "                            verbose=2)"
      ],
      "execution_count": 54,
      "outputs": [
        {
          "output_type": "stream",
          "text": [
            "Epoch 1/50\n",
            "195/195 - 3s - loss: 0.0113 - mean_absolute_error: 0.0376 - root_mean_squared_error: 0.3685 - val_loss: 1.2080e-04 - val_mean_absolute_error: 0.0126 - val_root_mean_squared_error: 0.0155\n",
            "Epoch 2/50\n",
            "195/195 - 2s - loss: 0.0233 - mean_absolute_error: 0.0473 - root_mean_squared_error: 0.9946 - val_loss: 9.2372e-05 - val_mean_absolute_error: 0.0107 - val_root_mean_squared_error: 0.0136\n",
            "Epoch 3/50\n",
            "195/195 - 2s - loss: 0.0152 - mean_absolute_error: 0.0378 - root_mean_squared_error: 0.3537 - val_loss: 7.8724e-05 - val_mean_absolute_error: 0.0095 - val_root_mean_squared_error: 0.0125\n",
            "Epoch 4/50\n",
            "195/195 - 2s - loss: 0.0105 - mean_absolute_error: 0.0323 - root_mean_squared_error: 0.3183 - val_loss: 7.7000e-05 - val_mean_absolute_error: 0.0092 - val_root_mean_squared_error: 0.0124\n",
            "Epoch 5/50\n",
            "195/195 - 2s - loss: 0.0501 - mean_absolute_error: 0.0724 - root_mean_squared_error: 1.6847 - val_loss: 6.4957e-05 - val_mean_absolute_error: 0.0085 - val_root_mean_squared_error: 0.0114\n",
            "Epoch 6/50\n",
            "195/195 - 2s - loss: 0.0087 - mean_absolute_error: 0.0301 - root_mean_squared_error: 0.2774 - val_loss: 6.1538e-05 - val_mean_absolute_error: 0.0084 - val_root_mean_squared_error: 0.0111\n",
            "Epoch 7/50\n",
            "195/195 - 2s - loss: 0.0274 - mean_absolute_error: 0.0485 - root_mean_squared_error: 1.0332 - val_loss: 6.2392e-05 - val_mean_absolute_error: 0.0084 - val_root_mean_squared_error: 0.0112\n",
            "Epoch 8/50\n",
            "195/195 - 2s - loss: 0.0304 - mean_absolute_error: 0.0504 - root_mean_squared_error: 1.3520 - val_loss: 6.7740e-05 - val_mean_absolute_error: 0.0085 - val_root_mean_squared_error: 0.0116\n"
          ],
          "name": "stdout"
        }
      ]
    },
    {
      "cell_type": "code",
      "metadata": {
        "colab": {
          "base_uri": "https://localhost:8080/"
        },
        "id": "b5zcLDtDvPAV",
        "outputId": "f85b421b-fd82-49b5-d51b-7bc92db52e9f"
      },
      "source": [
        "ensStack_model.evaluate(test_dataset, steps=len(test_dataset))"
      ],
      "execution_count": 55,
      "outputs": [
        {
          "output_type": "stream",
          "text": [
            "28/28 [==============================] - 0s 7ms/step - loss: 3.4672e-05 - mean_absolute_error: 0.0058 - root_mean_squared_error: 0.0083\n"
          ],
          "name": "stdout"
        },
        {
          "output_type": "execute_result",
          "data": {
            "text/plain": [
              "[3.4671763582342206e-05, 0.0058483663368581245, 0.008327276069367666]"
            ]
          },
          "metadata": {
            "tags": []
          },
          "execution_count": 55
        }
      ]
    },
    {
      "cell_type": "markdown",
      "metadata": {
        "id": "-_OseIBW26__"
      },
      "source": [
        "# Model evaluation\n",
        "Here, we will compute the actual root-mean-square error of our predicted level. Also, the predictions are made one by one to simulate the real-time prediction (see the definition of model_eval). "
      ]
    },
    {
      "cell_type": "code",
      "metadata": {
        "colab": {
          "base_uri": "https://localhost:8080/",
          "height": 394
        },
        "id": "caXbeCT9QSMw",
        "outputId": "e7562c33-5098-4ada-8d48-9430cba64518"
      },
      "source": [
        "raw_test_data = feature_data.iloc[-len(test_data):,:].reset_index().drop('index', axis=1)\n",
        "raw_test_data.head()"
      ],
      "execution_count": 56,
      "outputs": [
        {
          "output_type": "execute_result",
          "data": {
            "text/html": [
              "<div>\n",
              "<style scoped>\n",
              "    .dataframe tbody tr th:only-of-type {\n",
              "        vertical-align: middle;\n",
              "    }\n",
              "\n",
              "    .dataframe tbody tr th {\n",
              "        vertical-align: top;\n",
              "    }\n",
              "\n",
              "    .dataframe thead th {\n",
              "        text-align: right;\n",
              "    }\n",
              "</style>\n",
              "<table border=\"1\" class=\"dataframe\">\n",
              "  <thead>\n",
              "    <tr style=\"text-align: right;\">\n",
              "      <th></th>\n",
              "      <th>datetime</th>\n",
              "      <th>sym_level</th>\n",
              "      <th>sym_pct_change_1m</th>\n",
              "      <th>sym_short_ma</th>\n",
              "      <th>sym_short_ma_pct_change_baseline</th>\n",
              "      <th>sym_short_ma_pct_change_10m</th>\n",
              "      <th>sym_short_std</th>\n",
              "      <th>sym_short_std_pct_change_10m</th>\n",
              "      <th>sym_long_ma</th>\n",
              "      <th>sym_long_ma_pct_change_baseline</th>\n",
              "      <th>sym_long_ma_pct_change_60m</th>\n",
              "      <th>sym_long_std</th>\n",
              "      <th>sym_long_std_pct_change_60m</th>\n",
              "      <th>sym_short_ewm</th>\n",
              "      <th>sym_short_ewm_pct_change_baseline</th>\n",
              "      <th>sym_long_ewm</th>\n",
              "      <th>sym_long_ewm_pct_change_baseline</th>\n",
              "      <th>sym_rsi</th>\n",
              "      <th>sym_wma</th>\n",
              "      <th>sym_wma_pct_change</th>\n",
              "      <th>sym_macd</th>\n",
              "      <th>sec_level</th>\n",
              "      <th>sec_pct_change_1m</th>\n",
              "      <th>sec_short_ma</th>\n",
              "      <th>sec_short_ma_pct_change_baseline</th>\n",
              "      <th>sec_short_ma_pct_change_10m</th>\n",
              "      <th>sec_short_std</th>\n",
              "      <th>sec_short_std_pct_change_10m</th>\n",
              "      <th>sec_long_ma</th>\n",
              "      <th>sec_long_ma_pct_change_baseline</th>\n",
              "      <th>sec_long_ma_pct_change_60m</th>\n",
              "      <th>sec_long_std</th>\n",
              "      <th>sec_long_std_pct_change_60m</th>\n",
              "      <th>sec_short_ewm</th>\n",
              "      <th>sec_short_ewm_pct_change_baseline</th>\n",
              "      <th>sec_long_ewm</th>\n",
              "      <th>sec_long_ewm_pct_change_baseline</th>\n",
              "      <th>sec_rsi</th>\n",
              "      <th>sec_wma</th>\n",
              "      <th>sec_wma_pct_change</th>\n",
              "      <th>sec_macd</th>\n",
              "      <th>iss_level</th>\n",
              "      <th>iss_pct_change_1m</th>\n",
              "      <th>iss_short_ma</th>\n",
              "      <th>iss_short_ma_pct_change_baseline</th>\n",
              "      <th>iss_short_ma_pct_change_10m</th>\n",
              "      <th>iss_short_std</th>\n",
              "      <th>iss_short_std_pct_change_10m</th>\n",
              "      <th>iss_long_ma</th>\n",
              "      <th>iss_long_ma_pct_change_baseline</th>\n",
              "      <th>iss_long_ma_pct_change_60m</th>\n",
              "      <th>iss_long_std</th>\n",
              "      <th>iss_long_std_pct_change_60m</th>\n",
              "      <th>iss_short_ewm</th>\n",
              "      <th>iss_short_ewm_pct_change_baseline</th>\n",
              "      <th>iss_long_ewm</th>\n",
              "      <th>iss_long_ewm_pct_change_baseline</th>\n",
              "      <th>iss_rsi</th>\n",
              "      <th>iss_wma</th>\n",
              "      <th>iss_wma_pct_change</th>\n",
              "      <th>iss_macd</th>\n",
              "    </tr>\n",
              "  </thead>\n",
              "  <tbody>\n",
              "    <tr>\n",
              "      <th>0</th>\n",
              "      <td>2020-11-17 13:40:00</td>\n",
              "      <td>23.993025</td>\n",
              "      <td>0.039118</td>\n",
              "      <td>24.140556</td>\n",
              "      <td>0.006149</td>\n",
              "      <td>-0.139809</td>\n",
              "      <td>1.067880</td>\n",
              "      <td>-0.220931</td>\n",
              "      <td>29.082221</td>\n",
              "      <td>0.212111</td>\n",
              "      <td>-0.230713</td>\n",
              "      <td>3.714679</td>\n",
              "      <td>0.125126</td>\n",
              "      <td>24.450529</td>\n",
              "      <td>0.019068</td>\n",
              "      <td>28.955855</td>\n",
              "      <td>0.206845</td>\n",
              "      <td>41.170716</td>\n",
              "      <td>25.995162</td>\n",
              "      <td>-0.008571</td>\n",
              "      <td>-4.505326</td>\n",
              "      <td>87.691379</td>\n",
              "      <td>0.015833</td>\n",
              "      <td>87.982523</td>\n",
              "      <td>0.003320</td>\n",
              "      <td>-0.031984</td>\n",
              "      <td>1.420113</td>\n",
              "      <td>-0.003797</td>\n",
              "      <td>90.265678</td>\n",
              "      <td>0.029356</td>\n",
              "      <td>-0.028994</td>\n",
              "      <td>2.337493</td>\n",
              "      <td>-0.293465</td>\n",
              "      <td>88.302081</td>\n",
              "      <td>0.006964</td>\n",
              "      <td>90.201643</td>\n",
              "      <td>0.028626</td>\n",
              "      <td>47.952568</td>\n",
              "      <td>89.252324</td>\n",
              "      <td>-0.001640</td>\n",
              "      <td>-1.899562</td>\n",
              "      <td>82.107432</td>\n",
              "      <td>0.008401</td>\n",
              "      <td>80.786486</td>\n",
              "      <td>-0.016088</td>\n",
              "      <td>-0.039468</td>\n",
              "      <td>2.801497</td>\n",
              "      <td>-0.171101</td>\n",
              "      <td>84.104098</td>\n",
              "      <td>0.024318</td>\n",
              "      <td>-0.016693</td>\n",
              "      <td>3.673221</td>\n",
              "      <td>-0.133194</td>\n",
              "      <td>81.724359</td>\n",
              "      <td>-0.004666</td>\n",
              "      <td>83.690898</td>\n",
              "      <td>0.019285</td>\n",
              "      <td>49.209385</td>\n",
              "      <td>82.505088</td>\n",
              "      <td>-0.001053</td>\n",
              "      <td>-1.966540</td>\n",
              "    </tr>\n",
              "    <tr>\n",
              "      <th>1</th>\n",
              "      <td>2020-11-17 13:41:00</td>\n",
              "      <td>24.831315</td>\n",
              "      <td>0.034939</td>\n",
              "      <td>23.935329</td>\n",
              "      <td>-0.036083</td>\n",
              "      <td>-0.142166</td>\n",
              "      <td>0.557286</td>\n",
              "      <td>-0.604247</td>\n",
              "      <td>28.823315</td>\n",
              "      <td>0.160765</td>\n",
              "      <td>-0.238647</td>\n",
              "      <td>3.446597</td>\n",
              "      <td>0.039143</td>\n",
              "      <td>24.519763</td>\n",
              "      <td>-0.012547</td>\n",
              "      <td>28.820624</td>\n",
              "      <td>0.160656</td>\n",
              "      <td>42.895421</td>\n",
              "      <td>25.834607</td>\n",
              "      <td>-0.006176</td>\n",
              "      <td>-4.300861</td>\n",
              "      <td>86.036748</td>\n",
              "      <td>-0.018869</td>\n",
              "      <td>87.670833</td>\n",
              "      <td>0.018993</td>\n",
              "      <td>-0.031809</td>\n",
              "      <td>1.475486</td>\n",
              "      <td>0.059883</td>\n",
              "      <td>90.157217</td>\n",
              "      <td>0.047892</td>\n",
              "      <td>-0.030821</td>\n",
              "      <td>2.380550</td>\n",
              "      <td>-0.270296</td>\n",
              "      <td>87.890202</td>\n",
              "      <td>0.021543</td>\n",
              "      <td>90.065089</td>\n",
              "      <td>0.046821</td>\n",
              "      <td>46.683314</td>\n",
              "      <td>89.003391</td>\n",
              "      <td>-0.002789</td>\n",
              "      <td>-2.174887</td>\n",
              "      <td>82.127058</td>\n",
              "      <td>0.000239</td>\n",
              "      <td>81.058167</td>\n",
              "      <td>-0.013015</td>\n",
              "      <td>-0.023007</td>\n",
              "      <td>2.784889</td>\n",
              "      <td>0.020161</td>\n",
              "      <td>84.086180</td>\n",
              "      <td>0.023855</td>\n",
              "      <td>-0.016976</td>\n",
              "      <td>3.680311</td>\n",
              "      <td>-0.130731</td>\n",
              "      <td>81.797577</td>\n",
              "      <td>-0.004012</td>\n",
              "      <td>83.639625</td>\n",
              "      <td>0.018417</td>\n",
              "      <td>49.219449</td>\n",
              "      <td>82.414701</td>\n",
              "      <td>-0.001096</td>\n",
              "      <td>-1.842048</td>\n",
              "    </tr>\n",
              "    <tr>\n",
              "      <th>2</th>\n",
              "      <td>2020-11-17 13:42:00</td>\n",
              "      <td>22.999169</td>\n",
              "      <td>-0.073784</td>\n",
              "      <td>23.845289</td>\n",
              "      <td>0.036789</td>\n",
              "      <td>-0.128050</td>\n",
              "      <td>0.631502</td>\n",
              "      <td>-0.644457</td>\n",
              "      <td>28.552685</td>\n",
              "      <td>0.241466</td>\n",
              "      <td>-0.246702</td>\n",
              "      <td>3.246760</td>\n",
              "      <td>-0.021062</td>\n",
              "      <td>24.243291</td>\n",
              "      <td>0.054094</td>\n",
              "      <td>28.629757</td>\n",
              "      <td>0.244817</td>\n",
              "      <td>40.228879</td>\n",
              "      <td>25.567594</td>\n",
              "      <td>-0.010335</td>\n",
              "      <td>-4.386465</td>\n",
              "      <td>87.804866</td>\n",
              "      <td>0.020551</td>\n",
              "      <td>87.744883</td>\n",
              "      <td>-0.000683</td>\n",
              "      <td>-0.028328</td>\n",
              "      <td>1.460169</td>\n",
              "      <td>-0.171788</td>\n",
              "      <td>90.011012</td>\n",
              "      <td>0.025126</td>\n",
              "      <td>-0.034033</td>\n",
              "      <td>2.245105</td>\n",
              "      <td>-0.298301</td>\n",
              "      <td>87.874686</td>\n",
              "      <td>0.000795</td>\n",
              "      <td>89.990983</td>\n",
              "      <td>0.024897</td>\n",
              "      <td>48.198996</td>\n",
              "      <td>88.877730</td>\n",
              "      <td>-0.001412</td>\n",
              "      <td>-2.116297</td>\n",
              "      <td>82.612855</td>\n",
              "      <td>0.005915</td>\n",
              "      <td>80.898076</td>\n",
              "      <td>-0.020757</td>\n",
              "      <td>-0.026579</td>\n",
              "      <td>2.624742</td>\n",
              "      <td>-0.047932</td>\n",
              "      <td>84.017907</td>\n",
              "      <td>0.017008</td>\n",
              "      <td>-0.019179</td>\n",
              "      <td>3.668803</td>\n",
              "      <td>-0.117578</td>\n",
              "      <td>81.945809</td>\n",
              "      <td>-0.008074</td>\n",
              "      <td>83.605960</td>\n",
              "      <td>0.012021</td>\n",
              "      <td>49.475793</td>\n",
              "      <td>82.354250</td>\n",
              "      <td>-0.000734</td>\n",
              "      <td>-1.660151</td>\n",
              "    </tr>\n",
              "    <tr>\n",
              "      <th>3</th>\n",
              "      <td>2020-11-17 13:43:00</td>\n",
              "      <td>24.380432</td>\n",
              "      <td>0.060057</td>\n",
              "      <td>23.895820</td>\n",
              "      <td>-0.019877</td>\n",
              "      <td>-0.108087</td>\n",
              "      <td>0.653972</td>\n",
              "      <td>-0.658610</td>\n",
              "      <td>28.318230</td>\n",
              "      <td>0.161515</td>\n",
              "      <td>-0.253482</td>\n",
              "      <td>3.020110</td>\n",
              "      <td>-0.088440</td>\n",
              "      <td>24.268226</td>\n",
              "      <td>-0.004602</td>\n",
              "      <td>28.490435</td>\n",
              "      <td>0.168578</td>\n",
              "      <td>42.992685</td>\n",
              "      <td>25.407785</td>\n",
              "      <td>-0.006250</td>\n",
              "      <td>-4.222209</td>\n",
              "      <td>87.410180</td>\n",
              "      <td>-0.004495</td>\n",
              "      <td>87.785882</td>\n",
              "      <td>0.004298</td>\n",
              "      <td>-0.026011</td>\n",
              "      <td>1.442587</td>\n",
              "      <td>-0.279712</td>\n",
              "      <td>89.911419</td>\n",
              "      <td>0.028615</td>\n",
              "      <td>-0.036025</td>\n",
              "      <td>2.225315</td>\n",
              "      <td>-0.288396</td>\n",
              "      <td>87.790231</td>\n",
              "      <td>0.004348</td>\n",
              "      <td>89.906367</td>\n",
              "      <td>0.028557</td>\n",
              "      <td>47.884652</td>\n",
              "      <td>88.731518</td>\n",
              "      <td>-0.001645</td>\n",
              "      <td>-2.116136</td>\n",
              "      <td>82.160109</td>\n",
              "      <td>-0.005480</td>\n",
              "      <td>81.164178</td>\n",
              "      <td>-0.012122</td>\n",
              "      <td>-0.023479</td>\n",
              "      <td>2.601941</td>\n",
              "      <td>-0.051809</td>\n",
              "      <td>83.952087</td>\n",
              "      <td>0.021811</td>\n",
              "      <td>-0.021307</td>\n",
              "      <td>3.666071</td>\n",
              "      <td>-0.097914</td>\n",
              "      <td>81.984773</td>\n",
              "      <td>-0.002134</td>\n",
              "      <td>83.558555</td>\n",
              "      <td>0.017021</td>\n",
              "      <td>49.236168</td>\n",
              "      <td>82.266238</td>\n",
              "      <td>-0.001069</td>\n",
              "      <td>-1.573783</td>\n",
              "    </tr>\n",
              "    <tr>\n",
              "      <th>4</th>\n",
              "      <td>2020-11-17 13:44:00</td>\n",
              "      <td>24.469849</td>\n",
              "      <td>0.003668</td>\n",
              "      <td>23.999685</td>\n",
              "      <td>-0.019214</td>\n",
              "      <td>-0.091220</td>\n",
              "      <td>0.654461</td>\n",
              "      <td>-0.699297</td>\n",
              "      <td>28.119621</td>\n",
              "      <td>0.149154</td>\n",
              "      <td>-0.259093</td>\n",
              "      <td>2.868563</td>\n",
              "      <td>-0.130880</td>\n",
              "      <td>24.304885</td>\n",
              "      <td>-0.006742</td>\n",
              "      <td>28.358612</td>\n",
              "      <td>0.158921</td>\n",
              "      <td>43.168669</td>\n",
              "      <td>25.267055</td>\n",
              "      <td>-0.005539</td>\n",
              "      <td>-4.053727</td>\n",
              "      <td>87.829579</td>\n",
              "      <td>0.004798</td>\n",
              "      <td>87.818939</td>\n",
              "      <td>-0.000121</td>\n",
              "      <td>-0.023573</td>\n",
              "      <td>1.439066</td>\n",
              "      <td>-0.334956</td>\n",
              "      <td>89.846170</td>\n",
              "      <td>0.022960</td>\n",
              "      <td>-0.037711</td>\n",
              "      <td>2.228048</td>\n",
              "      <td>-0.253824</td>\n",
              "      <td>87.797385</td>\n",
              "      <td>-0.000367</td>\n",
              "      <td>89.838275</td>\n",
              "      <td>0.022870</td>\n",
              "      <td>48.255614</td>\n",
              "      <td>88.627395</td>\n",
              "      <td>-0.001173</td>\n",
              "      <td>-2.040890</td>\n",
              "      <td>82.533637</td>\n",
              "      <td>0.004546</td>\n",
              "      <td>81.615991</td>\n",
              "      <td>-0.011118</td>\n",
              "      <td>-0.010083</td>\n",
              "      <td>2.376993</td>\n",
              "      <td>-0.234635</td>\n",
              "      <td>83.944485</td>\n",
              "      <td>0.017094</td>\n",
              "      <td>-0.022196</td>\n",
              "      <td>3.668572</td>\n",
              "      <td>-0.077396</td>\n",
              "      <td>82.084566</td>\n",
              "      <td>-0.005441</td>\n",
              "      <td>83.524951</td>\n",
              "      <td>0.012011</td>\n",
              "      <td>49.445143</td>\n",
              "      <td>82.222388</td>\n",
              "      <td>-0.000533</td>\n",
              "      <td>-1.440385</td>\n",
              "    </tr>\n",
              "  </tbody>\n",
              "</table>\n",
              "</div>"
            ],
            "text/plain": [
              "             datetime  sym_level  ...  iss_wma_pct_change  iss_macd\n",
              "0 2020-11-17 13:40:00  23.993025  ...           -0.001053 -1.966540\n",
              "1 2020-11-17 13:41:00  24.831315  ...           -0.001096 -1.842048\n",
              "2 2020-11-17 13:42:00  22.999169  ...           -0.000734 -1.660151\n",
              "3 2020-11-17 13:43:00  24.380432  ...           -0.001069 -1.573783\n",
              "4 2020-11-17 13:44:00  24.469849  ...           -0.000533 -1.440385\n",
              "\n",
              "[5 rows x 61 columns]"
            ]
          },
          "metadata": {
            "tags": []
          },
          "execution_count": 56
        }
      ]
    },
    {
      "cell_type": "code",
      "metadata": {
        "colab": {
          "base_uri": "https://localhost:8080/",
          "height": 282
        },
        "id": "v20tcHn1x8zF",
        "outputId": "87519ab6-5de4-4fbe-95e8-a3cdac43eb51"
      },
      "source": [
        "raw_test_data.plot(y='sym_level')"
      ],
      "execution_count": 57,
      "outputs": [
        {
          "output_type": "execute_result",
          "data": {
            "text/plain": [
              "<matplotlib.axes._subplots.AxesSubplot at 0x7f5d64ff5320>"
            ]
          },
          "metadata": {
            "tags": []
          },
          "execution_count": 57
        },
        {
          "output_type": "display_data",
          "data": {
            "image/png": "[encoded data removed]",
            "text/plain": [
              "<Figure size 432x288 with 1 Axes>"
            ]
          },
          "metadata": {
            "tags": [],
            "needs_background": "light"
          }
        }
      ]
    },
    {
      "cell_type": "code",
      "metadata": {
        "colab": {
          "base_uri": "https://localhost:8080/"
        },
        "id": "BqsVA1DKLgGd",
        "outputId": "2e0cc8ee-eaa3-4e45-91f2-b6a7d3d748d9"
      },
      "source": [
        "print(\"baseline_last_trade_model\")\n",
        "rmse_raw, rmse_pct, rmse_level, preds_pct, preds_level_baseline = model_eval(baseline_last_trade_model, raw_test_data, scaler)\n",
        "print(\"rmse_raw\", rmse_raw, \"rmse_pct\", rmse_pct, \"rmse_level\", rmse_level)\n",
        "print('first 5 predicted levels:')\n",
        "for pred in preds_level_baseline[:5]:\n",
        "  print(pred)\n"
      ],
      "execution_count": 58,
      "outputs": [
        {
          "output_type": "stream",
          "text": [
            "baseline_last_trade_model\n",
            "rmse_raw 0.018160006 rmse_pct 0.02985493 rmse_level 1.4421856\n",
            "first 5 predicted levels:\n",
            "[20.91798525]\n",
            "[22.56155267]\n",
            "[22.64949464]\n",
            "[21.14408646]\n",
            "[23.18822109]\n"
          ],
          "name": "stdout"
        }
      ]
    },
    {
      "cell_type": "code",
      "metadata": {
        "colab": {
          "base_uri": "https://localhost:8080/"
        },
        "id": "m0nAp8fnI-zo",
        "outputId": "f272c16c-462f-4fe7-d218-c8b0d71daf76"
      },
      "source": [
        "print(\"conv1d_model\")\n",
        "rmse_raw, rmse_pct, rmse_level, preds_pct, preds_level_conv1d = model_eval(conv1d_model, raw_test_data, scaler)\n",
        "print(\"rmse_raw\", rmse_raw, \"rmse_pct\", rmse_pct, \"rmse_level\", rmse_level)\n",
        "print('first 5 predicted levels:')\n",
        "for pred in preds_level_conv1d[:5]:\n",
        "  print(pred)\n"
      ],
      "execution_count": 59,
      "outputs": [
        {
          "output_type": "stream",
          "text": [
            "conv1d_model\n",
            "rmse_raw 0.008786484 rmse_pct 0.030010473 rmse_level 1.4820007\n",
            "first 5 predicted levels:\n",
            "[21.032533908268242]\n",
            "[22.68510164145482]\n",
            "[22.773525190036825]\n",
            "[21.25987327130529]\n",
            "[23.31520176030238]\n"
          ],
          "name": "stdout"
        }
      ]
    },
    {
      "cell_type": "code",
      "metadata": {
        "colab": {
          "base_uri": "https://localhost:8080/"
        },
        "id": "soeD9Q79Nvj2",
        "outputId": "b4296197-df57-4e5d-e78f-19721a82f170"
      },
      "source": [
        "print(\"LSTM_model\")\n",
        "rmse_raw, rmse_pct, rmse_level, preds_pct, preds_level_LSTM = model_eval(LSTM_model, raw_test_data, scaler)\n",
        "print(\"rmse_raw\", rmse_raw, \"rmse_pct\", rmse_pct, \"rmse_level\", rmse_level)\n",
        "print('first 5 predicted levels:')\n",
        "for pred in preds_level_LSTM[:5]:\n",
        "  print(pred)\n"
      ],
      "execution_count": 60,
      "outputs": [
        {
          "output_type": "stream",
          "text": [
            "LSTM_model\n",
            "rmse_raw 0.013275568 rmse_pct 0.045343064 rmse_level 2.6397767\n",
            "first 5 predicted levels:\n",
            "[20.236593980874446]\n",
            "[21.826555482402263]\n",
            "[21.91144889240153]\n",
            "[20.45510770786817]\n",
            "[22.43281840538458]\n"
          ],
          "name": "stdout"
        }
      ]
    },
    {
      "cell_type": "code",
      "metadata": {
        "colab": {
          "base_uri": "https://localhost:8080/"
        },
        "id": "yBuF4NJnTaQ8",
        "outputId": "90b3073f-b4e4-4c41-c272-3d0ab9677474"
      },
      "source": [
        "print(\"lr_model\")\n",
        "rmse_raw, rmse_pct, rmse_level, preds_pct, preds_level_lr = model_eval(my_lr_model, raw_test_data, scaler)\n",
        "print(\"rmse_raw\", rmse_raw, \"rmse_pct\", rmse_pct, \"rmse_level\", rmse_level)\n",
        "print('first 5 predicted levels:')\n",
        "for pred in preds_level_lr[:5]:\n",
        "  print(pred)\n"
      ],
      "execution_count": 61,
      "outputs": [
        {
          "output_type": "stream",
          "text": [
            "lr_model\n",
            "rmse_raw 0.11153948 rmse_pct 0.38096616 rmse_level 25.736015\n",
            "first 5 predicted levels:\n",
            "[24.505355904336582]\n",
            "[33.348150945486104]\n",
            "[28.377093039378234]\n",
            "[27.76443818597141]\n",
            "[28.647530568716892]\n"
          ],
          "name": "stdout"
        }
      ]
    },
    {
      "cell_type": "code",
      "metadata": {
        "colab": {
          "base_uri": "https://localhost:8080/"
        },
        "id": "QzAkIlsgTHlo",
        "outputId": "5ea8680b-5b15-40a6-dabd-9fcfd384ad44"
      },
      "source": [
        "print(\"maj_model\")\n",
        "rmse_raw, rmse_pct, rmse_level, preds_pct, preds_level_maj = model_eval(maj_model, raw_test_data, scaler)\n",
        "print(\"rmse_raw\", rmse_raw, \"rmse_pct\", rmse_pct, \"rmse_level\", rmse_level)\n",
        "for pred in preds_level_maj[:5]:\n",
        "  print(pred)\n"
      ],
      "execution_count": 62,
      "outputs": [
        {
          "output_type": "stream",
          "text": [
            "maj_model\n",
            "rmse_raw 0.009810162 rmse_pct 0.03350688 rmse_level 1.7193556\n",
            "[20.634563944571344]\n",
            "[22.255828561928542]\n",
            "[22.34248704121918]\n",
            "[20.85749048958673]\n",
            "[22.87401008284348]\n"
          ],
          "name": "stdout"
        }
      ]
    },
    {
      "cell_type": "code",
      "metadata": {
        "id": "tiyOamd7TGSK",
        "colab": {
          "base_uri": "https://localhost:8080/"
        },
        "outputId": "d6677ba3-025e-4a63-ca9e-4271c30af599"
      },
      "source": [
        "print(\"ensStack_model\")\n",
        "rmse_raw, rmse_pct, rmse_level, preds_pct, preds_level_ens = model_eval(ensStack_model, raw_test_data, scaler)\n",
        "print(\"rmse_raw\", rmse_raw, \"rmse_pct\", rmse_pct, \"rmse_level\", rmse_level)\n",
        "for pred in preds_level_ens[:5]:\n",
        "  print(pred)\n"
      ],
      "execution_count": 63,
      "outputs": [
        {
          "output_type": "stream",
          "text": [
            "ensStack_model\n",
            "rmse_raw 0.008814473 rmse_pct 0.030106071 rmse_level 1.4552091\n",
            "[20.86893296981282]\n",
            "[22.508606829490827]\n",
            "[22.59623541977735]\n",
            "[21.09437440681814]\n",
            "[23.13381031043865]\n"
          ],
          "name": "stdout"
        }
      ]
    },
    {
      "cell_type": "code",
      "metadata": {
        "id": "ISeabJFARb8Q",
        "colab": {
          "base_uri": "https://localhost:8080/",
          "height": 281
        },
        "outputId": "6726425c-dc1a-4d2f-d10c-6f520fa27029"
      },
      "source": [
        "dates = raw_test_data.iloc[window_size:, 0]\n",
        "target_level = raw_test_data.iloc[window_size:, 1]\n",
        "\n",
        "\n",
        "plt.plot(range(len(target_level)), target_level, label='target')\n",
        "plt.plot(range(len(preds_level_ens)), preds_level_ens, label='ensemble') \n",
        "plt.plot(range(len(preds_level_baseline)), preds_level_baseline, label='baseline')\n",
        "plt.legend()\n",
        "plt.title('Results')\n",
        "plt.show()\n"
      ],
      "execution_count": 64,
      "outputs": [
        {
          "output_type": "display_data",
          "data": {
            "image/png": "[encoded data removed]",
            "text/plain": [
              "<Figure size 432x288 with 1 Axes>"
            ]
          },
          "metadata": {
            "tags": [],
            "needs_background": "light"
          }
        }
      ]
    },
    {
      "cell_type": "markdown",
      "metadata": {
        "id": "14qzgvkTco0j"
      },
      "source": [
        "Zoom-in plots"
      ]
    },
    {
      "cell_type": "code",
      "metadata": {
        "id": "_78LhY9wI-zr",
        "colab": {
          "base_uri": "https://localhost:8080/",
          "height": 265
        },
        "outputId": "35b5a6dd-b6a1-4627-fd77-8724f142b6b6"
      },
      "source": [
        "len_data = 10\n",
        "zoomed_dates = raw_test_data.iloc[window_size:window_size+len_data, 0]\n",
        "zoomed_target_level = raw_test_data.iloc[window_size:window_size+len_data, 1]\n",
        "zoomed_preds_level_ens = preds_level_ens[:len_data]\n",
        "zoomed_preds_level_baseline = preds_level_baseline[:len_data]\n",
        "\n",
        "plt.plot(zoomed_dates, zoomed_target_level, label='target')\n",
        "plt.plot(zoomed_dates, zoomed_preds_level_ens, label='prediction')\n",
        "plt.plot(zoomed_dates, zoomed_preds_level_baseline, label='baseline')\n",
        "plt.legend()\n",
        "\n",
        "plt.show()"
      ],
      "execution_count": 65,
      "outputs": [
        {
          "output_type": "display_data",
          "data": {
            "image/png": "[encoded data removed]",
            "text/plain": [
              "<Figure size 432x288 with 1 Axes>"
            ]
          },
          "metadata": {
            "tags": [],
            "needs_background": "light"
          }
        }
      ]
    },
    {
      "cell_type": "markdown",
      "metadata": {
        "id": "GPxWwcz6PsSp"
      },
      "source": [
        "# Future work to improve the result: \n",
        "\n",
        "1.   Use cross-validation (time series) to determine hyperparameters, such as window_size, feature dimensions, number of layers, neurons in the neural networks.\n",
        "2.   Add more learned models to the ensemble model, such as support vector regressor, xgboost, random forest, etc. \n",
        "\n"
      ]
    },
    {
      "cell_type": "markdown",
      "metadata": {
        "id": "5oqu5IHgPscH"
      },
      "source": [
        "# Online version of the model\n",
        "In the current ensemble model, the weights of each model are also trained offline. \n",
        "\n",
        "Suppose we have $n$ trained (offline) models (experts). One approach to make it online:\n",
        "\n",
        "We can formulate the online learning problem as a multi-armed bandit problem: at each time step, we pick an individual model (according to some learned distribution) and observe the cost (between prediction and the actual level); there are several well-known algorithms to achieve this, such as $\\epsilon$-greedy, Upper Confidence Bounds (UCB), and Bayesian variants of UCBs. \n",
        "\n",
        "There are also online algorithms that can compute weighted average of $n$ experts, see the reference below. \n",
        "\n",
        "Reference: \n",
        "Cesa-Bianchi, Nicolo, and Gábor Lugosi. Prediction, Learning, and Games. Cambridge university press, 2006.\n",
        "\n",
        "\n",
        "\n"
      ]
    },
    {
      "cell_type": "code",
      "metadata": {
        "id": "IhaN8Med8Uf-"
      },
      "source": [
        ""
      ],
      "execution_count": 65,
      "outputs": []
    }
  ]
}