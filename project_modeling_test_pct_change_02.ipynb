{
  "nbformat": 4,
  "nbformat_minor": 0,
  "metadata": {
    "accelerator": "GPU",
    "colab": {
      "name": "project_modeling_test_pct_change.ipynb",
      "provenance": [],
      "collapsed_sections": []
    },
    "kernelspec": {
      "display_name": "Python 3",
      "language": "python",
      "name": "python3"
    },
    "language_info": {
      "codemirror_mode": {
        "name": "ipython",
        "version": 3
      },
      "file_extension": ".py",
      "mimetype": "text/x-python",
      "name": "python",
      "nbconvert_exporter": "python",
      "pygments_lexer": "ipython3",
      "version": "3.8.5"
    }
  },
  "cells": [
    {
      "cell_type": "code",
      "metadata": {
        "colab": {
          "base_uri": "https://localhost:8080/"
        },
        "id": "4KKRBHQ3I-ym",
        "outputId": "2462d690-0863-4d4f-9839-59faed8869dd"
      },
      "source": [
        "!python --version"
      ],
      "execution_count": 1,
      "outputs": [
        {
          "output_type": "stream",
          "text": [
            "Python 3.6.9\n"
          ],
          "name": "stdout"
        }
      ]
    },
    {
      "cell_type": "code",
      "metadata": {
        "id": "AB_y1LAPI-y2"
      },
      "source": [
        "import pandas as pd\n",
        "pd.options.mode.chained_assignment = None  # default='warn'"
      ],
      "execution_count": 2,
      "outputs": []
    },
    {
      "cell_type": "code",
      "metadata": {
        "colab": {
          "base_uri": "https://localhost:8080/",
          "height": 35
        },
        "id": "lzz2cZgcI-y6",
        "outputId": "33faef19-8c11-431d-82fa-1c1b685d6379"
      },
      "source": [
        "pd.__version__"
      ],
      "execution_count": 3,
      "outputs": [
        {
          "output_type": "execute_result",
          "data": {
            "application/vnd.google.colaboratory.intrinsic+json": {
              "type": "string"
            },
            "text/plain": [
              "'1.1.5'"
            ]
          },
          "metadata": {
            "tags": []
          },
          "execution_count": 3
        }
      ]
    },
    {
      "cell_type": "code",
      "metadata": {
        "colab": {
          "base_uri": "https://localhost:8080/"
        },
        "id": "lrEOU_btJDW1",
        "outputId": "3001467d-89f0-473e-b809-7850ff520274"
      },
      "source": [
        "# Run this cell to connect to your Drive folder\n",
        "\n",
        "from google.colab import drive\n",
        "drive.mount('/content/gdrive')"
      ],
      "execution_count": 4,
      "outputs": [
        {
          "output_type": "stream",
          "text": [
            "Drive already mounted at /content/gdrive; to attempt to forcibly remount, call drive.mount(\"/content/gdrive\", force_remount=True).\n"
          ],
          "name": "stdout"
        }
      ]
    },
    {
      "cell_type": "code",
      "metadata": {
        "colab": {
          "base_uri": "https://localhost:8080/"
        },
        "id": "M1nYg0vyI-y7",
        "outputId": "889b0be9-74a5-4d63-90eb-107f4ab20621"
      },
      "source": [
        "import numpy as np\n",
        "from sklearn.model_selection import TimeSeriesSplit\n",
        "import matplotlib as mpl\n",
        "import matplotlib.pyplot as plt\n",
        "import tensorflow as tf\n",
        "tf.keras.backend.set_floatx('float64')\n",
        "from tensorflow.keras.preprocessing.sequence import TimeseriesGenerator\n",
        "from tensorflow.keras.layers import Conv1D, Input, Flatten, Dense, LSTM, Dropout\n",
        "from tensorflow.keras import Model\n",
        "\n",
        "from statsmodels.tsa.stattools import adfuller\n",
        "from sklearn.preprocessing import StandardScaler, MinMaxScaler\n"
      ],
      "execution_count": 5,
      "outputs": [
        {
          "output_type": "stream",
          "text": [
            "/usr/local/lib/python3.6/dist-packages/statsmodels/tools/_testing.py:19: FutureWarning: pandas.util.testing is deprecated. Use the functions in the public API at pandas.testing instead.\n",
            "  import pandas.util.testing as tm\n"
          ],
          "name": "stderr"
        }
      ]
    },
    {
      "cell_type": "code",
      "metadata": {
        "colab": {
          "base_uri": "https://localhost:8080/",
          "height": 35
        },
        "id": "8Gv4UKmQI-y9",
        "outputId": "afdec0eb-75b2-4daa-fa12-a9f10422663b"
      },
      "source": [
        "tf.__version__"
      ],
      "execution_count": 6,
      "outputs": [
        {
          "output_type": "execute_result",
          "data": {
            "application/vnd.google.colaboratory.intrinsic+json": {
              "type": "string"
            },
            "text/plain": [
              "'2.3.0'"
            ]
          },
          "metadata": {
            "tags": []
          },
          "execution_count": 6
        }
      ]
    },
    {
      "cell_type": "markdown",
      "metadata": {
        "id": "qwvjio6Rp2ml"
      },
      "source": [
        "Technical indicators: these indicators are widely-used for stock price data. "
      ]
    },
    {
      "cell_type": "code",
      "metadata": {
        "id": "Ss_InUNRp1jJ"
      },
      "source": [
        "## https://stackoverflow.com/questions/57006437/calculate-rsi-indicator-from-pandas-dataframe/57037866\n",
        "def RSI(df, n=14):\n",
        "  df = pd.DataFrame(df)\n",
        "  def rma(x, n, y0):\n",
        "      a = (n-1) / n\n",
        "      ak = a**np.arange(len(x)-1, -1, -1)\n",
        "      return np.append(y0, np.cumsum(ak * x) / ak / n + y0 * a**np.arange(1, len(x)+1))\n",
        "\n",
        "  df['change'] = df.iloc[:].diff()\n",
        "  df['gain'] = df['change'].mask(df.change < 0, 0.0)\n",
        "  df['loss'] = -df['change'].mask(df.change > 0, -0.0)\n",
        "  df.loc[n:,'avg_gain'] = rma( df.loc[n+1:,'gain'].values, n, df.loc[:n, 'gain'].mean())\n",
        "  df.loc[n:,'avg_loss'] = rma( df.loc[n+1:,'loss'].values, n, df.loc[:n, 'loss'].mean())\n",
        "  df['rs'] = df.avg_gain / df.avg_loss\n",
        "  df['rsi_14'] = 100 - (100 / (1 + df['rs']))\n",
        "  return df['rsi_14']\n",
        "\n",
        "def weighted_moving_average(df, n=30):\n",
        "  df = pd.DataFrame(df)\n",
        "  weights = np.arange(1, n+1)\n",
        "  res = df.iloc[:].rolling(n).apply(lambda x: np.dot(x, weights)/weights.sum(), raw=True)\n",
        "  return res\n",
        "\n",
        "## similar to Moving Average Convergence Divergence (MACD)\n",
        "def MACD(df, slow=60, fast=10):\n",
        "  df = pd.DataFrame(df)\n",
        "  exp1 = df.ewm(span=fast, adjust=False).mean()\n",
        "  exp2 = df.ewm(span=slow, adjust=False).mean()\n",
        "  macd = exp1-exp2\n",
        "  return macd"
      ],
      "execution_count": 7,
      "outputs": []
    },
    {
      "cell_type": "code",
      "metadata": {
        "id": "8nehk6kZI-y-"
      },
      "source": [
        "def create_features(data, name):\n",
        "    data = data[['datetime', 'level']]\n",
        "    data['pct_change_1m'] = data['level'].pct_change(periods=1)\n",
        "    \n",
        "    data['short_ma'] = data['level'].rolling(window=10).mean()\n",
        "    data['short_ma_pct_change_baseline'] = (data['short_ma']-data['level'])/data['level']\n",
        "    data['short_ma_pct_change_10m'] = data['short_ma'].pct_change(periods=10)\n",
        "    data['short_std'] = data['level'].rolling(window=10).std()\n",
        "    data['short_std_pct_change_10m'] = data['short_std'].pct_change(periods=10)\n",
        "\n",
        "    data['long_ma'] = data['level'].rolling(window=60).mean()\n",
        "    data['long_ma_pct_change_baseline'] = (data['long_ma']-data['level'])/data['level']\n",
        "    data['long_ma_pct_change_60m'] = data['long_ma'].pct_change(periods=60)\n",
        "    data['long_std'] = data['level'].rolling(window=60).std()\n",
        "    data['long_std_pct_change_60m'] = data['long_std'].pct_change(periods=60)\n",
        "\n",
        "    data['short_ewm'] = data['level'].ewm(span=10, adjust=False).mean()\n",
        "    data['short_ewm_pct_change_baseline'] = (data['short_ewm']-data['level'])/data['level']\n",
        "\n",
        "    data['long_ewm'] = data['level'].ewm(span=60, adjust=False).mean()\n",
        "    data['long_ewm_pct_change_baseline'] = (data['long_ewm']-data['level'])/data['level']\n",
        "\n",
        "    ## technical indicators\n",
        "    data['rsi'] = RSI(data['level'], n=30)\n",
        "    data['wma'] = weighted_moving_average(data['level'], n=30)\n",
        "    data['wma_pct_change'] = data['wma'].pct_change(periods=1)\n",
        "    data['macd'] = MACD(data['level'], slow=60, fast=10)\n",
        "\n",
        "    # data = data.drop(['level', 'short_ma', 'long_ma', 'short_std', 'long_std', 'short_ewm', 'long_ewm'], axis=1)\n",
        "    # data = data.drop(['level', 'short_ma', 'long_ma', 'short_std', 'long_std'], axis=1)\n",
        "\n",
        "    rename_mapper = {col: name+'_'+col for col in data.columns[1:]}\n",
        "    data = data.rename(columns=rename_mapper)\n",
        "    return data"
      ],
      "execution_count": 8,
      "outputs": []
    },
    {
      "cell_type": "code",
      "metadata": {
        "id": "11iG1ltsI-y-"
      },
      "source": [
        "def create_dataset(data, window_size=5, batch_size=32, shuffle=False):\n",
        "    data = data.dropna()\n",
        "    data = data.reset_index()\n",
        "    data = data.drop(['index', 'datetime'], axis=1)\n",
        "    # target = np.concatenate((np.zeros(window_size), data['sym_pct_change_1m'][window_size:]))\n",
        "    target =  data['sym_pct_change_1m']\n",
        "    x = np.array(data)\n",
        "    \n",
        "    ts_dataset = TimeseriesGenerator(x, target, \n",
        "                                     length=window_size, \n",
        "                                     stride=1,\n",
        "                                     batch_size=batch_size, \n",
        "                                     shuffle=shuffle)\n",
        "    \n",
        "    return ts_dataset\n",
        "    "
      ],
      "execution_count": 9,
      "outputs": []
    },
    {
      "cell_type": "code",
      "metadata": {
        "id": "V9zjjioZI-y_"
      },
      "source": [
        "def train_val_test_split(data, window_size=5, batch_size=32, train_pct=0.7, val_pct=0.2, shuffle=False):\n",
        "    data = data.dropna()\n",
        "    n = data.shape[0]\n",
        "    n_train = int(n*train_pct)\n",
        "    n_validation = int(n*val_pct)\n",
        "    n_test = n-n_train-n_validation\n",
        "    print(\"number of total data samples\", n, \"n_train\", n_train, \"n_validation\", n_validation, \"n_test\", n_test)\n",
        "    train_data = data.iloc[:n_train].copy()\n",
        "    validation_data = data.iloc[n_train-window_size:n_train+n_validation].copy()\n",
        "    test_data = data.iloc[n_train+n_validation-window_size:].copy()\n",
        "    \n",
        "    ## feature scaling\n",
        "    scaler = StandardScaler()\n",
        "    # scaler = MinMaxScaler()\n",
        "    train_data.iloc[:, 1:] = scaler.fit_transform(train_data.iloc[:, 1:])\n",
        "    validation_data.iloc[:, 1:] = scaler.transform(validation_data.iloc[:, 1:])\n",
        "    test_data.iloc[:, 1:] = scaler.transform(test_data.iloc[:, 1:])\n",
        "\n",
        "    ## here, we can temporily use (batch_size=1, shuffle=False) to verify that the dataset object is correct\n",
        "    train_dataset = create_dataset(train_data, window_size=window_size, \n",
        "                                   batch_size=batch_size, shuffle=shuffle)\n",
        "    print(\"train number of batches\", len(train_dataset))\n",
        "    validation_dataset = create_dataset(validation_data, window_size=window_size, \n",
        "                                        batch_size=batch_size, shuffle=shuffle)\n",
        "    print(\"validation number of batches\", len(validation_dataset))\n",
        "    test_dataset = create_dataset(test_data, window_size=window_size, \n",
        "                                  batch_size=batch_size, shuffle=shuffle)\n",
        "    print(\"test number of batches\", len(test_dataset))\n",
        "    \n",
        "#     i = 0\n",
        "#     for x, y in train_dataset:\n",
        "#         assert np.array_equal(x[0], np.array(data.iloc[i:i+window_size, 1:]))\n",
        "#         assert np.array_equal(y[0], np.array(data.iloc[i+window_size, 1]))\n",
        "#         i += 1\n",
        "\n",
        "#     for x, y in validation_dataset:\n",
        "#         assert np.array_equal(x[0], np.array(data.iloc[i:i+window_size, 1:]))\n",
        "#         assert np.array_equal(y[0], np.array(data.iloc[i+window_size, 1]))\n",
        "#         i += 1\n",
        "    \n",
        "#     for x, y in test_dataset:\n",
        "#         assert np.array_equal(x[0], np.array(data.iloc[i:i+window_size, 1:]))\n",
        "#         assert np.array_equal(y[0], np.array(data.iloc[i+window_size, 1]))\n",
        "#         i += 1\n",
        "        \n",
        "    return train_dataset, validation_dataset, test_dataset, test_data, scaler"
      ],
      "execution_count": 10,
      "outputs": []
    },
    {
      "cell_type": "markdown",
      "metadata": {
        "id": "h-QqoC1FMeKF"
      },
      "source": [
        "Baseline model: use the value from last trade"
      ]
    },
    {
      "cell_type": "code",
      "metadata": {
        "id": "8XTxQyorMU4d"
      },
      "source": [
        "class Baseline_last_trade(Model):\n",
        "    def __init__(self, name=None):\n",
        "        super().__init__()\n",
        "        self.model_name = 'Baseline_last_trade'\n",
        "\n",
        "    def call(self, inputs):\n",
        "        return tf.zeros_like(inputs[:, -1:, 0])"
      ],
      "execution_count": 11,
      "outputs": []
    },
    {
      "cell_type": "markdown",
      "metadata": {
        "id": "rUUWpIR2I-zc"
      },
      "source": [
        "Baseline model class: use moving average from previous trades"
      ]
    },
    {
      "cell_type": "code",
      "metadata": {
        "id": "TuWV25qEI-zd"
      },
      "source": [
        "class Baseline_ma(Model):\n",
        "    def __init__(self, ma_index=None):\n",
        "        super().__init__()\n",
        "        if ma_index is None:\n",
        "            raise ValueError('Index of moving average is needed for this baseline model')\n",
        "        self.ma_index = ma_index\n",
        "\n",
        "    def call(self, inputs):\n",
        "        result = inputs[:, -1:, self.ma_index]\n",
        "        return result"
      ],
      "execution_count": 12,
      "outputs": []
    },
    {
      "cell_type": "markdown",
      "metadata": {
        "id": "gJ8wN0viN-aY"
      },
      "source": [
        "Conv1D model"
      ]
    },
    {
      "cell_type": "code",
      "metadata": {
        "id": "XxHw3heSMXgh"
      },
      "source": [
        "def get_conv1d_model(input_shape, conv_width=None, filter_size=None):\n",
        "    if conv_width is None:\n",
        "        raise ValueError(\"conv_width is needed as a list of integers\")\n",
        "    if filter_size is None:\n",
        "        raise ValueError(\"filter_size is needed as a list of integers\")\n",
        "    if len(conv_width) != len(filter_size):\n",
        "        raise ValueError(\"len(conv_width) != filter_size\")\n",
        "    \n",
        "    input_ = Input(input_shape)\n",
        "    x = input_\n",
        "    for width, filters in zip(conv_width, filter_size):\n",
        "        x = Conv1D(filters=filters, kernel_size=(width,), activation='relu')(x)\n",
        "        x = Dropout(0.5)(x)\n",
        "\n",
        "    x = Flatten()(x)\n",
        "#     x = Dense(64)(x)\n",
        "    # x = Dense(16)(x)\n",
        "    output_ = Dense(1)(x)\n",
        "    model = Model(inputs=input_, outputs=output_)\n",
        "    model.compile(loss=tf.losses.Huber(delta=0.01),\n",
        "                optimizer=tf.optimizers.Adam(learning_rate=0.001),\n",
        "                metrics=[tf.metrics.MeanAbsoluteError(), tf.keras.metrics.RootMeanSquaredError()])\n",
        "    return model"
      ],
      "execution_count": 13,
      "outputs": []
    },
    {
      "cell_type": "markdown",
      "metadata": {
        "id": "S1nuklCyOJT7"
      },
      "source": [
        "LSTM model"
      ]
    },
    {
      "cell_type": "code",
      "metadata": {
        "id": "wLsmKpE-MXuf"
      },
      "source": [
        "def get_LSTM_model(input_shape, units_list=None):\n",
        "    if units_list is None:\n",
        "        raise ValueError(\"units is needed as a list of integers\")\n",
        "    \n",
        "    input_ = Input(input_shape)\n",
        "    x = input_\n",
        "    for units in units_list:\n",
        "        x = LSTM(units, return_sequences=True, activation='tanh')(x)\n",
        "        x = Dropout(0.5)(x)\n",
        "        \n",
        "    x = LSTM(units_list[-1], activation='tanh')(x)\n",
        "    x = Dense(units_list[-1])(x)\n",
        "    output_ = Dense(1)(x)\n",
        "    model = Model(inputs=input_, outputs=output_)\n",
        "    model.compile(loss=tf.losses.Huber(),\n",
        "                optimizer=tf.optimizers.Adam(learning_rate=0.1),\n",
        "                metrics=[tf.metrics.MeanAbsoluteError(), tf.keras.metrics.RootMeanSquaredError()])\n",
        "    return model"
      ],
      "execution_count": 14,
      "outputs": []
    },
    {
      "cell_type": "markdown",
      "metadata": {
        "id": "H1rSXgVxmyiH"
      },
      "source": [
        "Linear regression model: to avoid overfitting, the window_size is reduced"
      ]
    },
    {
      "cell_type": "code",
      "metadata": {
        "id": "xihOov1vmxvk"
      },
      "source": [
        "def get_lr_model(input_shape, lr_window_size=5, units_list=None):\n",
        "    input_ = Input(input_shape)\n",
        "    x = input_[:, -lr_window_size:, :]\n",
        "    x = Flatten()(x)\n",
        "    output_ = Dense(1, kernel_regularizer='l1', bias_regularizer='l1')(x)\n",
        "    model = Model(inputs=input_, outputs=output_)\n",
        "    model.compile(loss=tf.losses.Huber(),\n",
        "                optimizer=tf.optimizers.Adam(learning_rate=0.01),\n",
        "                metrics=[tf.metrics.MeanAbsoluteError(), tf.keras.metrics.RootMeanSquaredError()])\n",
        "    return model"
      ],
      "execution_count": 15,
      "outputs": []
    },
    {
      "cell_type": "markdown",
      "metadata": {
        "id": "EFPEatxPqqSh"
      },
      "source": [
        "Ensemble model #1: simple average"
      ]
    },
    {
      "cell_type": "code",
      "metadata": {
        "id": "hGblgk5gqqeT"
      },
      "source": [
        "def get_myMajority_model(input_shape, models=None):\n",
        "    if models is None:\n",
        "        raise ValueError('models are needed for this ensemble model')\n",
        "    for model in models:\n",
        "      model.trainable = False\n",
        "    input_ = Input(input_shape)\n",
        "    outputs_ = [model(input_) for model in models]\n",
        "    outputs_ = tf.stack(outputs_, axis=1)\n",
        "    outputs_ = Flatten()(outputs_)\n",
        "    outputs_ = tf.math.reduce_mean(outputs_, axis=1, keepdims=True)\n",
        "    model = Model(inputs=input_, outputs=outputs_)\n",
        "    model.compile(loss=tf.losses.Huber(),\n",
        "                optimizer=tf.optimizers.Adam(learning_rate=0.001),\n",
        "                metrics=[tf.metrics.MeanAbsoluteError(), tf.keras.metrics.RootMeanSquaredError()])\n",
        "    return model"
      ],
      "execution_count": 16,
      "outputs": []
    },
    {
      "cell_type": "markdown",
      "metadata": {
        "id": "yfYZc-QQqwdJ"
      },
      "source": [
        "Ensemble model #2: learned weighted average"
      ]
    },
    {
      "cell_type": "code",
      "metadata": {
        "id": "37AZfEh5qwu6"
      },
      "source": [
        "def get_myEnsStack_model(input_shape, models=None):\n",
        "    if models is None:\n",
        "        raise ValueError('models are needed for this ensemble model')\n",
        "    for model in models:\n",
        "      model.trainable = False\n",
        "    input_ = Input(input_shape)\n",
        "    outputs_ = [model(input_) for model in models]\n",
        "    outputs_ = tf.stack(outputs_, axis=1)\n",
        "    outputs_ = Flatten()(outputs_)\n",
        "    outputs_ = Dense(1, use_bias=False)(outputs_)\n",
        "    model = Model(inputs=input_, outputs=outputs_)\n",
        "    model.compile(loss=tf.losses.Huber(),\n",
        "                optimizer=tf.optimizers.Adam(learning_rate=0.001),\n",
        "                metrics=[tf.metrics.MeanAbsoluteError(), tf.keras.metrics.RootMeanSquaredError()])\n",
        "    return model"
      ],
      "execution_count": 17,
      "outputs": []
    },
    {
      "cell_type": "markdown",
      "metadata": {
        "id": "XE6k5HAvgLG4"
      },
      "source": [
        "The following function helps compute the actual root-mean-square error of our predicted level. Also, the predictions are made one by one to simulate the real-time prediction."
      ]
    },
    {
      "cell_type": "code",
      "metadata": {
        "id": "bD4CIN3Zbn-i"
      },
      "source": [
        "def model_eval(model, data, scaler):\n",
        "    i = 0\n",
        "    RMSE_raw = []\n",
        "    RMSE_pct = []\n",
        "    RMSE_level = []\n",
        "\n",
        "    preds_raw = []\n",
        "    preds_pct = []\n",
        "    preds_level = []\n",
        "    for i in range(len(data)-window_size):\n",
        "      input_ = data.iloc[i:i+window_size, 1:]\n",
        "      input_ = scaler.transform(input_)\n",
        "      # print(input_[0])\n",
        "      input_ = tf.expand_dims(input_, axis=0)\n",
        "\n",
        "      last_row = data.iloc[i+window_size-1, 1:]\n",
        "      last_price = last_row[0]\n",
        "\n",
        "      target_row = np.array(data.iloc[i+window_size, 1:])\n",
        "      target_row = np.expand_dims(target_row, axis=0)\n",
        "      transformed_target_row = scaler.transform(target_row)\n",
        "      transformed_target = transformed_target_row[:, 1]\n",
        "      target_level = target_row[:, 0]\n",
        "      target_pct = target_row[:, 1]\n",
        "      \n",
        "      transformed_pred_pct = model(input_).numpy()[0, 0]\n",
        "      transformed_pred_row = np.zeros_like(target_row)\n",
        "      transformed_pred_row[:, 1] = transformed_pred_pct\n",
        "      pred_row = scaler.inverse_transform(transformed_pred_row)\n",
        "\n",
        "      if hasattr(model, 'model_name') and model.model_name == 'Baseline_last_trade':\n",
        "        pred_pct = np.array([0.0])\n",
        "      else:\n",
        "        pred_pct = pred_row[:, 1]\n",
        "\n",
        "      pred_level = last_price * (1+pred_pct)\n",
        "      preds_pct.append(pred_pct)\n",
        "      preds_level.append(pred_level)\n",
        "\n",
        "      RMSE_raw.append(tf.math.squared_difference(transformed_target.astype('float32'), transformed_pred_pct.astype('float32')))\n",
        "      RMSE_pct.append(tf.math.squared_difference(target_pct.astype('float32'), pred_pct.astype('float32')))\n",
        "      RMSE_level.append(tf.math.squared_difference(target_level.astype('float32'), pred_level.astype('float32')))\n",
        "\n",
        "      rmse_raw = tf.math.sqrt(tf.math.reduce_mean(RMSE_raw)).numpy()\n",
        "      rmse_pct = tf.math.sqrt(tf.math.reduce_mean(RMSE_pct)).numpy()\n",
        "      rmse_level = tf.math.sqrt(tf.math.reduce_mean(RMSE_level)).numpy()\n",
        "      # break\n",
        "      \n",
        "    return rmse_raw, rmse_pct, rmse_level, preds_pct, preds_level"
      ],
      "execution_count": 18,
      "outputs": []
    },
    {
      "cell_type": "markdown",
      "metadata": {
        "id": "3fwcdejkn-Ou"
      },
      "source": [
        "# Load data"
      ]
    },
    {
      "cell_type": "code",
      "metadata": {
        "colab": {
          "base_uri": "https://localhost:8080/",
          "height": 258
        },
        "id": "hjcU6qq6boHi",
        "outputId": "05a32d54-2de7-46a5-e893-811fce8293ec"
      },
      "source": [
        "file_path = \"/content/gdrive/My Drive/Colab Notebooks/project_modeling_test/bond_spreads.csv\"\n",
        "data = pd.read_csv(file_path, index_col=0)\n",
        "data['datetime'] = pd.to_datetime(data['datetime'])\n",
        "data.sort_values(by='datetime')\n",
        "data.head()"
      ],
      "execution_count": 19,
      "outputs": [
        {
          "output_type": "stream",
          "text": [
            "/usr/local/lib/python3.6/dist-packages/numpy/lib/arraysetops.py:569: FutureWarning: elementwise comparison failed; returning scalar instead, but in the future will perform elementwise comparison\n",
            "  mask |= (ar1 == a)\n"
          ],
          "name": "stderr"
        },
        {
          "output_type": "execute_result",
          "data": {
            "text/html": [
              "<div>\n",
              "<style scoped>\n",
              "    .dataframe tbody tr th:only-of-type {\n",
              "        vertical-align: middle;\n",
              "    }\n",
              "\n",
              "    .dataframe tbody tr th {\n",
              "        vertical-align: top;\n",
              "    }\n",
              "\n",
              "    .dataframe thead th {\n",
              "        text-align: right;\n",
              "    }\n",
              "</style>\n",
              "<table border=\"1\" class=\"dataframe\">\n",
              "  <thead>\n",
              "    <tr style=\"text-align: right;\">\n",
              "      <th></th>\n",
              "      <th>datetime</th>\n",
              "      <th>sym</th>\n",
              "      <th>level</th>\n",
              "    </tr>\n",
              "  </thead>\n",
              "  <tbody>\n",
              "    <tr>\n",
              "      <th>0</th>\n",
              "      <td>2020-11-01 08:00:00</td>\n",
              "      <td>US0ATXMR1KXH</td>\n",
              "      <td>135.484079</td>\n",
              "    </tr>\n",
              "    <tr>\n",
              "      <th>1</th>\n",
              "      <td>2020-11-01 08:00:00</td>\n",
              "      <td>US1Q9L9LWF70</td>\n",
              "      <td>134.431820</td>\n",
              "    </tr>\n",
              "    <tr>\n",
              "      <th>2</th>\n",
              "      <td>2020-11-01 08:00:00</td>\n",
              "      <td>US6KJNEMVUB3</td>\n",
              "      <td>173.589274</td>\n",
              "    </tr>\n",
              "    <tr>\n",
              "      <th>3</th>\n",
              "      <td>2020-11-01 08:00:00</td>\n",
              "      <td>USVB60AAKLSG</td>\n",
              "      <td>168.731458</td>\n",
              "    </tr>\n",
              "    <tr>\n",
              "      <th>4</th>\n",
              "      <td>2020-11-01 08:00:00</td>\n",
              "      <td>US0GLYO7VCOH</td>\n",
              "      <td>81.383554</td>\n",
              "    </tr>\n",
              "  </tbody>\n",
              "</table>\n",
              "</div>"
            ],
            "text/plain": [
              "             datetime           sym       level\n",
              "0 2020-11-01 08:00:00  US0ATXMR1KXH  135.484079\n",
              "1 2020-11-01 08:00:00  US1Q9L9LWF70  134.431820\n",
              "2 2020-11-01 08:00:00  US6KJNEMVUB3  173.589274\n",
              "3 2020-11-01 08:00:00  USVB60AAKLSG  168.731458\n",
              "4 2020-11-01 08:00:00  US0GLYO7VCOH   81.383554"
            ]
          },
          "metadata": {
            "tags": []
          },
          "execution_count": 19
        }
      ]
    },
    {
      "cell_type": "code",
      "metadata": {
        "colab": {
          "base_uri": "https://localhost:8080/"
        },
        "id": "LzIXVp85boOC",
        "outputId": "ef27b19c-90e9-49ab-fa0d-cf9308c08d0f"
      },
      "source": [
        "df_sym_to_sector = pd.read_csv('/content/gdrive/My Drive/Colab Notebooks/project_modeling_test/sym_to_sector.csv')\n",
        "# df_sym_to_sector.head()\n",
        "df_sym_to_sector['sector'].value_counts()"
      ],
      "execution_count": 20,
      "outputs": [
        {
          "output_type": "execute_result",
          "data": {
            "text/plain": [
              "CONSUMER_CYCLICALS    512\n",
              "INDUSTRIALS           330\n",
              "ENERGY                311\n",
              "TECHNOLOGY            292\n",
              "Name: sector, dtype: int64"
            ]
          },
          "metadata": {
            "tags": []
          },
          "execution_count": 20
        }
      ]
    },
    {
      "cell_type": "code",
      "metadata": {
        "colab": {
          "base_uri": "https://localhost:8080/"
        },
        "id": "nhMZkASUjkVS",
        "outputId": "79e841d8-baaf-44b7-a1f7-fd3af9bf89c6"
      },
      "source": [
        "df_sym_to_issuer = pd.read_csv('/content/gdrive/My Drive/Colab Notebooks/project_modeling_test/sym_to_issuer.csv')\n",
        "df_sym_to_issuer['issuer'].value_counts()"
      ],
      "execution_count": 21,
      "outputs": [
        {
          "output_type": "execute_result",
          "data": {
            "text/plain": [
              "HGJU    94\n",
              "ECH     94\n",
              "XOY     93\n",
              "X       87\n",
              "TA      86\n",
              "F       85\n",
              "J       73\n",
              "EEQ     60\n",
              "ZBPY    55\n",
              "T       53\n",
              "FV      50\n",
              "D       42\n",
              "OERT    41\n",
              "RY      40\n",
              "NL      40\n",
              "U       39\n",
              "YVPO    39\n",
              "MH      38\n",
              "Q       36\n",
              "LFU     31\n",
              "XPHX    30\n",
              "XG      29\n",
              "LGK     29\n",
              "XZET    26\n",
              "EJMR    23\n",
              "TOT     20\n",
              "C       18\n",
              "VYIV    15\n",
              "NMYQ    13\n",
              "RYDM    13\n",
              "B       10\n",
              "AH       8\n",
              "I        8\n",
              "SPW      7\n",
              "XRC      5\n",
              "KNRI     4\n",
              "WNR      4\n",
              "M        2\n",
              "GV       2\n",
              "OFR      1\n",
              "GK       1\n",
              "TT       1\n",
              "Name: issuer, dtype: int64"
            ]
          },
          "metadata": {
            "tags": []
          },
          "execution_count": 21
        }
      ]
    },
    {
      "cell_type": "code",
      "metadata": {
        "colab": {
          "base_uri": "https://localhost:8080/",
          "height": 204
        },
        "id": "UgYNMdiXjcSv",
        "outputId": "0dcd4fae-43d6-4369-f8a4-0f57e72d06be"
      },
      "source": [
        "raw_data = data.merge(df_sym_to_sector, on='sym')\n",
        "raw_data = raw_data.merge(df_sym_to_issuer, on='sym')\n",
        "raw_data.head()"
      ],
      "execution_count": 22,
      "outputs": [
        {
          "output_type": "execute_result",
          "data": {
            "text/html": [
              "<div>\n",
              "<style scoped>\n",
              "    .dataframe tbody tr th:only-of-type {\n",
              "        vertical-align: middle;\n",
              "    }\n",
              "\n",
              "    .dataframe tbody tr th {\n",
              "        vertical-align: top;\n",
              "    }\n",
              "\n",
              "    .dataframe thead th {\n",
              "        text-align: right;\n",
              "    }\n",
              "</style>\n",
              "<table border=\"1\" class=\"dataframe\">\n",
              "  <thead>\n",
              "    <tr style=\"text-align: right;\">\n",
              "      <th></th>\n",
              "      <th>datetime</th>\n",
              "      <th>sym</th>\n",
              "      <th>level</th>\n",
              "      <th>sector</th>\n",
              "      <th>issuer</th>\n",
              "    </tr>\n",
              "  </thead>\n",
              "  <tbody>\n",
              "    <tr>\n",
              "      <th>0</th>\n",
              "      <td>2020-11-01 08:00:00</td>\n",
              "      <td>US0ATXMR1KXH</td>\n",
              "      <td>135.484079</td>\n",
              "      <td>CONSUMER_CYCLICALS</td>\n",
              "      <td>XOY</td>\n",
              "    </tr>\n",
              "    <tr>\n",
              "      <th>1</th>\n",
              "      <td>2020-11-01 08:01:00</td>\n",
              "      <td>US0ATXMR1KXH</td>\n",
              "      <td>133.008120</td>\n",
              "      <td>CONSUMER_CYCLICALS</td>\n",
              "      <td>XOY</td>\n",
              "    </tr>\n",
              "    <tr>\n",
              "      <th>2</th>\n",
              "      <td>2020-11-01 08:02:00</td>\n",
              "      <td>US0ATXMR1KXH</td>\n",
              "      <td>133.269386</td>\n",
              "      <td>CONSUMER_CYCLICALS</td>\n",
              "      <td>XOY</td>\n",
              "    </tr>\n",
              "    <tr>\n",
              "      <th>3</th>\n",
              "      <td>2020-11-01 08:03:00</td>\n",
              "      <td>US0ATXMR1KXH</td>\n",
              "      <td>132.534590</td>\n",
              "      <td>CONSUMER_CYCLICALS</td>\n",
              "      <td>XOY</td>\n",
              "    </tr>\n",
              "    <tr>\n",
              "      <th>4</th>\n",
              "      <td>2020-11-01 08:04:00</td>\n",
              "      <td>US0ATXMR1KXH</td>\n",
              "      <td>134.908804</td>\n",
              "      <td>CONSUMER_CYCLICALS</td>\n",
              "      <td>XOY</td>\n",
              "    </tr>\n",
              "  </tbody>\n",
              "</table>\n",
              "</div>"
            ],
            "text/plain": [
              "             datetime           sym       level              sector issuer\n",
              "0 2020-11-01 08:00:00  US0ATXMR1KXH  135.484079  CONSUMER_CYCLICALS    XOY\n",
              "1 2020-11-01 08:01:00  US0ATXMR1KXH  133.008120  CONSUMER_CYCLICALS    XOY\n",
              "2 2020-11-01 08:02:00  US0ATXMR1KXH  133.269386  CONSUMER_CYCLICALS    XOY\n",
              "3 2020-11-01 08:03:00  US0ATXMR1KXH  132.534590  CONSUMER_CYCLICALS    XOY\n",
              "4 2020-11-01 08:04:00  US0ATXMR1KXH  134.908804  CONSUMER_CYCLICALS    XOY"
            ]
          },
          "metadata": {
            "tags": []
          },
          "execution_count": 22
        }
      ]
    },
    {
      "cell_type": "code",
      "metadata": {
        "colab": {
          "base_uri": "https://localhost:8080/"
        },
        "id": "pD3oQtDjzAE-",
        "outputId": "13d57df9-42ae-4f9f-cbd5-0905fe3bd7dd"
      },
      "source": [
        "syms_all = raw_data['sym'].unique()\n",
        "syms_all"
      ],
      "execution_count": 23,
      "outputs": [
        {
          "output_type": "execute_result",
          "data": {
            "text/plain": [
              "array(['US0ATXMR1KXH', 'US1Q9L9LWF70', 'US6KJNEMVUB3', ...,\n",
              "       'USL3W14NOS6O', 'USOYXI6CIQ2M', 'USS7E04EJOAJ'], dtype=object)"
            ]
          },
          "metadata": {
            "tags": []
          },
          "execution_count": 23
        }
      ]
    },
    {
      "cell_type": "markdown",
      "metadata": {
        "id": "r-HfJFb6lGJT"
      },
      "source": [
        "Select a target sym"
      ]
    },
    {
      "cell_type": "code",
      "metadata": {
        "colab": {
          "base_uri": "https://localhost:8080/",
          "height": 204
        },
        "id": "gS2aJtvHlGlg",
        "outputId": "781d79f4-e228-4904-e713-7046bceaffd8"
      },
      "source": [
        "# sym = 'USV9CQ7RNR6Y'\n",
        "sym = np.random.choice(syms_all, 1)[0]\n",
        "sym_data = raw_data[raw_data['sym']==sym].reset_index().drop('index', axis=1)\n",
        "sym_data.head()"
      ],
      "execution_count": 24,
      "outputs": [
        {
          "output_type": "execute_result",
          "data": {
            "text/html": [
              "<div>\n",
              "<style scoped>\n",
              "    .dataframe tbody tr th:only-of-type {\n",
              "        vertical-align: middle;\n",
              "    }\n",
              "\n",
              "    .dataframe tbody tr th {\n",
              "        vertical-align: top;\n",
              "    }\n",
              "\n",
              "    .dataframe thead th {\n",
              "        text-align: right;\n",
              "    }\n",
              "</style>\n",
              "<table border=\"1\" class=\"dataframe\">\n",
              "  <thead>\n",
              "    <tr style=\"text-align: right;\">\n",
              "      <th></th>\n",
              "      <th>datetime</th>\n",
              "      <th>sym</th>\n",
              "      <th>level</th>\n",
              "      <th>sector</th>\n",
              "      <th>issuer</th>\n",
              "    </tr>\n",
              "  </thead>\n",
              "  <tbody>\n",
              "    <tr>\n",
              "      <th>0</th>\n",
              "      <td>2020-11-01 08:00:00</td>\n",
              "      <td>USZ11Q1QZAPF</td>\n",
              "      <td>47.772859</td>\n",
              "      <td>CONSUMER_CYCLICALS</td>\n",
              "      <td>Q</td>\n",
              "    </tr>\n",
              "    <tr>\n",
              "      <th>1</th>\n",
              "      <td>2020-11-01 08:01:00</td>\n",
              "      <td>USZ11Q1QZAPF</td>\n",
              "      <td>46.261239</td>\n",
              "      <td>CONSUMER_CYCLICALS</td>\n",
              "      <td>Q</td>\n",
              "    </tr>\n",
              "    <tr>\n",
              "      <th>2</th>\n",
              "      <td>2020-11-01 08:04:00</td>\n",
              "      <td>USZ11Q1QZAPF</td>\n",
              "      <td>46.419552</td>\n",
              "      <td>CONSUMER_CYCLICALS</td>\n",
              "      <td>Q</td>\n",
              "    </tr>\n",
              "    <tr>\n",
              "      <th>3</th>\n",
              "      <td>2020-11-01 08:05:00</td>\n",
              "      <td>USZ11Q1QZAPF</td>\n",
              "      <td>46.714640</td>\n",
              "      <td>CONSUMER_CYCLICALS</td>\n",
              "      <td>Q</td>\n",
              "    </tr>\n",
              "    <tr>\n",
              "      <th>4</th>\n",
              "      <td>2020-11-01 08:07:00</td>\n",
              "      <td>USZ11Q1QZAPF</td>\n",
              "      <td>46.871978</td>\n",
              "      <td>CONSUMER_CYCLICALS</td>\n",
              "      <td>Q</td>\n",
              "    </tr>\n",
              "  </tbody>\n",
              "</table>\n",
              "</div>"
            ],
            "text/plain": [
              "             datetime           sym      level              sector issuer\n",
              "0 2020-11-01 08:00:00  USZ11Q1QZAPF  47.772859  CONSUMER_CYCLICALS      Q\n",
              "1 2020-11-01 08:01:00  USZ11Q1QZAPF  46.261239  CONSUMER_CYCLICALS      Q\n",
              "2 2020-11-01 08:04:00  USZ11Q1QZAPF  46.419552  CONSUMER_CYCLICALS      Q\n",
              "3 2020-11-01 08:05:00  USZ11Q1QZAPF  46.714640  CONSUMER_CYCLICALS      Q\n",
              "4 2020-11-01 08:07:00  USZ11Q1QZAPF  46.871978  CONSUMER_CYCLICALS      Q"
            ]
          },
          "metadata": {
            "tags": []
          },
          "execution_count": 24
        }
      ]
    },
    {
      "cell_type": "code",
      "metadata": {
        "colab": {
          "base_uri": "https://localhost:8080/",
          "height": 282
        },
        "id": "IpygI2KjydOF",
        "outputId": "652461c4-215c-4125-9644-62998f633ee3"
      },
      "source": [
        "sym_data.plot(y='level')"
      ],
      "execution_count": 25,
      "outputs": [
        {
          "output_type": "execute_result",
          "data": {
            "text/plain": [
              "<matplotlib.axes._subplots.AxesSubplot at 0x7fa87827bef0>"
            ]
          },
          "metadata": {
            "tags": []
          },
          "execution_count": 25
        },
        {
          "output_type": "display_data",
          "data": {
            "image/png": "[encoded data removed]",
            "text/plain": [
              "<Figure size 432x288 with 1 Axes>"
            ]
          },
          "metadata": {
            "tags": [],
            "needs_background": "light"
          }
        }
      ]
    },
    {
      "cell_type": "markdown",
      "metadata": {
        "id": "Yd7ZWuunmM2z"
      },
      "source": [
        "Get sector and issuer data of this bond\n",
        "\n",
        "1.   Compute the average price of the sector\n",
        "2.   Compute the average price of the issuer\n",
        "\n",
        "The intuition is: the bonds in the same sector or from the same issuer may provide some information for prediction of this bond. For example, the momentum of the aggregated price data can be informative to our model. \n",
        "\n"
      ]
    },
    {
      "cell_type": "code",
      "metadata": {
        "colab": {
          "base_uri": "https://localhost:8080/",
          "height": 204
        },
        "id": "WPg4kbw3jcaG",
        "outputId": "c021a0c1-1fd5-4f99-e1e7-97d16f65778b"
      },
      "source": [
        "sec = sym_data.loc[0, 'sector']\n",
        "sec_data = raw_data[raw_data['sector']==sec]\n",
        "sec_avg_price_data = sec_data.groupby(by='datetime').mean()\n",
        "sec_avg_price_data = sec_avg_price_data.reset_index()\n",
        "sec_avg_price_data.head()"
      ],
      "execution_count": 26,
      "outputs": [
        {
          "output_type": "execute_result",
          "data": {
            "text/html": [
              "<div>\n",
              "<style scoped>\n",
              "    .dataframe tbody tr th:only-of-type {\n",
              "        vertical-align: middle;\n",
              "    }\n",
              "\n",
              "    .dataframe tbody tr th {\n",
              "        vertical-align: top;\n",
              "    }\n",
              "\n",
              "    .dataframe thead th {\n",
              "        text-align: right;\n",
              "    }\n",
              "</style>\n",
              "<table border=\"1\" class=\"dataframe\">\n",
              "  <thead>\n",
              "    <tr style=\"text-align: right;\">\n",
              "      <th></th>\n",
              "      <th>datetime</th>\n",
              "      <th>level</th>\n",
              "    </tr>\n",
              "  </thead>\n",
              "  <tbody>\n",
              "    <tr>\n",
              "      <th>0</th>\n",
              "      <td>2020-11-01 08:00:00</td>\n",
              "      <td>116.654554</td>\n",
              "    </tr>\n",
              "    <tr>\n",
              "      <th>1</th>\n",
              "      <td>2020-11-01 08:01:00</td>\n",
              "      <td>112.979668</td>\n",
              "    </tr>\n",
              "    <tr>\n",
              "      <th>2</th>\n",
              "      <td>2020-11-01 08:02:00</td>\n",
              "      <td>114.197523</td>\n",
              "    </tr>\n",
              "    <tr>\n",
              "      <th>3</th>\n",
              "      <td>2020-11-01 08:03:00</td>\n",
              "      <td>114.443320</td>\n",
              "    </tr>\n",
              "    <tr>\n",
              "      <th>4</th>\n",
              "      <td>2020-11-01 08:04:00</td>\n",
              "      <td>115.276776</td>\n",
              "    </tr>\n",
              "  </tbody>\n",
              "</table>\n",
              "</div>"
            ],
            "text/plain": [
              "             datetime       level\n",
              "0 2020-11-01 08:00:00  116.654554\n",
              "1 2020-11-01 08:01:00  112.979668\n",
              "2 2020-11-01 08:02:00  114.197523\n",
              "3 2020-11-01 08:03:00  114.443320\n",
              "4 2020-11-01 08:04:00  115.276776"
            ]
          },
          "metadata": {
            "tags": []
          },
          "execution_count": 26
        }
      ]
    },
    {
      "cell_type": "code",
      "metadata": {
        "colab": {
          "base_uri": "https://localhost:8080/",
          "height": 204
        },
        "id": "mLZWY1B7ncl4",
        "outputId": "c7e224e7-e73e-4788-b12e-d27262a7de59"
      },
      "source": [
        "iss = sym_data.loc[0, 'issuer']\n",
        "iss_data = raw_data[raw_data['issuer']==iss]\n",
        "iss_avg_price_data = iss_data.groupby(by='datetime').mean()\n",
        "iss_avg_price_data = iss_avg_price_data.reset_index()\n",
        "iss_avg_price_data.head()"
      ],
      "execution_count": 27,
      "outputs": [
        {
          "output_type": "execute_result",
          "data": {
            "text/html": [
              "<div>\n",
              "<style scoped>\n",
              "    .dataframe tbody tr th:only-of-type {\n",
              "        vertical-align: middle;\n",
              "    }\n",
              "\n",
              "    .dataframe tbody tr th {\n",
              "        vertical-align: top;\n",
              "    }\n",
              "\n",
              "    .dataframe thead th {\n",
              "        text-align: right;\n",
              "    }\n",
              "</style>\n",
              "<table border=\"1\" class=\"dataframe\">\n",
              "  <thead>\n",
              "    <tr style=\"text-align: right;\">\n",
              "      <th></th>\n",
              "      <th>datetime</th>\n",
              "      <th>level</th>\n",
              "    </tr>\n",
              "  </thead>\n",
              "  <tbody>\n",
              "    <tr>\n",
              "      <th>0</th>\n",
              "      <td>2020-11-01 08:00:00</td>\n",
              "      <td>128.879866</td>\n",
              "    </tr>\n",
              "    <tr>\n",
              "      <th>1</th>\n",
              "      <td>2020-11-01 08:01:00</td>\n",
              "      <td>122.626221</td>\n",
              "    </tr>\n",
              "    <tr>\n",
              "      <th>2</th>\n",
              "      <td>2020-11-01 08:02:00</td>\n",
              "      <td>127.097666</td>\n",
              "    </tr>\n",
              "    <tr>\n",
              "      <th>3</th>\n",
              "      <td>2020-11-01 08:03:00</td>\n",
              "      <td>134.523405</td>\n",
              "    </tr>\n",
              "    <tr>\n",
              "      <th>4</th>\n",
              "      <td>2020-11-01 08:04:00</td>\n",
              "      <td>128.625501</td>\n",
              "    </tr>\n",
              "  </tbody>\n",
              "</table>\n",
              "</div>"
            ],
            "text/plain": [
              "             datetime       level\n",
              "0 2020-11-01 08:00:00  128.879866\n",
              "1 2020-11-01 08:01:00  122.626221\n",
              "2 2020-11-01 08:02:00  127.097666\n",
              "3 2020-11-01 08:03:00  134.523405\n",
              "4 2020-11-01 08:04:00  128.625501"
            ]
          },
          "metadata": {
            "tags": []
          },
          "execution_count": 27
        }
      ]
    },
    {
      "cell_type": "markdown",
      "metadata": {
        "id": "cF4IfTEt0vsw"
      },
      "source": [
        "\n",
        "#### Data usage: train_data: 70%, validation_data: 20%, test_data: 10%; in chronological order"
      ]
    },
    {
      "cell_type": "code",
      "metadata": {
        "id": "7ysDEsGbQKGd"
      },
      "source": [
        "train_pct=0.7\n",
        "val_pct=0.2\n",
        "# shuffle = False \n",
        "## here, we do not shuffle data during training, validation, testing; \n",
        "## it is easier to debug\n",
        "## after debugging, it can be set to true\n",
        "shuffle = True "
      ],
      "execution_count": 28,
      "outputs": []
    },
    {
      "cell_type": "markdown",
      "metadata": {
        "id": "RKPO40vjQKeS"
      },
      "source": [
        "# Create features and targets, dataset (generotor)\n",
        "Using sym, sector, issuer data"
      ]
    },
    {
      "cell_type": "code",
      "metadata": {
        "colab": {
          "base_uri": "https://localhost:8080/"
        },
        "id": "qFm8qKVRQUAr",
        "outputId": "1658241c-f29c-4807-8e0c-12a255adb9b7"
      },
      "source": [
        "sym_feature_data = create_features(data=sym_data, name='sym')\n",
        "sec_feature_data = create_features(data=sec_avg_price_data, name='sec')\n",
        "issuer_feature_data = create_features(data=iss_avg_price_data, name='iss')\n",
        "\n",
        "sym_feature_data.shape, sec_feature_data.shape, issuer_feature_data.shape"
      ],
      "execution_count": 29,
      "outputs": [
        {
          "output_type": "execute_result",
          "data": {
            "text/plain": [
              "((9095, 21), (10000, 21), (10000, 21))"
            ]
          },
          "metadata": {
            "tags": []
          },
          "execution_count": 29
        }
      ]
    },
    {
      "cell_type": "code",
      "metadata": {
        "colab": {
          "base_uri": "https://localhost:8080/",
          "height": 394
        },
        "id": "KxxXJ7gBI-zM",
        "outputId": "880b5aa7-2d32-45b1-cd5a-e09739d4500c"
      },
      "source": [
        "feature_data = sym_feature_data.merge(sec_feature_data, on='datetime')\n",
        "feature_data = feature_data.merge(issuer_feature_data, on='datetime')\n",
        "feature_data.dropna().head()"
      ],
      "execution_count": 30,
      "outputs": [
        {
          "output_type": "execute_result",
          "data": {
            "text/html": [
              "<div>\n",
              "<style scoped>\n",
              "    .dataframe tbody tr th:only-of-type {\n",
              "        vertical-align: middle;\n",
              "    }\n",
              "\n",
              "    .dataframe tbody tr th {\n",
              "        vertical-align: top;\n",
              "    }\n",
              "\n",
              "    .dataframe thead th {\n",
              "        text-align: right;\n",
              "    }\n",
              "</style>\n",
              "<table border=\"1\" class=\"dataframe\">\n",
              "  <thead>\n",
              "    <tr style=\"text-align: right;\">\n",
              "      <th></th>\n",
              "      <th>datetime</th>\n",
              "      <th>sym_level</th>\n",
              "      <th>sym_pct_change_1m</th>\n",
              "      <th>sym_short_ma</th>\n",
              "      <th>sym_short_ma_pct_change_baseline</th>\n",
              "      <th>sym_short_ma_pct_change_10m</th>\n",
              "      <th>sym_short_std</th>\n",
              "      <th>sym_short_std_pct_change_10m</th>\n",
              "      <th>sym_long_ma</th>\n",
              "      <th>sym_long_ma_pct_change_baseline</th>\n",
              "      <th>sym_long_ma_pct_change_60m</th>\n",
              "      <th>sym_long_std</th>\n",
              "      <th>sym_long_std_pct_change_60m</th>\n",
              "      <th>sym_short_ewm</th>\n",
              "      <th>sym_short_ewm_pct_change_baseline</th>\n",
              "      <th>sym_long_ewm</th>\n",
              "      <th>sym_long_ewm_pct_change_baseline</th>\n",
              "      <th>sym_rsi</th>\n",
              "      <th>sym_wma</th>\n",
              "      <th>sym_wma_pct_change</th>\n",
              "      <th>sym_macd</th>\n",
              "      <th>sec_level</th>\n",
              "      <th>sec_pct_change_1m</th>\n",
              "      <th>sec_short_ma</th>\n",
              "      <th>sec_short_ma_pct_change_baseline</th>\n",
              "      <th>sec_short_ma_pct_change_10m</th>\n",
              "      <th>sec_short_std</th>\n",
              "      <th>sec_short_std_pct_change_10m</th>\n",
              "      <th>sec_long_ma</th>\n",
              "      <th>sec_long_ma_pct_change_baseline</th>\n",
              "      <th>sec_long_ma_pct_change_60m</th>\n",
              "      <th>sec_long_std</th>\n",
              "      <th>sec_long_std_pct_change_60m</th>\n",
              "      <th>sec_short_ewm</th>\n",
              "      <th>sec_short_ewm_pct_change_baseline</th>\n",
              "      <th>sec_long_ewm</th>\n",
              "      <th>sec_long_ewm_pct_change_baseline</th>\n",
              "      <th>sec_rsi</th>\n",
              "      <th>sec_wma</th>\n",
              "      <th>sec_wma_pct_change</th>\n",
              "      <th>sec_macd</th>\n",
              "      <th>iss_level</th>\n",
              "      <th>iss_pct_change_1m</th>\n",
              "      <th>iss_short_ma</th>\n",
              "      <th>iss_short_ma_pct_change_baseline</th>\n",
              "      <th>iss_short_ma_pct_change_10m</th>\n",
              "      <th>iss_short_std</th>\n",
              "      <th>iss_short_std_pct_change_10m</th>\n",
              "      <th>iss_long_ma</th>\n",
              "      <th>iss_long_ma_pct_change_baseline</th>\n",
              "      <th>iss_long_ma_pct_change_60m</th>\n",
              "      <th>iss_long_std</th>\n",
              "      <th>iss_long_std_pct_change_60m</th>\n",
              "      <th>iss_short_ewm</th>\n",
              "      <th>iss_short_ewm_pct_change_baseline</th>\n",
              "      <th>iss_long_ewm</th>\n",
              "      <th>iss_long_ewm_pct_change_baseline</th>\n",
              "      <th>iss_rsi</th>\n",
              "      <th>iss_wma</th>\n",
              "      <th>iss_wma_pct_change</th>\n",
              "      <th>iss_macd</th>\n",
              "    </tr>\n",
              "  </thead>\n",
              "  <tbody>\n",
              "    <tr>\n",
              "      <th>119</th>\n",
              "      <td>2020-11-01 10:16:00</td>\n",
              "      <td>54.389170</td>\n",
              "      <td>0.020892</td>\n",
              "      <td>53.673465</td>\n",
              "      <td>-0.013159</td>\n",
              "      <td>0.045790</td>\n",
              "      <td>0.728202</td>\n",
              "      <td>-0.399160</td>\n",
              "      <td>48.074103</td>\n",
              "      <td>-0.116109</td>\n",
              "      <td>0.048657</td>\n",
              "      <td>3.720215</td>\n",
              "      <td>1.456623</td>\n",
              "      <td>53.305457</td>\n",
              "      <td>-0.019925</td>\n",
              "      <td>49.464588</td>\n",
              "      <td>-0.090543</td>\n",
              "      <td>66.682049</td>\n",
              "      <td>52.431746</td>\n",
              "      <td>0.004020</td>\n",
              "      <td>3.840868</td>\n",
              "      <td>118.259680</td>\n",
              "      <td>0.020771</td>\n",
              "      <td>117.777813</td>\n",
              "      <td>-0.004075</td>\n",
              "      <td>0.002168</td>\n",
              "      <td>1.538636</td>\n",
              "      <td>0.150724</td>\n",
              "      <td>114.661010</td>\n",
              "      <td>-0.030430</td>\n",
              "      <td>0.010981</td>\n",
              "      <td>2.938698</td>\n",
              "      <td>0.565152</td>\n",
              "      <td>117.526984</td>\n",
              "      <td>-0.006196</td>\n",
              "      <td>115.686625</td>\n",
              "      <td>-0.021758</td>\n",
              "      <td>53.625311</td>\n",
              "      <td>117.505404</td>\n",
              "      <td>0.000694</td>\n",
              "      <td>1.840359</td>\n",
              "      <td>128.848214</td>\n",
              "      <td>0.000272</td>\n",
              "      <td>134.108008</td>\n",
              "      <td>0.040822</td>\n",
              "      <td>0.014993</td>\n",
              "      <td>3.990326</td>\n",
              "      <td>-0.125184</td>\n",
              "      <td>129.669150</td>\n",
              "      <td>0.006371</td>\n",
              "      <td>0.017214</td>\n",
              "      <td>4.803357</td>\n",
              "      <td>0.242762</td>\n",
              "      <td>132.563661</td>\n",
              "      <td>0.028836</td>\n",
              "      <td>130.785007</td>\n",
              "      <td>0.015032</td>\n",
              "      <td>48.995965</td>\n",
              "      <td>133.013764</td>\n",
              "      <td>-0.001785</td>\n",
              "      <td>1.778654</td>\n",
              "    </tr>\n",
              "    <tr>\n",
              "      <th>120</th>\n",
              "      <td>2020-11-01 10:18:00</td>\n",
              "      <td>53.763996</td>\n",
              "      <td>-0.011494</td>\n",
              "      <td>53.600997</td>\n",
              "      <td>-0.003032</td>\n",
              "      <td>0.035613</td>\n",
              "      <td>0.671947</td>\n",
              "      <td>-0.548824</td>\n",
              "      <td>48.227091</td>\n",
              "      <td>-0.102985</td>\n",
              "      <td>0.053215</td>\n",
              "      <td>3.762785</td>\n",
              "      <td>1.506194</td>\n",
              "      <td>53.388827</td>\n",
              "      <td>-0.006978</td>\n",
              "      <td>49.605552</td>\n",
              "      <td>-0.077346</td>\n",
              "      <td>63.934759</td>\n",
              "      <td>52.587850</td>\n",
              "      <td>0.002977</td>\n",
              "      <td>3.783275</td>\n",
              "      <td>114.657675</td>\n",
              "      <td>-0.041102</td>\n",
              "      <td>117.219224</td>\n",
              "      <td>0.022341</td>\n",
              "      <td>-0.009909</td>\n",
              "      <td>1.555765</td>\n",
              "      <td>0.337870</td>\n",
              "      <td>114.825636</td>\n",
              "      <td>0.001465</td>\n",
              "      <td>0.013705</td>\n",
              "      <td>2.963806</td>\n",
              "      <td>0.646216</td>\n",
              "      <td>117.309560</td>\n",
              "      <td>0.023129</td>\n",
              "      <td>115.776113</td>\n",
              "      <td>0.009755</td>\n",
              "      <td>48.487905</td>\n",
              "      <td>117.506074</td>\n",
              "      <td>-0.001374</td>\n",
              "      <td>1.533447</td>\n",
              "      <td>130.290017</td>\n",
              "      <td>0.001365</td>\n",
              "      <td>132.800862</td>\n",
              "      <td>0.019271</td>\n",
              "      <td>-0.007670</td>\n",
              "      <td>3.919306</td>\n",
              "      <td>-0.036688</td>\n",
              "      <td>129.767857</td>\n",
              "      <td>-0.004008</td>\n",
              "      <td>0.018564</td>\n",
              "      <td>4.774831</td>\n",
              "      <td>0.282858</td>\n",
              "      <td>131.785629</td>\n",
              "      <td>0.011479</td>\n",
              "      <td>130.747450</td>\n",
              "      <td>0.003511</td>\n",
              "      <td>49.738049</td>\n",
              "      <td>132.731243</td>\n",
              "      <td>-0.001010</td>\n",
              "      <td>1.038179</td>\n",
              "    </tr>\n",
              "    <tr>\n",
              "      <th>121</th>\n",
              "      <td>2020-11-01 10:19:00</td>\n",
              "      <td>52.849992</td>\n",
              "      <td>-0.017000</td>\n",
              "      <td>53.465954</td>\n",
              "      <td>0.011655</td>\n",
              "      <td>0.024469</td>\n",
              "      <td>0.673790</td>\n",
              "      <td>-0.554376</td>\n",
              "      <td>48.366614</td>\n",
              "      <td>-0.084832</td>\n",
              "      <td>0.056948</td>\n",
              "      <td>3.776616</td>\n",
              "      <td>1.501841</td>\n",
              "      <td>53.290857</td>\n",
              "      <td>0.008342</td>\n",
              "      <td>49.711928</td>\n",
              "      <td>-0.059377</td>\n",
              "      <td>60.184586</td>\n",
              "      <td>52.673216</td>\n",
              "      <td>0.001623</td>\n",
              "      <td>3.578930</td>\n",
              "      <td>114.885331</td>\n",
              "      <td>0.001986</td>\n",
              "      <td>116.990898</td>\n",
              "      <td>0.018328</td>\n",
              "      <td>-0.011818</td>\n",
              "      <td>1.722621</td>\n",
              "      <td>0.477936</td>\n",
              "      <td>114.878214</td>\n",
              "      <td>-0.000062</td>\n",
              "      <td>0.014870</td>\n",
              "      <td>2.935820</td>\n",
              "      <td>0.665644</td>\n",
              "      <td>116.868791</td>\n",
              "      <td>0.017265</td>\n",
              "      <td>115.746907</td>\n",
              "      <td>0.007499</td>\n",
              "      <td>48.790574</td>\n",
              "      <td>117.359714</td>\n",
              "      <td>-0.001246</td>\n",
              "      <td>1.121885</td>\n",
              "      <td>127.209574</td>\n",
              "      <td>-0.023643</td>\n",
              "      <td>131.860148</td>\n",
              "      <td>0.036558</td>\n",
              "      <td>-0.022281</td>\n",
              "      <td>4.029075</td>\n",
              "      <td>0.285572</td>\n",
              "      <td>129.791685</td>\n",
              "      <td>0.020298</td>\n",
              "      <td>0.018919</td>\n",
              "      <td>4.758130</td>\n",
              "      <td>0.276438</td>\n",
              "      <td>130.953619</td>\n",
              "      <td>0.029432</td>\n",
              "      <td>130.631454</td>\n",
              "      <td>0.026900</td>\n",
              "      <td>48.143280</td>\n",
              "      <td>132.406621</td>\n",
              "      <td>-0.002446</td>\n",
              "      <td>0.322165</td>\n",
              "    </tr>\n",
              "    <tr>\n",
              "      <th>122</th>\n",
              "      <td>2020-11-01 10:20:00</td>\n",
              "      <td>52.629568</td>\n",
              "      <td>-0.004171</td>\n",
              "      <td>53.270689</td>\n",
              "      <td>0.012182</td>\n",
              "      <td>0.012086</td>\n",
              "      <td>0.592373</td>\n",
              "      <td>-0.603248</td>\n",
              "      <td>48.512071</td>\n",
              "      <td>-0.078235</td>\n",
              "      <td>0.061099</td>\n",
              "      <td>3.769814</td>\n",
              "      <td>1.470700</td>\n",
              "      <td>53.170623</td>\n",
              "      <td>0.010280</td>\n",
              "      <td>49.807588</td>\n",
              "      <td>-0.053620</td>\n",
              "      <td>59.316576</td>\n",
              "      <td>52.734085</td>\n",
              "      <td>0.001156</td>\n",
              "      <td>3.363035</td>\n",
              "      <td>113.994341</td>\n",
              "      <td>-0.007755</td>\n",
              "      <td>116.498272</td>\n",
              "      <td>0.021965</td>\n",
              "      <td>-0.017342</td>\n",
              "      <td>1.811556</td>\n",
              "      <td>0.638357</td>\n",
              "      <td>114.912275</td>\n",
              "      <td>0.008052</td>\n",
              "      <td>0.015632</td>\n",
              "      <td>2.913047</td>\n",
              "      <td>0.661739</td>\n",
              "      <td>116.346164</td>\n",
              "      <td>0.020631</td>\n",
              "      <td>115.689446</td>\n",
              "      <td>0.014870</td>\n",
              "      <td>47.656869</td>\n",
              "      <td>117.155045</td>\n",
              "      <td>-0.001744</td>\n",
              "      <td>0.656718</td>\n",
              "      <td>127.060231</td>\n",
              "      <td>-0.001174</td>\n",
              "      <td>130.407406</td>\n",
              "      <td>0.026343</td>\n",
              "      <td>-0.040960</td>\n",
              "      <td>2.436101</td>\n",
              "      <td>-0.276037</td>\n",
              "      <td>129.898756</td>\n",
              "      <td>0.022340</td>\n",
              "      <td>0.020856</td>\n",
              "      <td>4.618852</td>\n",
              "      <td>0.208324</td>\n",
              "      <td>130.245730</td>\n",
              "      <td>0.025071</td>\n",
              "      <td>130.514365</td>\n",
              "      <td>0.027185</td>\n",
              "      <td>48.065987</td>\n",
              "      <td>132.085732</td>\n",
              "      <td>-0.002424</td>\n",
              "      <td>-0.268634</td>\n",
              "    </tr>\n",
              "    <tr>\n",
              "      <th>123</th>\n",
              "      <td>2020-11-01 10:21:00</td>\n",
              "      <td>52.461698</td>\n",
              "      <td>-0.003190</td>\n",
              "      <td>53.159784</td>\n",
              "      <td>0.013307</td>\n",
              "      <td>0.003788</td>\n",
              "      <td>0.632419</td>\n",
              "      <td>-0.502591</td>\n",
              "      <td>48.665817</td>\n",
              "      <td>-0.072355</td>\n",
              "      <td>0.065813</td>\n",
              "      <td>3.739014</td>\n",
              "      <td>1.407386</td>\n",
              "      <td>53.041727</td>\n",
              "      <td>0.011056</td>\n",
              "      <td>49.894608</td>\n",
              "      <td>-0.048933</td>\n",
              "      <td>58.650157</td>\n",
              "      <td>52.773996</td>\n",
              "      <td>0.000757</td>\n",
              "      <td>3.147120</td>\n",
              "      <td>115.414964</td>\n",
              "      <td>0.012462</td>\n",
              "      <td>116.455969</td>\n",
              "      <td>0.009020</td>\n",
              "      <td>-0.015866</td>\n",
              "      <td>1.833494</td>\n",
              "      <td>0.309805</td>\n",
              "      <td>114.979781</td>\n",
              "      <td>-0.003771</td>\n",
              "      <td>0.016690</td>\n",
              "      <td>2.876138</td>\n",
              "      <td>0.634789</td>\n",
              "      <td>116.176855</td>\n",
              "      <td>0.006601</td>\n",
              "      <td>115.680446</td>\n",
              "      <td>0.002300</td>\n",
              "      <td>49.588923</td>\n",
              "      <td>117.046934</td>\n",
              "      <td>-0.000923</td>\n",
              "      <td>0.496409</td>\n",
              "      <td>130.733421</td>\n",
              "      <td>0.028909</td>\n",
              "      <td>130.237131</td>\n",
              "      <td>-0.003796</td>\n",
              "      <td>-0.041010</td>\n",
              "      <td>2.335992</td>\n",
              "      <td>-0.334165</td>\n",
              "      <td>130.046739</td>\n",
              "      <td>-0.005253</td>\n",
              "      <td>0.023518</td>\n",
              "      <td>4.497393</td>\n",
              "      <td>0.181056</td>\n",
              "      <td>130.334401</td>\n",
              "      <td>-0.003052</td>\n",
              "      <td>130.521547</td>\n",
              "      <td>-0.001621</td>\n",
              "      <td>50.104211</td>\n",
              "      <td>132.012748</td>\n",
              "      <td>-0.000553</td>\n",
              "      <td>-0.187146</td>\n",
              "    </tr>\n",
              "  </tbody>\n",
              "</table>\n",
              "</div>"
            ],
            "text/plain": [
              "               datetime  sym_level  ...  iss_wma_pct_change  iss_macd\n",
              "119 2020-11-01 10:16:00  54.389170  ...           -0.001785  1.778654\n",
              "120 2020-11-01 10:18:00  53.763996  ...           -0.001010  1.038179\n",
              "121 2020-11-01 10:19:00  52.849992  ...           -0.002446  0.322165\n",
              "122 2020-11-01 10:20:00  52.629568  ...           -0.002424 -0.268634\n",
              "123 2020-11-01 10:21:00  52.461698  ...           -0.000553 -0.187146\n",
              "\n",
              "[5 rows x 61 columns]"
            ]
          },
          "metadata": {
            "tags": []
          },
          "execution_count": 30
        }
      ]
    },
    {
      "cell_type": "code",
      "metadata": {
        "colab": {
          "base_uri": "https://localhost:8080/"
        },
        "id": "ZO-RweAEI-zN",
        "outputId": "2bc78fe4-aef2-422e-f22b-d7f46d6c11e3"
      },
      "source": [
        "feature_data.shape"
      ],
      "execution_count": 31,
      "outputs": [
        {
          "output_type": "execute_result",
          "data": {
            "text/plain": [
              "(9095, 61)"
            ]
          },
          "metadata": {
            "tags": []
          },
          "execution_count": 31
        }
      ]
    },
    {
      "cell_type": "code",
      "metadata": {
        "id": "PYrl2YzbWU6Z"
      },
      "source": [
        "col_idx_map = {col: idx for idx, col in enumerate(feature_data.columns)}\n",
        "# col_idx_map"
      ],
      "execution_count": 32,
      "outputs": []
    },
    {
      "cell_type": "markdown",
      "metadata": {
        "id": "5-74j0oNRW0A"
      },
      "source": [
        "#### Target variable: sym_pct_change_1m\n",
        "We aim to predict the next-minute level, and the actual target variable is the percentage change of the next-minute level compared to current time (minute). \n",
        "\n",
        "\n",
        "sym_pct_change_1m (target) is stationary via test. "
      ]
    },
    {
      "cell_type": "code",
      "metadata": {
        "colab": {
          "base_uri": "https://localhost:8080/"
        },
        "id": "RqFEyJR0I-zW",
        "outputId": "ffb70cb5-c4d7-4a36-f1a4-6c18eb510395"
      },
      "source": [
        "result = adfuller(feature_data['sym_pct_change_1m'].dropna())\n",
        "print('ADF Statistic: {}'.format(result[0]))\n",
        "print('p-value: {}'.format(result[1]))\n",
        "print('Critical Values:')\n",
        "for key, value in result[4].items():\n",
        "    print('\\t{}: {}'.format(key, value))"
      ],
      "execution_count": 33,
      "outputs": [
        {
          "output_type": "stream",
          "text": [
            "ADF Statistic: -20.580127026870805\n",
            "p-value: 0.0\n",
            "Critical Values:\n",
            "\t1%: -3.4310707085122814\n",
            "\t5%: -2.861858506720047\n",
            "\t10%: -2.566939536083911\n"
          ],
          "name": "stdout"
        }
      ]
    },
    {
      "cell_type": "code",
      "metadata": {
        "id": "oxmQ2C-BI-zX"
      },
      "source": [
        "window_size = 20\n",
        "batch_size = 32\n",
        "feature_dim = feature_data.shape[1]-1"
      ],
      "execution_count": 34,
      "outputs": []
    },
    {
      "cell_type": "code",
      "metadata": {
        "colab": {
          "base_uri": "https://localhost:8080/"
        },
        "id": "l-d_jdxyI-za",
        "outputId": "91aae323-0f53-47ff-d852-c2d5a94300f7"
      },
      "source": [
        "train_dataset, validation_dataset, test_dataset, test_data, scaler = train_val_test_split(feature_data, \n",
        "                                                                                          window_size=window_size, \n",
        "                                                                                          batch_size=batch_size,\n",
        "                                                                                          train_pct=train_pct, \n",
        "                                                                                          val_pct=val_pct,\n",
        "                                                                                          shuffle=shuffle)\n",
        "## scaler: used to do feature scaling, and to transform data in model evaluation\n"
      ],
      "execution_count": 35,
      "outputs": [
        {
          "output_type": "stream",
          "text": [
            "number of total data samples 8976 n_train 6283 n_validation 1795 n_test 898\n",
            "train number of batches 196\n",
            "validation number of batches 57\n",
            "test number of batches 29\n"
          ],
          "name": "stdout"
        }
      ]
    },
    {
      "cell_type": "markdown",
      "metadata": {
        "id": "A9aG4FY6ujOe"
      },
      "source": [
        "### check the correctness of our created dataset object"
      ]
    },
    {
      "cell_type": "code",
      "metadata": {
        "colab": {
          "base_uri": "https://localhost:8080/",
          "height": 134
        },
        "id": "8ulMneLuBfao",
        "outputId": "4186cad4-b189-4a82-e121-3810d68d3305"
      },
      "source": [
        "transformed_feature_data = feature_data.dropna().copy()\n",
        "transformed_feature_data.iloc[:, 1:] = scaler.transform(feature_data.dropna().iloc[:, 1:])\n",
        "transformed_feature_data.head(1)"
      ],
      "execution_count": 36,
      "outputs": [
        {
          "output_type": "execute_result",
          "data": {
            "text/html": [
              "<div>\n",
              "<style scoped>\n",
              "    .dataframe tbody tr th:only-of-type {\n",
              "        vertical-align: middle;\n",
              "    }\n",
              "\n",
              "    .dataframe tbody tr th {\n",
              "        vertical-align: top;\n",
              "    }\n",
              "\n",
              "    .dataframe thead th {\n",
              "        text-align: right;\n",
              "    }\n",
              "</style>\n",
              "<table border=\"1\" class=\"dataframe\">\n",
              "  <thead>\n",
              "    <tr style=\"text-align: right;\">\n",
              "      <th></th>\n",
              "      <th>datetime</th>\n",
              "      <th>sym_level</th>\n",
              "      <th>sym_pct_change_1m</th>\n",
              "      <th>sym_short_ma</th>\n",
              "      <th>sym_short_ma_pct_change_baseline</th>\n",
              "      <th>sym_short_ma_pct_change_10m</th>\n",
              "      <th>sym_short_std</th>\n",
              "      <th>sym_short_std_pct_change_10m</th>\n",
              "      <th>sym_long_ma</th>\n",
              "      <th>sym_long_ma_pct_change_baseline</th>\n",
              "      <th>sym_long_ma_pct_change_60m</th>\n",
              "      <th>sym_long_std</th>\n",
              "      <th>sym_long_std_pct_change_60m</th>\n",
              "      <th>sym_short_ewm</th>\n",
              "      <th>sym_short_ewm_pct_change_baseline</th>\n",
              "      <th>sym_long_ewm</th>\n",
              "      <th>sym_long_ewm_pct_change_baseline</th>\n",
              "      <th>sym_rsi</th>\n",
              "      <th>sym_wma</th>\n",
              "      <th>sym_wma_pct_change</th>\n",
              "      <th>sym_macd</th>\n",
              "      <th>sec_level</th>\n",
              "      <th>sec_pct_change_1m</th>\n",
              "      <th>sec_short_ma</th>\n",
              "      <th>sec_short_ma_pct_change_baseline</th>\n",
              "      <th>sec_short_ma_pct_change_10m</th>\n",
              "      <th>sec_short_std</th>\n",
              "      <th>sec_short_std_pct_change_10m</th>\n",
              "      <th>sec_long_ma</th>\n",
              "      <th>sec_long_ma_pct_change_baseline</th>\n",
              "      <th>sec_long_ma_pct_change_60m</th>\n",
              "      <th>sec_long_std</th>\n",
              "      <th>sec_long_std_pct_change_60m</th>\n",
              "      <th>sec_short_ewm</th>\n",
              "      <th>sec_short_ewm_pct_change_baseline</th>\n",
              "      <th>sec_long_ewm</th>\n",
              "      <th>sec_long_ewm_pct_change_baseline</th>\n",
              "      <th>sec_rsi</th>\n",
              "      <th>sec_wma</th>\n",
              "      <th>sec_wma_pct_change</th>\n",
              "      <th>sec_macd</th>\n",
              "      <th>iss_level</th>\n",
              "      <th>iss_pct_change_1m</th>\n",
              "      <th>iss_short_ma</th>\n",
              "      <th>iss_short_ma_pct_change_baseline</th>\n",
              "      <th>iss_short_ma_pct_change_10m</th>\n",
              "      <th>iss_short_std</th>\n",
              "      <th>iss_short_std_pct_change_10m</th>\n",
              "      <th>iss_long_ma</th>\n",
              "      <th>iss_long_ma_pct_change_baseline</th>\n",
              "      <th>iss_long_ma_pct_change_60m</th>\n",
              "      <th>iss_long_std</th>\n",
              "      <th>iss_long_std_pct_change_60m</th>\n",
              "      <th>iss_short_ewm</th>\n",
              "      <th>iss_short_ewm_pct_change_baseline</th>\n",
              "      <th>iss_long_ewm</th>\n",
              "      <th>iss_long_ewm_pct_change_baseline</th>\n",
              "      <th>iss_rsi</th>\n",
              "      <th>iss_wma</th>\n",
              "      <th>iss_wma_pct_change</th>\n",
              "      <th>iss_macd</th>\n",
              "    </tr>\n",
              "  </thead>\n",
              "  <tbody>\n",
              "    <tr>\n",
              "      <th>119</th>\n",
              "      <td>2020-11-01 10:16:00</td>\n",
              "      <td>1.66186</td>\n",
              "      <td>0.046262</td>\n",
              "      <td>1.623298</td>\n",
              "      <td>-0.019762</td>\n",
              "      <td>-0.010454</td>\n",
              "      <td>-0.130849</td>\n",
              "      <td>-0.39095</td>\n",
              "      <td>1.31353</td>\n",
              "      <td>-0.022448</td>\n",
              "      <td>0.065137</td>\n",
              "      <td>0.948664</td>\n",
              "      <td>0.709719</td>\n",
              "      <td>1.604281</td>\n",
              "      <td>-0.024827</td>\n",
              "      <td>1.399686</td>\n",
              "      <td>-0.021399</td>\n",
              "      <td>2.032083</td>\n",
              "      <td>1.555721</td>\n",
              "      <td>0.064232</td>\n",
              "      <td>1.651603</td>\n",
              "      <td>0.080468</td>\n",
              "      <td>1.254457</td>\n",
              "      <td>0.033121</td>\n",
              "      <td>-0.282279</td>\n",
              "      <td>0.098239</td>\n",
              "      <td>-0.061922</td>\n",
              "      <td>0.109086</td>\n",
              "      <td>-0.27396</td>\n",
              "      <td>-0.974913</td>\n",
              "      <td>0.197583</td>\n",
              "      <td>0.327348</td>\n",
              "      <td>0.898336</td>\n",
              "      <td>0.008724</td>\n",
              "      <td>-0.480664</td>\n",
              "      <td>-0.172067</td>\n",
              "      <td>-0.796874</td>\n",
              "      <td>0.953163</td>\n",
              "      <td>0.007657</td>\n",
              "      <td>0.427857</td>\n",
              "      <td>0.759714</td>\n",
              "      <td>0.624351</td>\n",
              "      <td>0.024621</td>\n",
              "      <td>1.210749</td>\n",
              "      <td>1.039664</td>\n",
              "      <td>0.636654</td>\n",
              "      <td>-0.324719</td>\n",
              "      <td>-0.439751</td>\n",
              "      <td>0.799345</td>\n",
              "      <td>0.068914</td>\n",
              "      <td>0.377615</td>\n",
              "      <td>-0.296392</td>\n",
              "      <td>1.212953</td>\n",
              "      <td>1.054034</td>\n",
              "      <td>0.797143</td>\n",
              "      <td>0.938894</td>\n",
              "      <td>0.27851</td>\n",
              "      <td>-0.531651</td>\n",
              "      <td>1.117689</td>\n",
              "      <td>-0.619279</td>\n",
              "      <td>0.704585</td>\n",
              "    </tr>\n",
              "  </tbody>\n",
              "</table>\n",
              "</div>"
            ],
            "text/plain": [
              "               datetime  sym_level  ...  iss_wma_pct_change  iss_macd\n",
              "119 2020-11-01 10:16:00    1.66186  ...           -0.619279  0.704585\n",
              "\n",
              "[1 rows x 61 columns]"
            ]
          },
          "metadata": {
            "tags": []
          },
          "execution_count": 36
        }
      ]
    },
    {
      "cell_type": "code",
      "metadata": {
        "id": "UUh1t8_ZI-za"
      },
      "source": [
        "if shuffle==False:\n",
        "  for x, y in train_dataset:\n",
        "      print(\"x.shape: (batch_size, window_size, feature_dimension)\", x.shape)\n",
        "      print(\"y.shape:\", y.shape)\n",
        "      init_idx = feature_data.dropna().index[0]\n",
        "      transformed_row = np.array(scaler.transform(feature_data.iloc[init_idx:init_idx+window_size, 1:]))\n",
        "      print(\"The first time step in the first sample:\")\n",
        "      print(x[0, 0, :])\n",
        "      assert np.array_equal(x[0], transformed_row)\n",
        "      target_row = np.array(feature_data.iloc[init_idx+window_size, 1:])\n",
        "      target_row = scaler.transform(target_row[np.newaxis, :]) \n",
        "      assert np.array_equal(y[0], np.array(target_row[0, 1]))\n",
        "      break"
      ],
      "execution_count": 37,
      "outputs": []
    },
    {
      "cell_type": "markdown",
      "metadata": {
        "id": "BB1XIPQSI-zb"
      },
      "source": [
        "# Create, train and test models\n",
        "The root_mean_squared_error presented here is computed based on the transformed target (percentage change of the next minute), which is not the RMSE of the predicted level of the next minute. The final evaluation of the models will be presented later. \n",
        "\n"
      ]
    },
    {
      "cell_type": "markdown",
      "metadata": {
        "id": "vQ9C4Vpbv2xI"
      },
      "source": [
        "Baseline model #1: use the value from last trade"
      ]
    },
    {
      "cell_type": "code",
      "metadata": {
        "colab": {
          "base_uri": "https://localhost:8080/"
        },
        "id": "4NEa3LEuI-zc",
        "outputId": "8f1b6eb4-6ae2-4c2f-8849-c1cd0318e4f5"
      },
      "source": [
        "baseline_last_trade_model = Baseline_last_trade()\n",
        "baseline_last_trade_model.compile(loss=tf.losses.MeanSquaredError(),\n",
        "                                  metrics=[tf.metrics.MeanAbsoluteError(), tf.keras.metrics.RootMeanSquaredError()])\n",
        "baseline_last_trade_model.evaluate(test_dataset, steps=len(test_dataset))"
      ],
      "execution_count": 38,
      "outputs": [
        {
          "output_type": "stream",
          "text": [
            "29/29 [==============================] - 0s 3ms/step - loss: 0.0080 - mean_absolute_error: 0.0685 - root_mean_squared_error: 0.0895\n"
          ],
          "name": "stdout"
        },
        {
          "output_type": "execute_result",
          "data": {
            "text/plain": [
              "[0.008018026080239436, 0.06845816666486602, 0.08954343161060863]"
            ]
          },
          "metadata": {
            "tags": []
          },
          "execution_count": 38
        }
      ]
    },
    {
      "cell_type": "markdown",
      "metadata": {
        "id": "fPxRfT64I-zd"
      },
      "source": [
        "Baseline model #2: use the short-term moving average from previous trades"
      ]
    },
    {
      "cell_type": "code",
      "metadata": {
        "colab": {
          "base_uri": "https://localhost:8080/"
        },
        "id": "LHynb9K3I-zf",
        "outputId": "cc1a8514-c51d-46df-abe4-d944d528265d"
      },
      "source": [
        "baseline_st_ma = Baseline_ma(ma_index=col_idx_map['sym_short_ma_pct_change_baseline']-1) ## short-term moving average\n",
        "\n",
        "baseline_st_ma.compile(loss=tf.losses.MeanSquaredError(),\n",
        "                        metrics=[tf.metrics.MeanAbsoluteError(), tf.keras.metrics.RootMeanSquaredError()])\n",
        "baseline_st_ma.evaluate(test_dataset, steps=len(test_dataset))"
      ],
      "execution_count": 39,
      "outputs": [
        {
          "output_type": "stream",
          "text": [
            "29/29 [==============================] - 0s 2ms/step - loss: 0.0083 - mean_absolute_error: 0.0714 - root_mean_squared_error: 0.0911\n"
          ],
          "name": "stdout"
        },
        {
          "output_type": "execute_result",
          "data": {
            "text/plain": [
              "[0.008297518939422122, 0.07138742205615342, 0.09109071754874871]"
            ]
          },
          "metadata": {
            "tags": []
          },
          "execution_count": 39
        }
      ]
    },
    {
      "cell_type": "markdown",
      "metadata": {
        "id": "Vdh2duaMI-zi"
      },
      "source": [
        "Baseline model #3: use the long-term moving average from previous trades"
      ]
    },
    {
      "cell_type": "code",
      "metadata": {
        "colab": {
          "base_uri": "https://localhost:8080/"
        },
        "id": "q1VKeNBXI-zj",
        "outputId": "c922f2d7-cb1a-4b36-a1ce-1628d2660083"
      },
      "source": [
        "baseline_lt_ma = Baseline_ma(ma_index=col_idx_map['sym_long_ma_pct_change_baseline']-1) ## long-term moving average\n",
        "\n",
        "baseline_lt_ma.compile(loss=tf.losses.MeanSquaredError(),\n",
        "                        metrics=[tf.metrics.MeanAbsoluteError(), tf.keras.metrics.RootMeanSquaredError()])\n",
        "baseline_lt_ma.evaluate(test_dataset, steps=len(test_dataset))"
      ],
      "execution_count": 40,
      "outputs": [
        {
          "output_type": "stream",
          "text": [
            "29/29 [==============================] - 0s 2ms/step - loss: 0.0075 - mean_absolute_error: 0.0670 - root_mean_squared_error: 0.0866\n"
          ],
          "name": "stdout"
        },
        {
          "output_type": "execute_result",
          "data": {
            "text/plain": [
              "[0.007494297296065709, 0.06699796748159204, 0.08656960959354063]"
            ]
          },
          "metadata": {
            "tags": []
          },
          "execution_count": 40
        }
      ]
    },
    {
      "cell_type": "markdown",
      "metadata": {
        "id": "wpq853YtI-zk"
      },
      "source": [
        "Conv1D model"
      ]
    },
    {
      "cell_type": "code",
      "metadata": {
        "colab": {
          "base_uri": "https://localhost:8080/"
        },
        "id": "l8CWqzH_I-zk",
        "outputId": "fd3a15d9-c1c8-49ea-eda5-f4de584c9781"
      },
      "source": [
        "conv1d_model = get_conv1d_model(input_shape=(window_size, feature_dim), \n",
        "                                conv_width=[10, 5, 2, 2], \n",
        "                                filter_size=[64, 64, 32, 16])\n",
        "conv1d_model.summary()"
      ],
      "execution_count": 41,
      "outputs": [
        {
          "output_type": "stream",
          "text": [
            "Model: \"functional_1\"\n",
            "_________________________________________________________________\n",
            "Layer (type)                 Output Shape              Param #   \n",
            "=================================================================\n",
            "input_1 (InputLayer)         [(None, 20, 60)]          0         \n",
            "_________________________________________________________________\n",
            "conv1d (Conv1D)              (None, 11, 64)            38464     \n",
            "_________________________________________________________________\n",
            "dropout (Dropout)            (None, 11, 64)            0         \n",
            "_________________________________________________________________\n",
            "conv1d_1 (Conv1D)            (None, 7, 64)             20544     \n",
            "_________________________________________________________________\n",
            "dropout_1 (Dropout)          (None, 7, 64)             0         \n",
            "_________________________________________________________________\n",
            "conv1d_2 (Conv1D)            (None, 6, 32)             4128      \n",
            "_________________________________________________________________\n",
            "dropout_2 (Dropout)          (None, 6, 32)             0         \n",
            "_________________________________________________________________\n",
            "conv1d_3 (Conv1D)            (None, 5, 16)             1040      \n",
            "_________________________________________________________________\n",
            "dropout_3 (Dropout)          (None, 5, 16)             0         \n",
            "_________________________________________________________________\n",
            "flatten (Flatten)            (None, 80)                0         \n",
            "_________________________________________________________________\n",
            "dense (Dense)                (None, 1)                 81        \n",
            "=================================================================\n",
            "Total params: 64,257\n",
            "Trainable params: 64,257\n",
            "Non-trainable params: 0\n",
            "_________________________________________________________________\n"
          ],
          "name": "stdout"
        }
      ]
    },
    {
      "cell_type": "code",
      "metadata": {
        "id": "5M8BM1OgI-zl"
      },
      "source": [
        "# # print('Input shape:', (window_size, 10))\n",
        "# for x, y in train_dataset:\n",
        "#     print('Input shape:', x.shape)\n",
        "#     output_ = conv1d_model(x)\n",
        "#     print('Output shape:', output_.shape)\n",
        "#     print(\"Label shapre:\", y.shape)\n",
        "#     break\n"
      ],
      "execution_count": 42,
      "outputs": []
    },
    {
      "cell_type": "code",
      "metadata": {
        "colab": {
          "base_uri": "https://localhost:8080/"
        },
        "id": "Moztce8vI-zl",
        "outputId": "4119a1c9-2fd2-4f99-aad3-8333fefbb34f"
      },
      "source": [
        "history = conv1d_model.fit(train_dataset, \n",
        "                            epochs=50, \n",
        "                            steps_per_epoch=len(train_dataset),\n",
        "                            validation_data=validation_dataset, \n",
        "                            validation_steps=len(validation_dataset),\n",
        "                            callbacks=[tf.keras.callbacks.EarlyStopping(monitor='val_root_mean_squared_error', patience=2)],\n",
        "                            verbose=2)"
      ],
      "execution_count": 43,
      "outputs": [
        {
          "output_type": "stream",
          "text": [
            "Epoch 1/50\n",
            "196/196 - 1s - loss: 0.0023 - mean_absolute_error: 0.2358 - root_mean_squared_error: 1.0715 - val_loss: 0.0052 - val_mean_absolute_error: 0.5232 - val_root_mean_squared_error: 7.3566\n",
            "Epoch 2/50\n",
            "196/196 - 1s - loss: 7.6529e-04 - mean_absolute_error: 0.0812 - root_mean_squared_error: 0.9940 - val_loss: 0.0043 - val_mean_absolute_error: 0.4307 - val_root_mean_squared_error: 6.0652\n",
            "Epoch 3/50\n",
            "196/196 - 1s - loss: 5.7079e-04 - mean_absolute_error: 0.0618 - root_mean_squared_error: 0.4633 - val_loss: 0.0044 - val_mean_absolute_error: 0.4485 - val_root_mean_squared_error: 6.0848\n",
            "Epoch 4/50\n",
            "196/196 - 1s - loss: 7.0866e-04 - mean_absolute_error: 0.0756 - root_mean_squared_error: 0.9985 - val_loss: 0.0028 - val_mean_absolute_error: 0.2821 - val_root_mean_squared_error: 1.7030\n",
            "Epoch 5/50\n",
            "196/196 - 1s - loss: 7.8736e-04 - mean_absolute_error: 0.0834 - root_mean_squared_error: 1.3013 - val_loss: 0.0031 - val_mean_absolute_error: 0.3157 - val_root_mean_squared_error: 4.3160\n",
            "Epoch 6/50\n",
            "196/196 - 1s - loss: 6.2094e-04 - mean_absolute_error: 0.0668 - root_mean_squared_error: 0.8688 - val_loss: 0.0031 - val_mean_absolute_error: 0.3194 - val_root_mean_squared_error: 4.3772\n"
          ],
          "name": "stdout"
        }
      ]
    },
    {
      "cell_type": "code",
      "metadata": {
        "colab": {
          "base_uri": "https://localhost:8080/"
        },
        "id": "meThuAlaI-zm",
        "scrolled": true,
        "outputId": "2bb72368-c0b8-4e96-f532-e4881e6caf89"
      },
      "source": [
        "conv1d_model.evaluate(test_dataset, steps=len(test_dataset))"
      ],
      "execution_count": 44,
      "outputs": [
        {
          "output_type": "stream",
          "text": [
            "29/29 [==============================] - 0s 3ms/step - loss: 6.2102e-04 - mean_absolute_error: 0.0670 - root_mean_squared_error: 0.0879\n"
          ],
          "name": "stdout"
        },
        {
          "output_type": "execute_result",
          "data": {
            "text/plain": [
              "[0.0006210212405080553, 0.06695044112536296, 0.08793497797306762]"
            ]
          },
          "metadata": {
            "tags": []
          },
          "execution_count": 44
        }
      ]
    },
    {
      "cell_type": "markdown",
      "metadata": {
        "id": "S8ZOZHcPiDAW"
      },
      "source": [
        "LSTM model"
      ]
    },
    {
      "cell_type": "code",
      "metadata": {
        "colab": {
          "base_uri": "https://localhost:8080/"
        },
        "id": "8PU4BXCPI-zn",
        "outputId": "221fc40b-ced5-4107-a4be-620134ce4114"
      },
      "source": [
        "LSTM_model = get_LSTM_model(input_shape=(window_size, feature_dim),\n",
        "                               units_list=[64, 64, 32, 16])\n",
        "LSTM_model.summary()\n"
      ],
      "execution_count": 45,
      "outputs": [
        {
          "output_type": "stream",
          "text": [
            "Model: \"functional_3\"\n",
            "_________________________________________________________________\n",
            "Layer (type)                 Output Shape              Param #   \n",
            "=================================================================\n",
            "input_2 (InputLayer)         [(None, 20, 60)]          0         \n",
            "_________________________________________________________________\n",
            "lstm (LSTM)                  (None, 20, 64)            32000     \n",
            "_________________________________________________________________\n",
            "dropout_4 (Dropout)          (None, 20, 64)            0         \n",
            "_________________________________________________________________\n",
            "lstm_1 (LSTM)                (None, 20, 64)            33024     \n",
            "_________________________________________________________________\n",
            "dropout_5 (Dropout)          (None, 20, 64)            0         \n",
            "_________________________________________________________________\n",
            "lstm_2 (LSTM)                (None, 20, 32)            12416     \n",
            "_________________________________________________________________\n",
            "dropout_6 (Dropout)          (None, 20, 32)            0         \n",
            "_________________________________________________________________\n",
            "lstm_3 (LSTM)                (None, 20, 16)            3136      \n",
            "_________________________________________________________________\n",
            "dropout_7 (Dropout)          (None, 20, 16)            0         \n",
            "_________________________________________________________________\n",
            "lstm_4 (LSTM)                (None, 16)                2112      \n",
            "_________________________________________________________________\n",
            "dense_1 (Dense)              (None, 16)                272       \n",
            "_________________________________________________________________\n",
            "dense_2 (Dense)              (None, 1)                 17        \n",
            "=================================================================\n",
            "Total params: 82,977\n",
            "Trainable params: 82,977\n",
            "Non-trainable params: 0\n",
            "_________________________________________________________________\n"
          ],
          "name": "stdout"
        }
      ]
    },
    {
      "cell_type": "code",
      "metadata": {
        "colab": {
          "base_uri": "https://localhost:8080/"
        },
        "id": "PpslED87I-zn",
        "outputId": "3cf3ab54-022b-4004-b908-d40dab8d9be9"
      },
      "source": [
        "history = LSTM_model.fit(train_dataset, \n",
        "                          epochs=20, \n",
        "                          steps_per_epoch=len(train_dataset),\n",
        "                          validation_data=validation_dataset, \n",
        "                          validation_steps=len(validation_dataset),\n",
        "                          callbacks=[tf.keras.callbacks.EarlyStopping(monitor='val_root_mean_squared_error', patience=3)],\n",
        "                          verbose=2)"
      ],
      "execution_count": 46,
      "outputs": [
        {
          "output_type": "stream",
          "text": [
            "Epoch 1/20\n",
            "196/196 - 5s - loss: 0.0783 - mean_absolute_error: 0.1643 - root_mean_squared_error: 1.5799 - val_loss: 0.3702 - val_mean_absolute_error: 0.4785 - val_root_mean_squared_error: 6.1489\n",
            "Epoch 2/20\n",
            "196/196 - 3s - loss: 0.0279 - mean_absolute_error: 0.0819 - root_mean_squared_error: 0.9263 - val_loss: 0.2164 - val_mean_absolute_error: 0.3235 - val_root_mean_squared_error: 4.3138\n",
            "Epoch 3/20\n",
            "196/196 - 3s - loss: 0.0407 - mean_absolute_error: 0.0918 - root_mean_squared_error: 1.4863 - val_loss: 0.1335 - val_mean_absolute_error: 0.2431 - val_root_mean_squared_error: 1.1228\n",
            "Epoch 4/20\n",
            "196/196 - 3s - loss: 0.0401 - mean_absolute_error: 0.0920 - root_mean_squared_error: 1.3217 - val_loss: 0.2294 - val_mean_absolute_error: 0.3373 - val_root_mean_squared_error: 4.3377\n",
            "Epoch 5/20\n",
            "196/196 - 3s - loss: 0.0297 - mean_absolute_error: 0.0805 - root_mean_squared_error: 1.0136 - val_loss: 0.1498 - val_mean_absolute_error: 0.2554 - val_root_mean_squared_error: 1.3854\n",
            "Epoch 6/20\n",
            "196/196 - 3s - loss: 0.0629 - mean_absolute_error: 0.1151 - root_mean_squared_error: 1.7860 - val_loss: 0.2122 - val_mean_absolute_error: 0.3208 - val_root_mean_squared_error: 1.8932\n"
          ],
          "name": "stdout"
        }
      ]
    },
    {
      "cell_type": "code",
      "metadata": {
        "colab": {
          "base_uri": "https://localhost:8080/"
        },
        "id": "nWN1jVo6I-zn",
        "outputId": "2f926ba2-d1ef-47e5-e999-838e13b27c73"
      },
      "source": [
        "LSTM_model.evaluate(test_dataset, steps=len(test_dataset))"
      ],
      "execution_count": 47,
      "outputs": [
        {
          "output_type": "stream",
          "text": [
            "29/29 [==============================] - 0s 6ms/step - loss: 0.0038 - mean_absolute_error: 0.0693 - root_mean_squared_error: 0.0870\n"
          ],
          "name": "stdout"
        },
        {
          "output_type": "execute_result",
          "data": {
            "text/plain": [
              "[0.003780645767933336, 0.06929416818494345, 0.08695568693498457]"
            ]
          },
          "metadata": {
            "tags": []
          },
          "execution_count": 47
        }
      ]
    },
    {
      "cell_type": "markdown",
      "metadata": {
        "id": "PayTwGepTIbj"
      },
      "source": [
        "Linear regression model"
      ]
    },
    {
      "cell_type": "code",
      "metadata": {
        "colab": {
          "base_uri": "https://localhost:8080/"
        },
        "id": "aRf4K2K526qZ",
        "outputId": "96588dcc-cbfc-43be-81fb-fa563b1cfeff"
      },
      "source": [
        "my_lr_model = get_lr_model(input_shape=(window_size, feature_dim))\n",
        "my_lr_model.summary()"
      ],
      "execution_count": 48,
      "outputs": [
        {
          "output_type": "stream",
          "text": [
            "Model: \"functional_5\"\n",
            "_________________________________________________________________\n",
            "Layer (type)                 Output Shape              Param #   \n",
            "=================================================================\n",
            "input_3 (InputLayer)         [(None, 20, 60)]          0         \n",
            "_________________________________________________________________\n",
            "tf_op_layer_strided_slice (T [(None, 5, 60)]           0         \n",
            "_________________________________________________________________\n",
            "flatten_1 (Flatten)          (None, 300)               0         \n",
            "_________________________________________________________________\n",
            "dense_3 (Dense)              (None, 1)                 301       \n",
            "=================================================================\n",
            "Total params: 301\n",
            "Trainable params: 301\n",
            "Non-trainable params: 0\n",
            "_________________________________________________________________\n"
          ],
          "name": "stdout"
        }
      ]
    },
    {
      "cell_type": "code",
      "metadata": {
        "colab": {
          "base_uri": "https://localhost:8080/"
        },
        "id": "8Fr1EW7Hnw2z",
        "outputId": "dd8f29ea-cbb8-4884-dbc1-7adf3d61be00"
      },
      "source": [
        "history = my_lr_model.fit(train_dataset, \n",
        "                          epochs=20, \n",
        "                          steps_per_epoch=len(train_dataset),\n",
        "                          validation_data=validation_dataset, \n",
        "                          validation_steps=len(validation_dataset),\n",
        "                          callbacks=[tf.keras.callbacks.EarlyStopping(monitor='val_root_mean_squared_error', patience=3)],\n",
        "                          verbose=2)"
      ],
      "execution_count": 49,
      "outputs": [
        {
          "output_type": "stream",
          "text": [
            "Epoch 1/20\n",
            "196/196 - 1s - loss: 0.1439 - mean_absolute_error: 0.2117 - root_mean_squared_error: 1.1312 - val_loss: 0.3791 - val_mean_absolute_error: 0.4988 - val_root_mean_squared_error: 4.4691\n",
            "Epoch 2/20\n",
            "196/196 - 1s - loss: 0.0703 - mean_absolute_error: 0.1725 - root_mean_squared_error: 0.7756 - val_loss: 0.3424 - val_mean_absolute_error: 0.6437 - val_root_mean_squared_error: 1.8385\n",
            "Epoch 3/20\n",
            "196/196 - 1s - loss: 0.0626 - mean_absolute_error: 0.1540 - root_mean_squared_error: 1.0185 - val_loss: 0.2597 - val_mean_absolute_error: 0.5029 - val_root_mean_squared_error: 1.5244\n",
            "Epoch 4/20\n",
            "196/196 - 1s - loss: 0.0780 - mean_absolute_error: 0.1952 - root_mean_squared_error: 0.9832 - val_loss: 0.2778 - val_mean_absolute_error: 0.4224 - val_root_mean_squared_error: 1.7688\n",
            "Epoch 5/20\n",
            "196/196 - 1s - loss: 0.0957 - mean_absolute_error: 0.2023 - root_mean_squared_error: 1.0141 - val_loss: 0.4101 - val_mean_absolute_error: 0.6313 - val_root_mean_squared_error: 4.9303\n",
            "Epoch 6/20\n",
            "196/196 - 1s - loss: 0.0817 - mean_absolute_error: 0.1739 - root_mean_squared_error: 1.1318 - val_loss: 0.3711 - val_mean_absolute_error: 0.5369 - val_root_mean_squared_error: 4.6859\n"
          ],
          "name": "stdout"
        }
      ]
    },
    {
      "cell_type": "code",
      "metadata": {
        "colab": {
          "base_uri": "https://localhost:8080/"
        },
        "id": "jIyGK8sh26vp",
        "outputId": "4d15ea35-114b-4b74-bc40-932c398abd99"
      },
      "source": [
        "my_lr_model.evaluate(test_dataset, steps=len(test_dataset))"
      ],
      "execution_count": 50,
      "outputs": [
        {
          "output_type": "stream",
          "text": [
            "29/29 [==============================] - 0s 2ms/step - loss: 0.0440 - mean_absolute_error: 0.1356 - root_mean_squared_error: 0.1703\n"
          ],
          "name": "stdout"
        },
        {
          "output_type": "execute_result",
          "data": {
            "text/plain": [
              "[0.04398065357477118, 0.13556843928787052, 0.1703420920112368]"
            ]
          },
          "metadata": {
            "tags": []
          },
          "execution_count": 50
        }
      ]
    },
    {
      "cell_type": "markdown",
      "metadata": {
        "id": "tkiRWnANauxt"
      },
      "source": [
        "Majority-voting model (simple averaging) uses the above two models: conv1d and LSTM.\n",
        "\n",
        "\n",
        "\n",
        "\n",
        "\n"
      ]
    },
    {
      "cell_type": "code",
      "metadata": {
        "colab": {
          "base_uri": "https://localhost:8080/"
        },
        "id": "moey_ZgfrLT9",
        "outputId": "93cb5a92-fe8a-443c-d871-93d153d27c70"
      },
      "source": [
        "maj_model = get_myMajority_model(input_shape=(window_size, feature_dim), models=[conv1d_model, LSTM_model])\n",
        "maj_model.summary() ## no trainable parameters"
      ],
      "execution_count": 51,
      "outputs": [
        {
          "output_type": "stream",
          "text": [
            "Model: \"functional_7\"\n",
            "__________________________________________________________________________________________________\n",
            "Layer (type)                    Output Shape         Param #     Connected to                     \n",
            "==================================================================================================\n",
            "input_4 (InputLayer)            [(None, 20, 60)]     0                                            \n",
            "__________________________________________________________________________________________________\n",
            "functional_1 (Functional)       (None, 1)            64257       input_4[0][0]                    \n",
            "__________________________________________________________________________________________________\n",
            "functional_3 (Functional)       (None, 1)            82977       input_4[0][0]                    \n",
            "__________________________________________________________________________________________________\n",
            "tf_op_layer_stack (TensorFlowOp [(None, 2, 1)]       0           functional_1[0][0]               \n",
            "                                                                 functional_3[0][0]               \n",
            "__________________________________________________________________________________________________\n",
            "flatten_2 (Flatten)             (None, 2)            0           tf_op_layer_stack[0][0]          \n",
            "__________________________________________________________________________________________________\n",
            "tf_op_layer_Mean (TensorFlowOpL [(None, 1)]          0           flatten_2[0][0]                  \n",
            "==================================================================================================\n",
            "Total params: 147,234\n",
            "Trainable params: 0\n",
            "Non-trainable params: 147,234\n",
            "__________________________________________________________________________________________________\n"
          ],
          "name": "stdout"
        }
      ]
    },
    {
      "cell_type": "code",
      "metadata": {
        "colab": {
          "base_uri": "https://localhost:8080/"
        },
        "id": "bWG0w75drPJI",
        "outputId": "aaf7bf63-4322-4e2b-f665-f57b89985044"
      },
      "source": [
        "maj_model.evaluate(test_dataset, steps=len(test_dataset))"
      ],
      "execution_count": 52,
      "outputs": [
        {
          "output_type": "stream",
          "text": [
            "29/29 [==============================] - 0s 10ms/step - loss: 0.0039 - mean_absolute_error: 0.0695 - root_mean_squared_error: 0.0887\n"
          ],
          "name": "stdout"
        },
        {
          "output_type": "execute_result",
          "data": {
            "text/plain": [
              "[0.003929764899457323, 0.06947355069147204, 0.08865398878287642]"
            ]
          },
          "metadata": {
            "tags": []
          },
          "execution_count": 52
        }
      ]
    },
    {
      "cell_type": "markdown",
      "metadata": {
        "id": "NG1Yf8sKa62m"
      },
      "source": [
        "The ensemble model (weighted averaging) uses the above two models: conv1d and LSTM.\n"
      ]
    },
    {
      "cell_type": "code",
      "metadata": {
        "colab": {
          "base_uri": "https://localhost:8080/"
        },
        "id": "C73ST00ArctK",
        "outputId": "e3870996-07db-40dd-ec98-d035771b5e48"
      },
      "source": [
        "# ensStack_model = get_myEnsStack_model(input_shape=(window_size, feature_dim), models=[my_lr_model, conv1d_model, LSTM_model])\n",
        "ensStack_model = get_myEnsStack_model(input_shape=(window_size, feature_dim), models=[conv1d_model, LSTM_model])\n",
        "ensStack_model.summary()"
      ],
      "execution_count": 53,
      "outputs": [
        {
          "output_type": "stream",
          "text": [
            "Model: \"functional_9\"\n",
            "__________________________________________________________________________________________________\n",
            "Layer (type)                    Output Shape         Param #     Connected to                     \n",
            "==================================================================================================\n",
            "input_5 (InputLayer)            [(None, 20, 60)]     0                                            \n",
            "__________________________________________________________________________________________________\n",
            "functional_1 (Functional)       (None, 1)            64257       input_5[0][0]                    \n",
            "__________________________________________________________________________________________________\n",
            "functional_3 (Functional)       (None, 1)            82977       input_5[0][0]                    \n",
            "__________________________________________________________________________________________________\n",
            "tf_op_layer_stack_1 (TensorFlow [(None, 2, 1)]       0           functional_1[1][0]               \n",
            "                                                                 functional_3[1][0]               \n",
            "__________________________________________________________________________________________________\n",
            "flatten_3 (Flatten)             (None, 2)            0           tf_op_layer_stack_1[0][0]        \n",
            "__________________________________________________________________________________________________\n",
            "dense_4 (Dense)                 (None, 1)            2           flatten_3[0][0]                  \n",
            "==================================================================================================\n",
            "Total params: 147,236\n",
            "Trainable params: 2\n",
            "Non-trainable params: 147,234\n",
            "__________________________________________________________________________________________________\n"
          ],
          "name": "stdout"
        }
      ]
    },
    {
      "cell_type": "code",
      "metadata": {
        "colab": {
          "base_uri": "https://localhost:8080/"
        },
        "id": "LWGMXogMr8tD",
        "outputId": "3664f688-95e2-4d2c-9779-43f9ae1843b7"
      },
      "source": [
        "history = ensStack_model.fit(train_dataset, \n",
        "                            epochs=50, \n",
        "                            steps_per_epoch=len(train_dataset),\n",
        "                            validation_data=validation_dataset, \n",
        "                            validation_steps=len(validation_dataset),\n",
        "                            callbacks=[tf.keras.callbacks.EarlyStopping(monitor='val_root_mean_squared_error', patience=2)],\n",
        "                            verbose=2)"
      ],
      "execution_count": 54,
      "outputs": [
        {
          "output_type": "stream",
          "text": [
            "Epoch 1/50\n",
            "196/196 - 3s - loss: 0.0363 - mean_absolute_error: 0.0852 - root_mean_squared_error: 1.1025 - val_loss: 0.3420 - val_mean_absolute_error: 0.4545 - val_root_mean_squared_error: 6.0776\n",
            "Epoch 2/50\n",
            "196/196 - 2s - loss: 0.0253 - mean_absolute_error: 0.0734 - root_mean_squared_error: 0.9058 - val_loss: 0.1170 - val_mean_absolute_error: 0.2209 - val_root_mean_squared_error: 1.0309\n",
            "Epoch 3/50\n",
            "196/196 - 2s - loss: 0.0605 - mean_absolute_error: 0.1086 - root_mean_squared_error: 1.6827 - val_loss: 0.3081 - val_mean_absolute_error: 0.4129 - val_root_mean_squared_error: 6.0230\n",
            "Epoch 4/50\n",
            "196/196 - 2s - loss: 0.0124 - mean_absolute_error: 0.0601 - root_mean_squared_error: 0.4556 - val_loss: 0.3265 - val_mean_absolute_error: 0.4302 - val_root_mean_squared_error: 6.0632\n"
          ],
          "name": "stdout"
        }
      ]
    },
    {
      "cell_type": "code",
      "metadata": {
        "colab": {
          "base_uri": "https://localhost:8080/"
        },
        "id": "b5zcLDtDvPAV",
        "outputId": "07466438-7da7-4f4e-8295-18abb8cc0414"
      },
      "source": [
        "ensStack_model.evaluate(test_dataset, steps=len(test_dataset))"
      ],
      "execution_count": 55,
      "outputs": [
        {
          "output_type": "stream",
          "text": [
            "29/29 [==============================] - 0s 7ms/step - loss: 0.0034 - mean_absolute_error: 0.0633 - root_mean_squared_error: 0.0824\n"
          ],
          "name": "stdout"
        },
        {
          "output_type": "execute_result",
          "data": {
            "text/plain": [
              "[0.0033911445402893528, 0.06325696437848348, 0.08235465403708354]"
            ]
          },
          "metadata": {
            "tags": []
          },
          "execution_count": 55
        }
      ]
    },
    {
      "cell_type": "markdown",
      "metadata": {
        "id": "-_OseIBW26__"
      },
      "source": [
        "# Model evaluation\n",
        "Here, we will compute the actual root-mean-square error of our predicted level. Also, the predictions are made one by one to simulate the real-time prediction (see the definition of model_eval). "
      ]
    },
    {
      "cell_type": "code",
      "metadata": {
        "colab": {
          "base_uri": "https://localhost:8080/",
          "height": 394
        },
        "id": "caXbeCT9QSMw",
        "outputId": "6d95607a-1a1a-4d66-de04-4205f56cc19e"
      },
      "source": [
        "raw_test_data = feature_data.iloc[-len(test_data):,:].reset_index().drop('index', axis=1)\n",
        "raw_test_data.head()"
      ],
      "execution_count": 56,
      "outputs": [
        {
          "output_type": "execute_result",
          "data": {
            "text/html": [
              "<div>\n",
              "<style scoped>\n",
              "    .dataframe tbody tr th:only-of-type {\n",
              "        vertical-align: middle;\n",
              "    }\n",
              "\n",
              "    .dataframe tbody tr th {\n",
              "        vertical-align: top;\n",
              "    }\n",
              "\n",
              "    .dataframe thead th {\n",
              "        text-align: right;\n",
              "    }\n",
              "</style>\n",
              "<table border=\"1\" class=\"dataframe\">\n",
              "  <thead>\n",
              "    <tr style=\"text-align: right;\">\n",
              "      <th></th>\n",
              "      <th>datetime</th>\n",
              "      <th>sym_level</th>\n",
              "      <th>sym_pct_change_1m</th>\n",
              "      <th>sym_short_ma</th>\n",
              "      <th>sym_short_ma_pct_change_baseline</th>\n",
              "      <th>sym_short_ma_pct_change_10m</th>\n",
              "      <th>sym_short_std</th>\n",
              "      <th>sym_short_std_pct_change_10m</th>\n",
              "      <th>sym_long_ma</th>\n",
              "      <th>sym_long_ma_pct_change_baseline</th>\n",
              "      <th>sym_long_ma_pct_change_60m</th>\n",
              "      <th>sym_long_std</th>\n",
              "      <th>sym_long_std_pct_change_60m</th>\n",
              "      <th>sym_short_ewm</th>\n",
              "      <th>sym_short_ewm_pct_change_baseline</th>\n",
              "      <th>sym_long_ewm</th>\n",
              "      <th>sym_long_ewm_pct_change_baseline</th>\n",
              "      <th>sym_rsi</th>\n",
              "      <th>sym_wma</th>\n",
              "      <th>sym_wma_pct_change</th>\n",
              "      <th>sym_macd</th>\n",
              "      <th>sec_level</th>\n",
              "      <th>sec_pct_change_1m</th>\n",
              "      <th>sec_short_ma</th>\n",
              "      <th>sec_short_ma_pct_change_baseline</th>\n",
              "      <th>sec_short_ma_pct_change_10m</th>\n",
              "      <th>sec_short_std</th>\n",
              "      <th>sec_short_std_pct_change_10m</th>\n",
              "      <th>sec_long_ma</th>\n",
              "      <th>sec_long_ma_pct_change_baseline</th>\n",
              "      <th>sec_long_ma_pct_change_60m</th>\n",
              "      <th>sec_long_std</th>\n",
              "      <th>sec_long_std_pct_change_60m</th>\n",
              "      <th>sec_short_ewm</th>\n",
              "      <th>sec_short_ewm_pct_change_baseline</th>\n",
              "      <th>sec_long_ewm</th>\n",
              "      <th>sec_long_ewm_pct_change_baseline</th>\n",
              "      <th>sec_rsi</th>\n",
              "      <th>sec_wma</th>\n",
              "      <th>sec_wma_pct_change</th>\n",
              "      <th>sec_macd</th>\n",
              "      <th>iss_level</th>\n",
              "      <th>iss_pct_change_1m</th>\n",
              "      <th>iss_short_ma</th>\n",
              "      <th>iss_short_ma_pct_change_baseline</th>\n",
              "      <th>iss_short_ma_pct_change_10m</th>\n",
              "      <th>iss_short_std</th>\n",
              "      <th>iss_short_std_pct_change_10m</th>\n",
              "      <th>iss_long_ma</th>\n",
              "      <th>iss_long_ma_pct_change_baseline</th>\n",
              "      <th>iss_long_ma_pct_change_60m</th>\n",
              "      <th>iss_long_std</th>\n",
              "      <th>iss_long_std_pct_change_60m</th>\n",
              "      <th>iss_short_ewm</th>\n",
              "      <th>iss_short_ewm_pct_change_baseline</th>\n",
              "      <th>iss_long_ewm</th>\n",
              "      <th>iss_long_ewm_pct_change_baseline</th>\n",
              "      <th>iss_rsi</th>\n",
              "      <th>iss_wma</th>\n",
              "      <th>iss_wma_pct_change</th>\n",
              "      <th>iss_macd</th>\n",
              "    </tr>\n",
              "  </thead>\n",
              "  <tbody>\n",
              "    <tr>\n",
              "      <th>0</th>\n",
              "      <td>2020-11-17 13:27:00</td>\n",
              "      <td>-19.403361</td>\n",
              "      <td>-0.003284</td>\n",
              "      <td>-19.868516</td>\n",
              "      <td>0.023973</td>\n",
              "      <td>-0.024959</td>\n",
              "      <td>0.360201</td>\n",
              "      <td>-0.357226</td>\n",
              "      <td>-19.081321</td>\n",
              "      <td>-0.016597</td>\n",
              "      <td>-0.087783</td>\n",
              "      <td>1.842823</td>\n",
              "      <td>-0.284618</td>\n",
              "      <td>-19.874413</td>\n",
              "      <td>0.024277</td>\n",
              "      <td>-19.709231</td>\n",
              "      <td>0.015764</td>\n",
              "      <td>51.035004</td>\n",
              "      <td>-20.215251</td>\n",
              "      <td>-0.003531</td>\n",
              "      <td>-0.165182</td>\n",
              "      <td>98.129968</td>\n",
              "      <td>-0.006414</td>\n",
              "      <td>96.252317</td>\n",
              "      <td>-0.019134</td>\n",
              "      <td>-0.002066</td>\n",
              "      <td>1.347283</td>\n",
              "      <td>-0.178466</td>\n",
              "      <td>98.217438</td>\n",
              "      <td>0.000891</td>\n",
              "      <td>-0.001834</td>\n",
              "      <td>2.865372</td>\n",
              "      <td>-0.281197</td>\n",
              "      <td>96.585498</td>\n",
              "      <td>-0.015739</td>\n",
              "      <td>97.526990</td>\n",
              "      <td>-0.006145</td>\n",
              "      <td>50.644545</td>\n",
              "      <td>96.278895</td>\n",
              "      <td>0.001168</td>\n",
              "      <td>-0.941492</td>\n",
              "      <td>123.653738</td>\n",
              "      <td>0.068046</td>\n",
              "      <td>116.971963</td>\n",
              "      <td>-0.054036</td>\n",
              "      <td>0.010359</td>\n",
              "      <td>3.793172</td>\n",
              "      <td>-0.188026</td>\n",
              "      <td>117.588268</td>\n",
              "      <td>-0.049052</td>\n",
              "      <td>-0.016787</td>\n",
              "      <td>4.514429</td>\n",
              "      <td>-0.255028</td>\n",
              "      <td>117.974452</td>\n",
              "      <td>-0.045929</td>\n",
              "      <td>117.489935</td>\n",
              "      <td>-0.049847</td>\n",
              "      <td>52.082109</td>\n",
              "      <td>116.511582</td>\n",
              "      <td>0.004430</td>\n",
              "      <td>0.484517</td>\n",
              "    </tr>\n",
              "    <tr>\n",
              "      <th>1</th>\n",
              "      <td>2020-11-17 13:29:00</td>\n",
              "      <td>-20.595206</td>\n",
              "      <td>0.061425</td>\n",
              "      <td>-19.919707</td>\n",
              "      <td>-0.032799</td>\n",
              "      <td>-0.019456</td>\n",
              "      <td>0.424714</td>\n",
              "      <td>-0.233977</td>\n",
              "      <td>-19.127554</td>\n",
              "      <td>-0.071262</td>\n",
              "      <td>-0.083644</td>\n",
              "      <td>1.845468</td>\n",
              "      <td>-0.291919</td>\n",
              "      <td>-20.005466</td>\n",
              "      <td>-0.028635</td>\n",
              "      <td>-19.738279</td>\n",
              "      <td>-0.041608</td>\n",
              "      <td>47.256244</td>\n",
              "      <td>-20.223185</td>\n",
              "      <td>0.000392</td>\n",
              "      <td>-0.267187</td>\n",
              "      <td>94.656886</td>\n",
              "      <td>-0.010532</td>\n",
              "      <td>96.048393</td>\n",
              "      <td>0.014701</td>\n",
              "      <td>-0.002962</td>\n",
              "      <td>1.401271</td>\n",
              "      <td>-0.155650</td>\n",
              "      <td>98.007583</td>\n",
              "      <td>0.035398</td>\n",
              "      <td>-0.005917</td>\n",
              "      <td>2.846985</td>\n",
              "      <td>-0.281678</td>\n",
              "      <td>96.097821</td>\n",
              "      <td>0.015223</td>\n",
              "      <td>97.373822</td>\n",
              "      <td>0.028703</td>\n",
              "      <td>47.202551</td>\n",
              "      <td>96.126588</td>\n",
              "      <td>-0.001096</td>\n",
              "      <td>-1.276001</td>\n",
              "      <td>110.636570</td>\n",
              "      <td>-0.042882</td>\n",
              "      <td>117.172157</td>\n",
              "      <td>0.059073</td>\n",
              "      <td>0.022268</td>\n",
              "      <td>3.596547</td>\n",
              "      <td>-0.252789</td>\n",
              "      <td>117.288462</td>\n",
              "      <td>0.060124</td>\n",
              "      <td>-0.021802</td>\n",
              "      <td>4.512052</td>\n",
              "      <td>-0.238805</td>\n",
              "      <td>116.286100</td>\n",
              "      <td>0.051064</td>\n",
              "      <td>117.205095</td>\n",
              "      <td>0.059370</td>\n",
              "      <td>47.831299</td>\n",
              "      <td>116.130358</td>\n",
              "      <td>-0.003021</td>\n",
              "      <td>-0.918995</td>\n",
              "    </tr>\n",
              "    <tr>\n",
              "      <th>2</th>\n",
              "      <td>2020-11-17 13:30:00</td>\n",
              "      <td>-20.240038</td>\n",
              "      <td>-0.017245</td>\n",
              "      <td>-19.933824</td>\n",
              "      <td>-0.015129</td>\n",
              "      <td>-0.017261</td>\n",
              "      <td>0.433585</td>\n",
              "      <td>-0.221934</td>\n",
              "      <td>-19.174126</td>\n",
              "      <td>-0.052664</td>\n",
              "      <td>-0.079086</td>\n",
              "      <td>1.837548</td>\n",
              "      <td>-0.304872</td>\n",
              "      <td>-20.048116</td>\n",
              "      <td>-0.009482</td>\n",
              "      <td>-19.754730</td>\n",
              "      <td>-0.023978</td>\n",
              "      <td>48.433275</td>\n",
              "      <td>-20.207067</td>\n",
              "      <td>-0.000797</td>\n",
              "      <td>-0.293385</td>\n",
              "      <td>98.210008</td>\n",
              "      <td>0.037537</td>\n",
              "      <td>96.242848</td>\n",
              "      <td>-0.020030</td>\n",
              "      <td>0.000201</td>\n",
              "      <td>1.560604</td>\n",
              "      <td>-0.036298</td>\n",
              "      <td>97.995950</td>\n",
              "      <td>-0.002180</td>\n",
              "      <td>-0.006909</td>\n",
              "      <td>2.844668</td>\n",
              "      <td>-0.272672</td>\n",
              "      <td>96.481855</td>\n",
              "      <td>-0.017597</td>\n",
              "      <td>97.401238</td>\n",
              "      <td>-0.008235</td>\n",
              "      <td>50.825297</td>\n",
              "      <td>96.256709</td>\n",
              "      <td>0.001354</td>\n",
              "      <td>-0.919383</td>\n",
              "      <td>122.133485</td>\n",
              "      <td>0.103916</td>\n",
              "      <td>117.553483</td>\n",
              "      <td>-0.037500</td>\n",
              "      <td>0.018851</td>\n",
              "      <td>3.919452</td>\n",
              "      <td>-0.171328</td>\n",
              "      <td>117.251805</td>\n",
              "      <td>-0.039970</td>\n",
              "      <td>-0.024044</td>\n",
              "      <td>4.462514</td>\n",
              "      <td>-0.232088</td>\n",
              "      <td>117.349261</td>\n",
              "      <td>-0.039172</td>\n",
              "      <td>117.366681</td>\n",
              "      <td>-0.039029</td>\n",
              "      <td>51.522511</td>\n",
              "      <td>116.536354</td>\n",
              "      <td>0.003496</td>\n",
              "      <td>-0.017421</td>\n",
              "    </tr>\n",
              "    <tr>\n",
              "      <th>3</th>\n",
              "      <td>2020-11-17 13:31:00</td>\n",
              "      <td>-21.538845</td>\n",
              "      <td>0.064170</td>\n",
              "      <td>-20.149551</td>\n",
              "      <td>-0.064502</td>\n",
              "      <td>0.001355</td>\n",
              "      <td>0.623404</td>\n",
              "      <td>0.110188</td>\n",
              "      <td>-19.235441</td>\n",
              "      <td>-0.106942</td>\n",
              "      <td>-0.073533</td>\n",
              "      <td>1.854256</td>\n",
              "      <td>-0.305467</td>\n",
              "      <td>-20.319157</td>\n",
              "      <td>-0.056627</td>\n",
              "      <td>-19.813226</td>\n",
              "      <td>-0.080117</td>\n",
              "      <td>44.662792</td>\n",
              "      <td>-20.272683</td>\n",
              "      <td>0.003247</td>\n",
              "      <td>-0.505931</td>\n",
              "      <td>93.979828</td>\n",
              "      <td>-0.043073</td>\n",
              "      <td>96.160708</td>\n",
              "      <td>0.023206</td>\n",
              "      <td>0.001611</td>\n",
              "      <td>1.663160</td>\n",
              "      <td>0.006264</td>\n",
              "      <td>97.862751</td>\n",
              "      <td>0.041317</td>\n",
              "      <td>-0.009458</td>\n",
              "      <td>2.842455</td>\n",
              "      <td>-0.271209</td>\n",
              "      <td>96.026941</td>\n",
              "      <td>0.021782</td>\n",
              "      <td>97.289061</td>\n",
              "      <td>0.035212</td>\n",
              "      <td>46.864851</td>\n",
              "      <td>96.109217</td>\n",
              "      <td>-0.001532</td>\n",
              "      <td>-1.262120</td>\n",
              "      <td>117.338706</td>\n",
              "      <td>-0.039259</td>\n",
              "      <td>117.837865</td>\n",
              "      <td>0.004254</td>\n",
              "      <td>0.026412</td>\n",
              "      <td>3.773317</td>\n",
              "      <td>-0.145176</td>\n",
              "      <td>117.162721</td>\n",
              "      <td>-0.001500</td>\n",
              "      <td>-0.025387</td>\n",
              "      <td>4.405223</td>\n",
              "      <td>-0.242421</td>\n",
              "      <td>117.347342</td>\n",
              "      <td>0.000074</td>\n",
              "      <td>117.365764</td>\n",
              "      <td>0.000231</td>\n",
              "      <td>49.996325</td>\n",
              "      <td>116.617837</td>\n",
              "      <td>0.000699</td>\n",
              "      <td>-0.018422</td>\n",
              "    </tr>\n",
              "    <tr>\n",
              "      <th>4</th>\n",
              "      <td>2020-11-17 13:32:00</td>\n",
              "      <td>-22.102952</td>\n",
              "      <td>0.026190</td>\n",
              "      <td>-20.365494</td>\n",
              "      <td>-0.078608</td>\n",
              "      <td>0.015396</td>\n",
              "      <td>0.869528</td>\n",
              "      <td>0.618005</td>\n",
              "      <td>-19.307999</td>\n",
              "      <td>-0.126452</td>\n",
              "      <td>-0.066898</td>\n",
              "      <td>1.880120</td>\n",
              "      <td>-0.301888</td>\n",
              "      <td>-20.643484</td>\n",
              "      <td>-0.066030</td>\n",
              "      <td>-19.888299</td>\n",
              "      <td>-0.100197</td>\n",
              "      <td>43.153378</td>\n",
              "      <td>-20.371256</td>\n",
              "      <td>0.004862</td>\n",
              "      <td>-0.755185</td>\n",
              "      <td>93.560976</td>\n",
              "      <td>-0.004457</td>\n",
              "      <td>96.009206</td>\n",
              "      <td>0.026167</td>\n",
              "      <td>-0.000014</td>\n",
              "      <td>1.833254</td>\n",
              "      <td>0.111106</td>\n",
              "      <td>97.737462</td>\n",
              "      <td>0.044639</td>\n",
              "      <td>-0.012201</td>\n",
              "      <td>2.863911</td>\n",
              "      <td>-0.249115</td>\n",
              "      <td>95.578584</td>\n",
              "      <td>0.021565</td>\n",
              "      <td>97.166829</td>\n",
              "      <td>0.038540</td>\n",
              "      <td>46.493757</td>\n",
              "      <td>95.941808</td>\n",
              "      <td>-0.001742</td>\n",
              "      <td>-1.588245</td>\n",
              "      <td>115.269763</td>\n",
              "      <td>-0.017632</td>\n",
              "      <td>117.695525</td>\n",
              "      <td>0.021044</td>\n",
              "      <td>0.021999</td>\n",
              "      <td>3.847416</td>\n",
              "      <td>-0.127101</td>\n",
              "      <td>117.200228</td>\n",
              "      <td>0.016747</td>\n",
              "      <td>-0.025244</td>\n",
              "      <td>4.378849</td>\n",
              "      <td>-0.243244</td>\n",
              "      <td>116.969600</td>\n",
              "      <td>0.014747</td>\n",
              "      <td>117.297043</td>\n",
              "      <td>0.017587</td>\n",
              "      <td>49.343875</td>\n",
              "      <td>116.569532</td>\n",
              "      <td>-0.000414</td>\n",
              "      <td>-0.327443</td>\n",
              "    </tr>\n",
              "  </tbody>\n",
              "</table>\n",
              "</div>"
            ],
            "text/plain": [
              "             datetime  sym_level  ...  iss_wma_pct_change  iss_macd\n",
              "0 2020-11-17 13:27:00 -19.403361  ...            0.004430  0.484517\n",
              "1 2020-11-17 13:29:00 -20.595206  ...           -0.003021 -0.918995\n",
              "2 2020-11-17 13:30:00 -20.240038  ...            0.003496 -0.017421\n",
              "3 2020-11-17 13:31:00 -21.538845  ...            0.000699 -0.018422\n",
              "4 2020-11-17 13:32:00 -22.102952  ...           -0.000414 -0.327443\n",
              "\n",
              "[5 rows x 61 columns]"
            ]
          },
          "metadata": {
            "tags": []
          },
          "execution_count": 56
        }
      ]
    },
    {
      "cell_type": "code",
      "metadata": {
        "colab": {
          "base_uri": "https://localhost:8080/",
          "height": 282
        },
        "id": "v20tcHn1x8zF",
        "outputId": "620c0761-6873-4e6f-ae83-eeb51a056a99"
      },
      "source": [
        "raw_test_data.plot(y='sym_level')"
      ],
      "execution_count": 57,
      "outputs": [
        {
          "output_type": "execute_result",
          "data": {
            "text/plain": [
              "<matplotlib.axes._subplots.AxesSubplot at 0x7fa7df8230f0>"
            ]
          },
          "metadata": {
            "tags": []
          },
          "execution_count": 57
        },
        {
          "output_type": "display_data",
          "data": {
            "image/png": "[encoded data removed]",
            "text/plain": [
              "<Figure size 432x288 with 1 Axes>"
            ]
          },
          "metadata": {
            "tags": [],
            "needs_background": "light"
          }
        }
      ]
    },
    {
      "cell_type": "code",
      "metadata": {
        "colab": {
          "base_uri": "https://localhost:8080/"
        },
        "id": "BqsVA1DKLgGd",
        "outputId": "7c02b267-c8d4-440f-bfe2-947227ece8d5"
      },
      "source": [
        "print(\"baseline_last_trade_model\")\n",
        "rmse_raw, rmse_pct, rmse_level, preds_pct, preds_level_baseline = model_eval(baseline_last_trade_model, raw_test_data, scaler)\n",
        "print(\"rmse_raw\", rmse_raw, \"rmse_pct\", rmse_pct, \"rmse_level\", rmse_level)\n",
        "print('first 5 predicted levels:')\n",
        "for pred in preds_level_baseline[:5]:\n",
        "  print(pred)\n"
      ],
      "execution_count": 58,
      "outputs": [
        {
          "output_type": "stream",
          "text": [
            "baseline_last_trade_model\n",
            "rmse_raw 0.08554114 rmse_pct 0.04876482 rmse_level 0.66068274\n",
            "first 5 predicted levels:\n",
            "[-26.25381609]\n",
            "[-26.90801472]\n",
            "[-25.67310941]\n",
            "[-25.73473604]\n",
            "[-26.57660906]\n"
          ],
          "name": "stdout"
        }
      ]
    },
    {
      "cell_type": "code",
      "metadata": {
        "colab": {
          "base_uri": "https://localhost:8080/"
        },
        "id": "m0nAp8fnI-zo",
        "outputId": "c0602149-c25e-4fd4-ea91-fa2efe63c70e"
      },
      "source": [
        "print(\"conv1d_model\")\n",
        "rmse_raw, rmse_pct, rmse_level, preds_pct, preds_level_conv1d = model_eval(conv1d_model, raw_test_data, scaler)\n",
        "print(\"rmse_raw\", rmse_raw, \"rmse_pct\", rmse_pct, \"rmse_level\", rmse_level)\n",
        "print('first 5 predicted levels:')\n",
        "for pred in preds_level_conv1d[:5]:\n",
        "  print(pred)\n"
      ],
      "execution_count": 59,
      "outputs": [
        {
          "output_type": "stream",
          "text": [
            "conv1d_model\n",
            "rmse_raw 0.08497221 rmse_pct 0.048801128 rmse_level 0.65985733\n",
            "first 5 predicted levels:\n",
            "[-26.21147552195503]\n",
            "[-26.864619097258146]\n",
            "[-25.63170537225534]\n",
            "[-25.693232614288036]\n",
            "[-26.533747909345145]\n"
          ],
          "name": "stdout"
        }
      ]
    },
    {
      "cell_type": "code",
      "metadata": {
        "colab": {
          "base_uri": "https://localhost:8080/"
        },
        "id": "soeD9Q79Nvj2",
        "outputId": "471d49cd-5b1a-450e-af08-57019e5534e4"
      },
      "source": [
        "print(\"LSTM_model\")\n",
        "rmse_raw, rmse_pct, rmse_level, preds_pct, preds_level_LSTM = model_eval(LSTM_model, raw_test_data, scaler)\n",
        "print(\"rmse_raw\", rmse_raw, \"rmse_pct\", rmse_pct, \"rmse_level\", rmse_level)\n",
        "print('first 5 predicted levels:')\n",
        "for pred in preds_level_LSTM[:5]:\n",
        "  print(pred)\n"
      ],
      "execution_count": 60,
      "outputs": [
        {
          "output_type": "stream",
          "text": [
            "LSTM_model\n",
            "rmse_raw 0.09048414 rmse_pct 0.051966734 rmse_level 0.7297332\n",
            "first 5 predicted levels:\n",
            "[-26.724904652263145]\n",
            "[-27.392421727338277]\n",
            "[-26.13389992604771]\n",
            "[-26.197378231024885]\n",
            "[-27.05421497246174]\n"
          ],
          "name": "stdout"
        }
      ]
    },
    {
      "cell_type": "code",
      "metadata": {
        "colab": {
          "base_uri": "https://localhost:8080/"
        },
        "id": "yBuF4NJnTaQ8",
        "outputId": "8b3811c2-e7a2-45c0-e7ea-119d96577625"
      },
      "source": [
        "print(\"lr_model\")\n",
        "rmse_raw, rmse_pct, rmse_level, preds_pct, preds_level_lr = model_eval(my_lr_model, raw_test_data, scaler)\n",
        "print(\"rmse_raw\", rmse_raw, \"rmse_pct\", rmse_pct, \"rmse_level\", rmse_level)\n",
        "print('first 5 predicted levels:')\n",
        "for pred in preds_level_lr[:5]:\n",
        "  print(pred)\n"
      ],
      "execution_count": 61,
      "outputs": [
        {
          "output_type": "stream",
          "text": [
            "lr_model\n",
            "rmse_raw 0.17375538 rmse_pct 0.09979096 rmse_level 1.5464493\n",
            "first 5 predicted levels:\n",
            "[-28.149873960453423]\n",
            "[-26.24064381720602]\n",
            "[-26.044206815337937]\n",
            "[-26.745940673205332]\n",
            "[-27.025268481265453]\n"
          ],
          "name": "stdout"
        }
      ]
    },
    {
      "cell_type": "code",
      "metadata": {
        "colab": {
          "base_uri": "https://localhost:8080/"
        },
        "id": "QzAkIlsgTHlo",
        "outputId": "b0c24160-e8c4-4453-cd77-ca5989b396dc"
      },
      "source": [
        "print(\"maj_model\")\n",
        "rmse_raw, rmse_pct, rmse_level, preds_pct, preds_level_maj = model_eval(maj_model, raw_test_data, scaler)\n",
        "print(\"rmse_raw\", rmse_raw, \"rmse_pct\", rmse_pct, \"rmse_level\", rmse_level)\n",
        "for pred in preds_level_maj[:5]:\n",
        "  print(pred)\n"
      ],
      "execution_count": 62,
      "outputs": [
        {
          "output_type": "stream",
          "text": [
            "maj_model\n",
            "rmse_raw 0.0860604 rmse_pct 0.049426097 rmse_level 0.67913103\n",
            "[-26.468190087109086]\n",
            "[-27.128520412298215]\n",
            "[-25.882802649151525]\n",
            "[-25.945305422656457]\n",
            "[-26.793981440903444]\n"
          ],
          "name": "stdout"
        }
      ]
    },
    {
      "cell_type": "code",
      "metadata": {
        "id": "tiyOamd7TGSK",
        "colab": {
          "base_uri": "https://localhost:8080/"
        },
        "outputId": "83117305-ab7e-4112-f2a5-6ad05d836d6e"
      },
      "source": [
        "print(\"ensStack_model\")\n",
        "rmse_raw, rmse_pct, rmse_level, preds_pct, preds_level_ens = model_eval(ensStack_model, raw_test_data, scaler)\n",
        "print(\"rmse_raw\", rmse_raw, \"rmse_pct\", rmse_pct, \"rmse_level\", rmse_level)\n",
        "for pred in preds_level_ens[:5]:\n",
        "  print(pred)\n"
      ],
      "execution_count": 63,
      "outputs": [
        {
          "output_type": "stream",
          "text": [
            "ensStack_model\n",
            "rmse_raw 0.085034154 rmse_pct 0.048836704 rmse_level 0.6643882\n",
            "[-26.32668154247334]\n",
            "[-26.98314138956701]\n",
            "[-25.74439754646684]\n",
            "[-25.80640557562115]\n",
            "[-26.650574949356226]\n"
          ],
          "name": "stdout"
        }
      ]
    },
    {
      "cell_type": "code",
      "metadata": {
        "id": "ISeabJFARb8Q",
        "colab": {
          "base_uri": "https://localhost:8080/",
          "height": 281
        },
        "outputId": "65e3fede-3a41-4664-ae83-457f41fc3da1"
      },
      "source": [
        "dates = raw_test_data.iloc[window_size:, 0]\n",
        "target_level = raw_test_data.iloc[window_size:, 1]\n",
        "\n",
        "\n",
        "plt.plot(range(len(target_level)), target_level, label='target')\n",
        "plt.plot(range(len(preds_level_ens)), preds_level_ens, label='ensemble') \n",
        "plt.plot(range(len(preds_level_baseline)), preds_level_baseline, label='baseline')\n",
        "plt.legend()\n",
        "plt.title('Results')\n",
        "plt.show()\n"
      ],
      "execution_count": 64,
      "outputs": [
        {
          "output_type": "display_data",
          "data": {
            "image/png": "[encoded data removed]",
            "text/plain": [
              "<Figure size 432x288 with 1 Axes>"
            ]
          },
          "metadata": {
            "tags": [],
            "needs_background": "light"
          }
        }
      ]
    },
    {
      "cell_type": "markdown",
      "metadata": {
        "id": "14qzgvkTco0j"
      },
      "source": [
        "Zoom-in plots"
      ]
    },
    {
      "cell_type": "code",
      "metadata": {
        "id": "_78LhY9wI-zr",
        "colab": {
          "base_uri": "https://localhost:8080/",
          "height": 265
        },
        "outputId": "65d7ff9a-f440-44b8-eda8-c670e996383d"
      },
      "source": [
        "len_data = 10\n",
        "zoomed_dates = raw_test_data.iloc[window_size:window_size+len_data, 0]\n",
        "zoomed_target_level = raw_test_data.iloc[window_size:window_size+len_data, 1]\n",
        "zoomed_preds_level_ens = preds_level_ens[:len_data]\n",
        "zoomed_preds_level_baseline = preds_level_baseline[:len_data]\n",
        "\n",
        "plt.plot(zoomed_dates, zoomed_target_level, label='target')\n",
        "plt.plot(zoomed_dates, zoomed_preds_level_ens, label='prediction')\n",
        "plt.plot(zoomed_dates, zoomed_preds_level_baseline, label='baseline')\n",
        "plt.legend()\n",
        "\n",
        "plt.show()"
      ],
      "execution_count": 65,
      "outputs": [
        {
          "output_type": "display_data",
          "data": {
            "image/png": "[encoded data removed]",
            "text/plain": [
              "<Figure size 432x288 with 1 Axes>"
            ]
          },
          "metadata": {
            "tags": [],
            "needs_background": "light"
          }
        }
      ]
    },
    {
      "cell_type": "markdown",
      "metadata": {
        "id": "GPxWwcz6PsSp"
      },
      "source": [
        "# Future work to improve the result: \n",
        "\n",
        "1.   Use cross-validation (time series) to determine hyperparameters, such as window_size, feature dimensions, number of layers, neurons in the neural networks.\n",
        "2.   Add more learned models to the ensemble model, such as support vector regressor, xgboost, random forest, etc. \n",
        "\n"
      ]
    },
    {
      "cell_type": "markdown",
      "metadata": {
        "id": "5oqu5IHgPscH"
      },
      "source": [
        "# Online version of the model\n",
        "In the current ensemble model, the weights of each model are also trained offline. \n",
        "\n",
        "Suppose we have $n$ trained (offline) models (experts). One approach to make it online:\n",
        "\n",
        "We can formulate the online learning problem as a multi-armed bandit problem: at each time step, we pick an individual model (according to some learned distribution) and observe the cost (between prediction and the actual level); there are several well-known algorithms to achieve this, such as $\\epsilon$-greedy, Upper Confidence Bounds (UCB), and Bayesian variants of UCBs. \n",
        "\n",
        "There are also online algorithms that can compute weighted average of $n$ experts, see the reference below. \n",
        "\n",
        "Reference: \n",
        "Cesa-Bianchi, Nicolo, and Gábor Lugosi. Prediction, Learning, and Games. Cambridge university press, 2006.\n",
        "\n",
        "\n",
        "\n"
      ]
    },
    {
      "cell_type": "code",
      "metadata": {
        "id": "IhaN8Med8Uf-"
      },
      "source": [
        ""
      ],
      "execution_count": 65,
      "outputs": []
    }
  ]
}