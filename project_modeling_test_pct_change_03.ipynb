{
  "nbformat": 4,
  "nbformat_minor": 0,
  "metadata": {
    "accelerator": "GPU",
    "colab": {
      "name": "project_modeling_test_pct_change.ipynb",
      "provenance": [],
      "collapsed_sections": []
    },
    "kernelspec": {
      "display_name": "Python 3",
      "language": "python",
      "name": "python3"
    },
    "language_info": {
      "codemirror_mode": {
        "name": "ipython",
        "version": 3
      },
      "file_extension": ".py",
      "mimetype": "text/x-python",
      "name": "python",
      "nbconvert_exporter": "python",
      "pygments_lexer": "ipython3",
      "version": "3.8.5"
    }
  },
  "cells": [
    {
      "cell_type": "code",
      "metadata": {
        "colab": {
          "base_uri": "https://localhost:8080/"
        },
        "id": "4KKRBHQ3I-ym",
        "outputId": "e5f2c904-7744-457b-b9d5-a74176faf3f9"
      },
      "source": [
        "!python --version"
      ],
      "execution_count": 1,
      "outputs": [
        {
          "output_type": "stream",
          "text": [
            "Python 3.6.9\n"
          ],
          "name": "stdout"
        }
      ]
    },
    {
      "cell_type": "code",
      "metadata": {
        "id": "AB_y1LAPI-y2"
      },
      "source": [
        "import pandas as pd\n",
        "pd.options.mode.chained_assignment = None  # default='warn'"
      ],
      "execution_count": 2,
      "outputs": []
    },
    {
      "cell_type": "code",
      "metadata": {
        "colab": {
          "base_uri": "https://localhost:8080/",
          "height": 35
        },
        "id": "lzz2cZgcI-y6",
        "outputId": "dedf4872-14d9-4b17-95c3-0f16c3827df6"
      },
      "source": [
        "pd.__version__"
      ],
      "execution_count": 3,
      "outputs": [
        {
          "output_type": "execute_result",
          "data": {
            "application/vnd.google.colaboratory.intrinsic+json": {
              "type": "string"
            },
            "text/plain": [
              "'1.1.5'"
            ]
          },
          "metadata": {
            "tags": []
          },
          "execution_count": 3
        }
      ]
    },
    {
      "cell_type": "code",
      "metadata": {
        "colab": {
          "base_uri": "https://localhost:8080/"
        },
        "id": "lrEOU_btJDW1",
        "outputId": "cd7b6a18-26ea-48f7-b1f1-ce682174d91e"
      },
      "source": [
        "# Run this cell to connect to your Drive folder\n",
        "\n",
        "from google.colab import drive\n",
        "drive.mount('/content/gdrive')"
      ],
      "execution_count": 4,
      "outputs": [
        {
          "output_type": "stream",
          "text": [
            "Drive already mounted at /content/gdrive; to attempt to forcibly remount, call drive.mount(\"/content/gdrive\", force_remount=True).\n"
          ],
          "name": "stdout"
        }
      ]
    },
    {
      "cell_type": "code",
      "metadata": {
        "colab": {
          "base_uri": "https://localhost:8080/"
        },
        "id": "M1nYg0vyI-y7",
        "outputId": "815e94da-c789-4b19-aeee-880a2009efa0"
      },
      "source": [
        "import numpy as np\n",
        "from sklearn.model_selection import TimeSeriesSplit\n",
        "import matplotlib as mpl\n",
        "import matplotlib.pyplot as plt\n",
        "import tensorflow as tf\n",
        "tf.keras.backend.set_floatx('float64')\n",
        "from tensorflow.keras.preprocessing.sequence import TimeseriesGenerator\n",
        "from tensorflow.keras.layers import Conv1D, Input, Flatten, Dense, LSTM, Dropout\n",
        "from tensorflow.keras import Model\n",
        "\n",
        "from statsmodels.tsa.stattools import adfuller\n",
        "from sklearn.preprocessing import StandardScaler, MinMaxScaler\n"
      ],
      "execution_count": 5,
      "outputs": [
        {
          "output_type": "stream",
          "text": [
            "/usr/local/lib/python3.6/dist-packages/statsmodels/tools/_testing.py:19: FutureWarning: pandas.util.testing is deprecated. Use the functions in the public API at pandas.testing instead.\n",
            "  import pandas.util.testing as tm\n"
          ],
          "name": "stderr"
        }
      ]
    },
    {
      "cell_type": "code",
      "metadata": {
        "colab": {
          "base_uri": "https://localhost:8080/",
          "height": 35
        },
        "id": "8Gv4UKmQI-y9",
        "outputId": "3cfd657e-b3a9-4c1d-e2da-40f6a9089c67"
      },
      "source": [
        "tf.__version__"
      ],
      "execution_count": 6,
      "outputs": [
        {
          "output_type": "execute_result",
          "data": {
            "application/vnd.google.colaboratory.intrinsic+json": {
              "type": "string"
            },
            "text/plain": [
              "'2.3.0'"
            ]
          },
          "metadata": {
            "tags": []
          },
          "execution_count": 6
        }
      ]
    },
    {
      "cell_type": "markdown",
      "metadata": {
        "id": "qwvjio6Rp2ml"
      },
      "source": [
        "Technical indicators: these indicators are widely-used for stock price data. "
      ]
    },
    {
      "cell_type": "code",
      "metadata": {
        "id": "Ss_InUNRp1jJ"
      },
      "source": [
        "## https://stackoverflow.com/questions/57006437/calculate-rsi-indicator-from-pandas-dataframe/57037866\n",
        "def RSI(df, n=14):\n",
        "  df = pd.DataFrame(df)\n",
        "  def rma(x, n, y0):\n",
        "      a = (n-1) / n\n",
        "      ak = a**np.arange(len(x)-1, -1, -1)\n",
        "      return np.append(y0, np.cumsum(ak * x) / ak / n + y0 * a**np.arange(1, len(x)+1))\n",
        "\n",
        "  df['change'] = df.iloc[:].diff()\n",
        "  df['gain'] = df['change'].mask(df.change < 0, 0.0)\n",
        "  df['loss'] = -df['change'].mask(df.change > 0, -0.0)\n",
        "  df.loc[n:,'avg_gain'] = rma( df.loc[n+1:,'gain'].values, n, df.loc[:n, 'gain'].mean())\n",
        "  df.loc[n:,'avg_loss'] = rma( df.loc[n+1:,'loss'].values, n, df.loc[:n, 'loss'].mean())\n",
        "  df['rs'] = df.avg_gain / df.avg_loss\n",
        "  df['rsi_14'] = 100 - (100 / (1 + df['rs']))\n",
        "  return df['rsi_14']\n",
        "\n",
        "def weighted_moving_average(df, n=30):\n",
        "  df = pd.DataFrame(df)\n",
        "  weights = np.arange(1, n+1)\n",
        "  res = df.iloc[:].rolling(n).apply(lambda x: np.dot(x, weights)/weights.sum(), raw=True)\n",
        "  return res\n",
        "\n",
        "## similar to Moving Average Convergence Divergence (MACD)\n",
        "def MACD(df, slow=60, fast=10):\n",
        "  df = pd.DataFrame(df)\n",
        "  exp1 = df.ewm(span=fast, adjust=False).mean()\n",
        "  exp2 = df.ewm(span=slow, adjust=False).mean()\n",
        "  macd = exp1-exp2\n",
        "  return macd"
      ],
      "execution_count": 7,
      "outputs": []
    },
    {
      "cell_type": "code",
      "metadata": {
        "id": "8nehk6kZI-y-"
      },
      "source": [
        "def create_features(data, name):\n",
        "    data = data[['datetime', 'level']]\n",
        "    data['pct_change_1m'] = data['level'].pct_change(periods=1)\n",
        "    \n",
        "    data['short_ma'] = data['level'].rolling(window=10).mean()\n",
        "    data['short_ma_pct_change_baseline'] = (data['short_ma']-data['level'])/data['level']\n",
        "    data['short_ma_pct_change_10m'] = data['short_ma'].pct_change(periods=10)\n",
        "    data['short_std'] = data['level'].rolling(window=10).std()\n",
        "    data['short_std_pct_change_10m'] = data['short_std'].pct_change(periods=10)\n",
        "\n",
        "    data['long_ma'] = data['level'].rolling(window=60).mean()\n",
        "    data['long_ma_pct_change_baseline'] = (data['long_ma']-data['level'])/data['level']\n",
        "    data['long_ma_pct_change_60m'] = data['long_ma'].pct_change(periods=60)\n",
        "    data['long_std'] = data['level'].rolling(window=60).std()\n",
        "    data['long_std_pct_change_60m'] = data['long_std'].pct_change(periods=60)\n",
        "\n",
        "    data['short_ewm'] = data['level'].ewm(span=10, adjust=False).mean()\n",
        "    data['short_ewm_pct_change_baseline'] = (data['short_ewm']-data['level'])/data['level']\n",
        "\n",
        "    data['long_ewm'] = data['level'].ewm(span=60, adjust=False).mean()\n",
        "    data['long_ewm_pct_change_baseline'] = (data['long_ewm']-data['level'])/data['level']\n",
        "\n",
        "    ## technical indicators\n",
        "    data['rsi'] = RSI(data['level'], n=30)\n",
        "    data['wma'] = weighted_moving_average(data['level'], n=30)\n",
        "    data['wma_pct_change'] = data['wma'].pct_change(periods=1)\n",
        "    data['macd'] = MACD(data['level'], slow=60, fast=10)\n",
        "\n",
        "    # data = data.drop(['level', 'short_ma', 'long_ma', 'short_std', 'long_std', 'short_ewm', 'long_ewm'], axis=1)\n",
        "    # data = data.drop(['level', 'short_ma', 'long_ma', 'short_std', 'long_std'], axis=1)\n",
        "\n",
        "    rename_mapper = {col: name+'_'+col for col in data.columns[1:]}\n",
        "    data = data.rename(columns=rename_mapper)\n",
        "    return data"
      ],
      "execution_count": 8,
      "outputs": []
    },
    {
      "cell_type": "code",
      "metadata": {
        "id": "11iG1ltsI-y-"
      },
      "source": [
        "def create_dataset(data, window_size=5, batch_size=32, shuffle=False):\n",
        "    data = data.dropna()\n",
        "    data = data.reset_index()\n",
        "    data = data.drop(['index', 'datetime'], axis=1)\n",
        "    # target = np.concatenate((np.zeros(window_size), data['sym_pct_change_1m'][window_size:]))\n",
        "    target =  data['sym_pct_change_1m']\n",
        "    x = np.array(data)\n",
        "    \n",
        "    ts_dataset = TimeseriesGenerator(x, target, \n",
        "                                     length=window_size, \n",
        "                                     stride=1,\n",
        "                                     batch_size=batch_size, \n",
        "                                     shuffle=shuffle)\n",
        "    \n",
        "    return ts_dataset\n",
        "    "
      ],
      "execution_count": 9,
      "outputs": []
    },
    {
      "cell_type": "code",
      "metadata": {
        "id": "V9zjjioZI-y_"
      },
      "source": [
        "def train_val_test_split(data, window_size=5, batch_size=32, train_pct=0.7, val_pct=0.2, shuffle=False):\n",
        "    data = data.dropna()\n",
        "    n = data.shape[0]\n",
        "    n_train = int(n*train_pct)\n",
        "    n_validation = int(n*val_pct)\n",
        "    n_test = n-n_train-n_validation\n",
        "    print(\"number of total data samples\", n, \"n_train\", n_train, \"n_validation\", n_validation, \"n_test\", n_test)\n",
        "    train_data = data.iloc[:n_train].copy()\n",
        "    validation_data = data.iloc[n_train-window_size:n_train+n_validation].copy()\n",
        "    test_data = data.iloc[n_train+n_validation-window_size:].copy()\n",
        "    \n",
        "    ## feature scaling\n",
        "    scaler = StandardScaler()\n",
        "    # scaler = MinMaxScaler()\n",
        "    train_data.iloc[:, 1:] = scaler.fit_transform(train_data.iloc[:, 1:])\n",
        "    validation_data.iloc[:, 1:] = scaler.transform(validation_data.iloc[:, 1:])\n",
        "    test_data.iloc[:, 1:] = scaler.transform(test_data.iloc[:, 1:])\n",
        "\n",
        "    ## here, we can temporily use (batch_size=1, shuffle=False) to verify that the dataset object is correct\n",
        "    train_dataset = create_dataset(train_data, window_size=window_size, \n",
        "                                   batch_size=batch_size, shuffle=shuffle)\n",
        "    print(\"train number of batches\", len(train_dataset))\n",
        "    validation_dataset = create_dataset(validation_data, window_size=window_size, \n",
        "                                        batch_size=batch_size, shuffle=shuffle)\n",
        "    print(\"validation number of batches\", len(validation_dataset))\n",
        "    test_dataset = create_dataset(test_data, window_size=window_size, \n",
        "                                  batch_size=batch_size, shuffle=shuffle)\n",
        "    print(\"test number of batches\", len(test_dataset))\n",
        "    \n",
        "#     i = 0\n",
        "#     for x, y in train_dataset:\n",
        "#         assert np.array_equal(x[0], np.array(data.iloc[i:i+window_size, 1:]))\n",
        "#         assert np.array_equal(y[0], np.array(data.iloc[i+window_size, 1]))\n",
        "#         i += 1\n",
        "\n",
        "#     for x, y in validation_dataset:\n",
        "#         assert np.array_equal(x[0], np.array(data.iloc[i:i+window_size, 1:]))\n",
        "#         assert np.array_equal(y[0], np.array(data.iloc[i+window_size, 1]))\n",
        "#         i += 1\n",
        "    \n",
        "#     for x, y in test_dataset:\n",
        "#         assert np.array_equal(x[0], np.array(data.iloc[i:i+window_size, 1:]))\n",
        "#         assert np.array_equal(y[0], np.array(data.iloc[i+window_size, 1]))\n",
        "#         i += 1\n",
        "        \n",
        "    return train_dataset, validation_dataset, test_dataset, test_data, scaler"
      ],
      "execution_count": 10,
      "outputs": []
    },
    {
      "cell_type": "markdown",
      "metadata": {
        "id": "h-QqoC1FMeKF"
      },
      "source": [
        "Baseline model: use the value from last trade"
      ]
    },
    {
      "cell_type": "code",
      "metadata": {
        "id": "8XTxQyorMU4d"
      },
      "source": [
        "class Baseline_last_trade(Model):\n",
        "    def __init__(self, name=None):\n",
        "        super().__init__()\n",
        "        self.model_name = 'Baseline_last_trade'\n",
        "\n",
        "    def call(self, inputs):\n",
        "        return tf.zeros_like(inputs[:, -1:, 0])"
      ],
      "execution_count": 11,
      "outputs": []
    },
    {
      "cell_type": "markdown",
      "metadata": {
        "id": "rUUWpIR2I-zc"
      },
      "source": [
        "Baseline model class: use moving average from previous trades"
      ]
    },
    {
      "cell_type": "code",
      "metadata": {
        "id": "TuWV25qEI-zd"
      },
      "source": [
        "class Baseline_ma(Model):\n",
        "    def __init__(self, ma_index=None):\n",
        "        super().__init__()\n",
        "        if ma_index is None:\n",
        "            raise ValueError('Index of moving average is needed for this baseline model')\n",
        "        self.ma_index = ma_index\n",
        "\n",
        "    def call(self, inputs):\n",
        "        result = inputs[:, -1:, self.ma_index]\n",
        "        return result"
      ],
      "execution_count": 12,
      "outputs": []
    },
    {
      "cell_type": "markdown",
      "metadata": {
        "id": "gJ8wN0viN-aY"
      },
      "source": [
        "Conv1D model"
      ]
    },
    {
      "cell_type": "code",
      "metadata": {
        "id": "XxHw3heSMXgh"
      },
      "source": [
        "def get_conv1d_model(input_shape, conv_width=None, filter_size=None):\n",
        "    if conv_width is None:\n",
        "        raise ValueError(\"conv_width is needed as a list of integers\")\n",
        "    if filter_size is None:\n",
        "        raise ValueError(\"filter_size is needed as a list of integers\")\n",
        "    if len(conv_width) != len(filter_size):\n",
        "        raise ValueError(\"len(conv_width) != filter_size\")\n",
        "    \n",
        "    input_ = Input(input_shape)\n",
        "    x = input_\n",
        "    for width, filters in zip(conv_width, filter_size):\n",
        "        x = Conv1D(filters=filters, kernel_size=(width,), activation='relu')(x)\n",
        "        x = Dropout(0.5)(x)\n",
        "\n",
        "    x = Flatten()(x)\n",
        "#     x = Dense(64)(x)\n",
        "    # x = Dense(16)(x)\n",
        "    output_ = Dense(1)(x)\n",
        "    model = Model(inputs=input_, outputs=output_)\n",
        "    model.compile(loss=tf.losses.Huber(delta=0.01),\n",
        "                optimizer=tf.optimizers.Adam(learning_rate=0.001),\n",
        "                metrics=[tf.metrics.MeanAbsoluteError(), tf.keras.metrics.RootMeanSquaredError()])\n",
        "    return model"
      ],
      "execution_count": 13,
      "outputs": []
    },
    {
      "cell_type": "markdown",
      "metadata": {
        "id": "S1nuklCyOJT7"
      },
      "source": [
        "LSTM model"
      ]
    },
    {
      "cell_type": "code",
      "metadata": {
        "id": "wLsmKpE-MXuf"
      },
      "source": [
        "def get_LSTM_model(input_shape, units_list=None):\n",
        "    if units_list is None:\n",
        "        raise ValueError(\"units is needed as a list of integers\")\n",
        "    \n",
        "    input_ = Input(input_shape)\n",
        "    x = input_\n",
        "    for units in units_list:\n",
        "        x = LSTM(units, return_sequences=True, activation='tanh')(x)\n",
        "        x = Dropout(0.5)(x)\n",
        "        \n",
        "    x = LSTM(units_list[-1], activation='tanh')(x)\n",
        "    x = Dense(units_list[-1])(x)\n",
        "    output_ = Dense(1)(x)\n",
        "    model = Model(inputs=input_, outputs=output_)\n",
        "    model.compile(loss=tf.losses.Huber(),\n",
        "                optimizer=tf.optimizers.Adam(learning_rate=0.1),\n",
        "                metrics=[tf.metrics.MeanAbsoluteError(), tf.keras.metrics.RootMeanSquaredError()])\n",
        "    return model"
      ],
      "execution_count": 14,
      "outputs": []
    },
    {
      "cell_type": "markdown",
      "metadata": {
        "id": "H1rSXgVxmyiH"
      },
      "source": [
        "Linear regression model: to avoid overfitting, the window_size is reduced"
      ]
    },
    {
      "cell_type": "code",
      "metadata": {
        "id": "xihOov1vmxvk"
      },
      "source": [
        "def get_lr_model(input_shape, lr_window_size=5, units_list=None):\n",
        "    input_ = Input(input_shape)\n",
        "    x = input_[:, -lr_window_size:, :]\n",
        "    x = Flatten()(x)\n",
        "    output_ = Dense(1, kernel_regularizer='l1', bias_regularizer='l1')(x)\n",
        "    model = Model(inputs=input_, outputs=output_)\n",
        "    model.compile(loss=tf.losses.Huber(),\n",
        "                optimizer=tf.optimizers.Adam(learning_rate=0.01),\n",
        "                metrics=[tf.metrics.MeanAbsoluteError(), tf.keras.metrics.RootMeanSquaredError()])\n",
        "    return model"
      ],
      "execution_count": 15,
      "outputs": []
    },
    {
      "cell_type": "markdown",
      "metadata": {
        "id": "EFPEatxPqqSh"
      },
      "source": [
        "Ensemble model #1: simple average"
      ]
    },
    {
      "cell_type": "code",
      "metadata": {
        "id": "hGblgk5gqqeT"
      },
      "source": [
        "def get_myMajority_model(input_shape, models=None):\n",
        "    if models is None:\n",
        "        raise ValueError('models are needed for this ensemble model')\n",
        "    for model in models:\n",
        "      model.trainable = False\n",
        "    input_ = Input(input_shape)\n",
        "    outputs_ = [model(input_) for model in models]\n",
        "    outputs_ = tf.stack(outputs_, axis=1)\n",
        "    outputs_ = Flatten()(outputs_)\n",
        "    outputs_ = tf.math.reduce_mean(outputs_, axis=1, keepdims=True)\n",
        "    model = Model(inputs=input_, outputs=outputs_)\n",
        "    model.compile(loss=tf.losses.Huber(),\n",
        "                optimizer=tf.optimizers.Adam(learning_rate=0.001),\n",
        "                metrics=[tf.metrics.MeanAbsoluteError(), tf.keras.metrics.RootMeanSquaredError()])\n",
        "    return model"
      ],
      "execution_count": 16,
      "outputs": []
    },
    {
      "cell_type": "markdown",
      "metadata": {
        "id": "yfYZc-QQqwdJ"
      },
      "source": [
        "Ensemble model #2: learned weighted average"
      ]
    },
    {
      "cell_type": "code",
      "metadata": {
        "id": "37AZfEh5qwu6"
      },
      "source": [
        "def get_myEnsStack_model(input_shape, models=None):\n",
        "    if models is None:\n",
        "        raise ValueError('models are needed for this ensemble model')\n",
        "    for model in models:\n",
        "      model.trainable = False\n",
        "    input_ = Input(input_shape)\n",
        "    outputs_ = [model(input_) for model in models]\n",
        "    outputs_ = tf.stack(outputs_, axis=1)\n",
        "    outputs_ = Flatten()(outputs_)\n",
        "    outputs_ = Dense(1, use_bias=False)(outputs_)\n",
        "    model = Model(inputs=input_, outputs=outputs_)\n",
        "    model.compile(loss=tf.losses.Huber(),\n",
        "                optimizer=tf.optimizers.Adam(learning_rate=0.001),\n",
        "                metrics=[tf.metrics.MeanAbsoluteError(), tf.keras.metrics.RootMeanSquaredError()])\n",
        "    return model"
      ],
      "execution_count": 17,
      "outputs": []
    },
    {
      "cell_type": "markdown",
      "metadata": {
        "id": "XE6k5HAvgLG4"
      },
      "source": [
        "The following function helps compute the actual root-mean-square error of our predicted level. Also, the predictions are made one by one to simulate the real-time prediction."
      ]
    },
    {
      "cell_type": "code",
      "metadata": {
        "id": "bD4CIN3Zbn-i"
      },
      "source": [
        "def model_eval(model, data, scaler):\n",
        "    i = 0\n",
        "    RMSE_raw = []\n",
        "    RMSE_pct = []\n",
        "    RMSE_level = []\n",
        "\n",
        "    preds_raw = []\n",
        "    preds_pct = []\n",
        "    preds_level = []\n",
        "    for i in range(len(data)-window_size):\n",
        "      input_ = data.iloc[i:i+window_size, 1:]\n",
        "      input_ = scaler.transform(input_)\n",
        "      # print(input_[0])\n",
        "      input_ = tf.expand_dims(input_, axis=0)\n",
        "\n",
        "      last_row = data.iloc[i+window_size-1, 1:]\n",
        "      last_price = last_row[0]\n",
        "\n",
        "      target_row = np.array(data.iloc[i+window_size, 1:])\n",
        "      target_row = np.expand_dims(target_row, axis=0)\n",
        "      transformed_target_row = scaler.transform(target_row)\n",
        "      transformed_target = transformed_target_row[:, 1]\n",
        "      target_level = target_row[:, 0]\n",
        "      target_pct = target_row[:, 1]\n",
        "      \n",
        "      transformed_pred_pct = model(input_).numpy()[0, 0]\n",
        "      transformed_pred_row = np.zeros_like(target_row)\n",
        "      transformed_pred_row[:, 1] = transformed_pred_pct\n",
        "      pred_row = scaler.inverse_transform(transformed_pred_row)\n",
        "\n",
        "      if hasattr(model, 'model_name') and model.model_name == 'Baseline_last_trade':\n",
        "        pred_pct = np.array([0.0])\n",
        "      else:\n",
        "        pred_pct = pred_row[:, 1]\n",
        "\n",
        "      pred_level = last_price * (1+pred_pct)\n",
        "      preds_pct.append(pred_pct)\n",
        "      preds_level.append(pred_level)\n",
        "\n",
        "      RMSE_raw.append(tf.math.squared_difference(transformed_target.astype('float32'), transformed_pred_pct.astype('float32')))\n",
        "      RMSE_pct.append(tf.math.squared_difference(target_pct.astype('float32'), pred_pct.astype('float32')))\n",
        "      RMSE_level.append(tf.math.squared_difference(target_level.astype('float32'), pred_level.astype('float32')))\n",
        "\n",
        "      rmse_raw = tf.math.sqrt(tf.math.reduce_mean(RMSE_raw)).numpy()\n",
        "      rmse_pct = tf.math.sqrt(tf.math.reduce_mean(RMSE_pct)).numpy()\n",
        "      rmse_level = tf.math.sqrt(tf.math.reduce_mean(RMSE_level)).numpy()\n",
        "      # break\n",
        "      \n",
        "    return rmse_raw, rmse_pct, rmse_level, preds_pct, preds_level"
      ],
      "execution_count": 18,
      "outputs": []
    },
    {
      "cell_type": "markdown",
      "metadata": {
        "id": "3fwcdejkn-Ou"
      },
      "source": [
        "# Load data"
      ]
    },
    {
      "cell_type": "code",
      "metadata": {
        "colab": {
          "base_uri": "https://localhost:8080/",
          "height": 258
        },
        "id": "hjcU6qq6boHi",
        "outputId": "a581cb86-7a68-4a79-b85c-50784e0477b9"
      },
      "source": [
        "file_path = \"/content/gdrive/My Drive/Colab Notebooks/project_modeling_test/bond_spreads.csv\"\n",
        "data = pd.read_csv(file_path, index_col=0)\n",
        "data['datetime'] = pd.to_datetime(data['datetime'])\n",
        "data.sort_values(by='datetime')\n",
        "data.head()"
      ],
      "execution_count": 19,
      "outputs": [
        {
          "output_type": "stream",
          "text": [
            "/usr/local/lib/python3.6/dist-packages/numpy/lib/arraysetops.py:569: FutureWarning: elementwise comparison failed; returning scalar instead, but in the future will perform elementwise comparison\n",
            "  mask |= (ar1 == a)\n"
          ],
          "name": "stderr"
        },
        {
          "output_type": "execute_result",
          "data": {
            "text/html": [
              "<div>\n",
              "<style scoped>\n",
              "    .dataframe tbody tr th:only-of-type {\n",
              "        vertical-align: middle;\n",
              "    }\n",
              "\n",
              "    .dataframe tbody tr th {\n",
              "        vertical-align: top;\n",
              "    }\n",
              "\n",
              "    .dataframe thead th {\n",
              "        text-align: right;\n",
              "    }\n",
              "</style>\n",
              "<table border=\"1\" class=\"dataframe\">\n",
              "  <thead>\n",
              "    <tr style=\"text-align: right;\">\n",
              "      <th></th>\n",
              "      <th>datetime</th>\n",
              "      <th>sym</th>\n",
              "      <th>level</th>\n",
              "    </tr>\n",
              "  </thead>\n",
              "  <tbody>\n",
              "    <tr>\n",
              "      <th>0</th>\n",
              "      <td>2020-11-01 08:00:00</td>\n",
              "      <td>US0ATXMR1KXH</td>\n",
              "      <td>135.484079</td>\n",
              "    </tr>\n",
              "    <tr>\n",
              "      <th>1</th>\n",
              "      <td>2020-11-01 08:00:00</td>\n",
              "      <td>US1Q9L9LWF70</td>\n",
              "      <td>134.431820</td>\n",
              "    </tr>\n",
              "    <tr>\n",
              "      <th>2</th>\n",
              "      <td>2020-11-01 08:00:00</td>\n",
              "      <td>US6KJNEMVUB3</td>\n",
              "      <td>173.589274</td>\n",
              "    </tr>\n",
              "    <tr>\n",
              "      <th>3</th>\n",
              "      <td>2020-11-01 08:00:00</td>\n",
              "      <td>USVB60AAKLSG</td>\n",
              "      <td>168.731458</td>\n",
              "    </tr>\n",
              "    <tr>\n",
              "      <th>4</th>\n",
              "      <td>2020-11-01 08:00:00</td>\n",
              "      <td>US0GLYO7VCOH</td>\n",
              "      <td>81.383554</td>\n",
              "    </tr>\n",
              "  </tbody>\n",
              "</table>\n",
              "</div>"
            ],
            "text/plain": [
              "             datetime           sym       level\n",
              "0 2020-11-01 08:00:00  US0ATXMR1KXH  135.484079\n",
              "1 2020-11-01 08:00:00  US1Q9L9LWF70  134.431820\n",
              "2 2020-11-01 08:00:00  US6KJNEMVUB3  173.589274\n",
              "3 2020-11-01 08:00:00  USVB60AAKLSG  168.731458\n",
              "4 2020-11-01 08:00:00  US0GLYO7VCOH   81.383554"
            ]
          },
          "metadata": {
            "tags": []
          },
          "execution_count": 19
        }
      ]
    },
    {
      "cell_type": "code",
      "metadata": {
        "colab": {
          "base_uri": "https://localhost:8080/"
        },
        "id": "LzIXVp85boOC",
        "outputId": "f17eb831-2c47-48f3-a1bd-d6ad5afca634"
      },
      "source": [
        "df_sym_to_sector = pd.read_csv('/content/gdrive/My Drive/Colab Notebooks/project_modeling_test/sym_to_sector.csv')\n",
        "# df_sym_to_sector.head()\n",
        "df_sym_to_sector['sector'].value_counts()"
      ],
      "execution_count": 20,
      "outputs": [
        {
          "output_type": "execute_result",
          "data": {
            "text/plain": [
              "CONSUMER_CYCLICALS    512\n",
              "INDUSTRIALS           330\n",
              "ENERGY                311\n",
              "TECHNOLOGY            292\n",
              "Name: sector, dtype: int64"
            ]
          },
          "metadata": {
            "tags": []
          },
          "execution_count": 20
        }
      ]
    },
    {
      "cell_type": "code",
      "metadata": {
        "colab": {
          "base_uri": "https://localhost:8080/"
        },
        "id": "nhMZkASUjkVS",
        "outputId": "589b14da-0ff6-4d40-8386-8910b4dee72b"
      },
      "source": [
        "df_sym_to_issuer = pd.read_csv('/content/gdrive/My Drive/Colab Notebooks/project_modeling_test/sym_to_issuer.csv')\n",
        "df_sym_to_issuer['issuer'].value_counts()"
      ],
      "execution_count": 21,
      "outputs": [
        {
          "output_type": "execute_result",
          "data": {
            "text/plain": [
              "HGJU    94\n",
              "ECH     94\n",
              "XOY     93\n",
              "X       87\n",
              "TA      86\n",
              "F       85\n",
              "J       73\n",
              "EEQ     60\n",
              "ZBPY    55\n",
              "T       53\n",
              "FV      50\n",
              "D       42\n",
              "OERT    41\n",
              "RY      40\n",
              "NL      40\n",
              "U       39\n",
              "YVPO    39\n",
              "MH      38\n",
              "Q       36\n",
              "LFU     31\n",
              "XPHX    30\n",
              "XG      29\n",
              "LGK     29\n",
              "XZET    26\n",
              "EJMR    23\n",
              "TOT     20\n",
              "C       18\n",
              "VYIV    15\n",
              "NMYQ    13\n",
              "RYDM    13\n",
              "B       10\n",
              "I        8\n",
              "AH       8\n",
              "SPW      7\n",
              "XRC      5\n",
              "WNR      4\n",
              "KNRI     4\n",
              "M        2\n",
              "GV       2\n",
              "TT       1\n",
              "OFR      1\n",
              "GK       1\n",
              "Name: issuer, dtype: int64"
            ]
          },
          "metadata": {
            "tags": []
          },
          "execution_count": 21
        }
      ]
    },
    {
      "cell_type": "code",
      "metadata": {
        "colab": {
          "base_uri": "https://localhost:8080/",
          "height": 204
        },
        "id": "UgYNMdiXjcSv",
        "outputId": "5b5f3573-b5b6-4295-fb77-674529696d3a"
      },
      "source": [
        "raw_data = data.merge(df_sym_to_sector, on='sym')\n",
        "raw_data = raw_data.merge(df_sym_to_issuer, on='sym')\n",
        "raw_data.head()"
      ],
      "execution_count": 22,
      "outputs": [
        {
          "output_type": "execute_result",
          "data": {
            "text/html": [
              "<div>\n",
              "<style scoped>\n",
              "    .dataframe tbody tr th:only-of-type {\n",
              "        vertical-align: middle;\n",
              "    }\n",
              "\n",
              "    .dataframe tbody tr th {\n",
              "        vertical-align: top;\n",
              "    }\n",
              "\n",
              "    .dataframe thead th {\n",
              "        text-align: right;\n",
              "    }\n",
              "</style>\n",
              "<table border=\"1\" class=\"dataframe\">\n",
              "  <thead>\n",
              "    <tr style=\"text-align: right;\">\n",
              "      <th></th>\n",
              "      <th>datetime</th>\n",
              "      <th>sym</th>\n",
              "      <th>level</th>\n",
              "      <th>sector</th>\n",
              "      <th>issuer</th>\n",
              "    </tr>\n",
              "  </thead>\n",
              "  <tbody>\n",
              "    <tr>\n",
              "      <th>0</th>\n",
              "      <td>2020-11-01 08:00:00</td>\n",
              "      <td>US0ATXMR1KXH</td>\n",
              "      <td>135.484079</td>\n",
              "      <td>CONSUMER_CYCLICALS</td>\n",
              "      <td>XOY</td>\n",
              "    </tr>\n",
              "    <tr>\n",
              "      <th>1</th>\n",
              "      <td>2020-11-01 08:01:00</td>\n",
              "      <td>US0ATXMR1KXH</td>\n",
              "      <td>133.008120</td>\n",
              "      <td>CONSUMER_CYCLICALS</td>\n",
              "      <td>XOY</td>\n",
              "    </tr>\n",
              "    <tr>\n",
              "      <th>2</th>\n",
              "      <td>2020-11-01 08:02:00</td>\n",
              "      <td>US0ATXMR1KXH</td>\n",
              "      <td>133.269386</td>\n",
              "      <td>CONSUMER_CYCLICALS</td>\n",
              "      <td>XOY</td>\n",
              "    </tr>\n",
              "    <tr>\n",
              "      <th>3</th>\n",
              "      <td>2020-11-01 08:03:00</td>\n",
              "      <td>US0ATXMR1KXH</td>\n",
              "      <td>132.534590</td>\n",
              "      <td>CONSUMER_CYCLICALS</td>\n",
              "      <td>XOY</td>\n",
              "    </tr>\n",
              "    <tr>\n",
              "      <th>4</th>\n",
              "      <td>2020-11-01 08:04:00</td>\n",
              "      <td>US0ATXMR1KXH</td>\n",
              "      <td>134.908804</td>\n",
              "      <td>CONSUMER_CYCLICALS</td>\n",
              "      <td>XOY</td>\n",
              "    </tr>\n",
              "  </tbody>\n",
              "</table>\n",
              "</div>"
            ],
            "text/plain": [
              "             datetime           sym       level              sector issuer\n",
              "0 2020-11-01 08:00:00  US0ATXMR1KXH  135.484079  CONSUMER_CYCLICALS    XOY\n",
              "1 2020-11-01 08:01:00  US0ATXMR1KXH  133.008120  CONSUMER_CYCLICALS    XOY\n",
              "2 2020-11-01 08:02:00  US0ATXMR1KXH  133.269386  CONSUMER_CYCLICALS    XOY\n",
              "3 2020-11-01 08:03:00  US0ATXMR1KXH  132.534590  CONSUMER_CYCLICALS    XOY\n",
              "4 2020-11-01 08:04:00  US0ATXMR1KXH  134.908804  CONSUMER_CYCLICALS    XOY"
            ]
          },
          "metadata": {
            "tags": []
          },
          "execution_count": 22
        }
      ]
    },
    {
      "cell_type": "code",
      "metadata": {
        "colab": {
          "base_uri": "https://localhost:8080/"
        },
        "id": "pD3oQtDjzAE-",
        "outputId": "ae0de7e1-cf12-4411-eeaa-d1dd75d11912"
      },
      "source": [
        "syms_all = raw_data['sym'].unique()\n",
        "syms_all"
      ],
      "execution_count": 23,
      "outputs": [
        {
          "output_type": "execute_result",
          "data": {
            "text/plain": [
              "array(['US0ATXMR1KXH', 'US1Q9L9LWF70', 'US6KJNEMVUB3', ...,\n",
              "       'USL3W14NOS6O', 'USOYXI6CIQ2M', 'USS7E04EJOAJ'], dtype=object)"
            ]
          },
          "metadata": {
            "tags": []
          },
          "execution_count": 23
        }
      ]
    },
    {
      "cell_type": "markdown",
      "metadata": {
        "id": "r-HfJFb6lGJT"
      },
      "source": [
        "Select a target sym"
      ]
    },
    {
      "cell_type": "code",
      "metadata": {
        "colab": {
          "base_uri": "https://localhost:8080/",
          "height": 204
        },
        "id": "gS2aJtvHlGlg",
        "outputId": "b8b52825-b396-484f-c06d-978ff9cc6aac"
      },
      "source": [
        "# sym = 'USV9CQ7RNR6Y'\n",
        "sym = np.random.choice(syms_all, 1)[0]\n",
        "sym_data = raw_data[raw_data['sym']==sym].reset_index().drop('index', axis=1)\n",
        "sym_data.head()"
      ],
      "execution_count": 24,
      "outputs": [
        {
          "output_type": "execute_result",
          "data": {
            "text/html": [
              "<div>\n",
              "<style scoped>\n",
              "    .dataframe tbody tr th:only-of-type {\n",
              "        vertical-align: middle;\n",
              "    }\n",
              "\n",
              "    .dataframe tbody tr th {\n",
              "        vertical-align: top;\n",
              "    }\n",
              "\n",
              "    .dataframe thead th {\n",
              "        text-align: right;\n",
              "    }\n",
              "</style>\n",
              "<table border=\"1\" class=\"dataframe\">\n",
              "  <thead>\n",
              "    <tr style=\"text-align: right;\">\n",
              "      <th></th>\n",
              "      <th>datetime</th>\n",
              "      <th>sym</th>\n",
              "      <th>level</th>\n",
              "      <th>sector</th>\n",
              "      <th>issuer</th>\n",
              "    </tr>\n",
              "  </thead>\n",
              "  <tbody>\n",
              "    <tr>\n",
              "      <th>0</th>\n",
              "      <td>2020-11-01 08:00:00</td>\n",
              "      <td>US3ZG134NSVN</td>\n",
              "      <td>32.951116</td>\n",
              "      <td>TECHNOLOGY</td>\n",
              "      <td>EEQ</td>\n",
              "    </tr>\n",
              "    <tr>\n",
              "      <th>1</th>\n",
              "      <td>2020-11-01 08:01:00</td>\n",
              "      <td>US3ZG134NSVN</td>\n",
              "      <td>31.950413</td>\n",
              "      <td>TECHNOLOGY</td>\n",
              "      <td>EEQ</td>\n",
              "    </tr>\n",
              "    <tr>\n",
              "      <th>2</th>\n",
              "      <td>2020-11-01 08:02:00</td>\n",
              "      <td>US3ZG134NSVN</td>\n",
              "      <td>31.829991</td>\n",
              "      <td>TECHNOLOGY</td>\n",
              "      <td>EEQ</td>\n",
              "    </tr>\n",
              "    <tr>\n",
              "      <th>3</th>\n",
              "      <td>2020-11-01 08:03:00</td>\n",
              "      <td>US3ZG134NSVN</td>\n",
              "      <td>30.936350</td>\n",
              "      <td>TECHNOLOGY</td>\n",
              "      <td>EEQ</td>\n",
              "    </tr>\n",
              "    <tr>\n",
              "      <th>4</th>\n",
              "      <td>2020-11-01 08:04:00</td>\n",
              "      <td>US3ZG134NSVN</td>\n",
              "      <td>32.117917</td>\n",
              "      <td>TECHNOLOGY</td>\n",
              "      <td>EEQ</td>\n",
              "    </tr>\n",
              "  </tbody>\n",
              "</table>\n",
              "</div>"
            ],
            "text/plain": [
              "             datetime           sym      level      sector issuer\n",
              "0 2020-11-01 08:00:00  US3ZG134NSVN  32.951116  TECHNOLOGY    EEQ\n",
              "1 2020-11-01 08:01:00  US3ZG134NSVN  31.950413  TECHNOLOGY    EEQ\n",
              "2 2020-11-01 08:02:00  US3ZG134NSVN  31.829991  TECHNOLOGY    EEQ\n",
              "3 2020-11-01 08:03:00  US3ZG134NSVN  30.936350  TECHNOLOGY    EEQ\n",
              "4 2020-11-01 08:04:00  US3ZG134NSVN  32.117917  TECHNOLOGY    EEQ"
            ]
          },
          "metadata": {
            "tags": []
          },
          "execution_count": 24
        }
      ]
    },
    {
      "cell_type": "code",
      "metadata": {
        "colab": {
          "base_uri": "https://localhost:8080/",
          "height": 282
        },
        "id": "IpygI2KjydOF",
        "outputId": "be3492ed-ff99-4295-ff47-55a14047a908"
      },
      "source": [
        "sym_data.plot(y='level')"
      ],
      "execution_count": 25,
      "outputs": [
        {
          "output_type": "execute_result",
          "data": {
            "text/plain": [
              "<matplotlib.axes._subplots.AxesSubplot at 0x7ff1cae72eb8>"
            ]
          },
          "metadata": {
            "tags": []
          },
          "execution_count": 25
        },
        {
          "output_type": "display_data",
          "data": {
            "image/png": "[encoded data removed]",
            "text/plain": [
              "<Figure size 432x288 with 1 Axes>"
            ]
          },
          "metadata": {
            "tags": [],
            "needs_background": "light"
          }
        }
      ]
    },
    {
      "cell_type": "markdown",
      "metadata": {
        "id": "Yd7ZWuunmM2z"
      },
      "source": [
        "Get sector and issuer data of this bond\n",
        "\n",
        "1.   Compute the average price of the sector\n",
        "2.   Compute the average price of the issuer\n",
        "\n",
        "The intuition is: the bonds in the same sector or from the same issuer may provide some information for prediction of this bond. For example, the momentum of the aggregated price data can be informative to our model. \n",
        "\n"
      ]
    },
    {
      "cell_type": "code",
      "metadata": {
        "colab": {
          "base_uri": "https://localhost:8080/",
          "height": 204
        },
        "id": "WPg4kbw3jcaG",
        "outputId": "63d07790-34e9-4027-ba5a-f66e29221706"
      },
      "source": [
        "sec = sym_data.loc[0, 'sector']\n",
        "sec_data = raw_data[raw_data['sector']==sec]\n",
        "sec_avg_price_data = sec_data.groupby(by='datetime').mean()\n",
        "sec_avg_price_data = sec_avg_price_data.reset_index()\n",
        "sec_avg_price_data.head()"
      ],
      "execution_count": 26,
      "outputs": [
        {
          "output_type": "execute_result",
          "data": {
            "text/html": [
              "<div>\n",
              "<style scoped>\n",
              "    .dataframe tbody tr th:only-of-type {\n",
              "        vertical-align: middle;\n",
              "    }\n",
              "\n",
              "    .dataframe tbody tr th {\n",
              "        vertical-align: top;\n",
              "    }\n",
              "\n",
              "    .dataframe thead th {\n",
              "        text-align: right;\n",
              "    }\n",
              "</style>\n",
              "<table border=\"1\" class=\"dataframe\">\n",
              "  <thead>\n",
              "    <tr style=\"text-align: right;\">\n",
              "      <th></th>\n",
              "      <th>datetime</th>\n",
              "      <th>level</th>\n",
              "    </tr>\n",
              "  </thead>\n",
              "  <tbody>\n",
              "    <tr>\n",
              "      <th>0</th>\n",
              "      <td>2020-11-01 08:00:00</td>\n",
              "      <td>110.578272</td>\n",
              "    </tr>\n",
              "    <tr>\n",
              "      <th>1</th>\n",
              "      <td>2020-11-01 08:01:00</td>\n",
              "      <td>108.467716</td>\n",
              "    </tr>\n",
              "    <tr>\n",
              "      <th>2</th>\n",
              "      <td>2020-11-01 08:02:00</td>\n",
              "      <td>111.496862</td>\n",
              "    </tr>\n",
              "    <tr>\n",
              "      <th>3</th>\n",
              "      <td>2020-11-01 08:03:00</td>\n",
              "      <td>105.816370</td>\n",
              "    </tr>\n",
              "    <tr>\n",
              "      <th>4</th>\n",
              "      <td>2020-11-01 08:04:00</td>\n",
              "      <td>109.714329</td>\n",
              "    </tr>\n",
              "  </tbody>\n",
              "</table>\n",
              "</div>"
            ],
            "text/plain": [
              "             datetime       level\n",
              "0 2020-11-01 08:00:00  110.578272\n",
              "1 2020-11-01 08:01:00  108.467716\n",
              "2 2020-11-01 08:02:00  111.496862\n",
              "3 2020-11-01 08:03:00  105.816370\n",
              "4 2020-11-01 08:04:00  109.714329"
            ]
          },
          "metadata": {
            "tags": []
          },
          "execution_count": 26
        }
      ]
    },
    {
      "cell_type": "code",
      "metadata": {
        "colab": {
          "base_uri": "https://localhost:8080/",
          "height": 204
        },
        "id": "mLZWY1B7ncl4",
        "outputId": "93ab3c9e-e84d-47c5-e52d-943e4dd24b8f"
      },
      "source": [
        "iss = sym_data.loc[0, 'issuer']\n",
        "iss_data = raw_data[raw_data['issuer']==iss]\n",
        "iss_avg_price_data = iss_data.groupby(by='datetime').mean()\n",
        "iss_avg_price_data = iss_avg_price_data.reset_index()\n",
        "iss_avg_price_data.head()"
      ],
      "execution_count": 27,
      "outputs": [
        {
          "output_type": "execute_result",
          "data": {
            "text/html": [
              "<div>\n",
              "<style scoped>\n",
              "    .dataframe tbody tr th:only-of-type {\n",
              "        vertical-align: middle;\n",
              "    }\n",
              "\n",
              "    .dataframe tbody tr th {\n",
              "        vertical-align: top;\n",
              "    }\n",
              "\n",
              "    .dataframe thead th {\n",
              "        text-align: right;\n",
              "    }\n",
              "</style>\n",
              "<table border=\"1\" class=\"dataframe\">\n",
              "  <thead>\n",
              "    <tr style=\"text-align: right;\">\n",
              "      <th></th>\n",
              "      <th>datetime</th>\n",
              "      <th>level</th>\n",
              "    </tr>\n",
              "  </thead>\n",
              "  <tbody>\n",
              "    <tr>\n",
              "      <th>0</th>\n",
              "      <td>2020-11-01 08:00:00</td>\n",
              "      <td>110.308273</td>\n",
              "    </tr>\n",
              "    <tr>\n",
              "      <th>1</th>\n",
              "      <td>2020-11-01 08:01:00</td>\n",
              "      <td>106.921838</td>\n",
              "    </tr>\n",
              "    <tr>\n",
              "      <th>2</th>\n",
              "      <td>2020-11-01 08:02:00</td>\n",
              "      <td>109.300647</td>\n",
              "    </tr>\n",
              "    <tr>\n",
              "      <th>3</th>\n",
              "      <td>2020-11-01 08:03:00</td>\n",
              "      <td>106.895427</td>\n",
              "    </tr>\n",
              "    <tr>\n",
              "      <th>4</th>\n",
              "      <td>2020-11-01 08:04:00</td>\n",
              "      <td>106.581457</td>\n",
              "    </tr>\n",
              "  </tbody>\n",
              "</table>\n",
              "</div>"
            ],
            "text/plain": [
              "             datetime       level\n",
              "0 2020-11-01 08:00:00  110.308273\n",
              "1 2020-11-01 08:01:00  106.921838\n",
              "2 2020-11-01 08:02:00  109.300647\n",
              "3 2020-11-01 08:03:00  106.895427\n",
              "4 2020-11-01 08:04:00  106.581457"
            ]
          },
          "metadata": {
            "tags": []
          },
          "execution_count": 27
        }
      ]
    },
    {
      "cell_type": "markdown",
      "metadata": {
        "id": "cF4IfTEt0vsw"
      },
      "source": [
        "\n",
        "#### Data usage: train_data: 70%, validation_data: 20%, test_data: 10%; in chronological order"
      ]
    },
    {
      "cell_type": "code",
      "metadata": {
        "id": "7ysDEsGbQKGd"
      },
      "source": [
        "train_pct=0.7\n",
        "val_pct=0.2\n",
        "# shuffle = False \n",
        "## here, we do not shuffle data during training, validation, testing; \n",
        "## it is easier to debug\n",
        "## after debugging, it can be set to true\n",
        "shuffle = True "
      ],
      "execution_count": 28,
      "outputs": []
    },
    {
      "cell_type": "markdown",
      "metadata": {
        "id": "RKPO40vjQKeS"
      },
      "source": [
        "# Create features and targets, dataset (generotor)\n",
        "Using sym, sector, issuer data"
      ]
    },
    {
      "cell_type": "code",
      "metadata": {
        "colab": {
          "base_uri": "https://localhost:8080/"
        },
        "id": "qFm8qKVRQUAr",
        "outputId": "d6ed1999-20b8-462e-bde3-8b72ba8c1c38"
      },
      "source": [
        "sym_feature_data = create_features(data=sym_data, name='sym')\n",
        "sec_feature_data = create_features(data=sec_avg_price_data, name='sec')\n",
        "issuer_feature_data = create_features(data=iss_avg_price_data, name='iss')\n",
        "\n",
        "sym_feature_data.shape, sec_feature_data.shape, issuer_feature_data.shape"
      ],
      "execution_count": 29,
      "outputs": [
        {
          "output_type": "execute_result",
          "data": {
            "text/plain": [
              "((9030, 21), (10000, 21), (10000, 21))"
            ]
          },
          "metadata": {
            "tags": []
          },
          "execution_count": 29
        }
      ]
    },
    {
      "cell_type": "code",
      "metadata": {
        "colab": {
          "base_uri": "https://localhost:8080/",
          "height": 394
        },
        "id": "KxxXJ7gBI-zM",
        "outputId": "798b83b0-b3d2-4fed-aa86-7c6b58b4b1d8"
      },
      "source": [
        "feature_data = sym_feature_data.merge(sec_feature_data, on='datetime')\n",
        "feature_data = feature_data.merge(issuer_feature_data, on='datetime')\n",
        "feature_data.dropna().head()"
      ],
      "execution_count": 30,
      "outputs": [
        {
          "output_type": "execute_result",
          "data": {
            "text/html": [
              "<div>\n",
              "<style scoped>\n",
              "    .dataframe tbody tr th:only-of-type {\n",
              "        vertical-align: middle;\n",
              "    }\n",
              "\n",
              "    .dataframe tbody tr th {\n",
              "        vertical-align: top;\n",
              "    }\n",
              "\n",
              "    .dataframe thead th {\n",
              "        text-align: right;\n",
              "    }\n",
              "</style>\n",
              "<table border=\"1\" class=\"dataframe\">\n",
              "  <thead>\n",
              "    <tr style=\"text-align: right;\">\n",
              "      <th></th>\n",
              "      <th>datetime</th>\n",
              "      <th>sym_level</th>\n",
              "      <th>sym_pct_change_1m</th>\n",
              "      <th>sym_short_ma</th>\n",
              "      <th>sym_short_ma_pct_change_baseline</th>\n",
              "      <th>sym_short_ma_pct_change_10m</th>\n",
              "      <th>sym_short_std</th>\n",
              "      <th>sym_short_std_pct_change_10m</th>\n",
              "      <th>sym_long_ma</th>\n",
              "      <th>sym_long_ma_pct_change_baseline</th>\n",
              "      <th>sym_long_ma_pct_change_60m</th>\n",
              "      <th>sym_long_std</th>\n",
              "      <th>sym_long_std_pct_change_60m</th>\n",
              "      <th>sym_short_ewm</th>\n",
              "      <th>sym_short_ewm_pct_change_baseline</th>\n",
              "      <th>sym_long_ewm</th>\n",
              "      <th>sym_long_ewm_pct_change_baseline</th>\n",
              "      <th>sym_rsi</th>\n",
              "      <th>sym_wma</th>\n",
              "      <th>sym_wma_pct_change</th>\n",
              "      <th>sym_macd</th>\n",
              "      <th>sec_level</th>\n",
              "      <th>sec_pct_change_1m</th>\n",
              "      <th>sec_short_ma</th>\n",
              "      <th>sec_short_ma_pct_change_baseline</th>\n",
              "      <th>sec_short_ma_pct_change_10m</th>\n",
              "      <th>sec_short_std</th>\n",
              "      <th>sec_short_std_pct_change_10m</th>\n",
              "      <th>sec_long_ma</th>\n",
              "      <th>sec_long_ma_pct_change_baseline</th>\n",
              "      <th>sec_long_ma_pct_change_60m</th>\n",
              "      <th>sec_long_std</th>\n",
              "      <th>sec_long_std_pct_change_60m</th>\n",
              "      <th>sec_short_ewm</th>\n",
              "      <th>sec_short_ewm_pct_change_baseline</th>\n",
              "      <th>sec_long_ewm</th>\n",
              "      <th>sec_long_ewm_pct_change_baseline</th>\n",
              "      <th>sec_rsi</th>\n",
              "      <th>sec_wma</th>\n",
              "      <th>sec_wma_pct_change</th>\n",
              "      <th>sec_macd</th>\n",
              "      <th>iss_level</th>\n",
              "      <th>iss_pct_change_1m</th>\n",
              "      <th>iss_short_ma</th>\n",
              "      <th>iss_short_ma_pct_change_baseline</th>\n",
              "      <th>iss_short_ma_pct_change_10m</th>\n",
              "      <th>iss_short_std</th>\n",
              "      <th>iss_short_std_pct_change_10m</th>\n",
              "      <th>iss_long_ma</th>\n",
              "      <th>iss_long_ma_pct_change_baseline</th>\n",
              "      <th>iss_long_ma_pct_change_60m</th>\n",
              "      <th>iss_long_std</th>\n",
              "      <th>iss_long_std_pct_change_60m</th>\n",
              "      <th>iss_short_ewm</th>\n",
              "      <th>iss_short_ewm_pct_change_baseline</th>\n",
              "      <th>iss_long_ewm</th>\n",
              "      <th>iss_long_ewm_pct_change_baseline</th>\n",
              "      <th>iss_rsi</th>\n",
              "      <th>iss_wma</th>\n",
              "      <th>iss_wma_pct_change</th>\n",
              "      <th>iss_macd</th>\n",
              "    </tr>\n",
              "  </thead>\n",
              "  <tbody>\n",
              "    <tr>\n",
              "      <th>119</th>\n",
              "      <td>2020-11-01 10:09:00</td>\n",
              "      <td>32.451365</td>\n",
              "      <td>-0.040074</td>\n",
              "      <td>33.817558</td>\n",
              "      <td>0.042100</td>\n",
              "      <td>0.072846</td>\n",
              "      <td>0.653461</td>\n",
              "      <td>-0.208306</td>\n",
              "      <td>30.291944</td>\n",
              "      <td>-0.066543</td>\n",
              "      <td>0.006657</td>\n",
              "      <td>2.378575</td>\n",
              "      <td>0.035183</td>\n",
              "      <td>33.392082</td>\n",
              "      <td>0.028988</td>\n",
              "      <td>31.006398</td>\n",
              "      <td>-0.044527</td>\n",
              "      <td>53.664084</td>\n",
              "      <td>32.582674</td>\n",
              "      <td>0.002239</td>\n",
              "      <td>2.385684</td>\n",
              "      <td>111.374461</td>\n",
              "      <td>-0.016946</td>\n",
              "      <td>112.089718</td>\n",
              "      <td>0.006422</td>\n",
              "      <td>0.026880</td>\n",
              "      <td>1.096818</td>\n",
              "      <td>-0.572514</td>\n",
              "      <td>107.050413</td>\n",
              "      <td>-0.038824</td>\n",
              "      <td>0.000029</td>\n",
              "      <td>3.424558</td>\n",
              "      <td>0.580414</td>\n",
              "      <td>111.796505</td>\n",
              "      <td>0.003789</td>\n",
              "      <td>108.367091</td>\n",
              "      <td>-0.027002</td>\n",
              "      <td>53.078275</td>\n",
              "      <td>110.713422</td>\n",
              "      <td>0.001241</td>\n",
              "      <td>3.429414</td>\n",
              "      <td>110.116058</td>\n",
              "      <td>-0.026119</td>\n",
              "      <td>112.339096</td>\n",
              "      <td>0.020188</td>\n",
              "      <td>0.046763</td>\n",
              "      <td>2.205599</td>\n",
              "      <td>-0.202343</td>\n",
              "      <td>106.081554</td>\n",
              "      <td>-0.036639</td>\n",
              "      <td>-0.004494</td>\n",
              "      <td>3.832684</td>\n",
              "      <td>0.696307</td>\n",
              "      <td>111.469059</td>\n",
              "      <td>0.012287</td>\n",
              "      <td>107.554082</td>\n",
              "      <td>-0.023266</td>\n",
              "      <td>51.903928</td>\n",
              "      <td>109.991217</td>\n",
              "      <td>0.000998</td>\n",
              "      <td>3.914977</td>\n",
              "    </tr>\n",
              "    <tr>\n",
              "      <th>120</th>\n",
              "      <td>2020-11-01 10:10:00</td>\n",
              "      <td>32.688213</td>\n",
              "      <td>0.007299</td>\n",
              "      <td>33.730416</td>\n",
              "      <td>0.031883</td>\n",
              "      <td>0.060172</td>\n",
              "      <td>0.743569</td>\n",
              "      <td>-0.239050</td>\n",
              "      <td>30.287583</td>\n",
              "      <td>-0.073440</td>\n",
              "      <td>0.006512</td>\n",
              "      <td>2.373854</td>\n",
              "      <td>0.033141</td>\n",
              "      <td>33.264106</td>\n",
              "      <td>0.017618</td>\n",
              "      <td>31.061540</td>\n",
              "      <td>-0.049763</td>\n",
              "      <td>54.244593</td>\n",
              "      <td>32.661047</td>\n",
              "      <td>0.002405</td>\n",
              "      <td>2.202566</td>\n",
              "      <td>111.839724</td>\n",
              "      <td>0.004177</td>\n",
              "      <td>112.066654</td>\n",
              "      <td>0.002029</td>\n",
              "      <td>0.019174</td>\n",
              "      <td>1.099692</td>\n",
              "      <td>-0.443667</td>\n",
              "      <td>107.207617</td>\n",
              "      <td>-0.041417</td>\n",
              "      <td>0.002963</td>\n",
              "      <td>3.424307</td>\n",
              "      <td>0.587354</td>\n",
              "      <td>111.804363</td>\n",
              "      <td>-0.000316</td>\n",
              "      <td>108.480948</td>\n",
              "      <td>-0.030032</td>\n",
              "      <td>53.531933</td>\n",
              "      <td>110.861236</td>\n",
              "      <td>0.001335</td>\n",
              "      <td>3.323415</td>\n",
              "      <td>110.496228</td>\n",
              "      <td>0.003452</td>\n",
              "      <td>112.332823</td>\n",
              "      <td>0.016621</td>\n",
              "      <td>0.043449</td>\n",
              "      <td>2.211306</td>\n",
              "      <td>-0.249657</td>\n",
              "      <td>106.147291</td>\n",
              "      <td>-0.039358</td>\n",
              "      <td>-0.003489</td>\n",
              "      <td>3.874487</td>\n",
              "      <td>0.732962</td>\n",
              "      <td>111.292181</td>\n",
              "      <td>0.007203</td>\n",
              "      <td>107.650545</td>\n",
              "      <td>-0.025754</td>\n",
              "      <td>52.182017</td>\n",
              "      <td>110.110812</td>\n",
              "      <td>0.001087</td>\n",
              "      <td>3.641635</td>\n",
              "    </tr>\n",
              "    <tr>\n",
              "      <th>121</th>\n",
              "      <td>2020-11-01 10:11:00</td>\n",
              "      <td>32.186290</td>\n",
              "      <td>-0.015355</td>\n",
              "      <td>33.580148</td>\n",
              "      <td>0.043306</td>\n",
              "      <td>0.046128</td>\n",
              "      <td>0.890247</td>\n",
              "      <td>-0.170750</td>\n",
              "      <td>30.291642</td>\n",
              "      <td>-0.058865</td>\n",
              "      <td>0.006652</td>\n",
              "      <td>2.376939</td>\n",
              "      <td>0.034530</td>\n",
              "      <td>33.068139</td>\n",
              "      <td>0.027398</td>\n",
              "      <td>31.098417</td>\n",
              "      <td>-0.033799</td>\n",
              "      <td>52.794580</td>\n",
              "      <td>32.697095</td>\n",
              "      <td>0.001104</td>\n",
              "      <td>1.969722</td>\n",
              "      <td>110.834526</td>\n",
              "      <td>-0.008988</td>\n",
              "      <td>112.056996</td>\n",
              "      <td>0.011030</td>\n",
              "      <td>0.015261</td>\n",
              "      <td>1.111137</td>\n",
              "      <td>-0.324393</td>\n",
              "      <td>107.302745</td>\n",
              "      <td>-0.031865</td>\n",
              "      <td>0.004834</td>\n",
              "      <td>3.444742</td>\n",
              "      <td>0.651120</td>\n",
              "      <td>111.628029</td>\n",
              "      <td>0.007159</td>\n",
              "      <td>108.558114</td>\n",
              "      <td>-0.020539</td>\n",
              "      <td>52.399642</td>\n",
              "      <td>110.928207</td>\n",
              "      <td>0.000604</td>\n",
              "      <td>3.069915</td>\n",
              "      <td>108.086532</td>\n",
              "      <td>-0.021808</td>\n",
              "      <td>112.084087</td>\n",
              "      <td>0.036985</td>\n",
              "      <td>0.033234</td>\n",
              "      <td>2.545744</td>\n",
              "      <td>0.062896</td>\n",
              "      <td>106.216555</td>\n",
              "      <td>-0.017301</td>\n",
              "      <td>-0.001869</td>\n",
              "      <td>3.871335</td>\n",
              "      <td>0.752616</td>\n",
              "      <td>110.709335</td>\n",
              "      <td>0.024266</td>\n",
              "      <td>107.664840</td>\n",
              "      <td>-0.003901</td>\n",
              "      <td>50.275932</td>\n",
              "      <td>110.064189</td>\n",
              "      <td>-0.000423</td>\n",
              "      <td>3.044495</td>\n",
              "    </tr>\n",
              "    <tr>\n",
              "      <th>122</th>\n",
              "      <td>2020-11-01 10:12:00</td>\n",
              "      <td>31.212576</td>\n",
              "      <td>-0.030252</td>\n",
              "      <td>33.285217</td>\n",
              "      <td>0.066404</td>\n",
              "      <td>0.024889</td>\n",
              "      <td>1.131862</td>\n",
              "      <td>0.059504</td>\n",
              "      <td>30.279295</td>\n",
              "      <td>-0.029901</td>\n",
              "      <td>0.006173</td>\n",
              "      <td>2.370075</td>\n",
              "      <td>0.030808</td>\n",
              "      <td>32.730764</td>\n",
              "      <td>0.048640</td>\n",
              "      <td>31.102160</td>\n",
              "      <td>-0.003538</td>\n",
              "      <td>50.106589</td>\n",
              "      <td>32.659721</td>\n",
              "      <td>-0.001143</td>\n",
              "      <td>1.628604</td>\n",
              "      <td>110.021267</td>\n",
              "      <td>-0.007338</td>\n",
              "      <td>111.744121</td>\n",
              "      <td>0.015659</td>\n",
              "      <td>0.010227</td>\n",
              "      <td>1.205645</td>\n",
              "      <td>-0.353916</td>\n",
              "      <td>107.379194</td>\n",
              "      <td>-0.024014</td>\n",
              "      <td>0.006065</td>\n",
              "      <td>3.453461</td>\n",
              "      <td>0.661987</td>\n",
              "      <td>111.335891</td>\n",
              "      <td>0.011949</td>\n",
              "      <td>108.606086</td>\n",
              "      <td>-0.012863</td>\n",
              "      <td>51.488150</td>\n",
              "      <td>110.932587</td>\n",
              "      <td>0.000039</td>\n",
              "      <td>2.729804</td>\n",
              "      <td>110.583470</td>\n",
              "      <td>0.023101</td>\n",
              "      <td>111.816720</td>\n",
              "      <td>0.011152</td>\n",
              "      <td>0.026466</td>\n",
              "      <td>2.549254</td>\n",
              "      <td>-0.100818</td>\n",
              "      <td>106.294529</td>\n",
              "      <td>-0.038785</td>\n",
              "      <td>-0.001133</td>\n",
              "      <td>3.911857</td>\n",
              "      <td>0.770898</td>\n",
              "      <td>110.686451</td>\n",
              "      <td>0.000931</td>\n",
              "      <td>107.760533</td>\n",
              "      <td>-0.025528</td>\n",
              "      <td>52.149530</td>\n",
              "      <td>110.175324</td>\n",
              "      <td>0.001010</td>\n",
              "      <td>2.925918</td>\n",
              "    </tr>\n",
              "    <tr>\n",
              "      <th>123</th>\n",
              "      <td>2020-11-01 10:13:00</td>\n",
              "      <td>30.062931</td>\n",
              "      <td>-0.036833</td>\n",
              "      <td>32.825040</td>\n",
              "      <td>0.091878</td>\n",
              "      <td>0.002087</td>\n",
              "      <td>1.409985</td>\n",
              "      <td>0.134447</td>\n",
              "      <td>30.250129</td>\n",
              "      <td>0.006227</td>\n",
              "      <td>0.004716</td>\n",
              "      <td>2.361635</td>\n",
              "      <td>0.023480</td>\n",
              "      <td>32.245703</td>\n",
              "      <td>0.072607</td>\n",
              "      <td>31.068086</td>\n",
              "      <td>0.033435</td>\n",
              "      <td>47.173076</td>\n",
              "      <td>32.540062</td>\n",
              "      <td>-0.003664</td>\n",
              "      <td>1.177617</td>\n",
              "      <td>108.795597</td>\n",
              "      <td>-0.011140</td>\n",
              "      <td>111.383344</td>\n",
              "      <td>0.023785</td>\n",
              "      <td>0.006530</td>\n",
              "      <td>1.492195</td>\n",
              "      <td>-0.218367</td>\n",
              "      <td>107.405624</td>\n",
              "      <td>-0.012776</td>\n",
              "      <td>0.006733</td>\n",
              "      <td>3.458208</td>\n",
              "      <td>0.697322</td>\n",
              "      <td>110.874019</td>\n",
              "      <td>0.019104</td>\n",
              "      <td>108.612300</td>\n",
              "      <td>-0.001685</td>\n",
              "      <td>50.128652</td>\n",
              "      <td>110.852215</td>\n",
              "      <td>-0.000725</td>\n",
              "      <td>2.261719</td>\n",
              "      <td>107.921895</td>\n",
              "      <td>-0.024068</td>\n",
              "      <td>110.857067</td>\n",
              "      <td>0.027197</td>\n",
              "      <td>0.010422</td>\n",
              "      <td>1.883825</td>\n",
              "      <td>-0.521229</td>\n",
              "      <td>106.345060</td>\n",
              "      <td>-0.014611</td>\n",
              "      <td>0.000006</td>\n",
              "      <td>3.912988</td>\n",
              "      <td>0.788098</td>\n",
              "      <td>110.183804</td>\n",
              "      <td>0.020959</td>\n",
              "      <td>107.765823</td>\n",
              "      <td>-0.001446</td>\n",
              "      <td>50.069189</td>\n",
              "      <td>110.104603</td>\n",
              "      <td>-0.000642</td>\n",
              "      <td>2.417981</td>\n",
              "    </tr>\n",
              "  </tbody>\n",
              "</table>\n",
              "</div>"
            ],
            "text/plain": [
              "               datetime  sym_level  ...  iss_wma_pct_change  iss_macd\n",
              "119 2020-11-01 10:09:00  32.451365  ...            0.000998  3.914977\n",
              "120 2020-11-01 10:10:00  32.688213  ...            0.001087  3.641635\n",
              "121 2020-11-01 10:11:00  32.186290  ...           -0.000423  3.044495\n",
              "122 2020-11-01 10:12:00  31.212576  ...            0.001010  2.925918\n",
              "123 2020-11-01 10:13:00  30.062931  ...           -0.000642  2.417981\n",
              "\n",
              "[5 rows x 61 columns]"
            ]
          },
          "metadata": {
            "tags": []
          },
          "execution_count": 30
        }
      ]
    },
    {
      "cell_type": "code",
      "metadata": {
        "colab": {
          "base_uri": "https://localhost:8080/"
        },
        "id": "ZO-RweAEI-zN",
        "outputId": "40c6aae8-20e6-4a35-b3dd-72529327d828"
      },
      "source": [
        "feature_data.shape"
      ],
      "execution_count": 31,
      "outputs": [
        {
          "output_type": "execute_result",
          "data": {
            "text/plain": [
              "(9030, 61)"
            ]
          },
          "metadata": {
            "tags": []
          },
          "execution_count": 31
        }
      ]
    },
    {
      "cell_type": "code",
      "metadata": {
        "id": "PYrl2YzbWU6Z"
      },
      "source": [
        "col_idx_map = {col: idx for idx, col in enumerate(feature_data.columns)}\n",
        "# col_idx_map"
      ],
      "execution_count": 32,
      "outputs": []
    },
    {
      "cell_type": "markdown",
      "metadata": {
        "id": "5-74j0oNRW0A"
      },
      "source": [
        "#### Target variable: sym_pct_change_1m\n",
        "We aim to predict the next-minute level, and the actual target variable is the percentage change of the next-minute level compared to current time (minute). \n",
        "\n",
        "\n",
        "sym_pct_change_1m (target) is stationary via test. "
      ]
    },
    {
      "cell_type": "code",
      "metadata": {
        "colab": {
          "base_uri": "https://localhost:8080/"
        },
        "id": "RqFEyJR0I-zW",
        "outputId": "6581612a-d88e-4af4-d04a-3a35b93f6ec9"
      },
      "source": [
        "result = adfuller(feature_data['sym_pct_change_1m'].dropna())\n",
        "print('ADF Statistic: {}'.format(result[0]))\n",
        "print('p-value: {}'.format(result[1]))\n",
        "print('Critical Values:')\n",
        "for key, value in result[4].items():\n",
        "    print('\\t{}: {}'.format(key, value))"
      ],
      "execution_count": 33,
      "outputs": [
        {
          "output_type": "stream",
          "text": [
            "ADF Statistic: -18.982494122712758\n",
            "p-value: 0.0\n",
            "Critical Values:\n",
            "\t1%: -3.431077443033014\n",
            "\t5%: -2.86186148257987\n",
            "\t10%: -2.5669411201499988\n"
          ],
          "name": "stdout"
        }
      ]
    },
    {
      "cell_type": "code",
      "metadata": {
        "id": "oxmQ2C-BI-zX"
      },
      "source": [
        "window_size = 20\n",
        "batch_size = 32\n",
        "feature_dim = feature_data.shape[1]-1"
      ],
      "execution_count": 34,
      "outputs": []
    },
    {
      "cell_type": "code",
      "metadata": {
        "colab": {
          "base_uri": "https://localhost:8080/"
        },
        "id": "l-d_jdxyI-za",
        "outputId": "d9681d8f-400b-447b-d8b7-47b2f87a577b"
      },
      "source": [
        "train_dataset, validation_dataset, test_dataset, test_data, scaler = train_val_test_split(feature_data, \n",
        "                                                                                          window_size=window_size, \n",
        "                                                                                          batch_size=batch_size,\n",
        "                                                                                          train_pct=train_pct, \n",
        "                                                                                          val_pct=val_pct,\n",
        "                                                                                          shuffle=shuffle)\n",
        "## scaler: used to do feature scaling, and to transform data in model evaluation\n"
      ],
      "execution_count": 35,
      "outputs": [
        {
          "output_type": "stream",
          "text": [
            "number of total data samples 8911 n_train 6237 n_validation 1782 n_test 892\n",
            "train number of batches 195\n",
            "validation number of batches 56\n",
            "test number of batches 28\n"
          ],
          "name": "stdout"
        }
      ]
    },
    {
      "cell_type": "markdown",
      "metadata": {
        "id": "A9aG4FY6ujOe"
      },
      "source": [
        "### check the correctness of our created dataset object"
      ]
    },
    {
      "cell_type": "code",
      "metadata": {
        "colab": {
          "base_uri": "https://localhost:8080/",
          "height": 134
        },
        "id": "8ulMneLuBfao",
        "outputId": "b86bae75-55fa-432e-9dbd-a1bf19867785"
      },
      "source": [
        "transformed_feature_data = feature_data.dropna().copy()\n",
        "transformed_feature_data.iloc[:, 1:] = scaler.transform(feature_data.dropna().iloc[:, 1:])\n",
        "transformed_feature_data.head(1)"
      ],
      "execution_count": 36,
      "outputs": [
        {
          "output_type": "execute_result",
          "data": {
            "text/html": [
              "<div>\n",
              "<style scoped>\n",
              "    .dataframe tbody tr th:only-of-type {\n",
              "        vertical-align: middle;\n",
              "    }\n",
              "\n",
              "    .dataframe tbody tr th {\n",
              "        vertical-align: top;\n",
              "    }\n",
              "\n",
              "    .dataframe thead th {\n",
              "        text-align: right;\n",
              "    }\n",
              "</style>\n",
              "<table border=\"1\" class=\"dataframe\">\n",
              "  <thead>\n",
              "    <tr style=\"text-align: right;\">\n",
              "      <th></th>\n",
              "      <th>datetime</th>\n",
              "      <th>sym_level</th>\n",
              "      <th>sym_pct_change_1m</th>\n",
              "      <th>sym_short_ma</th>\n",
              "      <th>sym_short_ma_pct_change_baseline</th>\n",
              "      <th>sym_short_ma_pct_change_10m</th>\n",
              "      <th>sym_short_std</th>\n",
              "      <th>sym_short_std_pct_change_10m</th>\n",
              "      <th>sym_long_ma</th>\n",
              "      <th>sym_long_ma_pct_change_baseline</th>\n",
              "      <th>sym_long_ma_pct_change_60m</th>\n",
              "      <th>sym_long_std</th>\n",
              "      <th>sym_long_std_pct_change_60m</th>\n",
              "      <th>sym_short_ewm</th>\n",
              "      <th>sym_short_ewm_pct_change_baseline</th>\n",
              "      <th>sym_long_ewm</th>\n",
              "      <th>sym_long_ewm_pct_change_baseline</th>\n",
              "      <th>sym_rsi</th>\n",
              "      <th>sym_wma</th>\n",
              "      <th>sym_wma_pct_change</th>\n",
              "      <th>sym_macd</th>\n",
              "      <th>sec_level</th>\n",
              "      <th>sec_pct_change_1m</th>\n",
              "      <th>sec_short_ma</th>\n",
              "      <th>sec_short_ma_pct_change_baseline</th>\n",
              "      <th>sec_short_ma_pct_change_10m</th>\n",
              "      <th>sec_short_std</th>\n",
              "      <th>sec_short_std_pct_change_10m</th>\n",
              "      <th>sec_long_ma</th>\n",
              "      <th>sec_long_ma_pct_change_baseline</th>\n",
              "      <th>sec_long_ma_pct_change_60m</th>\n",
              "      <th>sec_long_std</th>\n",
              "      <th>sec_long_std_pct_change_60m</th>\n",
              "      <th>sec_short_ewm</th>\n",
              "      <th>sec_short_ewm_pct_change_baseline</th>\n",
              "      <th>sec_long_ewm</th>\n",
              "      <th>sec_long_ewm_pct_change_baseline</th>\n",
              "      <th>sec_rsi</th>\n",
              "      <th>sec_wma</th>\n",
              "      <th>sec_wma_pct_change</th>\n",
              "      <th>sec_macd</th>\n",
              "      <th>iss_level</th>\n",
              "      <th>iss_pct_change_1m</th>\n",
              "      <th>iss_short_ma</th>\n",
              "      <th>iss_short_ma_pct_change_baseline</th>\n",
              "      <th>iss_short_ma_pct_change_10m</th>\n",
              "      <th>iss_short_std</th>\n",
              "      <th>iss_short_std_pct_change_10m</th>\n",
              "      <th>iss_long_ma</th>\n",
              "      <th>iss_long_ma_pct_change_baseline</th>\n",
              "      <th>iss_long_ma_pct_change_60m</th>\n",
              "      <th>iss_long_std</th>\n",
              "      <th>iss_long_std_pct_change_60m</th>\n",
              "      <th>iss_short_ewm</th>\n",
              "      <th>iss_short_ewm_pct_change_baseline</th>\n",
              "      <th>iss_long_ewm</th>\n",
              "      <th>iss_long_ewm_pct_change_baseline</th>\n",
              "      <th>iss_rsi</th>\n",
              "      <th>iss_wma</th>\n",
              "      <th>iss_wma_pct_change</th>\n",
              "      <th>iss_macd</th>\n",
              "    </tr>\n",
              "  </thead>\n",
              "  <tbody>\n",
              "    <tr>\n",
              "      <th>119</th>\n",
              "      <td>2020-11-01 10:09:00</td>\n",
              "      <td>-1.062501</td>\n",
              "      <td>-0.17089</td>\n",
              "      <td>-1.029031</td>\n",
              "      <td>0.060046</td>\n",
              "      <td>0.210546</td>\n",
              "      <td>-0.37308</td>\n",
              "      <td>-0.290571</td>\n",
              "      <td>-1.121374</td>\n",
              "      <td>-0.023269</td>\n",
              "      <td>-0.124034</td>\n",
              "      <td>-0.254031</td>\n",
              "      <td>-0.187322</td>\n",
              "      <td>-1.04039</td>\n",
              "      <td>0.06306</td>\n",
              "      <td>-1.103899</td>\n",
              "      <td>-0.018334</td>\n",
              "      <td>0.323771</td>\n",
              "      <td>-1.062244</td>\n",
              "      <td>0.185929</td>\n",
              "      <td>0.49182</td>\n",
              "      <td>0.70263</td>\n",
              "      <td>-0.719545</td>\n",
              "      <td>0.786861</td>\n",
              "      <td>0.297546</td>\n",
              "      <td>1.222137</td>\n",
              "      <td>-1.436205</td>\n",
              "      <td>-1.350657</td>\n",
              "      <td>0.301025</td>\n",
              "      <td>-1.059708</td>\n",
              "      <td>-0.053672</td>\n",
              "      <td>0.644564</td>\n",
              "      <td>1.178332</td>\n",
              "      <td>0.759623</td>\n",
              "      <td>0.193231</td>\n",
              "      <td>0.443436</td>\n",
              "      <td>-0.835649</td>\n",
              "      <td>0.981239</td>\n",
              "      <td>0.657351</td>\n",
              "      <td>0.632441</td>\n",
              "      <td>1.43812</td>\n",
              "      <td>0.218518</td>\n",
              "      <td>-0.695919</td>\n",
              "      <td>0.460333</td>\n",
              "      <td>0.686647</td>\n",
              "      <td>2.027768</td>\n",
              "      <td>-0.778471</td>\n",
              "      <td>-0.626315</td>\n",
              "      <td>-0.208319</td>\n",
              "      <td>-0.92938</td>\n",
              "      <td>-0.156362</td>\n",
              "      <td>0.258002</td>\n",
              "      <td>2.224417</td>\n",
              "      <td>0.369258</td>\n",
              "      <td>0.454959</td>\n",
              "      <td>-0.045325</td>\n",
              "      <td>-0.658769</td>\n",
              "      <td>0.874252</td>\n",
              "      <td>0.213958</td>\n",
              "      <td>0.441748</td>\n",
              "      <td>1.631368</td>\n",
              "    </tr>\n",
              "  </tbody>\n",
              "</table>\n",
              "</div>"
            ],
            "text/plain": [
              "               datetime  sym_level  ...  iss_wma_pct_change  iss_macd\n",
              "119 2020-11-01 10:09:00  -1.062501  ...            0.441748  1.631368\n",
              "\n",
              "[1 rows x 61 columns]"
            ]
          },
          "metadata": {
            "tags": []
          },
          "execution_count": 36
        }
      ]
    },
    {
      "cell_type": "code",
      "metadata": {
        "id": "UUh1t8_ZI-za"
      },
      "source": [
        "if shuffle==False:\n",
        "  for x, y in train_dataset:\n",
        "      print(\"x.shape: (batch_size, window_size, feature_dimension)\", x.shape)\n",
        "      print(\"y.shape:\", y.shape)\n",
        "      init_idx = feature_data.dropna().index[0]\n",
        "      transformed_row = np.array(scaler.transform(feature_data.iloc[init_idx:init_idx+window_size, 1:]))\n",
        "      print(\"The first time step in the first sample:\")\n",
        "      print(x[0, 0, :])\n",
        "      assert np.array_equal(x[0], transformed_row)\n",
        "      target_row = np.array(feature_data.iloc[init_idx+window_size, 1:])\n",
        "      target_row = scaler.transform(target_row[np.newaxis, :]) \n",
        "      assert np.array_equal(y[0], np.array(target_row[0, 1]))\n",
        "      break"
      ],
      "execution_count": 37,
      "outputs": []
    },
    {
      "cell_type": "markdown",
      "metadata": {
        "id": "BB1XIPQSI-zb"
      },
      "source": [
        "# Create, train and test models\n",
        "The root_mean_squared_error presented here is computed based on the transformed target (percentage change of the next minute), which is not the RMSE of the predicted level of the next minute. The final evaluation of the models will be presented later. \n",
        "\n"
      ]
    },
    {
      "cell_type": "markdown",
      "metadata": {
        "id": "vQ9C4Vpbv2xI"
      },
      "source": [
        "Baseline model #1: use the value from last trade"
      ]
    },
    {
      "cell_type": "code",
      "metadata": {
        "colab": {
          "base_uri": "https://localhost:8080/"
        },
        "id": "4NEa3LEuI-zc",
        "outputId": "acee40e4-4080-47e5-98c6-5262cb4f8ba3"
      },
      "source": [
        "baseline_last_trade_model = Baseline_last_trade()\n",
        "baseline_last_trade_model.compile(loss=tf.losses.MeanSquaredError(),\n",
        "                                  metrics=[tf.metrics.MeanAbsoluteError(), tf.keras.metrics.RootMeanSquaredError()])\n",
        "baseline_last_trade_model.evaluate(test_dataset, steps=len(test_dataset))"
      ],
      "execution_count": 38,
      "outputs": [
        {
          "output_type": "stream",
          "text": [
            "28/28 [==============================] - 0s 3ms/step - loss: 0.0092 - mean_absolute_error: 0.0255 - root_mean_squared_error: 0.0957\n"
          ],
          "name": "stdout"
        },
        {
          "output_type": "execute_result",
          "data": {
            "text/plain": [
              "[0.009160738549586054, 0.0254733722844452, 0.09571174716662242]"
            ]
          },
          "metadata": {
            "tags": []
          },
          "execution_count": 38
        }
      ]
    },
    {
      "cell_type": "markdown",
      "metadata": {
        "id": "fPxRfT64I-zd"
      },
      "source": [
        "Baseline model #2: use the short-term moving average from previous trades"
      ]
    },
    {
      "cell_type": "code",
      "metadata": {
        "colab": {
          "base_uri": "https://localhost:8080/"
        },
        "id": "LHynb9K3I-zf",
        "outputId": "ad3d46ff-ccbd-4f57-c84b-242d8badf96f"
      },
      "source": [
        "baseline_st_ma = Baseline_ma(ma_index=col_idx_map['sym_short_ma_pct_change_baseline']-1) ## short-term moving average\n",
        "\n",
        "baseline_st_ma.compile(loss=tf.losses.MeanSquaredError(),\n",
        "                        metrics=[tf.metrics.MeanAbsoluteError(), tf.keras.metrics.RootMeanSquaredError()])\n",
        "baseline_st_ma.evaluate(test_dataset, steps=len(test_dataset))"
      ],
      "execution_count": 39,
      "outputs": [
        {
          "output_type": "stream",
          "text": [
            "28/28 [==============================] - 0s 2ms/step - loss: 0.0055 - mean_absolute_error: 0.0288 - root_mean_squared_error: 0.0745\n"
          ],
          "name": "stdout"
        },
        {
          "output_type": "execute_result",
          "data": {
            "text/plain": [
              "[0.005545602055333022, 0.02883019649626698, 0.07446879781543217]"
            ]
          },
          "metadata": {
            "tags": []
          },
          "execution_count": 39
        }
      ]
    },
    {
      "cell_type": "markdown",
      "metadata": {
        "id": "Vdh2duaMI-zi"
      },
      "source": [
        "Baseline model #3: use the long-term moving average from previous trades"
      ]
    },
    {
      "cell_type": "code",
      "metadata": {
        "colab": {
          "base_uri": "https://localhost:8080/"
        },
        "id": "q1VKeNBXI-zj",
        "outputId": "cf73de8b-a675-443f-97e6-ebc0e645c543"
      },
      "source": [
        "baseline_lt_ma = Baseline_ma(ma_index=col_idx_map['sym_long_ma_pct_change_baseline']-1) ## long-term moving average\n",
        "\n",
        "baseline_lt_ma.compile(loss=tf.losses.MeanSquaredError(),\n",
        "                        metrics=[tf.metrics.MeanAbsoluteError(), tf.keras.metrics.RootMeanSquaredError()])\n",
        "baseline_lt_ma.evaluate(test_dataset, steps=len(test_dataset))"
      ],
      "execution_count": 40,
      "outputs": [
        {
          "output_type": "stream",
          "text": [
            "28/28 [==============================] - 0s 2ms/step - loss: 0.0195 - mean_absolute_error: 0.0285 - root_mean_squared_error: 0.1395\n"
          ],
          "name": "stdout"
        },
        {
          "output_type": "execute_result",
          "data": {
            "text/plain": [
              "[0.019465485443236372, 0.028518830687403105, 0.13951876357090037]"
            ]
          },
          "metadata": {
            "tags": []
          },
          "execution_count": 40
        }
      ]
    },
    {
      "cell_type": "markdown",
      "metadata": {
        "id": "wpq853YtI-zk"
      },
      "source": [
        "Conv1D model"
      ]
    },
    {
      "cell_type": "code",
      "metadata": {
        "colab": {
          "base_uri": "https://localhost:8080/"
        },
        "id": "l8CWqzH_I-zk",
        "outputId": "f61e5819-83e3-47ea-91b0-fee4b109b566"
      },
      "source": [
        "conv1d_model = get_conv1d_model(input_shape=(window_size, feature_dim), \n",
        "                                conv_width=[10, 5, 2, 2], \n",
        "                                filter_size=[64, 64, 32, 16])\n",
        "conv1d_model.summary()"
      ],
      "execution_count": 41,
      "outputs": [
        {
          "output_type": "stream",
          "text": [
            "Model: \"functional_1\"\n",
            "_________________________________________________________________\n",
            "Layer (type)                 Output Shape              Param #   \n",
            "=================================================================\n",
            "input_1 (InputLayer)         [(None, 20, 60)]          0         \n",
            "_________________________________________________________________\n",
            "conv1d (Conv1D)              (None, 11, 64)            38464     \n",
            "_________________________________________________________________\n",
            "dropout (Dropout)            (None, 11, 64)            0         \n",
            "_________________________________________________________________\n",
            "conv1d_1 (Conv1D)            (None, 7, 64)             20544     \n",
            "_________________________________________________________________\n",
            "dropout_1 (Dropout)          (None, 7, 64)             0         \n",
            "_________________________________________________________________\n",
            "conv1d_2 (Conv1D)            (None, 6, 32)             4128      \n",
            "_________________________________________________________________\n",
            "dropout_2 (Dropout)          (None, 6, 32)             0         \n",
            "_________________________________________________________________\n",
            "conv1d_3 (Conv1D)            (None, 5, 16)             1040      \n",
            "_________________________________________________________________\n",
            "dropout_3 (Dropout)          (None, 5, 16)             0         \n",
            "_________________________________________________________________\n",
            "flatten (Flatten)            (None, 80)                0         \n",
            "_________________________________________________________________\n",
            "dense (Dense)                (None, 1)                 81        \n",
            "=================================================================\n",
            "Total params: 64,257\n",
            "Trainable params: 64,257\n",
            "Non-trainable params: 0\n",
            "_________________________________________________________________\n"
          ],
          "name": "stdout"
        }
      ]
    },
    {
      "cell_type": "code",
      "metadata": {
        "id": "5M8BM1OgI-zl"
      },
      "source": [
        "# # print('Input shape:', (window_size, 10))\n",
        "# for x, y in train_dataset:\n",
        "#     print('Input shape:', x.shape)\n",
        "#     output_ = conv1d_model(x)\n",
        "#     print('Output shape:', output_.shape)\n",
        "#     print(\"Label shapre:\", y.shape)\n",
        "#     break\n"
      ],
      "execution_count": 42,
      "outputs": []
    },
    {
      "cell_type": "code",
      "metadata": {
        "colab": {
          "base_uri": "https://localhost:8080/"
        },
        "id": "Moztce8vI-zl",
        "outputId": "2cbdbdd4-4655-497d-fae2-60b03619015f"
      },
      "source": [
        "history = conv1d_model.fit(train_dataset, \n",
        "                            epochs=50, \n",
        "                            steps_per_epoch=len(train_dataset),\n",
        "                            validation_data=validation_dataset, \n",
        "                            validation_steps=len(validation_dataset),\n",
        "                            callbacks=[tf.keras.callbacks.EarlyStopping(monitor='val_root_mean_squared_error', patience=2)],\n",
        "                            verbose=2)"
      ],
      "execution_count": 43,
      "outputs": [
        {
          "output_type": "stream",
          "text": [
            "Epoch 1/50\n",
            "195/195 - 1s - loss: 0.0026 - mean_absolute_error: 0.2691 - root_mean_squared_error: 1.3289 - val_loss: 1.3825e-04 - val_mean_absolute_error: 0.0182 - val_root_mean_squared_error: 0.0232\n",
            "Epoch 2/50\n",
            "195/195 - 1s - loss: 9.8625e-04 - mean_absolute_error: 0.1034 - root_mean_squared_error: 0.9972 - val_loss: 1.3018e-04 - val_mean_absolute_error: 0.0174 - val_root_mean_squared_error: 0.0220\n",
            "Epoch 3/50\n",
            "195/195 - 1s - loss: 0.0010 - mean_absolute_error: 0.1058 - root_mean_squared_error: 1.1269 - val_loss: 1.3001e-04 - val_mean_absolute_error: 0.0174 - val_root_mean_squared_error: 0.0218\n",
            "Epoch 4/50\n",
            "195/195 - 1s - loss: 7.9806e-04 - mean_absolute_error: 0.0846 - root_mean_squared_error: 0.7151 - val_loss: 1.2741e-04 - val_mean_absolute_error: 0.0171 - val_root_mean_squared_error: 0.0215\n",
            "Epoch 5/50\n",
            "195/195 - 1s - loss: 9.3427e-04 - mean_absolute_error: 0.0982 - root_mean_squared_error: 0.9103 - val_loss: 1.2881e-04 - val_mean_absolute_error: 0.0172 - val_root_mean_squared_error: 0.0217\n",
            "Epoch 6/50\n",
            "195/195 - 1s - loss: 9.5324e-04 - mean_absolute_error: 0.1001 - root_mean_squared_error: 1.0012 - val_loss: 1.2668e-04 - val_mean_absolute_error: 0.0170 - val_root_mean_squared_error: 0.0217\n"
          ],
          "name": "stdout"
        }
      ]
    },
    {
      "cell_type": "code",
      "metadata": {
        "colab": {
          "base_uri": "https://localhost:8080/"
        },
        "id": "meThuAlaI-zm",
        "scrolled": true,
        "outputId": "eea8fe9c-4702-4411-9b36-56b49e47e8c6"
      },
      "source": [
        "conv1d_model.evaluate(test_dataset, steps=len(test_dataset))"
      ],
      "execution_count": 44,
      "outputs": [
        {
          "output_type": "stream",
          "text": [
            "28/28 [==============================] - 0s 3ms/step - loss: 2.2495e-04 - mean_absolute_error: 0.0269 - root_mean_squared_error: 0.1301\n"
          ],
          "name": "stdout"
        },
        {
          "output_type": "execute_result",
          "data": {
            "text/plain": [
              "[0.00022494529418638974, 0.026948238085246056, 0.13006937819136832]"
            ]
          },
          "metadata": {
            "tags": []
          },
          "execution_count": 44
        }
      ]
    },
    {
      "cell_type": "markdown",
      "metadata": {
        "id": "S8ZOZHcPiDAW"
      },
      "source": [
        "LSTM model"
      ]
    },
    {
      "cell_type": "code",
      "metadata": {
        "colab": {
          "base_uri": "https://localhost:8080/"
        },
        "id": "8PU4BXCPI-zn",
        "outputId": "187dd8a0-dfce-4e07-f648-bfd422b5ef35"
      },
      "source": [
        "LSTM_model = get_LSTM_model(input_shape=(window_size, feature_dim),\n",
        "                               units_list=[64, 64, 32, 16])\n",
        "LSTM_model.summary()\n"
      ],
      "execution_count": 45,
      "outputs": [
        {
          "output_type": "stream",
          "text": [
            "Model: \"functional_3\"\n",
            "_________________________________________________________________\n",
            "Layer (type)                 Output Shape              Param #   \n",
            "=================================================================\n",
            "input_2 (InputLayer)         [(None, 20, 60)]          0         \n",
            "_________________________________________________________________\n",
            "lstm (LSTM)                  (None, 20, 64)            32000     \n",
            "_________________________________________________________________\n",
            "dropout_4 (Dropout)          (None, 20, 64)            0         \n",
            "_________________________________________________________________\n",
            "lstm_1 (LSTM)                (None, 20, 64)            33024     \n",
            "_________________________________________________________________\n",
            "dropout_5 (Dropout)          (None, 20, 64)            0         \n",
            "_________________________________________________________________\n",
            "lstm_2 (LSTM)                (None, 20, 32)            12416     \n",
            "_________________________________________________________________\n",
            "dropout_6 (Dropout)          (None, 20, 32)            0         \n",
            "_________________________________________________________________\n",
            "lstm_3 (LSTM)                (None, 20, 16)            3136      \n",
            "_________________________________________________________________\n",
            "dropout_7 (Dropout)          (None, 20, 16)            0         \n",
            "_________________________________________________________________\n",
            "lstm_4 (LSTM)                (None, 16)                2112      \n",
            "_________________________________________________________________\n",
            "dense_1 (Dense)              (None, 16)                272       \n",
            "_________________________________________________________________\n",
            "dense_2 (Dense)              (None, 1)                 17        \n",
            "=================================================================\n",
            "Total params: 82,977\n",
            "Trainable params: 82,977\n",
            "Non-trainable params: 0\n",
            "_________________________________________________________________\n"
          ],
          "name": "stdout"
        }
      ]
    },
    {
      "cell_type": "code",
      "metadata": {
        "colab": {
          "base_uri": "https://localhost:8080/"
        },
        "id": "PpslED87I-zn",
        "outputId": "0bc48af2-482a-44f8-89c6-bf07ff9fc4b0"
      },
      "source": [
        "history = LSTM_model.fit(train_dataset, \n",
        "                          epochs=20, \n",
        "                          steps_per_epoch=len(train_dataset),\n",
        "                          validation_data=validation_dataset, \n",
        "                          validation_steps=len(validation_dataset),\n",
        "                          callbacks=[tf.keras.callbacks.EarlyStopping(monitor='val_root_mean_squared_error', patience=3)],\n",
        "                          verbose=2)"
      ],
      "execution_count": 46,
      "outputs": [
        {
          "output_type": "stream",
          "text": [
            "Epoch 1/20\n",
            "195/195 - 5s - loss: 0.0667 - mean_absolute_error: 0.1483 - root_mean_squared_error: 1.4623 - val_loss: 2.4225e-04 - val_mean_absolute_error: 0.0175 - val_root_mean_squared_error: 0.0220\n",
            "Epoch 2/20\n",
            "195/195 - 3s - loss: 0.0302 - mean_absolute_error: 0.0976 - root_mean_squared_error: 0.8962 - val_loss: 7.8801e-04 - val_mean_absolute_error: 0.0349 - val_root_mean_squared_error: 0.0397\n",
            "Epoch 3/20\n",
            "195/195 - 3s - loss: 0.0696 - mean_absolute_error: 0.1407 - root_mean_squared_error: 1.6128 - val_loss: 0.0013 - val_mean_absolute_error: 0.0463 - val_root_mean_squared_error: 0.0507\n",
            "Epoch 4/20\n",
            "195/195 - 3s - loss: 0.0338 - mean_absolute_error: 0.1012 - root_mean_squared_error: 0.8639 - val_loss: 5.3613e-04 - val_mean_absolute_error: 0.0272 - val_root_mean_squared_error: 0.0327\n"
          ],
          "name": "stdout"
        }
      ]
    },
    {
      "cell_type": "code",
      "metadata": {
        "colab": {
          "base_uri": "https://localhost:8080/"
        },
        "id": "nWN1jVo6I-zn",
        "outputId": "bdf135c9-bc53-4650-db37-d406679fed81"
      },
      "source": [
        "LSTM_model.evaluate(test_dataset, steps=len(test_dataset))"
      ],
      "execution_count": 47,
      "outputs": [
        {
          "output_type": "stream",
          "text": [
            "28/28 [==============================] - 0s 6ms/step - loss: 0.0064 - mean_absolute_error: 0.0372 - root_mean_squared_error: 0.1205\n"
          ],
          "name": "stdout"
        },
        {
          "output_type": "execute_result",
          "data": {
            "text/plain": [
              "[0.0063571015478893446, 0.03719711623612878, 0.12045772098006485]"
            ]
          },
          "metadata": {
            "tags": []
          },
          "execution_count": 47
        }
      ]
    },
    {
      "cell_type": "markdown",
      "metadata": {
        "id": "PayTwGepTIbj"
      },
      "source": [
        "Linear regression model"
      ]
    },
    {
      "cell_type": "code",
      "metadata": {
        "colab": {
          "base_uri": "https://localhost:8080/"
        },
        "id": "aRf4K2K526qZ",
        "outputId": "eabb5709-dd74-40b8-d489-18d1c9288473"
      },
      "source": [
        "my_lr_model = get_lr_model(input_shape=(window_size, feature_dim))\n",
        "my_lr_model.summary()"
      ],
      "execution_count": 48,
      "outputs": [
        {
          "output_type": "stream",
          "text": [
            "Model: \"functional_5\"\n",
            "_________________________________________________________________\n",
            "Layer (type)                 Output Shape              Param #   \n",
            "=================================================================\n",
            "input_3 (InputLayer)         [(None, 20, 60)]          0         \n",
            "_________________________________________________________________\n",
            "tf_op_layer_strided_slice (T [(None, 5, 60)]           0         \n",
            "_________________________________________________________________\n",
            "flatten_1 (Flatten)          (None, 300)               0         \n",
            "_________________________________________________________________\n",
            "dense_3 (Dense)              (None, 1)                 301       \n",
            "=================================================================\n",
            "Total params: 301\n",
            "Trainable params: 301\n",
            "Non-trainable params: 0\n",
            "_________________________________________________________________\n"
          ],
          "name": "stdout"
        }
      ]
    },
    {
      "cell_type": "code",
      "metadata": {
        "colab": {
          "base_uri": "https://localhost:8080/"
        },
        "id": "8Fr1EW7Hnw2z",
        "outputId": "18cd4b4a-bbf1-4a65-c2de-3bb0adc10d4c"
      },
      "source": [
        "history = my_lr_model.fit(train_dataset, \n",
        "                          epochs=20, \n",
        "                          steps_per_epoch=len(train_dataset),\n",
        "                          validation_data=validation_dataset, \n",
        "                          validation_steps=len(validation_dataset),\n",
        "                          callbacks=[tf.keras.callbacks.EarlyStopping(monitor='val_root_mean_squared_error', patience=3)],\n",
        "                          verbose=2)"
      ],
      "execution_count": 49,
      "outputs": [
        {
          "output_type": "stream",
          "text": [
            "Epoch 1/20\n",
            "195/195 - 1s - loss: 0.1413 - mean_absolute_error: 0.2253 - root_mean_squared_error: 0.8156 - val_loss: 0.1027 - val_mean_absolute_error: 0.3404 - val_root_mean_squared_error: 0.3724\n",
            "Epoch 2/20\n",
            "195/195 - 1s - loss: 0.0809 - mean_absolute_error: 0.1927 - root_mean_squared_error: 0.8974 - val_loss: 0.0294 - val_mean_absolute_error: 0.1190 - val_root_mean_squared_error: 0.1473\n",
            "Epoch 3/20\n",
            "195/195 - 1s - loss: 0.0898 - mean_absolute_error: 0.2214 - root_mean_squared_error: 0.9790 - val_loss: 0.1570 - val_mean_absolute_error: 0.4709 - val_root_mean_squared_error: 0.5142\n",
            "Epoch 4/20\n",
            "195/195 - 1s - loss: 0.0764 - mean_absolute_error: 0.1944 - root_mean_squared_error: 0.6753 - val_loss: 0.0955 - val_mean_absolute_error: 0.2822 - val_root_mean_squared_error: 0.3541\n",
            "Epoch 5/20\n",
            "195/195 - 1s - loss: 0.0739 - mean_absolute_error: 0.1848 - root_mean_squared_error: 0.5480 - val_loss: 0.0439 - val_mean_absolute_error: 0.1391 - val_root_mean_squared_error: 0.1731\n"
          ],
          "name": "stdout"
        }
      ]
    },
    {
      "cell_type": "code",
      "metadata": {
        "colab": {
          "base_uri": "https://localhost:8080/"
        },
        "id": "jIyGK8sh26vp",
        "outputId": "6560964f-f598-4d28-de9e-3dd68acc01c8"
      },
      "source": [
        "my_lr_model.evaluate(test_dataset, steps=len(test_dataset))"
      ],
      "execution_count": 50,
      "outputs": [
        {
          "output_type": "stream",
          "text": [
            "28/28 [==============================] - 0s 3ms/step - loss: 0.0547 - mean_absolute_error: 0.1621 - root_mean_squared_error: 0.2508\n"
          ],
          "name": "stdout"
        },
        {
          "output_type": "execute_result",
          "data": {
            "text/plain": [
              "[0.054661411723423585, 0.16205067341462892, 0.2507529324566122]"
            ]
          },
          "metadata": {
            "tags": []
          },
          "execution_count": 50
        }
      ]
    },
    {
      "cell_type": "markdown",
      "metadata": {
        "id": "tkiRWnANauxt"
      },
      "source": [
        "Majority-voting model (simple averaging) uses the above two models: conv1d and LSTM.\n",
        "\n",
        "\n",
        "\n",
        "\n",
        "\n"
      ]
    },
    {
      "cell_type": "code",
      "metadata": {
        "colab": {
          "base_uri": "https://localhost:8080/"
        },
        "id": "moey_ZgfrLT9",
        "outputId": "8082c62c-f169-4e81-d78b-f64bad9cbb69"
      },
      "source": [
        "maj_model = get_myMajority_model(input_shape=(window_size, feature_dim), models=[conv1d_model, LSTM_model])\n",
        "maj_model.summary() ## no trainable parameters"
      ],
      "execution_count": 51,
      "outputs": [
        {
          "output_type": "stream",
          "text": [
            "Model: \"functional_7\"\n",
            "__________________________________________________________________________________________________\n",
            "Layer (type)                    Output Shape         Param #     Connected to                     \n",
            "==================================================================================================\n",
            "input_4 (InputLayer)            [(None, 20, 60)]     0                                            \n",
            "__________________________________________________________________________________________________\n",
            "functional_1 (Functional)       (None, 1)            64257       input_4[0][0]                    \n",
            "__________________________________________________________________________________________________\n",
            "functional_3 (Functional)       (None, 1)            82977       input_4[0][0]                    \n",
            "__________________________________________________________________________________________________\n",
            "tf_op_layer_stack (TensorFlowOp [(None, 2, 1)]       0           functional_1[0][0]               \n",
            "                                                                 functional_3[0][0]               \n",
            "__________________________________________________________________________________________________\n",
            "flatten_2 (Flatten)             (None, 2)            0           tf_op_layer_stack[0][0]          \n",
            "__________________________________________________________________________________________________\n",
            "tf_op_layer_Mean (TensorFlowOpL [(None, 1)]          0           flatten_2[0][0]                  \n",
            "==================================================================================================\n",
            "Total params: 147,234\n",
            "Trainable params: 0\n",
            "Non-trainable params: 147,234\n",
            "__________________________________________________________________________________________________\n"
          ],
          "name": "stdout"
        }
      ]
    },
    {
      "cell_type": "code",
      "metadata": {
        "colab": {
          "base_uri": "https://localhost:8080/"
        },
        "id": "bWG0w75drPJI",
        "outputId": "fed4d6ea-51c8-4b72-ee2a-9c6298a32fdb"
      },
      "source": [
        "maj_model.evaluate(test_dataset, steps=len(test_dataset))"
      ],
      "execution_count": 52,
      "outputs": [
        {
          "output_type": "stream",
          "text": [
            "28/28 [==============================] - 0s 11ms/step - loss: 0.0087 - mean_absolute_error: 0.0327 - root_mean_squared_error: 0.1608\n"
          ],
          "name": "stdout"
        },
        {
          "output_type": "execute_result",
          "data": {
            "text/plain": [
              "[0.008746124727102662, 0.03268037196940679, 0.16077457042041987]"
            ]
          },
          "metadata": {
            "tags": []
          },
          "execution_count": 52
        }
      ]
    },
    {
      "cell_type": "markdown",
      "metadata": {
        "id": "NG1Yf8sKa62m"
      },
      "source": [
        "The ensemble model (weighted averaging) uses the above two models: conv1d and LSTM.\n"
      ]
    },
    {
      "cell_type": "code",
      "metadata": {
        "colab": {
          "base_uri": "https://localhost:8080/"
        },
        "id": "C73ST00ArctK",
        "outputId": "da04d97d-1428-47ff-f2a4-f5ff85ec1233"
      },
      "source": [
        "# ensStack_model = get_myEnsStack_model(input_shape=(window_size, feature_dim), models=[my_lr_model, conv1d_model, LSTM_model])\n",
        "ensStack_model = get_myEnsStack_model(input_shape=(window_size, feature_dim), models=[conv1d_model, LSTM_model])\n",
        "ensStack_model.summary()"
      ],
      "execution_count": 53,
      "outputs": [
        {
          "output_type": "stream",
          "text": [
            "Model: \"functional_9\"\n",
            "__________________________________________________________________________________________________\n",
            "Layer (type)                    Output Shape         Param #     Connected to                     \n",
            "==================================================================================================\n",
            "input_5 (InputLayer)            [(None, 20, 60)]     0                                            \n",
            "__________________________________________________________________________________________________\n",
            "functional_1 (Functional)       (None, 1)            64257       input_5[0][0]                    \n",
            "__________________________________________________________________________________________________\n",
            "functional_3 (Functional)       (None, 1)            82977       input_5[0][0]                    \n",
            "__________________________________________________________________________________________________\n",
            "tf_op_layer_stack_1 (TensorFlow [(None, 2, 1)]       0           functional_1[1][0]               \n",
            "                                                                 functional_3[1][0]               \n",
            "__________________________________________________________________________________________________\n",
            "flatten_3 (Flatten)             (None, 2)            0           tf_op_layer_stack_1[0][0]        \n",
            "__________________________________________________________________________________________________\n",
            "dense_4 (Dense)                 (None, 1)            2           flatten_3[0][0]                  \n",
            "==================================================================================================\n",
            "Total params: 147,236\n",
            "Trainable params: 2\n",
            "Non-trainable params: 147,234\n",
            "__________________________________________________________________________________________________\n"
          ],
          "name": "stdout"
        }
      ]
    },
    {
      "cell_type": "code",
      "metadata": {
        "colab": {
          "base_uri": "https://localhost:8080/"
        },
        "id": "LWGMXogMr8tD",
        "outputId": "20ef00aa-21a6-4d8d-dbe3-e8188ed483d6"
      },
      "source": [
        "history = ensStack_model.fit(train_dataset, \n",
        "                            epochs=50, \n",
        "                            steps_per_epoch=len(train_dataset),\n",
        "                            validation_data=validation_dataset, \n",
        "                            validation_steps=len(validation_dataset),\n",
        "                            callbacks=[tf.keras.callbacks.EarlyStopping(monitor='val_root_mean_squared_error', patience=2)],\n",
        "                            verbose=2)"
      ],
      "execution_count": 54,
      "outputs": [
        {
          "output_type": "stream",
          "text": [
            "Epoch 1/50\n",
            "195/195 - 3s - loss: 0.0314 - mean_absolute_error: 0.1009 - root_mean_squared_error: 0.8163 - val_loss: 5.0027e-04 - val_mean_absolute_error: 0.0265 - val_root_mean_squared_error: 0.0316\n",
            "Epoch 2/50\n",
            "195/195 - 2s - loss: 0.0249 - mean_absolute_error: 0.0921 - root_mean_squared_error: 0.5253 - val_loss: 4.2060e-04 - val_mean_absolute_error: 0.0238 - val_root_mean_squared_error: 0.0290\n",
            "Epoch 3/50\n",
            "195/195 - 2s - loss: 0.0423 - mean_absolute_error: 0.1096 - root_mean_squared_error: 1.1238 - val_loss: 3.7139e-04 - val_mean_absolute_error: 0.0218 - val_root_mean_squared_error: 0.0273\n",
            "Epoch 4/50\n",
            "195/195 - 2s - loss: 0.0379 - mean_absolute_error: 0.1038 - root_mean_squared_error: 1.1220 - val_loss: 3.3072e-04 - val_mean_absolute_error: 0.0206 - val_root_mean_squared_error: 0.0257\n",
            "Epoch 5/50\n",
            "195/195 - 2s - loss: 0.0299 - mean_absolute_error: 0.0969 - root_mean_squared_error: 0.7346 - val_loss: 2.8797e-04 - val_mean_absolute_error: 0.0192 - val_root_mean_squared_error: 0.0240\n",
            "Epoch 6/50\n",
            "195/195 - 2s - loss: 0.0406 - mean_absolute_error: 0.1042 - root_mean_squared_error: 1.0620 - val_loss: 2.7294e-04 - val_mean_absolute_error: 0.0185 - val_root_mean_squared_error: 0.0234\n",
            "Epoch 7/50\n",
            "195/195 - 2s - loss: 0.0287 - mean_absolute_error: 0.0939 - root_mean_squared_error: 0.7385 - val_loss: 2.5022e-04 - val_mean_absolute_error: 0.0178 - val_root_mean_squared_error: 0.0224\n",
            "Epoch 8/50\n",
            "195/195 - 2s - loss: 0.0293 - mean_absolute_error: 0.0922 - root_mean_squared_error: 0.7485 - val_loss: 2.4659e-04 - val_mean_absolute_error: 0.0174 - val_root_mean_squared_error: 0.0222\n",
            "Epoch 9/50\n",
            "195/195 - 2s - loss: 0.0312 - mean_absolute_error: 0.0933 - root_mean_squared_error: 0.9428 - val_loss: 2.3598e-04 - val_mean_absolute_error: 0.0171 - val_root_mean_squared_error: 0.0217\n",
            "Epoch 10/50\n",
            "195/195 - 2s - loss: 0.0313 - mean_absolute_error: 0.0955 - root_mean_squared_error: 0.9755 - val_loss: 2.3428e-04 - val_mean_absolute_error: 0.0172 - val_root_mean_squared_error: 0.0216\n",
            "Epoch 11/50\n",
            "195/195 - 2s - loss: 0.0421 - mean_absolute_error: 0.1065 - root_mean_squared_error: 1.1264 - val_loss: 2.3182e-04 - val_mean_absolute_error: 0.0169 - val_root_mean_squared_error: 0.0215\n",
            "Epoch 12/50\n",
            "195/195 - 2s - loss: 0.0241 - mean_absolute_error: 0.0885 - root_mean_squared_error: 0.6634 - val_loss: 2.2757e-04 - val_mean_absolute_error: 0.0170 - val_root_mean_squared_error: 0.0213\n",
            "Epoch 13/50\n",
            "195/195 - 2s - loss: 0.0567 - mean_absolute_error: 0.1193 - root_mean_squared_error: 1.5008 - val_loss: 2.4207e-04 - val_mean_absolute_error: 0.0173 - val_root_mean_squared_error: 0.0220\n",
            "Epoch 14/50\n",
            "195/195 - 2s - loss: 0.0468 - mean_absolute_error: 0.1103 - root_mean_squared_error: 1.2521 - val_loss: 2.3075e-04 - val_mean_absolute_error: 0.0170 - val_root_mean_squared_error: 0.0215\n"
          ],
          "name": "stdout"
        }
      ]
    },
    {
      "cell_type": "code",
      "metadata": {
        "colab": {
          "base_uri": "https://localhost:8080/"
        },
        "id": "b5zcLDtDvPAV",
        "outputId": "0699b785-327e-4173-8a59-7deee424d7e0"
      },
      "source": [
        "ensStack_model.evaluate(test_dataset, steps=len(test_dataset))"
      ],
      "execution_count": 55,
      "outputs": [
        {
          "output_type": "stream",
          "text": [
            "28/28 [==============================] - 0s 7ms/step - loss: 0.0078 - mean_absolute_error: 0.0285 - root_mean_squared_error: 0.1532\n"
          ],
          "name": "stdout"
        },
        {
          "output_type": "execute_result",
          "data": {
            "text/plain": [
              "[0.007804119259422545, 0.028460901762583816, 0.1531805664782975]"
            ]
          },
          "metadata": {
            "tags": []
          },
          "execution_count": 55
        }
      ]
    },
    {
      "cell_type": "markdown",
      "metadata": {
        "id": "-_OseIBW26__"
      },
      "source": [
        "# Model evaluation\n",
        "Here, we will compute the actual root-mean-square error of our predicted level. Also, the predictions are made one by one to simulate the real-time prediction (see the definition of model_eval). "
      ]
    },
    {
      "cell_type": "code",
      "metadata": {
        "colab": {
          "base_uri": "https://localhost:8080/",
          "height": 394
        },
        "id": "caXbeCT9QSMw",
        "outputId": "b61ef0af-1175-4ad3-f39c-6ffc8a039753"
      },
      "source": [
        "raw_test_data = feature_data.iloc[-len(test_data):,:].reset_index().drop('index', axis=1)\n",
        "raw_test_data.head()"
      ],
      "execution_count": 56,
      "outputs": [
        {
          "output_type": "execute_result",
          "data": {
            "text/html": [
              "<div>\n",
              "<style scoped>\n",
              "    .dataframe tbody tr th:only-of-type {\n",
              "        vertical-align: middle;\n",
              "    }\n",
              "\n",
              "    .dataframe tbody tr th {\n",
              "        vertical-align: top;\n",
              "    }\n",
              "\n",
              "    .dataframe thead th {\n",
              "        text-align: right;\n",
              "    }\n",
              "</style>\n",
              "<table border=\"1\" class=\"dataframe\">\n",
              "  <thead>\n",
              "    <tr style=\"text-align: right;\">\n",
              "      <th></th>\n",
              "      <th>datetime</th>\n",
              "      <th>sym_level</th>\n",
              "      <th>sym_pct_change_1m</th>\n",
              "      <th>sym_short_ma</th>\n",
              "      <th>sym_short_ma_pct_change_baseline</th>\n",
              "      <th>sym_short_ma_pct_change_10m</th>\n",
              "      <th>sym_short_std</th>\n",
              "      <th>sym_short_std_pct_change_10m</th>\n",
              "      <th>sym_long_ma</th>\n",
              "      <th>sym_long_ma_pct_change_baseline</th>\n",
              "      <th>sym_long_ma_pct_change_60m</th>\n",
              "      <th>sym_long_std</th>\n",
              "      <th>sym_long_std_pct_change_60m</th>\n",
              "      <th>sym_short_ewm</th>\n",
              "      <th>sym_short_ewm_pct_change_baseline</th>\n",
              "      <th>sym_long_ewm</th>\n",
              "      <th>sym_long_ewm_pct_change_baseline</th>\n",
              "      <th>sym_rsi</th>\n",
              "      <th>sym_wma</th>\n",
              "      <th>sym_wma_pct_change</th>\n",
              "      <th>sym_macd</th>\n",
              "      <th>sec_level</th>\n",
              "      <th>sec_pct_change_1m</th>\n",
              "      <th>sec_short_ma</th>\n",
              "      <th>sec_short_ma_pct_change_baseline</th>\n",
              "      <th>sec_short_ma_pct_change_10m</th>\n",
              "      <th>sec_short_std</th>\n",
              "      <th>sec_short_std_pct_change_10m</th>\n",
              "      <th>sec_long_ma</th>\n",
              "      <th>sec_long_ma_pct_change_baseline</th>\n",
              "      <th>sec_long_ma_pct_change_60m</th>\n",
              "      <th>sec_long_std</th>\n",
              "      <th>sec_long_std_pct_change_60m</th>\n",
              "      <th>sec_short_ewm</th>\n",
              "      <th>sec_short_ewm_pct_change_baseline</th>\n",
              "      <th>sec_long_ewm</th>\n",
              "      <th>sec_long_ewm_pct_change_baseline</th>\n",
              "      <th>sec_rsi</th>\n",
              "      <th>sec_wma</th>\n",
              "      <th>sec_wma_pct_change</th>\n",
              "      <th>sec_macd</th>\n",
              "      <th>iss_level</th>\n",
              "      <th>iss_pct_change_1m</th>\n",
              "      <th>iss_short_ma</th>\n",
              "      <th>iss_short_ma_pct_change_baseline</th>\n",
              "      <th>iss_short_ma_pct_change_10m</th>\n",
              "      <th>iss_short_std</th>\n",
              "      <th>iss_short_std_pct_change_10m</th>\n",
              "      <th>iss_long_ma</th>\n",
              "      <th>iss_long_ma_pct_change_baseline</th>\n",
              "      <th>iss_long_ma_pct_change_60m</th>\n",
              "      <th>iss_long_std</th>\n",
              "      <th>iss_long_std_pct_change_60m</th>\n",
              "      <th>iss_short_ewm</th>\n",
              "      <th>iss_short_ewm_pct_change_baseline</th>\n",
              "      <th>iss_long_ewm</th>\n",
              "      <th>iss_long_ewm_pct_change_baseline</th>\n",
              "      <th>iss_rsi</th>\n",
              "      <th>iss_wma</th>\n",
              "      <th>iss_wma_pct_change</th>\n",
              "      <th>iss_macd</th>\n",
              "    </tr>\n",
              "  </thead>\n",
              "  <tbody>\n",
              "    <tr>\n",
              "      <th>0</th>\n",
              "      <td>2020-11-17 13:50:00</td>\n",
              "      <td>166.390560</td>\n",
              "      <td>-0.007753</td>\n",
              "      <td>167.147476</td>\n",
              "      <td>0.004549</td>\n",
              "      <td>-0.012092</td>\n",
              "      <td>0.618931</td>\n",
              "      <td>0.128163</td>\n",
              "      <td>168.203156</td>\n",
              "      <td>0.010894</td>\n",
              "      <td>-0.024051</td>\n",
              "      <td>1.096633</td>\n",
              "      <td>-0.582743</td>\n",
              "      <td>167.329798</td>\n",
              "      <td>0.005645</td>\n",
              "      <td>168.726434</td>\n",
              "      <td>0.014039</td>\n",
              "      <td>42.795672</td>\n",
              "      <td>168.061090</td>\n",
              "      <td>-0.000853</td>\n",
              "      <td>-1.396636</td>\n",
              "      <td>79.823070</td>\n",
              "      <td>0.005053</td>\n",
              "      <td>79.479518</td>\n",
              "      <td>-0.004304</td>\n",
              "      <td>0.003745</td>\n",
              "      <td>2.184390</td>\n",
              "      <td>0.119473</td>\n",
              "      <td>80.828832</td>\n",
              "      <td>0.012600</td>\n",
              "      <td>-0.053376</td>\n",
              "      <td>2.212208</td>\n",
              "      <td>-0.343615</td>\n",
              "      <td>79.451587</td>\n",
              "      <td>-0.004654</td>\n",
              "      <td>80.900042</td>\n",
              "      <td>0.013492</td>\n",
              "      <td>49.226355</td>\n",
              "      <td>79.624154</td>\n",
              "      <td>-0.000181</td>\n",
              "      <td>-1.448455</td>\n",
              "      <td>87.870736</td>\n",
              "      <td>0.031273</td>\n",
              "      <td>86.953241</td>\n",
              "      <td>-0.010441</td>\n",
              "      <td>0.013200</td>\n",
              "      <td>5.213971</td>\n",
              "      <td>1.786454</td>\n",
              "      <td>88.154731</td>\n",
              "      <td>0.003232</td>\n",
              "      <td>-0.063070</td>\n",
              "      <td>4.131519</td>\n",
              "      <td>-0.159270</td>\n",
              "      <td>86.279169</td>\n",
              "      <td>-0.018113</td>\n",
              "      <td>88.359993</td>\n",
              "      <td>0.005568</td>\n",
              "      <td>49.805926</td>\n",
              "      <td>86.670960</td>\n",
              "      <td>0.000549</td>\n",
              "      <td>-2.080823</td>\n",
              "    </tr>\n",
              "    <tr>\n",
              "      <th>1</th>\n",
              "      <td>2020-11-17 13:51:00</td>\n",
              "      <td>166.144807</td>\n",
              "      <td>-0.001477</td>\n",
              "      <td>166.969522</td>\n",
              "      <td>0.004964</td>\n",
              "      <td>-0.012621</td>\n",
              "      <td>0.626528</td>\n",
              "      <td>-0.071809</td>\n",
              "      <td>168.148652</td>\n",
              "      <td>0.012061</td>\n",
              "      <td>-0.024503</td>\n",
              "      <td>1.116467</td>\n",
              "      <td>-0.569567</td>\n",
              "      <td>167.114345</td>\n",
              "      <td>0.005836</td>\n",
              "      <td>168.641791</td>\n",
              "      <td>0.015029</td>\n",
              "      <td>42.152190</td>\n",
              "      <td>167.908467</td>\n",
              "      <td>-0.000908</td>\n",
              "      <td>-1.527446</td>\n",
              "      <td>81.702499</td>\n",
              "      <td>0.023545</td>\n",
              "      <td>79.735968</td>\n",
              "      <td>-0.024069</td>\n",
              "      <td>0.004554</td>\n",
              "      <td>2.287924</td>\n",
              "      <td>0.251882</td>\n",
              "      <td>80.806887</td>\n",
              "      <td>-0.010962</td>\n",
              "      <td>-0.054053</td>\n",
              "      <td>2.196587</td>\n",
              "      <td>-0.340302</td>\n",
              "      <td>79.860844</td>\n",
              "      <td>-0.022541</td>\n",
              "      <td>80.926352</td>\n",
              "      <td>-0.009500</td>\n",
              "      <td>50.591039</td>\n",
              "      <td>79.734233</td>\n",
              "      <td>0.001382</td>\n",
              "      <td>-1.065509</td>\n",
              "      <td>85.787784</td>\n",
              "      <td>-0.023705</td>\n",
              "      <td>86.736830</td>\n",
              "      <td>0.011063</td>\n",
              "      <td>0.005188</td>\n",
              "      <td>5.212827</td>\n",
              "      <td>1.991772</td>\n",
              "      <td>88.056693</td>\n",
              "      <td>0.026448</td>\n",
              "      <td>-0.063578</td>\n",
              "      <td>4.116453</td>\n",
              "      <td>-0.163812</td>\n",
              "      <td>86.189827</td>\n",
              "      <td>0.004686</td>\n",
              "      <td>88.275658</td>\n",
              "      <td>0.029000</td>\n",
              "      <td>48.936724</td>\n",
              "      <td>86.583454</td>\n",
              "      <td>-0.001010</td>\n",
              "      <td>-2.085832</td>\n",
              "    </tr>\n",
              "    <tr>\n",
              "      <th>2</th>\n",
              "      <td>2020-11-17 13:52:00</td>\n",
              "      <td>165.918780</td>\n",
              "      <td>-0.001360</td>\n",
              "      <td>166.761478</td>\n",
              "      <td>0.005079</td>\n",
              "      <td>-0.012666</td>\n",
              "      <td>0.591024</td>\n",
              "      <td>-0.119194</td>\n",
              "      <td>168.110385</td>\n",
              "      <td>0.013209</td>\n",
              "      <td>-0.024727</td>\n",
              "      <td>1.152915</td>\n",
              "      <td>-0.555421</td>\n",
              "      <td>166.896970</td>\n",
              "      <td>0.005896</td>\n",
              "      <td>168.552512</td>\n",
              "      <td>0.015874</td>\n",
              "      <td>41.557664</td>\n",
              "      <td>167.747520</td>\n",
              "      <td>-0.000959</td>\n",
              "      <td>-1.655542</td>\n",
              "      <td>76.440522</td>\n",
              "      <td>-0.064404</td>\n",
              "      <td>79.081815</td>\n",
              "      <td>0.034554</td>\n",
              "      <td>-0.005668</td>\n",
              "      <td>2.189753</td>\n",
              "      <td>0.055728</td>\n",
              "      <td>80.727443</td>\n",
              "      <td>0.056082</td>\n",
              "      <td>-0.055057</td>\n",
              "      <td>2.266935</td>\n",
              "      <td>-0.317317</td>\n",
              "      <td>79.238967</td>\n",
              "      <td>0.036609</td>\n",
              "      <td>80.779276</td>\n",
              "      <td>0.056760</td>\n",
              "      <td>46.937139</td>\n",
              "      <td>79.496709</td>\n",
              "      <td>-0.002979</td>\n",
              "      <td>-1.540309</td>\n",
              "      <td>88.446484</td>\n",
              "      <td>0.030992</td>\n",
              "      <td>85.643702</td>\n",
              "      <td>-0.031689</td>\n",
              "      <td>-0.021729</td>\n",
              "      <td>2.901006</td>\n",
              "      <td>-0.355892</td>\n",
              "      <td>88.028527</td>\n",
              "      <td>-0.004726</td>\n",
              "      <td>-0.063593</td>\n",
              "      <td>4.107754</td>\n",
              "      <td>-0.168584</td>\n",
              "      <td>86.600128</td>\n",
              "      <td>-0.020875</td>\n",
              "      <td>88.281259</td>\n",
              "      <td>-0.001868</td>\n",
              "      <td>50.086909</td>\n",
              "      <td>86.670968</td>\n",
              "      <td>0.001011</td>\n",
              "      <td>-1.681131</td>\n",
              "    </tr>\n",
              "    <tr>\n",
              "      <th>3</th>\n",
              "      <td>2020-11-17 13:53:00</td>\n",
              "      <td>166.923355</td>\n",
              "      <td>0.006055</td>\n",
              "      <td>166.774551</td>\n",
              "      <td>-0.000891</td>\n",
              "      <td>-0.011417</td>\n",
              "      <td>0.593232</td>\n",
              "      <td>-0.374079</td>\n",
              "      <td>168.096094</td>\n",
              "      <td>0.007026</td>\n",
              "      <td>-0.024737</td>\n",
              "      <td>1.162345</td>\n",
              "      <td>-0.555426</td>\n",
              "      <td>166.901767</td>\n",
              "      <td>-0.000129</td>\n",
              "      <td>168.499097</td>\n",
              "      <td>0.009440</td>\n",
              "      <td>45.116732</td>\n",
              "      <td>167.658374</td>\n",
              "      <td>-0.000531</td>\n",
              "      <td>-1.597330</td>\n",
              "      <td>78.230451</td>\n",
              "      <td>0.023416</td>\n",
              "      <td>78.708947</td>\n",
              "      <td>0.006116</td>\n",
              "      <td>-0.015078</td>\n",
              "      <td>1.949663</td>\n",
              "      <td>-0.089116</td>\n",
              "      <td>80.680851</td>\n",
              "      <td>0.031323</td>\n",
              "      <td>-0.055688</td>\n",
              "      <td>2.289313</td>\n",
              "      <td>-0.308280</td>\n",
              "      <td>79.055601</td>\n",
              "      <td>0.010548</td>\n",
              "      <td>80.695708</td>\n",
              "      <td>0.031513</td>\n",
              "      <td>48.252316</td>\n",
              "      <td>79.386732</td>\n",
              "      <td>-0.001383</td>\n",
              "      <td>-1.640107</td>\n",
              "      <td>84.978533</td>\n",
              "      <td>-0.039210</td>\n",
              "      <td>85.412754</td>\n",
              "      <td>0.005110</td>\n",
              "      <td>-0.024674</td>\n",
              "      <td>2.846984</td>\n",
              "      <td>-0.367497</td>\n",
              "      <td>87.979089</td>\n",
              "      <td>0.035310</td>\n",
              "      <td>-0.065256</td>\n",
              "      <td>4.126585</td>\n",
              "      <td>-0.123978</td>\n",
              "      <td>86.305293</td>\n",
              "      <td>0.015613</td>\n",
              "      <td>88.172973</td>\n",
              "      <td>0.037591</td>\n",
              "      <td>48.609479</td>\n",
              "      <td>86.540177</td>\n",
              "      <td>-0.001509</td>\n",
              "      <td>-1.867680</td>\n",
              "    </tr>\n",
              "    <tr>\n",
              "      <th>4</th>\n",
              "      <td>2020-11-17 13:54:00</td>\n",
              "      <td>167.047742</td>\n",
              "      <td>0.000745</td>\n",
              "      <td>166.787307</td>\n",
              "      <td>-0.001559</td>\n",
              "      <td>-0.010051</td>\n",
              "      <td>0.598063</td>\n",
              "      <td>-0.448791</td>\n",
              "      <td>168.094452</td>\n",
              "      <td>0.006266</td>\n",
              "      <td>-0.024580</td>\n",
              "      <td>1.163778</td>\n",
              "      <td>-0.563041</td>\n",
              "      <td>166.928308</td>\n",
              "      <td>-0.000715</td>\n",
              "      <td>168.451511</td>\n",
              "      <td>0.008403</td>\n",
              "      <td>45.541539</td>\n",
              "      <td>167.581844</td>\n",
              "      <td>-0.000456</td>\n",
              "      <td>-1.523204</td>\n",
              "      <td>80.986047</td>\n",
              "      <td>0.035224</td>\n",
              "      <td>79.122588</td>\n",
              "      <td>-0.023010</td>\n",
              "      <td>-0.008893</td>\n",
              "      <td>1.950151</td>\n",
              "      <td>-0.132563</td>\n",
              "      <td>80.685522</td>\n",
              "      <td>-0.003711</td>\n",
              "      <td>-0.055921</td>\n",
              "      <td>2.289651</td>\n",
              "      <td>-0.298759</td>\n",
              "      <td>79.406591</td>\n",
              "      <td>-0.019503</td>\n",
              "      <td>80.705227</td>\n",
              "      <td>-0.003468</td>\n",
              "      <td>50.217369</td>\n",
              "      <td>79.461006</td>\n",
              "      <td>0.000936</td>\n",
              "      <td>-1.298636</td>\n",
              "      <td>86.181572</td>\n",
              "      <td>0.014157</td>\n",
              "      <td>86.204958</td>\n",
              "      <td>0.000271</td>\n",
              "      <td>-0.005017</td>\n",
              "      <td>1.337264</td>\n",
              "      <td>-0.751376</td>\n",
              "      <td>87.968760</td>\n",
              "      <td>0.020737</td>\n",
              "      <td>-0.065455</td>\n",
              "      <td>4.130357</td>\n",
              "      <td>-0.120439</td>\n",
              "      <td>86.282798</td>\n",
              "      <td>0.001175</td>\n",
              "      <td>88.107681</td>\n",
              "      <td>0.022349</td>\n",
              "      <td>49.147776</td>\n",
              "      <td>86.494545</td>\n",
              "      <td>-0.000527</td>\n",
              "      <td>-1.824883</td>\n",
              "    </tr>\n",
              "  </tbody>\n",
              "</table>\n",
              "</div>"
            ],
            "text/plain": [
              "             datetime   sym_level  ...  iss_wma_pct_change  iss_macd\n",
              "0 2020-11-17 13:50:00  166.390560  ...            0.000549 -2.080823\n",
              "1 2020-11-17 13:51:00  166.144807  ...           -0.001010 -2.085832\n",
              "2 2020-11-17 13:52:00  165.918780  ...            0.001011 -1.681131\n",
              "3 2020-11-17 13:53:00  166.923355  ...           -0.001509 -1.867680\n",
              "4 2020-11-17 13:54:00  167.047742  ...           -0.000527 -1.824883\n",
              "\n",
              "[5 rows x 61 columns]"
            ]
          },
          "metadata": {
            "tags": []
          },
          "execution_count": 56
        }
      ]
    },
    {
      "cell_type": "code",
      "metadata": {
        "colab": {
          "base_uri": "https://localhost:8080/",
          "height": 282
        },
        "id": "v20tcHn1x8zF",
        "outputId": "e1025509-3a6d-4681-ac67-c9b6d9263a36"
      },
      "source": [
        "raw_test_data.plot(y='sym_level')"
      ],
      "execution_count": 57,
      "outputs": [
        {
          "output_type": "execute_result",
          "data": {
            "text/plain": [
              "<matplotlib.axes._subplots.AxesSubplot at 0x7ff12e3b88d0>"
            ]
          },
          "metadata": {
            "tags": []
          },
          "execution_count": 57
        },
        {
          "output_type": "display_data",
          "data": {
            "image/png": "[encoded data removed]",
            "text/plain": [
              "<Figure size 432x288 with 1 Axes>"
            ]
          },
          "metadata": {
            "tags": [],
            "needs_background": "light"
          }
        }
      ]
    },
    {
      "cell_type": "code",
      "metadata": {
        "colab": {
          "base_uri": "https://localhost:8080/"
        },
        "id": "BqsVA1DKLgGd",
        "outputId": "b2165936-711d-444f-c7b7-a10cf109ca51"
      },
      "source": [
        "print(\"baseline_last_trade_model\")\n",
        "rmse_raw, rmse_pct, rmse_level, preds_pct, preds_level_baseline = model_eval(baseline_last_trade_model, raw_test_data, scaler)\n",
        "print(\"rmse_raw\", rmse_raw, \"rmse_pct\", rmse_pct, \"rmse_level\", rmse_level)\n",
        "print('first 5 predicted levels:')\n",
        "for pred in preds_level_baseline[:5]:\n",
        "  print(pred)\n"
      ],
      "execution_count": 58,
      "outputs": [
        {
          "output_type": "stream",
          "text": [
            "baseline_last_trade_model\n",
            "rmse_raw 0.11729313 rmse_pct 0.026750142 rmse_level 6.1840167\n",
            "first 5 predicted levels:\n",
            "[169.44445023]\n",
            "[168.96286224]\n",
            "[170.03500828]\n",
            "[171.56779379]\n",
            "[171.44305736]\n"
          ],
          "name": "stdout"
        }
      ]
    },
    {
      "cell_type": "code",
      "metadata": {
        "colab": {
          "base_uri": "https://localhost:8080/"
        },
        "id": "m0nAp8fnI-zo",
        "outputId": "062a0732-2c9e-4240-834f-75b74bebf3da"
      },
      "source": [
        "print(\"conv1d_model\")\n",
        "rmse_raw, rmse_pct, rmse_level, preds_pct, preds_level_conv1d = model_eval(conv1d_model, raw_test_data, scaler)\n",
        "print(\"rmse_raw\", rmse_raw, \"rmse_pct\", rmse_pct, \"rmse_level\", rmse_level)\n",
        "print('first 5 predicted levels:')\n",
        "for pred in preds_level_conv1d[:5]:\n",
        "  print(pred)\n"
      ],
      "execution_count": 59,
      "outputs": [
        {
          "output_type": "stream",
          "text": [
            "conv1d_model\n",
            "rmse_raw 0.11720573 rmse_pct 0.026753519 rmse_level 6.182804\n",
            "first 5 predicted levels:\n",
            "[169.38064644172394]\n",
            "[168.89923979652718]\n",
            "[169.97098211628446]\n",
            "[171.50319046576098]\n",
            "[171.37850100062903]\n"
          ],
          "name": "stdout"
        }
      ]
    },
    {
      "cell_type": "code",
      "metadata": {
        "colab": {
          "base_uri": "https://localhost:8080/"
        },
        "id": "soeD9Q79Nvj2",
        "outputId": "eac182b3-0675-4936-f845-51ced88a2bc5"
      },
      "source": [
        "print(\"LSTM_model\")\n",
        "rmse_raw, rmse_pct, rmse_level, preds_pct, preds_level_LSTM = model_eval(LSTM_model, raw_test_data, scaler)\n",
        "print(\"rmse_raw\", rmse_raw, \"rmse_pct\", rmse_pct, \"rmse_level\", rmse_level)\n",
        "print('first 5 predicted levels:')\n",
        "for pred in preds_level_LSTM[:5]:\n",
        "  print(pred)\n"
      ],
      "execution_count": 60,
      "outputs": [
        {
          "output_type": "stream",
          "text": [
            "LSTM_model\n",
            "rmse_raw 0.11980751 rmse_pct 0.027347406 rmse_level 6.284118\n",
            "first 5 predicted levels:\n",
            "[170.406263570164]\n",
            "[169.92193875682676]\n",
            "[171.00069493640714]\n",
            "[172.54163994130548]\n",
            "[172.41639502751002]\n"
          ],
          "name": "stdout"
        }
      ]
    },
    {
      "cell_type": "code",
      "metadata": {
        "colab": {
          "base_uri": "https://localhost:8080/"
        },
        "id": "yBuF4NJnTaQ8",
        "outputId": "5fc39325-a73f-476c-800a-dd797173387d"
      },
      "source": [
        "print(\"lr_model\")\n",
        "rmse_raw, rmse_pct, rmse_level, preds_pct, preds_level_lr = model_eval(my_lr_model, raw_test_data, scaler)\n",
        "print(\"rmse_raw\", rmse_raw, \"rmse_pct\", rmse_pct, \"rmse_level\", rmse_level)\n",
        "print('first 5 predicted levels:')\n",
        "for pred in preds_level_lr[:5]:\n",
        "  print(pred)\n"
      ],
      "execution_count": 61,
      "outputs": [
        {
          "output_type": "stream",
          "text": [
            "lr_model\n",
            "rmse_raw 0.21417256 rmse_pct 0.048887286 rmse_level 9.21896\n",
            "first 5 predicted levels:\n",
            "[177.96584863272687]\n",
            "[169.63916111881994]\n",
            "[173.3685784992711]\n",
            "[167.8531937618186]\n",
            "[167.4355149406139]\n"
          ],
          "name": "stdout"
        }
      ]
    },
    {
      "cell_type": "code",
      "metadata": {
        "colab": {
          "base_uri": "https://localhost:8080/"
        },
        "id": "QzAkIlsgTHlo",
        "outputId": "4df7a19f-3523-4b36-9e20-b29966cb8601"
      },
      "source": [
        "print(\"maj_model\")\n",
        "rmse_raw, rmse_pct, rmse_level, preds_pct, preds_level_maj = model_eval(maj_model, raw_test_data, scaler)\n",
        "print(\"rmse_raw\", rmse_raw, \"rmse_pct\", rmse_pct, \"rmse_level\", rmse_level)\n",
        "for pred in preds_level_maj[:5]:\n",
        "  print(pred)\n"
      ],
      "execution_count": 62,
      "outputs": [
        {
          "output_type": "stream",
          "text": [
            "maj_model\n",
            "rmse_raw 0.11775303 rmse_pct 0.02687845 rmse_level 6.211812\n",
            "[169.893455005944]\n",
            "[169.41058927667697]\n",
            "[170.48583852634582]\n",
            "[172.02241520353326]\n",
            "[171.89744801406954]\n"
          ],
          "name": "stdout"
        }
      ]
    },
    {
      "cell_type": "code",
      "metadata": {
        "id": "tiyOamd7TGSK",
        "colab": {
          "base_uri": "https://localhost:8080/"
        },
        "outputId": "d6910d5b-3f71-4de9-8f2e-70c6444623bd"
      },
      "source": [
        "print(\"ensStack_model\")\n",
        "rmse_raw, rmse_pct, rmse_level, preds_pct, preds_level_ens = model_eval(ensStack_model, raw_test_data, scaler)\n",
        "print(\"rmse_raw\", rmse_raw, \"rmse_pct\", rmse_pct, \"rmse_level\", rmse_level)\n",
        "for pred in preds_level_ens[:5]:\n",
        "  print(pred)\n"
      ],
      "execution_count": 63,
      "outputs": [
        {
          "output_type": "stream",
          "text": [
            "ensStack_model\n",
            "rmse_raw 0.11719041 rmse_pct 0.026750024 rmse_level 6.1839943\n",
            "[169.44309492439677]\n",
            "[168.9615105502597]\n",
            "[170.03368738757837]\n",
            "[171.56642001075258]\n",
            "[171.4416995614984]\n"
          ],
          "name": "stdout"
        }
      ]
    },
    {
      "cell_type": "code",
      "metadata": {
        "id": "ISeabJFARb8Q",
        "colab": {
          "base_uri": "https://localhost:8080/",
          "height": 281
        },
        "outputId": "41b229ac-a037-4327-f243-1b5e2bb80a60"
      },
      "source": [
        "dates = raw_test_data.iloc[window_size:, 0]\n",
        "target_level = raw_test_data.iloc[window_size:, 1]\n",
        "\n",
        "\n",
        "plt.plot(range(len(target_level)), target_level, label='target')\n",
        "plt.plot(range(len(preds_level_ens)), preds_level_ens, label='ensemble') \n",
        "plt.plot(range(len(preds_level_baseline)), preds_level_baseline, label='baseline')\n",
        "plt.legend()\n",
        "plt.title('Results')\n",
        "plt.show()\n"
      ],
      "execution_count": 64,
      "outputs": [
        {
          "output_type": "display_data",
          "data": {
            "image/png": "[encoded data removed]",
            "text/plain": [
              "<Figure size 432x288 with 1 Axes>"
            ]
          },
          "metadata": {
            "tags": [],
            "needs_background": "light"
          }
        }
      ]
    },
    {
      "cell_type": "markdown",
      "metadata": {
        "id": "14qzgvkTco0j"
      },
      "source": [
        "Zoom-in plots"
      ]
    },
    {
      "cell_type": "code",
      "metadata": {
        "id": "_78LhY9wI-zr",
        "colab": {
          "base_uri": "https://localhost:8080/",
          "height": 265
        },
        "outputId": "bafbf11e-9a60-4fea-f13d-451d663975ed"
      },
      "source": [
        "len_data = 10\n",
        "zoomed_dates = raw_test_data.iloc[window_size:window_size+len_data, 0]\n",
        "zoomed_target_level = raw_test_data.iloc[window_size:window_size+len_data, 1]\n",
        "zoomed_preds_level_ens = preds_level_ens[:len_data]\n",
        "zoomed_preds_level_baseline = preds_level_baseline[:len_data]\n",
        "\n",
        "plt.plot(zoomed_dates, zoomed_target_level, label='target')\n",
        "plt.plot(zoomed_dates, zoomed_preds_level_ens, label='prediction')\n",
        "plt.plot(zoomed_dates, zoomed_preds_level_baseline, label='baseline')\n",
        "plt.legend()\n",
        "\n",
        "plt.show()"
      ],
      "execution_count": 65,
      "outputs": [
        {
          "output_type": "display_data",
          "data": {
            "image/png": "[encoded data removed]",
            "text/plain": [
              "<Figure size 432x288 with 1 Axes>"
            ]
          },
          "metadata": {
            "tags": [],
            "needs_background": "light"
          }
        }
      ]
    },
    {
      "cell_type": "markdown",
      "metadata": {
        "id": "GPxWwcz6PsSp"
      },
      "source": [
        "# Future work to improve the result: \n",
        "\n",
        "1.   Use cross-validation (time series) to determine hyperparameters, such as window_size, feature dimensions, number of layers, neurons in the neural networks.\n",
        "2.   Add more learned models to the ensemble model, such as support vector regressor, xgboost, random forest, etc. \n",
        "\n"
      ]
    },
    {
      "cell_type": "markdown",
      "metadata": {
        "id": "5oqu5IHgPscH"
      },
      "source": [
        "# Online version of the model\n",
        "In the current ensemble model, the weights of each model are also trained offline. \n",
        "\n",
        "Suppose we have $n$ trained (offline) models (experts). One approach to make it online:\n",
        "\n",
        "We can formulate the online learning problem as a multi-armed bandit problem: at each time step, we pick an individual model (according to some learned distribution) and observe the cost (between prediction and the actual level); there are several well-known algorithms to achieve this, such as $\\epsilon$-greedy, Upper Confidence Bounds (UCB), and Bayesian variants of UCBs. \n",
        "\n",
        "There are also online algorithms that can compute weighted average of $n$ experts, see the reference below. \n",
        "\n",
        "Reference: \n",
        "Cesa-Bianchi, Nicolo, and Gábor Lugosi. Prediction, Learning, and Games. Cambridge university press, 2006.\n",
        "\n",
        "\n",
        "\n"
      ]
    },
    {
      "cell_type": "code",
      "metadata": {
        "id": "IhaN8Med8Uf-"
      },
      "source": [
        ""
      ],
      "execution_count": 65,
      "outputs": []
    }
  ]
}