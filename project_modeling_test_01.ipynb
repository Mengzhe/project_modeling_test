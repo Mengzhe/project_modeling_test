{
  "nbformat": 4,
  "nbformat_minor": 0,
  "metadata": {
    "accelerator": "GPU",
    "colab": {
      "name": "project_modeling_test.ipynb",
      "provenance": [],
      "collapsed_sections": []
    },
    "kernelspec": {
      "display_name": "Python 3",
      "language": "python",
      "name": "python3"
    },
    "language_info": {
      "codemirror_mode": {
        "name": "ipython",
        "version": 3
      },
      "file_extension": ".py",
      "mimetype": "text/x-python",
      "name": "python",
      "nbconvert_exporter": "python",
      "pygments_lexer": "ipython3",
      "version": "3.8.5"
    }
  },
  "cells": [
    {
      "cell_type": "code",
      "metadata": {
        "colab": {
          "base_uri": "https://localhost:8080/"
        },
        "id": "4KKRBHQ3I-ym",
        "outputId": "d9a839f2-040c-4d28-bc4c-e959a6c9942a"
      },
      "source": [
        "!python --version"
      ],
      "execution_count": 1,
      "outputs": [
        {
          "output_type": "stream",
          "text": [
            "Python 3.6.9\n"
          ],
          "name": "stdout"
        }
      ]
    },
    {
      "cell_type": "code",
      "metadata": {
        "id": "AB_y1LAPI-y2"
      },
      "source": [
        "import pandas as pd\n",
        "pd.options.mode.chained_assignment = None  # default='warn'"
      ],
      "execution_count": 2,
      "outputs": []
    },
    {
      "cell_type": "code",
      "metadata": {
        "colab": {
          "base_uri": "https://localhost:8080/",
          "height": 35
        },
        "id": "lzz2cZgcI-y6",
        "outputId": "e8999307-3ca3-4232-cb04-583bb4c583e0"
      },
      "source": [
        "pd.__version__"
      ],
      "execution_count": 3,
      "outputs": [
        {
          "output_type": "execute_result",
          "data": {
            "application/vnd.google.colaboratory.intrinsic+json": {
              "type": "string"
            },
            "text/plain": [
              "'1.1.5'"
            ]
          },
          "metadata": {
            "tags": []
          },
          "execution_count": 3
        }
      ]
    },
    {
      "cell_type": "code",
      "metadata": {
        "colab": {
          "base_uri": "https://localhost:8080/"
        },
        "id": "lrEOU_btJDW1",
        "outputId": "e1c7029f-13f7-4855-a300-20efcf39646a"
      },
      "source": [
        "# Run this cell to connect to your Drive folder\n",
        "\n",
        "from google.colab import drive\n",
        "drive.mount('/content/gdrive')"
      ],
      "execution_count": 4,
      "outputs": [
        {
          "output_type": "stream",
          "text": [
            "Mounted at /content/gdrive\n"
          ],
          "name": "stdout"
        }
      ]
    },
    {
      "cell_type": "code",
      "metadata": {
        "id": "M1nYg0vyI-y7",
        "colab": {
          "base_uri": "https://localhost:8080/"
        },
        "outputId": "aec7ffc1-cd94-4ef5-da23-b3e799ddd9d3"
      },
      "source": [
        "import numpy as np\n",
        "from sklearn.model_selection import TimeSeriesSplit\n",
        "import matplotlib as mpl\n",
        "import matplotlib.pyplot as plt\n",
        "import tensorflow as tf\n",
        "tf.keras.backend.set_floatx('float64')\n",
        "from tensorflow.keras.preprocessing.sequence import TimeseriesGenerator\n",
        "from tensorflow.keras.layers import Conv1D, Input, Flatten, Dense, LSTM, Dropout\n",
        "from tensorflow.keras import Model\n",
        "\n",
        "from pandas.plotting import autocorrelation_plot\n",
        "from statsmodels.tsa.stattools import adfuller\n",
        "from statsmodels.graphics.tsaplots import plot_acf\n",
        "from statsmodels.graphics.tsaplots import plot_pacf\n",
        "from sklearn.ensemble import RandomForestRegressor\n",
        "from sklearn.linear_model import SGDRegressor\n",
        "from sklearn.preprocessing import StandardScaler\n"
      ],
      "execution_count": 5,
      "outputs": [
        {
          "output_type": "stream",
          "text": [
            "/usr/local/lib/python3.6/dist-packages/statsmodels/tools/_testing.py:19: FutureWarning: pandas.util.testing is deprecated. Use the functions in the public API at pandas.testing instead.\n",
            "  import pandas.util.testing as tm\n"
          ],
          "name": "stderr"
        }
      ]
    },
    {
      "cell_type": "code",
      "metadata": {
        "colab": {
          "base_uri": "https://localhost:8080/",
          "height": 35
        },
        "id": "8Gv4UKmQI-y9",
        "outputId": "5db167cf-3e53-4e61-a20c-dcdac5ca21ae"
      },
      "source": [
        "tf.__version__"
      ],
      "execution_count": 6,
      "outputs": [
        {
          "output_type": "execute_result",
          "data": {
            "application/vnd.google.colaboratory.intrinsic+json": {
              "type": "string"
            },
            "text/plain": [
              "'2.3.0'"
            ]
          },
          "metadata": {
            "tags": []
          },
          "execution_count": 6
        }
      ]
    },
    {
      "cell_type": "markdown",
      "metadata": {
        "id": "qwvjio6Rp2ml"
      },
      "source": [
        "Technical indicators: these indicators are widely-used for stock price data. "
      ]
    },
    {
      "cell_type": "code",
      "metadata": {
        "id": "Ss_InUNRp1jJ"
      },
      "source": [
        "## https://stackoverflow.com/questions/57006437/calculate-rsi-indicator-from-pandas-dataframe/57037866\n",
        "def RSI(df, n=14):\n",
        "  df = pd.DataFrame(df)\n",
        "  def rma(x, n, y0):\n",
        "      a = (n-1) / n\n",
        "      ak = a**np.arange(len(x)-1, -1, -1)\n",
        "      return np.append(y0, np.cumsum(ak * x) / ak / n + y0 * a**np.arange(1, len(x)+1))\n",
        "\n",
        "  df['change'] = df.iloc[:].diff()\n",
        "  df['gain'] = df['change'].mask(df.change < 0, 0.0)\n",
        "  df['loss'] = -df['change'].mask(df.change > 0, -0.0)\n",
        "  df.loc[n:,'avg_gain'] = rma( df.loc[n+1:,'gain'].values, n, df.loc[:n, 'gain'].mean())\n",
        "  df.loc[n:,'avg_loss'] = rma( df.loc[n+1:,'loss'].values, n, df.loc[:n, 'loss'].mean())\n",
        "  df['rs'] = df.avg_gain / df.avg_loss\n",
        "  df['rsi_14'] = 100 - (100 / (1 + df['rs']))\n",
        "  return df['rsi_14']\n",
        "\n",
        "def weighted_moving_average(df, n=30):\n",
        "  df = pd.DataFrame(df)\n",
        "  weights = np.arange(1, n+1)\n",
        "  res = df.iloc[:].rolling(n).apply(lambda x: np.dot(x, weights)/weights.sum(), raw=True)\n",
        "  return res\n",
        "\n",
        "## similar to Moving Average Convergence Divergence (MACD)\n",
        "def MACD(df, slow=60, fast=10):\n",
        "  df = pd.DataFrame(df)\n",
        "  exp1 = df.ewm(span=fast, adjust=False).mean()\n",
        "  exp2 = df.ewm(span=slow, adjust=False).mean()\n",
        "  macd = exp1-exp2\n",
        "  return macd"
      ],
      "execution_count": 7,
      "outputs": []
    },
    {
      "cell_type": "code",
      "metadata": {
        "id": "8nehk6kZI-y-"
      },
      "source": [
        "def create_features(data, name):\n",
        "    data = data[['datetime', 'level']]\n",
        "    data['pct_change_1m'] = data['level'].pct_change(periods=1)\n",
        "    \n",
        "    data['short_ma'] = data['level'].rolling(window=10).mean()\n",
        "    data['short_ma_pct_change_baseline'] = (data['short_ma']-data['level'])/data['level']\n",
        "    data['short_ma_pct_change_10m'] = data['short_ma'].pct_change(periods=10)\n",
        "    data['short_std'] = data['level'].rolling(window=10).std()\n",
        "    data['short_std_pct_change_10m'] = data['short_std'].pct_change(periods=10)\n",
        "\n",
        "    data['long_ma'] = data['level'].rolling(window=60).mean()\n",
        "    data['long_ma_pct_change_baseline'] = (data['long_ma']-data['level'])/data['level']\n",
        "    data['long_ma_pct_change_60m'] = data['long_ma'].pct_change(periods=60)\n",
        "    data['long_std'] = data['level'].rolling(window=60).std()\n",
        "    data['long_std_pct_change_60m'] = data['long_std'].pct_change(periods=60)\n",
        "\n",
        "    data['short_ewm'] = data['level'].ewm(span=10, adjust=False).mean()\n",
        "    data['short_ewm_pct_change_baseline'] = (data['short_ewm']-data['level'])/data['level']\n",
        "\n",
        "    data['long_ewm'] = data['level'].ewm(span=60, adjust=False).mean()\n",
        "    data['long_ewm_pct_change_baseline'] = (data['long_ewm']-data['level'])/data['level']\n",
        "\n",
        "    ## technical indicators\n",
        "    data['rsi'] = RSI(data['level'], n=30)\n",
        "    data['wma'] = weighted_moving_average(data['level'], n=30)\n",
        "    data['wma_pct_change'] = data['wma'].pct_change(periods=1)\n",
        "    data['macd'] = MACD(data['level'], slow=60, fast=10)\n",
        "\n",
        "    # data = data.drop(['level', 'short_ma', 'long_ma', 'short_std', 'long_std', 'short_ewm', 'long_ewm'], axis=1)\n",
        "    # data = data.drop(['level', 'short_ma', 'long_ma', 'short_std', 'long_std'], axis=1)\n",
        "\n",
        "    rename_mapper = {col: name+'_'+col for col in data.columns[1:]}\n",
        "    data = data.rename(columns=rename_mapper)\n",
        "    return data"
      ],
      "execution_count": 8,
      "outputs": []
    },
    {
      "cell_type": "code",
      "metadata": {
        "id": "11iG1ltsI-y-"
      },
      "source": [
        "def create_dataset(data, window_size=5, batch_size=32, shuffle=False):\n",
        "    data = data.dropna()\n",
        "    data = data.reset_index()\n",
        "    data = data.drop(['index', 'datetime'], axis=1)\n",
        "    # target = np.concatenate((np.zeros(window_size), data['sym_pct_change_1m'][window_size:]))\n",
        "    target =  data['sym_pct_change_1m']\n",
        "    x = np.array(data)\n",
        "    \n",
        "    ts_dataset = TimeseriesGenerator(x, target, \n",
        "                                     length=window_size, \n",
        "                                     stride=1,\n",
        "                                     batch_size=batch_size, \n",
        "                                     shuffle=shuffle)\n",
        "    \n",
        "    return ts_dataset\n",
        "    "
      ],
      "execution_count": 9,
      "outputs": []
    },
    {
      "cell_type": "code",
      "metadata": {
        "id": "V9zjjioZI-y_"
      },
      "source": [
        "def train_val_test_split(data, window_size=5, batch_size=32, train_pct=0.7, val_pct=0.2, shuffle=False):\n",
        "    data = data.dropna()\n",
        "    n = data.shape[0]\n",
        "    n_train = int(n*train_pct)\n",
        "    n_validation = int(n*val_pct)\n",
        "    n_test = n-n_train-n_validation\n",
        "    print(\"number of total data samples\", n, \"n_train\", n_train, \"n_validation\", n_validation, \"n_test\", n_test)\n",
        "    train_data = data.iloc[:n_train].copy()\n",
        "    validation_data = data.iloc[n_train-window_size:n_train+n_validation].copy()\n",
        "    test_data = data.iloc[n_train+n_validation-window_size:].copy()\n",
        "    \n",
        "    ## feature scaling\n",
        "    scaler = StandardScaler()\n",
        "    train_data.iloc[:, 1:] = scaler.fit_transform(train_data.iloc[:, 1:])\n",
        "    validation_data.iloc[:, 1:] = scaler.transform(validation_data.iloc[:, 1:])\n",
        "    test_data.iloc[:, 1:] = scaler.transform(test_data.iloc[:, 1:])\n",
        "\n",
        "    ## here, we can temporily use (batch_size=1, shuffle=False) to verify that the dataset object is correct\n",
        "    train_dataset = create_dataset(train_data, window_size=window_size, \n",
        "                                   batch_size=batch_size, shuffle=shuffle)\n",
        "    print(\"train number of batches\", len(train_dataset))\n",
        "    validation_dataset = create_dataset(validation_data, window_size=window_size, \n",
        "                                        batch_size=batch_size, shuffle=shuffle)\n",
        "    print(\"validation number of batches\", len(validation_dataset))\n",
        "    test_dataset = create_dataset(test_data, window_size=window_size, \n",
        "                                  batch_size=batch_size, shuffle=shuffle)\n",
        "    print(\"test number of batches\", len(test_dataset))\n",
        "    \n",
        "#     i = 0\n",
        "#     for x, y in train_dataset:\n",
        "#         assert np.array_equal(x[0], np.array(data.iloc[i:i+window_size, 1:]))\n",
        "#         assert np.array_equal(y[0], np.array(data.iloc[i+window_size, 1]))\n",
        "#         i += 1\n",
        "\n",
        "#     for x, y in validation_dataset:\n",
        "#         assert np.array_equal(x[0], np.array(data.iloc[i:i+window_size, 1:]))\n",
        "#         assert np.array_equal(y[0], np.array(data.iloc[i+window_size, 1]))\n",
        "#         i += 1\n",
        "    \n",
        "#     for x, y in test_dataset:\n",
        "#         assert np.array_equal(x[0], np.array(data.iloc[i:i+window_size, 1:]))\n",
        "#         assert np.array_equal(y[0], np.array(data.iloc[i+window_size, 1]))\n",
        "#         i += 1\n",
        "        \n",
        "    return train_dataset, validation_dataset, test_dataset, test_data, scaler"
      ],
      "execution_count": 10,
      "outputs": []
    },
    {
      "cell_type": "markdown",
      "metadata": {
        "id": "h-QqoC1FMeKF"
      },
      "source": [
        "Baseline model: use the value from last trade"
      ]
    },
    {
      "cell_type": "code",
      "metadata": {
        "id": "8XTxQyorMU4d"
      },
      "source": [
        "class Baseline_last_trade(Model):\n",
        "    def __init__(self, name=None):\n",
        "        super().__init__()\n",
        "        self.model_name = 'Baseline_last_trade'\n",
        "\n",
        "    def call(self, inputs):\n",
        "        return tf.zeros_like(inputs[:, -1:, 0])"
      ],
      "execution_count": 11,
      "outputs": []
    },
    {
      "cell_type": "markdown",
      "metadata": {
        "id": "rUUWpIR2I-zc"
      },
      "source": [
        "Baseline model class: use moving average from previous trades"
      ]
    },
    {
      "cell_type": "code",
      "metadata": {
        "id": "TuWV25qEI-zd"
      },
      "source": [
        "class Baseline_ma(Model):\n",
        "    def __init__(self, ma_index=None):\n",
        "        super().__init__()\n",
        "        if ma_index is None:\n",
        "            raise ValueError('Index of moving average is needed for this baseline model')\n",
        "        self.ma_index = ma_index\n",
        "\n",
        "    def call(self, inputs):\n",
        "        result = inputs[:, -1:, self.ma_index]\n",
        "        return result"
      ],
      "execution_count": 12,
      "outputs": []
    },
    {
      "cell_type": "markdown",
      "metadata": {
        "id": "gJ8wN0viN-aY"
      },
      "source": [
        "Conv1D model"
      ]
    },
    {
      "cell_type": "code",
      "metadata": {
        "id": "XxHw3heSMXgh"
      },
      "source": [
        "def get_conv1d_model(input_shape, conv_width=None, filter_size=None):\n",
        "    if conv_width is None:\n",
        "        raise ValueError(\"conv_width is needed as a list of integers\")\n",
        "    if filter_size is None:\n",
        "        raise ValueError(\"filter_size is needed as a list of integers\")\n",
        "    if len(conv_width) != len(filter_size):\n",
        "        raise ValueError(\"len(conv_width) != filter_size\")\n",
        "    \n",
        "    input_ = Input(input_shape)\n",
        "    x = input_\n",
        "    for width, filters in zip(conv_width, filter_size):\n",
        "        x = Conv1D(filters=filters, kernel_size=(width,), activation='relu')(x)\n",
        "        x = Dropout(0.5)(x)\n",
        "\n",
        "    x = Flatten()(x)\n",
        "#     x = Dense(64)(x)\n",
        "    # x = Dense(16)(x)\n",
        "    output_ = Dense(1)(x)\n",
        "    model = Model(inputs=input_, outputs=output_)\n",
        "    model.compile(loss=tf.losses.Huber(delta=0.01),\n",
        "                optimizer=tf.optimizers.Adam(learning_rate=0.001),\n",
        "                metrics=[tf.metrics.MeanAbsoluteError(), tf.keras.metrics.RootMeanSquaredError()])\n",
        "    return model"
      ],
      "execution_count": 13,
      "outputs": []
    },
    {
      "cell_type": "markdown",
      "metadata": {
        "id": "S1nuklCyOJT7"
      },
      "source": [
        "LSTM model"
      ]
    },
    {
      "cell_type": "code",
      "metadata": {
        "id": "wLsmKpE-MXuf"
      },
      "source": [
        "def get_LSTM_model(input_shape, units_list=None):\n",
        "    if units_list is None:\n",
        "        raise ValueError(\"units is needed as a list of integers\")\n",
        "    \n",
        "    input_ = Input(input_shape)\n",
        "    x = input_\n",
        "    for units in units_list:\n",
        "        x = LSTM(units, return_sequences=True, activation='tanh')(x)\n",
        "        x = Dropout(0.5)(x)\n",
        "        \n",
        "    x = LSTM(units_list[-1], activation='tanh')(x)\n",
        "    x = Dense(units_list[-1])(x)\n",
        "    output_ = Dense(1)(x)\n",
        "    model = Model(inputs=input_, outputs=output_)\n",
        "    model.compile(loss=tf.losses.Huber(),\n",
        "                optimizer=tf.optimizers.Adam(learning_rate=0.1),\n",
        "                metrics=[tf.metrics.MeanAbsoluteError(), tf.keras.metrics.RootMeanSquaredError()])\n",
        "    return model"
      ],
      "execution_count": 14,
      "outputs": []
    },
    {
      "cell_type": "markdown",
      "metadata": {
        "id": "H1rSXgVxmyiH"
      },
      "source": [
        "Linear regression model: to avoid overfitting, the window_size is reduced"
      ]
    },
    {
      "cell_type": "code",
      "metadata": {
        "id": "xihOov1vmxvk"
      },
      "source": [
        "def get_lr_model(input_shape, lr_window_size=5, units_list=None):\n",
        "    input_ = Input(input_shape)\n",
        "    x = input_[:, -lr_window_size:, :]\n",
        "    x = Flatten()(x)\n",
        "    output_ = Dense(1, kernel_regularizer='l1', bias_regularizer='l1')(x)\n",
        "    model = Model(inputs=input_, outputs=output_)\n",
        "    model.compile(loss=tf.losses.Huber(),\n",
        "                optimizer=tf.optimizers.Adam(learning_rate=0.01),\n",
        "                metrics=[tf.metrics.MeanAbsoluteError(), tf.keras.metrics.RootMeanSquaredError()])\n",
        "    return model"
      ],
      "execution_count": 15,
      "outputs": []
    },
    {
      "cell_type": "markdown",
      "metadata": {
        "id": "EFPEatxPqqSh"
      },
      "source": [
        "Ensemble model #1: simple average"
      ]
    },
    {
      "cell_type": "code",
      "metadata": {
        "id": "hGblgk5gqqeT"
      },
      "source": [
        "def get_myMajority_model(input_shape, models=None):\n",
        "    if models is None:\n",
        "        raise ValueError('models are needed for this ensemble model')\n",
        "    for model in models:\n",
        "      model.trainable = False\n",
        "    input_ = Input(input_shape)\n",
        "    outputs_ = [model(input_) for model in models]\n",
        "    outputs_ = tf.stack(outputs_, axis=1)\n",
        "    outputs_ = Flatten()(outputs_)\n",
        "    outputs_ = tf.math.reduce_mean(outputs_, axis=1, keepdims=True)\n",
        "    model = Model(inputs=input_, outputs=outputs_)\n",
        "    model.compile(loss=tf.losses.Huber(),\n",
        "                optimizer=tf.optimizers.Adam(learning_rate=0.001),\n",
        "                metrics=[tf.metrics.MeanAbsoluteError(), tf.keras.metrics.RootMeanSquaredError()])\n",
        "    return model"
      ],
      "execution_count": 16,
      "outputs": []
    },
    {
      "cell_type": "markdown",
      "metadata": {
        "id": "yfYZc-QQqwdJ"
      },
      "source": [
        "Ensemble model #2: learned weighted average"
      ]
    },
    {
      "cell_type": "code",
      "metadata": {
        "id": "37AZfEh5qwu6"
      },
      "source": [
        "def get_myEnsStack_model(input_shape, models=None):\n",
        "    if models is None:\n",
        "        raise ValueError('models are needed for this ensemble model')\n",
        "    for model in models:\n",
        "      model.trainable = False\n",
        "    input_ = Input(input_shape)\n",
        "    outputs_ = [model(input_) for model in models]\n",
        "    outputs_ = tf.stack(outputs_, axis=1)\n",
        "    outputs_ = Flatten()(outputs_)\n",
        "    outputs_ = Dense(1, use_bias=False)(outputs_)\n",
        "    model = Model(inputs=input_, outputs=outputs_)\n",
        "    model.compile(loss=tf.losses.Huber(),\n",
        "                optimizer=tf.optimizers.Adam(learning_rate=0.001),\n",
        "                metrics=[tf.metrics.MeanAbsoluteError(), tf.keras.metrics.RootMeanSquaredError()])\n",
        "    return model"
      ],
      "execution_count": 17,
      "outputs": []
    },
    {
      "cell_type": "markdown",
      "metadata": {
        "id": "XE6k5HAvgLG4"
      },
      "source": [
        "The following function helps compute the actual root-mean-square error of our predicted level. Also, the predictions are made one by one to simulate the real-time prediction."
      ]
    },
    {
      "cell_type": "code",
      "metadata": {
        "id": "bD4CIN3Zbn-i"
      },
      "source": [
        "def model_eval(model, data, scaler):\n",
        "    i = 0\n",
        "    RMSE_raw = []\n",
        "    RMSE_pct = []\n",
        "    RMSE_level = []\n",
        "\n",
        "    preds_raw = []\n",
        "    preds_pct = []\n",
        "    preds_level = []\n",
        "    for i in range(len(data)-window_size):\n",
        "      input_ = data.iloc[i:i+window_size, 1:]\n",
        "      input_ = scaler.transform(input_)\n",
        "      # print(input_[0])\n",
        "      input_ = tf.expand_dims(input_, axis=0)\n",
        "\n",
        "      last_row = data.iloc[i+window_size-1, 1:]\n",
        "      last_price = last_row[0]\n",
        "\n",
        "      target_row = np.array(data.iloc[i+window_size, 1:])\n",
        "      target_row = np.expand_dims(target_row, axis=0)\n",
        "      transformed_target_row = scaler.transform(target_row)\n",
        "      transformed_target = transformed_target_row[:, 1]\n",
        "      target_level = target_row[:, 0]\n",
        "      target_pct = target_row[:, 1]\n",
        "      \n",
        "      transformed_pred_pct = model(input_).numpy()[0, 0]\n",
        "      transformed_pred_row = np.zeros_like(target_row)\n",
        "      transformed_pred_row[:, 1] = transformed_pred_pct\n",
        "      pred_row = scaler.inverse_transform(transformed_pred_row)\n",
        "\n",
        "      if hasattr(model, 'model_name') and model.model_name == 'Baseline_last_trade':\n",
        "        pred_pct = np.array([0.0])\n",
        "      else:\n",
        "        pred_pct = pred_row[:, 1]\n",
        "\n",
        "      pred_level = last_price * (1+pred_pct)\n",
        "      preds_pct.append(pred_pct)\n",
        "      preds_level.append(pred_level)\n",
        "\n",
        "      RMSE_raw.append(tf.math.squared_difference(transformed_target.astype('float32'), transformed_pred_pct.astype('float32')))\n",
        "      RMSE_pct.append(tf.math.squared_difference(target_pct.astype('float32'), pred_pct.astype('float32')))\n",
        "      RMSE_level.append(tf.math.squared_difference(target_level.astype('float32'), pred_level.astype('float32')))\n",
        "\n",
        "      rmse_raw = tf.math.sqrt(tf.math.reduce_mean(RMSE_raw)).numpy()\n",
        "      rmse_pct = tf.math.sqrt(tf.math.reduce_mean(RMSE_pct)).numpy()\n",
        "      rmse_level = tf.math.sqrt(tf.math.reduce_mean(RMSE_level)).numpy()\n",
        "      # break\n",
        "      \n",
        "    return rmse_raw, rmse_pct, rmse_level, preds_pct, preds_level"
      ],
      "execution_count": 18,
      "outputs": []
    },
    {
      "cell_type": "markdown",
      "metadata": {
        "id": "3fwcdejkn-Ou"
      },
      "source": [
        "# Load data"
      ]
    },
    {
      "cell_type": "code",
      "metadata": {
        "id": "hjcU6qq6boHi",
        "colab": {
          "base_uri": "https://localhost:8080/",
          "height": 258
        },
        "outputId": "a288ad07-608c-43ca-b0e3-5fa52a808049"
      },
      "source": [
        "file_path = \"/content/gdrive/My Drive/Colab Notebooks/project_modeling_test/bond_spreads.csv\"\n",
        "data = pd.read_csv(file_path, index_col=0)\n",
        "data['datetime'] = pd.to_datetime(data['datetime'])\n",
        "data.sort_values(by='datetime')\n",
        "data.head()"
      ],
      "execution_count": 19,
      "outputs": [
        {
          "output_type": "stream",
          "text": [
            "/usr/local/lib/python3.6/dist-packages/numpy/lib/arraysetops.py:569: FutureWarning: elementwise comparison failed; returning scalar instead, but in the future will perform elementwise comparison\n",
            "  mask |= (ar1 == a)\n"
          ],
          "name": "stderr"
        },
        {
          "output_type": "execute_result",
          "data": {
            "text/html": [
              "<div>\n",
              "<style scoped>\n",
              "    .dataframe tbody tr th:only-of-type {\n",
              "        vertical-align: middle;\n",
              "    }\n",
              "\n",
              "    .dataframe tbody tr th {\n",
              "        vertical-align: top;\n",
              "    }\n",
              "\n",
              "    .dataframe thead th {\n",
              "        text-align: right;\n",
              "    }\n",
              "</style>\n",
              "<table border=\"1\" class=\"dataframe\">\n",
              "  <thead>\n",
              "    <tr style=\"text-align: right;\">\n",
              "      <th></th>\n",
              "      <th>datetime</th>\n",
              "      <th>sym</th>\n",
              "      <th>level</th>\n",
              "    </tr>\n",
              "  </thead>\n",
              "  <tbody>\n",
              "    <tr>\n",
              "      <th>0</th>\n",
              "      <td>2020-11-01 08:00:00</td>\n",
              "      <td>US0ATXMR1KXH</td>\n",
              "      <td>135.484079</td>\n",
              "    </tr>\n",
              "    <tr>\n",
              "      <th>1</th>\n",
              "      <td>2020-11-01 08:00:00</td>\n",
              "      <td>US1Q9L9LWF70</td>\n",
              "      <td>134.431820</td>\n",
              "    </tr>\n",
              "    <tr>\n",
              "      <th>2</th>\n",
              "      <td>2020-11-01 08:00:00</td>\n",
              "      <td>US6KJNEMVUB3</td>\n",
              "      <td>173.589274</td>\n",
              "    </tr>\n",
              "    <tr>\n",
              "      <th>3</th>\n",
              "      <td>2020-11-01 08:00:00</td>\n",
              "      <td>USVB60AAKLSG</td>\n",
              "      <td>168.731458</td>\n",
              "    </tr>\n",
              "    <tr>\n",
              "      <th>4</th>\n",
              "      <td>2020-11-01 08:00:00</td>\n",
              "      <td>US0GLYO7VCOH</td>\n",
              "      <td>81.383554</td>\n",
              "    </tr>\n",
              "  </tbody>\n",
              "</table>\n",
              "</div>"
            ],
            "text/plain": [
              "             datetime           sym       level\n",
              "0 2020-11-01 08:00:00  US0ATXMR1KXH  135.484079\n",
              "1 2020-11-01 08:00:00  US1Q9L9LWF70  134.431820\n",
              "2 2020-11-01 08:00:00  US6KJNEMVUB3  173.589274\n",
              "3 2020-11-01 08:00:00  USVB60AAKLSG  168.731458\n",
              "4 2020-11-01 08:00:00  US0GLYO7VCOH   81.383554"
            ]
          },
          "metadata": {
            "tags": []
          },
          "execution_count": 19
        }
      ]
    },
    {
      "cell_type": "code",
      "metadata": {
        "id": "LzIXVp85boOC",
        "colab": {
          "base_uri": "https://localhost:8080/"
        },
        "outputId": "de2ea482-109e-4895-e321-c195ce046e77"
      },
      "source": [
        "df_sym_to_sector = pd.read_csv('/content/gdrive/My Drive/Colab Notebooks/project_modeling_test/sym_to_sector.csv')\n",
        "# df_sym_to_sector.head()\n",
        "df_sym_to_sector['sector'].value_counts()"
      ],
      "execution_count": 20,
      "outputs": [
        {
          "output_type": "execute_result",
          "data": {
            "text/plain": [
              "CONSUMER_CYCLICALS    512\n",
              "INDUSTRIALS           330\n",
              "ENERGY                311\n",
              "TECHNOLOGY            292\n",
              "Name: sector, dtype: int64"
            ]
          },
          "metadata": {
            "tags": []
          },
          "execution_count": 20
        }
      ]
    },
    {
      "cell_type": "code",
      "metadata": {
        "colab": {
          "base_uri": "https://localhost:8080/"
        },
        "id": "nhMZkASUjkVS",
        "outputId": "a4379427-fa14-4244-d39c-2e85f67d99fc"
      },
      "source": [
        "df_sym_to_issuer = pd.read_csv('/content/gdrive/My Drive/Colab Notebooks/project_modeling_test/sym_to_issuer.csv')\n",
        "df_sym_to_issuer['issuer'].value_counts()"
      ],
      "execution_count": 21,
      "outputs": [
        {
          "output_type": "execute_result",
          "data": {
            "text/plain": [
              "HGJU    94\n",
              "ECH     94\n",
              "XOY     93\n",
              "X       87\n",
              "TA      86\n",
              "F       85\n",
              "J       73\n",
              "EEQ     60\n",
              "ZBPY    55\n",
              "T       53\n",
              "FV      50\n",
              "D       42\n",
              "OERT    41\n",
              "NL      40\n",
              "RY      40\n",
              "YVPO    39\n",
              "U       39\n",
              "MH      38\n",
              "Q       36\n",
              "LFU     31\n",
              "XPHX    30\n",
              "XG      29\n",
              "LGK     29\n",
              "XZET    26\n",
              "EJMR    23\n",
              "TOT     20\n",
              "C       18\n",
              "VYIV    15\n",
              "RYDM    13\n",
              "NMYQ    13\n",
              "B       10\n",
              "I        8\n",
              "AH       8\n",
              "SPW      7\n",
              "XRC      5\n",
              "KNRI     4\n",
              "WNR      4\n",
              "M        2\n",
              "GV       2\n",
              "OFR      1\n",
              "GK       1\n",
              "TT       1\n",
              "Name: issuer, dtype: int64"
            ]
          },
          "metadata": {
            "tags": []
          },
          "execution_count": 21
        }
      ]
    },
    {
      "cell_type": "code",
      "metadata": {
        "colab": {
          "base_uri": "https://localhost:8080/",
          "height": 204
        },
        "id": "UgYNMdiXjcSv",
        "outputId": "fd70e46f-06cd-4ce7-a3dc-01faa66608c9"
      },
      "source": [
        "raw_data = data.merge(df_sym_to_sector, on='sym')\n",
        "raw_data = raw_data.merge(df_sym_to_issuer, on='sym')\n",
        "raw_data.head()"
      ],
      "execution_count": 22,
      "outputs": [
        {
          "output_type": "execute_result",
          "data": {
            "text/html": [
              "<div>\n",
              "<style scoped>\n",
              "    .dataframe tbody tr th:only-of-type {\n",
              "        vertical-align: middle;\n",
              "    }\n",
              "\n",
              "    .dataframe tbody tr th {\n",
              "        vertical-align: top;\n",
              "    }\n",
              "\n",
              "    .dataframe thead th {\n",
              "        text-align: right;\n",
              "    }\n",
              "</style>\n",
              "<table border=\"1\" class=\"dataframe\">\n",
              "  <thead>\n",
              "    <tr style=\"text-align: right;\">\n",
              "      <th></th>\n",
              "      <th>datetime</th>\n",
              "      <th>sym</th>\n",
              "      <th>level</th>\n",
              "      <th>sector</th>\n",
              "      <th>issuer</th>\n",
              "    </tr>\n",
              "  </thead>\n",
              "  <tbody>\n",
              "    <tr>\n",
              "      <th>0</th>\n",
              "      <td>2020-11-01 08:00:00</td>\n",
              "      <td>US0ATXMR1KXH</td>\n",
              "      <td>135.484079</td>\n",
              "      <td>CONSUMER_CYCLICALS</td>\n",
              "      <td>XOY</td>\n",
              "    </tr>\n",
              "    <tr>\n",
              "      <th>1</th>\n",
              "      <td>2020-11-01 08:01:00</td>\n",
              "      <td>US0ATXMR1KXH</td>\n",
              "      <td>133.008120</td>\n",
              "      <td>CONSUMER_CYCLICALS</td>\n",
              "      <td>XOY</td>\n",
              "    </tr>\n",
              "    <tr>\n",
              "      <th>2</th>\n",
              "      <td>2020-11-01 08:02:00</td>\n",
              "      <td>US0ATXMR1KXH</td>\n",
              "      <td>133.269386</td>\n",
              "      <td>CONSUMER_CYCLICALS</td>\n",
              "      <td>XOY</td>\n",
              "    </tr>\n",
              "    <tr>\n",
              "      <th>3</th>\n",
              "      <td>2020-11-01 08:03:00</td>\n",
              "      <td>US0ATXMR1KXH</td>\n",
              "      <td>132.534590</td>\n",
              "      <td>CONSUMER_CYCLICALS</td>\n",
              "      <td>XOY</td>\n",
              "    </tr>\n",
              "    <tr>\n",
              "      <th>4</th>\n",
              "      <td>2020-11-01 08:04:00</td>\n",
              "      <td>US0ATXMR1KXH</td>\n",
              "      <td>134.908804</td>\n",
              "      <td>CONSUMER_CYCLICALS</td>\n",
              "      <td>XOY</td>\n",
              "    </tr>\n",
              "  </tbody>\n",
              "</table>\n",
              "</div>"
            ],
            "text/plain": [
              "             datetime           sym       level              sector issuer\n",
              "0 2020-11-01 08:00:00  US0ATXMR1KXH  135.484079  CONSUMER_CYCLICALS    XOY\n",
              "1 2020-11-01 08:01:00  US0ATXMR1KXH  133.008120  CONSUMER_CYCLICALS    XOY\n",
              "2 2020-11-01 08:02:00  US0ATXMR1KXH  133.269386  CONSUMER_CYCLICALS    XOY\n",
              "3 2020-11-01 08:03:00  US0ATXMR1KXH  132.534590  CONSUMER_CYCLICALS    XOY\n",
              "4 2020-11-01 08:04:00  US0ATXMR1KXH  134.908804  CONSUMER_CYCLICALS    XOY"
            ]
          },
          "metadata": {
            "tags": []
          },
          "execution_count": 22
        }
      ]
    },
    {
      "cell_type": "code",
      "metadata": {
        "colab": {
          "base_uri": "https://localhost:8080/"
        },
        "id": "pD3oQtDjzAE-",
        "outputId": "7a8a0778-d707-4ac1-8316-c0d92a5ed482"
      },
      "source": [
        "syms_all = raw_data['sym'].unique()\n",
        "syms_all"
      ],
      "execution_count": 23,
      "outputs": [
        {
          "output_type": "execute_result",
          "data": {
            "text/plain": [
              "array(['US0ATXMR1KXH', 'US1Q9L9LWF70', 'US6KJNEMVUB3', ...,\n",
              "       'USL3W14NOS6O', 'USOYXI6CIQ2M', 'USS7E04EJOAJ'], dtype=object)"
            ]
          },
          "metadata": {
            "tags": []
          },
          "execution_count": 23
        }
      ]
    },
    {
      "cell_type": "markdown",
      "metadata": {
        "id": "r-HfJFb6lGJT"
      },
      "source": [
        "Select a target sym"
      ]
    },
    {
      "cell_type": "code",
      "metadata": {
        "colab": {
          "base_uri": "https://localhost:8080/",
          "height": 204
        },
        "id": "gS2aJtvHlGlg",
        "outputId": "295c5cb4-661f-4e38-b437-04b89c5d1a1b"
      },
      "source": [
        "sym = 'USV9CQ7RNR6Y'\n",
        "# sym = np.random.choice(syms_all, 1)[0]\n",
        "sym_data = raw_data[raw_data['sym']==sym].reset_index().drop('index', axis=1)\n",
        "sym_data.head()"
      ],
      "execution_count": 24,
      "outputs": [
        {
          "output_type": "execute_result",
          "data": {
            "text/html": [
              "<div>\n",
              "<style scoped>\n",
              "    .dataframe tbody tr th:only-of-type {\n",
              "        vertical-align: middle;\n",
              "    }\n",
              "\n",
              "    .dataframe tbody tr th {\n",
              "        vertical-align: top;\n",
              "    }\n",
              "\n",
              "    .dataframe thead th {\n",
              "        text-align: right;\n",
              "    }\n",
              "</style>\n",
              "<table border=\"1\" class=\"dataframe\">\n",
              "  <thead>\n",
              "    <tr style=\"text-align: right;\">\n",
              "      <th></th>\n",
              "      <th>datetime</th>\n",
              "      <th>sym</th>\n",
              "      <th>level</th>\n",
              "      <th>sector</th>\n",
              "      <th>issuer</th>\n",
              "    </tr>\n",
              "  </thead>\n",
              "  <tbody>\n",
              "    <tr>\n",
              "      <th>0</th>\n",
              "      <td>2020-11-01 08:00:00</td>\n",
              "      <td>USV9CQ7RNR6Y</td>\n",
              "      <td>352.071816</td>\n",
              "      <td>ENERGY</td>\n",
              "      <td>ECH</td>\n",
              "    </tr>\n",
              "    <tr>\n",
              "      <th>1</th>\n",
              "      <td>2020-11-01 08:01:00</td>\n",
              "      <td>USV9CQ7RNR6Y</td>\n",
              "      <td>350.556741</td>\n",
              "      <td>ENERGY</td>\n",
              "      <td>ECH</td>\n",
              "    </tr>\n",
              "    <tr>\n",
              "      <th>2</th>\n",
              "      <td>2020-11-01 08:02:00</td>\n",
              "      <td>USV9CQ7RNR6Y</td>\n",
              "      <td>350.725177</td>\n",
              "      <td>ENERGY</td>\n",
              "      <td>ECH</td>\n",
              "    </tr>\n",
              "    <tr>\n",
              "      <th>3</th>\n",
              "      <td>2020-11-01 08:05:00</td>\n",
              "      <td>USV9CQ7RNR6Y</td>\n",
              "      <td>351.692869</td>\n",
              "      <td>ENERGY</td>\n",
              "      <td>ECH</td>\n",
              "    </tr>\n",
              "    <tr>\n",
              "      <th>4</th>\n",
              "      <td>2020-11-01 08:06:00</td>\n",
              "      <td>USV9CQ7RNR6Y</td>\n",
              "      <td>351.923203</td>\n",
              "      <td>ENERGY</td>\n",
              "      <td>ECH</td>\n",
              "    </tr>\n",
              "  </tbody>\n",
              "</table>\n",
              "</div>"
            ],
            "text/plain": [
              "             datetime           sym       level  sector issuer\n",
              "0 2020-11-01 08:00:00  USV9CQ7RNR6Y  352.071816  ENERGY    ECH\n",
              "1 2020-11-01 08:01:00  USV9CQ7RNR6Y  350.556741  ENERGY    ECH\n",
              "2 2020-11-01 08:02:00  USV9CQ7RNR6Y  350.725177  ENERGY    ECH\n",
              "3 2020-11-01 08:05:00  USV9CQ7RNR6Y  351.692869  ENERGY    ECH\n",
              "4 2020-11-01 08:06:00  USV9CQ7RNR6Y  351.923203  ENERGY    ECH"
            ]
          },
          "metadata": {
            "tags": []
          },
          "execution_count": 24
        }
      ]
    },
    {
      "cell_type": "code",
      "metadata": {
        "colab": {
          "base_uri": "https://localhost:8080/",
          "height": 282
        },
        "id": "IpygI2KjydOF",
        "outputId": "1d688d94-4c10-4a96-e96c-8fb378cf6877"
      },
      "source": [
        "sym_data.plot(y='level')"
      ],
      "execution_count": 25,
      "outputs": [
        {
          "output_type": "execute_result",
          "data": {
            "text/plain": [
              "<matplotlib.axes._subplots.AxesSubplot at 0x7f6aeafaa710>"
            ]
          },
          "metadata": {
            "tags": []
          },
          "execution_count": 25
        },
        {
          "output_type": "display_data",
          "data": {
            "image/png": "[encoded data removed]",
            "text/plain": [
              "<Figure size 432x288 with 1 Axes>"
            ]
          },
          "metadata": {
            "tags": [],
            "needs_background": "light"
          }
        }
      ]
    },
    {
      "cell_type": "markdown",
      "metadata": {
        "id": "Yd7ZWuunmM2z"
      },
      "source": [
        "Get sector and issuer data of this bond\n",
        "\n",
        "1.   Compute the average price of the sector\n",
        "2.   Compute the average price of the issuer\n",
        "\n",
        "The intuition is: the bonds in the same sector or from the same issuer may provide some information for prediction of this bond. For example, the momentum of the aggregated price data can be informative to our model. \n",
        "\n"
      ]
    },
    {
      "cell_type": "code",
      "metadata": {
        "colab": {
          "base_uri": "https://localhost:8080/",
          "height": 204
        },
        "id": "WPg4kbw3jcaG",
        "outputId": "ac491b00-67a1-48da-93fa-257149d57a42"
      },
      "source": [
        "sec = sym_data.loc[0, 'sector']\n",
        "sec_data = raw_data[raw_data['sector']==sec]\n",
        "sec_avg_price_data = sec_data.groupby(by='datetime').mean()\n",
        "sec_avg_price_data = sec_avg_price_data.reset_index()\n",
        "sec_avg_price_data.head()"
      ],
      "execution_count": 26,
      "outputs": [
        {
          "output_type": "execute_result",
          "data": {
            "text/html": [
              "<div>\n",
              "<style scoped>\n",
              "    .dataframe tbody tr th:only-of-type {\n",
              "        vertical-align: middle;\n",
              "    }\n",
              "\n",
              "    .dataframe tbody tr th {\n",
              "        vertical-align: top;\n",
              "    }\n",
              "\n",
              "    .dataframe thead th {\n",
              "        text-align: right;\n",
              "    }\n",
              "</style>\n",
              "<table border=\"1\" class=\"dataframe\">\n",
              "  <thead>\n",
              "    <tr style=\"text-align: right;\">\n",
              "      <th></th>\n",
              "      <th>datetime</th>\n",
              "      <th>level</th>\n",
              "    </tr>\n",
              "  </thead>\n",
              "  <tbody>\n",
              "    <tr>\n",
              "      <th>0</th>\n",
              "      <td>2020-11-01 08:00:00</td>\n",
              "      <td>111.356382</td>\n",
              "    </tr>\n",
              "    <tr>\n",
              "      <th>1</th>\n",
              "      <td>2020-11-01 08:01:00</td>\n",
              "      <td>108.469130</td>\n",
              "    </tr>\n",
              "    <tr>\n",
              "      <th>2</th>\n",
              "      <td>2020-11-01 08:02:00</td>\n",
              "      <td>108.620382</td>\n",
              "    </tr>\n",
              "    <tr>\n",
              "      <th>3</th>\n",
              "      <td>2020-11-01 08:03:00</td>\n",
              "      <td>107.428109</td>\n",
              "    </tr>\n",
              "    <tr>\n",
              "      <th>4</th>\n",
              "      <td>2020-11-01 08:04:00</td>\n",
              "      <td>108.378047</td>\n",
              "    </tr>\n",
              "  </tbody>\n",
              "</table>\n",
              "</div>"
            ],
            "text/plain": [
              "             datetime       level\n",
              "0 2020-11-01 08:00:00  111.356382\n",
              "1 2020-11-01 08:01:00  108.469130\n",
              "2 2020-11-01 08:02:00  108.620382\n",
              "3 2020-11-01 08:03:00  107.428109\n",
              "4 2020-11-01 08:04:00  108.378047"
            ]
          },
          "metadata": {
            "tags": []
          },
          "execution_count": 26
        }
      ]
    },
    {
      "cell_type": "code",
      "metadata": {
        "colab": {
          "base_uri": "https://localhost:8080/",
          "height": 204
        },
        "id": "mLZWY1B7ncl4",
        "outputId": "7b91e05c-6d08-4d68-fabe-203662810038"
      },
      "source": [
        "iss = sym_data.loc[0, 'issuer']\n",
        "iss_data = raw_data[raw_data['issuer']==iss]\n",
        "iss_avg_price_data = iss_data.groupby(by='datetime').mean()\n",
        "iss_avg_price_data = iss_avg_price_data.reset_index()\n",
        "iss_avg_price_data.head()"
      ],
      "execution_count": 27,
      "outputs": [
        {
          "output_type": "execute_result",
          "data": {
            "text/html": [
              "<div>\n",
              "<style scoped>\n",
              "    .dataframe tbody tr th:only-of-type {\n",
              "        vertical-align: middle;\n",
              "    }\n",
              "\n",
              "    .dataframe tbody tr th {\n",
              "        vertical-align: top;\n",
              "    }\n",
              "\n",
              "    .dataframe thead th {\n",
              "        text-align: right;\n",
              "    }\n",
              "</style>\n",
              "<table border=\"1\" class=\"dataframe\">\n",
              "  <thead>\n",
              "    <tr style=\"text-align: right;\">\n",
              "      <th></th>\n",
              "      <th>datetime</th>\n",
              "      <th>level</th>\n",
              "    </tr>\n",
              "  </thead>\n",
              "  <tbody>\n",
              "    <tr>\n",
              "      <th>0</th>\n",
              "      <td>2020-11-01 08:00:00</td>\n",
              "      <td>118.409735</td>\n",
              "    </tr>\n",
              "    <tr>\n",
              "      <th>1</th>\n",
              "      <td>2020-11-01 08:01:00</td>\n",
              "      <td>119.734964</td>\n",
              "    </tr>\n",
              "    <tr>\n",
              "      <th>2</th>\n",
              "      <td>2020-11-01 08:02:00</td>\n",
              "      <td>121.233155</td>\n",
              "    </tr>\n",
              "    <tr>\n",
              "      <th>3</th>\n",
              "      <td>2020-11-01 08:03:00</td>\n",
              "      <td>114.618193</td>\n",
              "    </tr>\n",
              "    <tr>\n",
              "      <th>4</th>\n",
              "      <td>2020-11-01 08:04:00</td>\n",
              "      <td>115.389790</td>\n",
              "    </tr>\n",
              "  </tbody>\n",
              "</table>\n",
              "</div>"
            ],
            "text/plain": [
              "             datetime       level\n",
              "0 2020-11-01 08:00:00  118.409735\n",
              "1 2020-11-01 08:01:00  119.734964\n",
              "2 2020-11-01 08:02:00  121.233155\n",
              "3 2020-11-01 08:03:00  114.618193\n",
              "4 2020-11-01 08:04:00  115.389790"
            ]
          },
          "metadata": {
            "tags": []
          },
          "execution_count": 27
        }
      ]
    },
    {
      "cell_type": "markdown",
      "metadata": {
        "id": "cF4IfTEt0vsw"
      },
      "source": [
        "\n",
        "#### Data usage: train_data: 70%, validation_data: 20%, test_data: 10%; in chronological order"
      ]
    },
    {
      "cell_type": "code",
      "metadata": {
        "id": "7ysDEsGbQKGd"
      },
      "source": [
        "train_pct=0.7\n",
        "val_pct=0.2\n",
        "shuffle = False \n",
        "## here, we do not shuffle data during training, validation, testing; \n",
        "## it is easier to debug\n",
        "## after debugging, it can be set to true"
      ],
      "execution_count": 28,
      "outputs": []
    },
    {
      "cell_type": "markdown",
      "metadata": {
        "id": "RKPO40vjQKeS"
      },
      "source": [
        "# Create features and targets, dataset (generotor)\n",
        "Using sym, sector, issuer data"
      ]
    },
    {
      "cell_type": "code",
      "metadata": {
        "colab": {
          "base_uri": "https://localhost:8080/"
        },
        "id": "qFm8qKVRQUAr",
        "outputId": "cbdb74f9-7a24-40e0-b5d2-3cd000b09cd1"
      },
      "source": [
        "sym_feature_data = create_features(data=sym_data, name='sym')\n",
        "sec_feature_data = create_features(data=sec_avg_price_data, name='sec')\n",
        "issuer_feature_data = create_features(data=iss_avg_price_data, name='iss')\n",
        "\n",
        "sym_feature_data.shape, sec_feature_data.shape, issuer_feature_data.shape"
      ],
      "execution_count": 29,
      "outputs": [
        {
          "output_type": "execute_result",
          "data": {
            "text/plain": [
              "((9081, 21), (10000, 21), (10000, 21))"
            ]
          },
          "metadata": {
            "tags": []
          },
          "execution_count": 29
        }
      ]
    },
    {
      "cell_type": "code",
      "metadata": {
        "colab": {
          "base_uri": "https://localhost:8080/",
          "height": 394
        },
        "id": "KxxXJ7gBI-zM",
        "outputId": "57c7e1e4-9f3e-4c17-8646-7f4c2d69c258"
      },
      "source": [
        "feature_data = sym_feature_data.merge(sec_feature_data, on='datetime')\n",
        "feature_data = feature_data.merge(issuer_feature_data, on='datetime')\n",
        "feature_data.dropna().head()"
      ],
      "execution_count": 30,
      "outputs": [
        {
          "output_type": "execute_result",
          "data": {
            "text/html": [
              "<div>\n",
              "<style scoped>\n",
              "    .dataframe tbody tr th:only-of-type {\n",
              "        vertical-align: middle;\n",
              "    }\n",
              "\n",
              "    .dataframe tbody tr th {\n",
              "        vertical-align: top;\n",
              "    }\n",
              "\n",
              "    .dataframe thead th {\n",
              "        text-align: right;\n",
              "    }\n",
              "</style>\n",
              "<table border=\"1\" class=\"dataframe\">\n",
              "  <thead>\n",
              "    <tr style=\"text-align: right;\">\n",
              "      <th></th>\n",
              "      <th>datetime</th>\n",
              "      <th>sym_level</th>\n",
              "      <th>sym_pct_change_1m</th>\n",
              "      <th>sym_short_ma</th>\n",
              "      <th>sym_short_ma_pct_change_baseline</th>\n",
              "      <th>sym_short_ma_pct_change_10m</th>\n",
              "      <th>sym_short_std</th>\n",
              "      <th>sym_short_std_pct_change_10m</th>\n",
              "      <th>sym_long_ma</th>\n",
              "      <th>sym_long_ma_pct_change_baseline</th>\n",
              "      <th>sym_long_ma_pct_change_60m</th>\n",
              "      <th>sym_long_std</th>\n",
              "      <th>sym_long_std_pct_change_60m</th>\n",
              "      <th>sym_short_ewm</th>\n",
              "      <th>sym_short_ewm_pct_change_baseline</th>\n",
              "      <th>sym_long_ewm</th>\n",
              "      <th>sym_long_ewm_pct_change_baseline</th>\n",
              "      <th>sym_rsi</th>\n",
              "      <th>sym_wma</th>\n",
              "      <th>sym_wma_pct_change</th>\n",
              "      <th>sym_macd</th>\n",
              "      <th>sec_level</th>\n",
              "      <th>sec_pct_change_1m</th>\n",
              "      <th>sec_short_ma</th>\n",
              "      <th>sec_short_ma_pct_change_baseline</th>\n",
              "      <th>sec_short_ma_pct_change_10m</th>\n",
              "      <th>sec_short_std</th>\n",
              "      <th>sec_short_std_pct_change_10m</th>\n",
              "      <th>sec_long_ma</th>\n",
              "      <th>sec_long_ma_pct_change_baseline</th>\n",
              "      <th>sec_long_ma_pct_change_60m</th>\n",
              "      <th>sec_long_std</th>\n",
              "      <th>sec_long_std_pct_change_60m</th>\n",
              "      <th>sec_short_ewm</th>\n",
              "      <th>sec_short_ewm_pct_change_baseline</th>\n",
              "      <th>sec_long_ewm</th>\n",
              "      <th>sec_long_ewm_pct_change_baseline</th>\n",
              "      <th>sec_rsi</th>\n",
              "      <th>sec_wma</th>\n",
              "      <th>sec_wma_pct_change</th>\n",
              "      <th>sec_macd</th>\n",
              "      <th>iss_level</th>\n",
              "      <th>iss_pct_change_1m</th>\n",
              "      <th>iss_short_ma</th>\n",
              "      <th>iss_short_ma_pct_change_baseline</th>\n",
              "      <th>iss_short_ma_pct_change_10m</th>\n",
              "      <th>iss_short_std</th>\n",
              "      <th>iss_short_std_pct_change_10m</th>\n",
              "      <th>iss_long_ma</th>\n",
              "      <th>iss_long_ma_pct_change_baseline</th>\n",
              "      <th>iss_long_ma_pct_change_60m</th>\n",
              "      <th>iss_long_std</th>\n",
              "      <th>iss_long_std_pct_change_60m</th>\n",
              "      <th>iss_short_ewm</th>\n",
              "      <th>iss_short_ewm_pct_change_baseline</th>\n",
              "      <th>iss_long_ewm</th>\n",
              "      <th>iss_long_ewm_pct_change_baseline</th>\n",
              "      <th>iss_rsi</th>\n",
              "      <th>iss_wma</th>\n",
              "      <th>iss_wma_pct_change</th>\n",
              "      <th>iss_macd</th>\n",
              "    </tr>\n",
              "  </thead>\n",
              "  <tbody>\n",
              "    <tr>\n",
              "      <th>119</th>\n",
              "      <td>2020-11-01 10:08:00</td>\n",
              "      <td>363.025445</td>\n",
              "      <td>-0.001783</td>\n",
              "      <td>362.101787</td>\n",
              "      <td>-0.002544</td>\n",
              "      <td>0.006819</td>\n",
              "      <td>1.444551</td>\n",
              "      <td>0.120024</td>\n",
              "      <td>358.287132</td>\n",
              "      <td>-0.013052</td>\n",
              "      <td>0.012976</td>\n",
              "      <td>2.269223</td>\n",
              "      <td>0.236285</td>\n",
              "      <td>362.331840</td>\n",
              "      <td>-0.001911</td>\n",
              "      <td>358.710578</td>\n",
              "      <td>-0.011886</td>\n",
              "      <td>62.236336</td>\n",
              "      <td>360.980070</td>\n",
              "      <td>0.000590</td>\n",
              "      <td>3.621262</td>\n",
              "      <td>114.915251</td>\n",
              "      <td>0.005788</td>\n",
              "      <td>113.657239</td>\n",
              "      <td>-0.010947</td>\n",
              "      <td>0.020301</td>\n",
              "      <td>1.338272</td>\n",
              "      <td>0.104170</td>\n",
              "      <td>108.852665</td>\n",
              "      <td>-0.052757</td>\n",
              "      <td>0.007424</td>\n",
              "      <td>3.038142</td>\n",
              "      <td>0.382714</td>\n",
              "      <td>113.677289</td>\n",
              "      <td>-0.010773</td>\n",
              "      <td>110.057192</td>\n",
              "      <td>-0.042275</td>\n",
              "      <td>56.857268</td>\n",
              "      <td>112.385105</td>\n",
              "      <td>0.002275</td>\n",
              "      <td>3.620097</td>\n",
              "      <td>124.721856</td>\n",
              "      <td>0.023202</td>\n",
              "      <td>121.485079</td>\n",
              "      <td>-0.025952</td>\n",
              "      <td>0.018431</td>\n",
              "      <td>2.480259</td>\n",
              "      <td>0.011981</td>\n",
              "      <td>117.750473</td>\n",
              "      <td>-0.055895</td>\n",
              "      <td>-0.002283</td>\n",
              "      <td>2.962006</td>\n",
              "      <td>0.037873</td>\n",
              "      <td>121.663390</td>\n",
              "      <td>-0.024522</td>\n",
              "      <td>118.758964</td>\n",
              "      <td>-0.047810</td>\n",
              "      <td>53.932622</td>\n",
              "      <td>120.382416</td>\n",
              "      <td>0.002915</td>\n",
              "      <td>2.904427</td>\n",
              "    </tr>\n",
              "    <tr>\n",
              "      <th>120</th>\n",
              "      <td>2020-11-01 10:09:00</td>\n",
              "      <td>362.074385</td>\n",
              "      <td>-0.002620</td>\n",
              "      <td>362.297772</td>\n",
              "      <td>0.000617</td>\n",
              "      <td>0.006959</td>\n",
              "      <td>1.267018</td>\n",
              "      <td>0.015152</td>\n",
              "      <td>358.353043</td>\n",
              "      <td>-0.010278</td>\n",
              "      <td>0.012874</td>\n",
              "      <td>2.321118</td>\n",
              "      <td>0.215685</td>\n",
              "      <td>362.285030</td>\n",
              "      <td>0.000582</td>\n",
              "      <td>358.820867</td>\n",
              "      <td>-0.008986</td>\n",
              "      <td>59.041655</td>\n",
              "      <td>361.117292</td>\n",
              "      <td>0.000380</td>\n",
              "      <td>3.464163</td>\n",
              "      <td>111.655032</td>\n",
              "      <td>-0.028371</td>\n",
              "      <td>113.532414</td>\n",
              "      <td>0.016814</td>\n",
              "      <td>0.017749</td>\n",
              "      <td>1.468307</td>\n",
              "      <td>0.128190</td>\n",
              "      <td>108.896738</td>\n",
              "      <td>-0.024704</td>\n",
              "      <td>0.007990</td>\n",
              "      <td>3.059577</td>\n",
              "      <td>0.399902</td>\n",
              "      <td>113.309606</td>\n",
              "      <td>0.014819</td>\n",
              "      <td>110.109581</td>\n",
              "      <td>-0.013841</td>\n",
              "      <td>51.996163</td>\n",
              "      <td>112.413791</td>\n",
              "      <td>0.000255</td>\n",
              "      <td>3.200025</td>\n",
              "      <td>120.272341</td>\n",
              "      <td>-0.035676</td>\n",
              "      <td>121.199367</td>\n",
              "      <td>0.007708</td>\n",
              "      <td>0.015785</td>\n",
              "      <td>2.433918</td>\n",
              "      <td>-0.026235</td>\n",
              "      <td>117.796645</td>\n",
              "      <td>-0.020584</td>\n",
              "      <td>-0.001358</td>\n",
              "      <td>2.979607</td>\n",
              "      <td>0.055820</td>\n",
              "      <td>121.410472</td>\n",
              "      <td>0.009463</td>\n",
              "      <td>118.808583</td>\n",
              "      <td>-0.012170</td>\n",
              "      <td>50.940639</td>\n",
              "      <td>120.428189</td>\n",
              "      <td>0.000380</td>\n",
              "      <td>2.601890</td>\n",
              "    </tr>\n",
              "    <tr>\n",
              "      <th>121</th>\n",
              "      <td>2020-11-01 10:10:00</td>\n",
              "      <td>362.010268</td>\n",
              "      <td>-0.000177</td>\n",
              "      <td>362.510391</td>\n",
              "      <td>0.001382</td>\n",
              "      <td>0.007143</td>\n",
              "      <td>0.957583</td>\n",
              "      <td>-0.169164</td>\n",
              "      <td>358.419781</td>\n",
              "      <td>-0.009918</td>\n",
              "      <td>0.012707</td>\n",
              "      <td>2.368062</td>\n",
              "      <td>0.222576</td>\n",
              "      <td>362.235073</td>\n",
              "      <td>0.000621</td>\n",
              "      <td>358.925437</td>\n",
              "      <td>-0.008521</td>\n",
              "      <td>58.831043</td>\n",
              "      <td>361.240511</td>\n",
              "      <td>0.000341</td>\n",
              "      <td>3.309636</td>\n",
              "      <td>112.960841</td>\n",
              "      <td>0.011695</td>\n",
              "      <td>113.550614</td>\n",
              "      <td>0.005221</td>\n",
              "      <td>0.015961</td>\n",
              "      <td>1.459027</td>\n",
              "      <td>0.113615</td>\n",
              "      <td>108.998000</td>\n",
              "      <td>-0.035082</td>\n",
              "      <td>0.009121</td>\n",
              "      <td>3.092240</td>\n",
              "      <td>0.411632</td>\n",
              "      <td>113.246194</td>\n",
              "      <td>0.002526</td>\n",
              "      <td>110.203065</td>\n",
              "      <td>-0.024414</td>\n",
              "      <td>53.638501</td>\n",
              "      <td>112.516223</td>\n",
              "      <td>0.000911</td>\n",
              "      <td>3.043130</td>\n",
              "      <td>122.559112</td>\n",
              "      <td>0.019013</td>\n",
              "      <td>121.382799</td>\n",
              "      <td>-0.009598</td>\n",
              "      <td>0.013702</td>\n",
              "      <td>2.463124</td>\n",
              "      <td>0.063716</td>\n",
              "      <td>117.909144</td>\n",
              "      <td>-0.037941</td>\n",
              "      <td>0.000461</td>\n",
              "      <td>3.030292</td>\n",
              "      <td>0.087511</td>\n",
              "      <td>121.619316</td>\n",
              "      <td>-0.007668</td>\n",
              "      <td>118.931551</td>\n",
              "      <td>-0.029598</td>\n",
              "      <td>52.346165</td>\n",
              "      <td>120.610911</td>\n",
              "      <td>0.001517</td>\n",
              "      <td>2.687765</td>\n",
              "    </tr>\n",
              "    <tr>\n",
              "      <th>122</th>\n",
              "      <td>2020-11-01 10:11:00</td>\n",
              "      <td>361.319092</td>\n",
              "      <td>-0.001909</td>\n",
              "      <td>362.534750</td>\n",
              "      <td>0.003365</td>\n",
              "      <td>0.006398</td>\n",
              "      <td>0.919362</td>\n",
              "      <td>-0.094040</td>\n",
              "      <td>358.489630</td>\n",
              "      <td>-0.007831</td>\n",
              "      <td>0.012599</td>\n",
              "      <td>2.391015</td>\n",
              "      <td>0.236186</td>\n",
              "      <td>362.068531</td>\n",
              "      <td>0.002074</td>\n",
              "      <td>359.003918</td>\n",
              "      <td>-0.006408</td>\n",
              "      <td>56.580309</td>\n",
              "      <td>361.310325</td>\n",
              "      <td>0.000193</td>\n",
              "      <td>3.064613</td>\n",
              "      <td>113.695553</td>\n",
              "      <td>0.006504</td>\n",
              "      <td>113.745660</td>\n",
              "      <td>0.000441</td>\n",
              "      <td>0.016311</td>\n",
              "      <td>1.314007</td>\n",
              "      <td>0.102077</td>\n",
              "      <td>109.148681</td>\n",
              "      <td>-0.039992</td>\n",
              "      <td>0.011583</td>\n",
              "      <td>3.097279</td>\n",
              "      <td>0.417969</td>\n",
              "      <td>113.327896</td>\n",
              "      <td>-0.003234</td>\n",
              "      <td>110.317572</td>\n",
              "      <td>-0.029711</td>\n",
              "      <td>54.543696</td>\n",
              "      <td>112.655661</td>\n",
              "      <td>0.001239</td>\n",
              "      <td>3.010323</td>\n",
              "      <td>120.730867</td>\n",
              "      <td>-0.014917</td>\n",
              "      <td>121.684028</td>\n",
              "      <td>0.007895</td>\n",
              "      <td>0.015014</td>\n",
              "      <td>2.126393</td>\n",
              "      <td>0.005007</td>\n",
              "      <td>117.969370</td>\n",
              "      <td>-0.022873</td>\n",
              "      <td>0.001454</td>\n",
              "      <td>3.050131</td>\n",
              "      <td>0.102783</td>\n",
              "      <td>121.457780</td>\n",
              "      <td>0.006021</td>\n",
              "      <td>118.990545</td>\n",
              "      <td>-0.014415</td>\n",
              "      <td>51.134546</td>\n",
              "      <td>120.660118</td>\n",
              "      <td>0.000408</td>\n",
              "      <td>2.467235</td>\n",
              "    </tr>\n",
              "    <tr>\n",
              "      <th>123</th>\n",
              "      <td>2020-11-01 10:13:00</td>\n",
              "      <td>360.276200</td>\n",
              "      <td>-0.002886</td>\n",
              "      <td>362.441244</td>\n",
              "      <td>0.006009</td>\n",
              "      <td>0.005233</td>\n",
              "      <td>1.098940</td>\n",
              "      <td>0.635582</td>\n",
              "      <td>358.538977</td>\n",
              "      <td>-0.004822</td>\n",
              "      <td>0.012470</td>\n",
              "      <td>2.396915</td>\n",
              "      <td>0.225941</td>\n",
              "      <td>361.742653</td>\n",
              "      <td>0.004070</td>\n",
              "      <td>359.045632</td>\n",
              "      <td>-0.003416</td>\n",
              "      <td>53.391947</td>\n",
              "      <td>361.304284</td>\n",
              "      <td>-0.000017</td>\n",
              "      <td>2.697021</td>\n",
              "      <td>111.272375</td>\n",
              "      <td>-0.009749</td>\n",
              "      <td>113.392419</td>\n",
              "      <td>0.019053</td>\n",
              "      <td>0.011744</td>\n",
              "      <td>1.446497</td>\n",
              "      <td>-0.028156</td>\n",
              "      <td>109.312123</td>\n",
              "      <td>-0.017617</td>\n",
              "      <td>0.014646</td>\n",
              "      <td>3.106290</td>\n",
              "      <td>0.507676</td>\n",
              "      <td>112.811346</td>\n",
              "      <td>0.013831</td>\n",
              "      <td>110.413895</td>\n",
              "      <td>-0.007715</td>\n",
              "      <td>51.087428</td>\n",
              "      <td>112.664241</td>\n",
              "      <td>-0.000312</td>\n",
              "      <td>2.397451</td>\n",
              "      <td>118.504555</td>\n",
              "      <td>0.008879</td>\n",
              "      <td>121.162190</td>\n",
              "      <td>0.022426</td>\n",
              "      <td>0.010951</td>\n",
              "      <td>2.385336</td>\n",
              "      <td>0.099897</td>\n",
              "      <td>118.061939</td>\n",
              "      <td>-0.003735</td>\n",
              "      <td>0.004654</td>\n",
              "      <td>3.002366</td>\n",
              "      <td>0.165955</td>\n",
              "      <td>120.326352</td>\n",
              "      <td>0.015373</td>\n",
              "      <td>118.926124</td>\n",
              "      <td>0.003557</td>\n",
              "      <td>49.716356</td>\n",
              "      <td>120.404927</td>\n",
              "      <td>-0.000781</td>\n",
              "      <td>1.400228</td>\n",
              "    </tr>\n",
              "  </tbody>\n",
              "</table>\n",
              "</div>"
            ],
            "text/plain": [
              "               datetime   sym_level  ...  iss_wma_pct_change  iss_macd\n",
              "119 2020-11-01 10:08:00  363.025445  ...            0.002915  2.904427\n",
              "120 2020-11-01 10:09:00  362.074385  ...            0.000380  2.601890\n",
              "121 2020-11-01 10:10:00  362.010268  ...            0.001517  2.687765\n",
              "122 2020-11-01 10:11:00  361.319092  ...            0.000408  2.467235\n",
              "123 2020-11-01 10:13:00  360.276200  ...           -0.000781  1.400228\n",
              "\n",
              "[5 rows x 61 columns]"
            ]
          },
          "metadata": {
            "tags": []
          },
          "execution_count": 30
        }
      ]
    },
    {
      "cell_type": "code",
      "metadata": {
        "colab": {
          "base_uri": "https://localhost:8080/"
        },
        "id": "ZO-RweAEI-zN",
        "outputId": "3de94cfb-9744-4dba-9834-c7795805f925"
      },
      "source": [
        "feature_data.shape"
      ],
      "execution_count": 31,
      "outputs": [
        {
          "output_type": "execute_result",
          "data": {
            "text/plain": [
              "(9081, 61)"
            ]
          },
          "metadata": {
            "tags": []
          },
          "execution_count": 31
        }
      ]
    },
    {
      "cell_type": "code",
      "metadata": {
        "id": "PYrl2YzbWU6Z"
      },
      "source": [
        "col_idx_map = {col: idx for idx, col in enumerate(feature_data.columns)}\n",
        "# col_idx_map"
      ],
      "execution_count": 32,
      "outputs": []
    },
    {
      "cell_type": "markdown",
      "metadata": {
        "id": "5-74j0oNRW0A"
      },
      "source": [
        "#### Target variable: sym_pct_change_1m\n",
        "We aim to predict the next-minute level, and the actual target variable is the percentage change of the next-minute level compared to current time (minute). \n",
        "\n",
        "\n",
        "sym_pct_change_1m (target) is stationary via test. "
      ]
    },
    {
      "cell_type": "code",
      "metadata": {
        "colab": {
          "base_uri": "https://localhost:8080/"
        },
        "id": "RqFEyJR0I-zW",
        "outputId": "092eb747-e226-4511-c075-4743f900c0fa"
      },
      "source": [
        "result = adfuller(feature_data['sym_pct_change_1m'].dropna())\n",
        "print('ADF Statistic: {}'.format(result[0]))\n",
        "print('p-value: {}'.format(result[1]))\n",
        "print('Critical Values:')\n",
        "for key, value in result[4].items():\n",
        "    print('\\t{}: {}'.format(key, value))"
      ],
      "execution_count": 33,
      "outputs": [
        {
          "output_type": "stream",
          "text": [
            "ADF Statistic: -58.21697210501099\n",
            "p-value: 0.0\n",
            "Critical Values:\n",
            "\t1%: -3.4310707085122814\n",
            "\t5%: -2.861858506720047\n",
            "\t10%: -2.566939536083911\n"
          ],
          "name": "stdout"
        }
      ]
    },
    {
      "cell_type": "code",
      "metadata": {
        "id": "oxmQ2C-BI-zX"
      },
      "source": [
        "window_size = 20\n",
        "batch_size = 32\n",
        "feature_dim = feature_data.shape[1]-1"
      ],
      "execution_count": 34,
      "outputs": []
    },
    {
      "cell_type": "code",
      "metadata": {
        "colab": {
          "base_uri": "https://localhost:8080/"
        },
        "id": "l-d_jdxyI-za",
        "outputId": "20181657-95ca-4d4a-be08-027d99089546"
      },
      "source": [
        "train_dataset, validation_dataset, test_dataset, test_data, scaler = train_val_test_split(feature_data, \n",
        "                                                                                          window_size=window_size, \n",
        "                                                                                          batch_size=batch_size,\n",
        "                                                                                          train_pct=train_pct, \n",
        "                                                                                          val_pct=val_pct,\n",
        "                                                                                          shuffle=shuffle)\n",
        "## scaler: used to do feature scaling, and to transform data in model evaluation\n"
      ],
      "execution_count": 35,
      "outputs": [
        {
          "output_type": "stream",
          "text": [
            "number of total data samples 8962 n_train 6273 n_validation 1792 n_test 897\n",
            "train number of batches 196\n",
            "validation number of batches 56\n",
            "test number of batches 29\n"
          ],
          "name": "stdout"
        }
      ]
    },
    {
      "cell_type": "markdown",
      "metadata": {
        "id": "A9aG4FY6ujOe"
      },
      "source": [
        "### check the correctness of our created dataset object"
      ]
    },
    {
      "cell_type": "code",
      "metadata": {
        "colab": {
          "base_uri": "https://localhost:8080/",
          "height": 134
        },
        "id": "8ulMneLuBfao",
        "outputId": "b32cb673-4b3c-428a-ca1c-338f53f29d4b"
      },
      "source": [
        "transformed_feature_data = feature_data.dropna().copy()\n",
        "transformed_feature_data.iloc[:, 1:] = scaler.transform(feature_data.dropna().iloc[:, 1:])\n",
        "transformed_feature_data.head(1)"
      ],
      "execution_count": 36,
      "outputs": [
        {
          "output_type": "execute_result",
          "data": {
            "text/html": [
              "<div>\n",
              "<style scoped>\n",
              "    .dataframe tbody tr th:only-of-type {\n",
              "        vertical-align: middle;\n",
              "    }\n",
              "\n",
              "    .dataframe tbody tr th {\n",
              "        vertical-align: top;\n",
              "    }\n",
              "\n",
              "    .dataframe thead th {\n",
              "        text-align: right;\n",
              "    }\n",
              "</style>\n",
              "<table border=\"1\" class=\"dataframe\">\n",
              "  <thead>\n",
              "    <tr style=\"text-align: right;\">\n",
              "      <th></th>\n",
              "      <th>datetime</th>\n",
              "      <th>sym_level</th>\n",
              "      <th>sym_pct_change_1m</th>\n",
              "      <th>sym_short_ma</th>\n",
              "      <th>sym_short_ma_pct_change_baseline</th>\n",
              "      <th>sym_short_ma_pct_change_10m</th>\n",
              "      <th>sym_short_std</th>\n",
              "      <th>sym_short_std_pct_change_10m</th>\n",
              "      <th>sym_long_ma</th>\n",
              "      <th>sym_long_ma_pct_change_baseline</th>\n",
              "      <th>sym_long_ma_pct_change_60m</th>\n",
              "      <th>sym_long_std</th>\n",
              "      <th>sym_long_std_pct_change_60m</th>\n",
              "      <th>sym_short_ewm</th>\n",
              "      <th>sym_short_ewm_pct_change_baseline</th>\n",
              "      <th>sym_long_ewm</th>\n",
              "      <th>sym_long_ewm_pct_change_baseline</th>\n",
              "      <th>sym_rsi</th>\n",
              "      <th>sym_wma</th>\n",
              "      <th>sym_wma_pct_change</th>\n",
              "      <th>sym_macd</th>\n",
              "      <th>sec_level</th>\n",
              "      <th>sec_pct_change_1m</th>\n",
              "      <th>sec_short_ma</th>\n",
              "      <th>sec_short_ma_pct_change_baseline</th>\n",
              "      <th>sec_short_ma_pct_change_10m</th>\n",
              "      <th>sec_short_std</th>\n",
              "      <th>sec_short_std_pct_change_10m</th>\n",
              "      <th>sec_long_ma</th>\n",
              "      <th>sec_long_ma_pct_change_baseline</th>\n",
              "      <th>sec_long_ma_pct_change_60m</th>\n",
              "      <th>sec_long_std</th>\n",
              "      <th>sec_long_std_pct_change_60m</th>\n",
              "      <th>sec_short_ewm</th>\n",
              "      <th>sec_short_ewm_pct_change_baseline</th>\n",
              "      <th>sec_long_ewm</th>\n",
              "      <th>sec_long_ewm_pct_change_baseline</th>\n",
              "      <th>sec_rsi</th>\n",
              "      <th>sec_wma</th>\n",
              "      <th>sec_wma_pct_change</th>\n",
              "      <th>sec_macd</th>\n",
              "      <th>iss_level</th>\n",
              "      <th>iss_pct_change_1m</th>\n",
              "      <th>iss_short_ma</th>\n",
              "      <th>iss_short_ma_pct_change_baseline</th>\n",
              "      <th>iss_short_ma_pct_change_10m</th>\n",
              "      <th>iss_short_std</th>\n",
              "      <th>iss_short_std_pct_change_10m</th>\n",
              "      <th>iss_long_ma</th>\n",
              "      <th>iss_long_ma_pct_change_baseline</th>\n",
              "      <th>iss_long_ma_pct_change_60m</th>\n",
              "      <th>iss_long_std</th>\n",
              "      <th>iss_long_std_pct_change_60m</th>\n",
              "      <th>iss_short_ewm</th>\n",
              "      <th>iss_short_ewm_pct_change_baseline</th>\n",
              "      <th>iss_long_ewm</th>\n",
              "      <th>iss_long_ewm_pct_change_baseline</th>\n",
              "      <th>iss_rsi</th>\n",
              "      <th>iss_wma</th>\n",
              "      <th>iss_wma_pct_change</th>\n",
              "      <th>iss_macd</th>\n",
              "    </tr>\n",
              "  </thead>\n",
              "  <tbody>\n",
              "    <tr>\n",
              "      <th>119</th>\n",
              "      <td>2020-11-01 10:08:00</td>\n",
              "      <td>-0.409749</td>\n",
              "      <td>-0.228713</td>\n",
              "      <td>-0.480381</td>\n",
              "      <td>-0.368388</td>\n",
              "      <td>1.065232</td>\n",
              "      <td>0.185733</td>\n",
              "      <td>-0.096233</td>\n",
              "      <td>-0.765079</td>\n",
              "      <td>-1.107767</td>\n",
              "      <td>0.844292</td>\n",
              "      <td>-0.215232</td>\n",
              "      <td>0.008204</td>\n",
              "      <td>-0.464273</td>\n",
              "      <td>-0.313235</td>\n",
              "      <td>-0.7405</td>\n",
              "      <td>-1.122799</td>\n",
              "      <td>1.503382</td>\n",
              "      <td>-0.563976</td>\n",
              "      <td>1.045834</td>\n",
              "      <td>1.406059</td>\n",
              "      <td>0.576572</td>\n",
              "      <td>0.188202</td>\n",
              "      <td>0.478003</td>\n",
              "      <td>-0.519504</td>\n",
              "      <td>0.912</td>\n",
              "      <td>-1.087625</td>\n",
              "      <td>0.04371</td>\n",
              "      <td>0.038246</td>\n",
              "      <td>-1.427269</td>\n",
              "      <td>0.094009</td>\n",
              "      <td>0.086016</td>\n",
              "      <td>0.730365</td>\n",
              "      <td>0.480469</td>\n",
              "      <td>-0.585218</td>\n",
              "      <td>0.156302</td>\n",
              "      <td>-1.28383</td>\n",
              "      <td>2.257337</td>\n",
              "      <td>0.36399</td>\n",
              "      <td>1.150555</td>\n",
              "      <td>1.474062</td>\n",
              "      <td>0.104436</td>\n",
              "      <td>0.472405</td>\n",
              "      <td>-0.154284</td>\n",
              "      <td>-0.839599</td>\n",
              "      <td>0.803907</td>\n",
              "      <td>-1.043646</td>\n",
              "      <td>-0.143558</td>\n",
              "      <td>-0.490641</td>\n",
              "      <td>-1.359468</td>\n",
              "      <td>-0.116184</td>\n",
              "      <td>-1.593166</td>\n",
              "      <td>0.023599</td>\n",
              "      <td>-0.140781</td>\n",
              "      <td>-0.888204</td>\n",
              "      <td>-0.403878</td>\n",
              "      <td>-1.250266</td>\n",
              "      <td>1.952112</td>\n",
              "      <td>-0.252542</td>\n",
              "      <td>1.18949</td>\n",
              "      <td>1.121424</td>\n",
              "    </tr>\n",
              "  </tbody>\n",
              "</table>\n",
              "</div>"
            ],
            "text/plain": [
              "               datetime  sym_level  ...  iss_wma_pct_change  iss_macd\n",
              "119 2020-11-01 10:08:00  -0.409749  ...             1.18949  1.121424\n",
              "\n",
              "[1 rows x 61 columns]"
            ]
          },
          "metadata": {
            "tags": []
          },
          "execution_count": 36
        }
      ]
    },
    {
      "cell_type": "code",
      "metadata": {
        "id": "UUh1t8_ZI-za",
        "colab": {
          "base_uri": "https://localhost:8080/"
        },
        "outputId": "4442af38-aa1b-4ecf-d647-005a39067234"
      },
      "source": [
        "for x, y in train_dataset:\n",
        "    print(\"x.shape: (batch_size, window_size, feature_dimension)\", x.shape)\n",
        "    print(\"y.shape:\", y.shape)\n",
        "    init_idx = feature_data.dropna().index[0]\n",
        "    transformed_row = np.array(scaler.transform(feature_data.iloc[init_idx:init_idx+window_size, 1:]))\n",
        "    print(\"The first time step in the first sample:\")\n",
        "    print(x[0, 0, :])\n",
        "    assert np.array_equal(x[0], transformed_row)\n",
        "    target_row = np.array(feature_data.iloc[init_idx+window_size, 1:])\n",
        "    target_row = scaler.transform(target_row[np.newaxis, :]) \n",
        "    assert np.array_equal(y[0], np.array(target_row[0, 1]))\n",
        "    break"
      ],
      "execution_count": 37,
      "outputs": [
        {
          "output_type": "stream",
          "text": [
            "x.shape: (batch_size, window_size, feature_dimension) (32, 20, 60)\n",
            "y.shape: (32,)\n",
            "The first time step in the first sample:\n",
            "[-0.4097486  -0.22871291 -0.48038106 -0.36838752  1.06523155  0.18573346\n",
            " -0.09623344 -0.76507857 -1.10776736  0.84429171 -0.21523237  0.00820432\n",
            " -0.46427258 -0.31323481 -0.74049994 -1.12279887  1.50338229 -0.56397628\n",
            "  1.04583378  1.40605851  0.57657163  0.18820184  0.47800322 -0.51950359\n",
            "  0.91199971 -1.08762519  0.04371023  0.03824625 -1.42726894  0.09400923\n",
            "  0.08601567  0.7303651   0.48046867 -0.58521835  0.15630232 -1.28383029\n",
            "  2.25733734  0.36398965  1.15055497  1.47406176  0.10443564  0.47240482\n",
            " -0.15428429 -0.83959923  0.80390691 -1.04364553 -0.1435578  -0.49064114\n",
            " -1.35946835 -0.11618381 -1.59316619  0.0235988  -0.14078068 -0.88820359\n",
            " -0.40387765 -1.25026578  1.95211183 -0.2525421   1.18948957  1.12142353]\n"
          ],
          "name": "stdout"
        }
      ]
    },
    {
      "cell_type": "markdown",
      "metadata": {
        "id": "BB1XIPQSI-zb"
      },
      "source": [
        "# Create, train and test models\n",
        "The root_mean_squared_error presented here is computed based on the transformed target (percentage change of the next minute), which is not the RMSE of the predicted level of the next minute. The final evaluation of the models will be presented later. \n",
        "\n"
      ]
    },
    {
      "cell_type": "markdown",
      "metadata": {
        "id": "vQ9C4Vpbv2xI"
      },
      "source": [
        "Baseline model #1: use the value from last trade"
      ]
    },
    {
      "cell_type": "code",
      "metadata": {
        "colab": {
          "base_uri": "https://localhost:8080/"
        },
        "id": "4NEa3LEuI-zc",
        "outputId": "d0e64712-fa60-4069-9db9-8581322454c1"
      },
      "source": [
        "baseline_last_trade_model = Baseline_last_trade()\n",
        "baseline_last_trade_model.compile(loss=tf.losses.MeanSquaredError(),\n",
        "                                  metrics=[tf.metrics.MeanAbsoluteError(), tf.keras.metrics.RootMeanSquaredError()])\n",
        "baseline_last_trade_model.evaluate(test_dataset, steps=len(test_dataset))"
      ],
      "execution_count": 38,
      "outputs": [
        {
          "output_type": "stream",
          "text": [
            "29/29 [==============================] - 0s 3ms/step - loss: 1.1213 - mean_absolute_error: 0.2837 - root_mean_squared_error: 1.0589\n"
          ],
          "name": "stdout"
        },
        {
          "output_type": "execute_result",
          "data": {
            "text/plain": [
              "[1.1212733808817672, 0.2837330154535878, 1.05890197032335]"
            ]
          },
          "metadata": {
            "tags": []
          },
          "execution_count": 38
        }
      ]
    },
    {
      "cell_type": "markdown",
      "metadata": {
        "id": "fPxRfT64I-zd"
      },
      "source": [
        "Baseline model #2: use the short-term moving average from previous trades"
      ]
    },
    {
      "cell_type": "code",
      "metadata": {
        "colab": {
          "base_uri": "https://localhost:8080/"
        },
        "id": "LHynb9K3I-zf",
        "outputId": "156096ff-d57e-4887-b80b-96aa5473bfc9"
      },
      "source": [
        "baseline_st_ma = Baseline_ma(ma_index=col_idx_map['sym_short_ma_pct_change_baseline']-1) ## short-term moving average\n",
        "\n",
        "baseline_st_ma.compile(loss=tf.losses.MeanSquaredError(),\n",
        "                        metrics=[tf.metrics.MeanAbsoluteError(), tf.keras.metrics.RootMeanSquaredError()])\n",
        "baseline_st_ma.evaluate(test_dataset, steps=len(test_dataset))"
      ],
      "execution_count": 39,
      "outputs": [
        {
          "output_type": "stream",
          "text": [
            "29/29 [==============================] - 0s 2ms/step - loss: 4.7118 - mean_absolute_error: 0.7511 - root_mean_squared_error: 2.1707\n"
          ],
          "name": "stdout"
        },
        {
          "output_type": "execute_result",
          "data": {
            "text/plain": [
              "[4.711763436914346, 0.7511165526811384, 2.1706596508701574]"
            ]
          },
          "metadata": {
            "tags": []
          },
          "execution_count": 39
        }
      ]
    },
    {
      "cell_type": "markdown",
      "metadata": {
        "id": "Vdh2duaMI-zi"
      },
      "source": [
        "Baseline model #3: use the long-term moving average from previous trades"
      ]
    },
    {
      "cell_type": "code",
      "metadata": {
        "colab": {
          "base_uri": "https://localhost:8080/"
        },
        "id": "q1VKeNBXI-zj",
        "outputId": "22ae7b13-c71e-4999-b095-5a2602297237"
      },
      "source": [
        "baseline_lt_ma = Baseline_ma(ma_index=col_idx_map['sym_long_ma_pct_change_baseline']-1) ## long-term moving average\n",
        "\n",
        "baseline_lt_ma.compile(loss=tf.losses.MeanSquaredError(),\n",
        "                        metrics=[tf.metrics.MeanAbsoluteError(), tf.keras.metrics.RootMeanSquaredError()])\n",
        "baseline_lt_ma.evaluate(test_dataset, steps=len(test_dataset))"
      ],
      "execution_count": 40,
      "outputs": [
        {
          "output_type": "stream",
          "text": [
            "29/29 [==============================] - 0s 3ms/step - loss: 8.7606 - mean_absolute_error: 1.3858 - root_mean_squared_error: 2.9598\n"
          ],
          "name": "stdout"
        },
        {
          "output_type": "execute_result",
          "data": {
            "text/plain": [
              "[8.760640281846255, 1.385828712670725, 2.959837919627346]"
            ]
          },
          "metadata": {
            "tags": []
          },
          "execution_count": 40
        }
      ]
    },
    {
      "cell_type": "markdown",
      "metadata": {
        "id": "wpq853YtI-zk"
      },
      "source": [
        "Conv1D model"
      ]
    },
    {
      "cell_type": "code",
      "metadata": {
        "colab": {
          "base_uri": "https://localhost:8080/"
        },
        "id": "l8CWqzH_I-zk",
        "outputId": "bc30694e-292c-4387-a699-b5214de8edb4"
      },
      "source": [
        "conv1d_model = get_conv1d_model(input_shape=(window_size, feature_dim), \n",
        "                                conv_width=[10, 5, 2, 2], \n",
        "                                filter_size=[64, 64, 32, 16])\n",
        "conv1d_model.summary()"
      ],
      "execution_count": 41,
      "outputs": [
        {
          "output_type": "stream",
          "text": [
            "Model: \"functional_1\"\n",
            "_________________________________________________________________\n",
            "Layer (type)                 Output Shape              Param #   \n",
            "=================================================================\n",
            "input_1 (InputLayer)         [(None, 20, 60)]          0         \n",
            "_________________________________________________________________\n",
            "conv1d (Conv1D)              (None, 11, 64)            38464     \n",
            "_________________________________________________________________\n",
            "dropout (Dropout)            (None, 11, 64)            0         \n",
            "_________________________________________________________________\n",
            "conv1d_1 (Conv1D)            (None, 7, 64)             20544     \n",
            "_________________________________________________________________\n",
            "dropout_1 (Dropout)          (None, 7, 64)             0         \n",
            "_________________________________________________________________\n",
            "conv1d_2 (Conv1D)            (None, 6, 32)             4128      \n",
            "_________________________________________________________________\n",
            "dropout_2 (Dropout)          (None, 6, 32)             0         \n",
            "_________________________________________________________________\n",
            "conv1d_3 (Conv1D)            (None, 5, 16)             1040      \n",
            "_________________________________________________________________\n",
            "dropout_3 (Dropout)          (None, 5, 16)             0         \n",
            "_________________________________________________________________\n",
            "flatten (Flatten)            (None, 80)                0         \n",
            "_________________________________________________________________\n",
            "dense (Dense)                (None, 1)                 81        \n",
            "=================================================================\n",
            "Total params: 64,257\n",
            "Trainable params: 64,257\n",
            "Non-trainable params: 0\n",
            "_________________________________________________________________\n"
          ],
          "name": "stdout"
        }
      ]
    },
    {
      "cell_type": "code",
      "metadata": {
        "id": "5M8BM1OgI-zl"
      },
      "source": [
        "# # print('Input shape:', (window_size, 10))\n",
        "# for x, y in train_dataset:\n",
        "#     print('Input shape:', x.shape)\n",
        "#     output_ = conv1d_model(x)\n",
        "#     print('Output shape:', output_.shape)\n",
        "#     print(\"Label shapre:\", y.shape)\n",
        "#     break\n"
      ],
      "execution_count": 42,
      "outputs": []
    },
    {
      "cell_type": "code",
      "metadata": {
        "colab": {
          "base_uri": "https://localhost:8080/"
        },
        "id": "Moztce8vI-zl",
        "outputId": "3ce49ee3-fde1-45c3-898a-22d971e437e6"
      },
      "source": [
        "history = conv1d_model.fit(train_dataset, \n",
        "                            epochs=50, \n",
        "                            steps_per_epoch=len(train_dataset),\n",
        "                            validation_data=validation_dataset, \n",
        "                            validation_steps=len(validation_dataset),\n",
        "                            callbacks=[tf.keras.callbacks.EarlyStopping(monitor='val_root_mean_squared_error', patience=2)],\n",
        "                            verbose=2)"
      ],
      "execution_count": 43,
      "outputs": [
        {
          "output_type": "stream",
          "text": [
            "Epoch 1/50\n",
            "196/196 - 1s - loss: 0.0038 - mean_absolute_error: 0.3885 - root_mean_squared_error: 1.1108 - val_loss: 0.0024 - val_mean_absolute_error: 0.2418 - val_root_mean_squared_error: 0.3048\n",
            "Epoch 2/50\n",
            "196/196 - 1s - loss: 0.0025 - mean_absolute_error: 0.2586 - root_mean_squared_error: 1.0047 - val_loss: 0.0024 - val_mean_absolute_error: 0.2411 - val_root_mean_squared_error: 0.3046\n",
            "Epoch 3/50\n",
            "196/196 - 1s - loss: 0.0025 - mean_absolute_error: 0.2530 - root_mean_squared_error: 1.0026 - val_loss: 0.0024 - val_mean_absolute_error: 0.2412 - val_root_mean_squared_error: 0.3046\n",
            "Epoch 4/50\n",
            "196/196 - 1s - loss: 0.0025 - mean_absolute_error: 0.2518 - root_mean_squared_error: 1.0030 - val_loss: 0.0024 - val_mean_absolute_error: 0.2411 - val_root_mean_squared_error: 0.3046\n",
            "Epoch 5/50\n",
            "196/196 - 1s - loss: 0.0025 - mean_absolute_error: 0.2506 - root_mean_squared_error: 1.0011 - val_loss: 0.0024 - val_mean_absolute_error: 0.2415 - val_root_mean_squared_error: 0.3046\n"
          ],
          "name": "stdout"
        }
      ]
    },
    {
      "cell_type": "code",
      "metadata": {
        "colab": {
          "base_uri": "https://localhost:8080/"
        },
        "id": "meThuAlaI-zm",
        "scrolled": true,
        "outputId": "a43da9e2-3496-43d3-c33b-07134219fcd3"
      },
      "source": [
        "conv1d_model.evaluate(test_dataset, steps=len(test_dataset))"
      ],
      "execution_count": 44,
      "outputs": [
        {
          "output_type": "stream",
          "text": [
            "29/29 [==============================] - 0s 4ms/step - loss: 0.0028 - mean_absolute_error: 0.2843 - root_mean_squared_error: 1.0593\n"
          ],
          "name": "stdout"
        },
        {
          "output_type": "execute_result",
          "data": {
            "text/plain": [
              "[0.0027931883108076394, 0.28426928115822164, 1.0592963931927761]"
            ]
          },
          "metadata": {
            "tags": []
          },
          "execution_count": 44
        }
      ]
    },
    {
      "cell_type": "markdown",
      "metadata": {
        "id": "S8ZOZHcPiDAW"
      },
      "source": [
        "LSTM model"
      ]
    },
    {
      "cell_type": "code",
      "metadata": {
        "colab": {
          "base_uri": "https://localhost:8080/"
        },
        "id": "8PU4BXCPI-zn",
        "outputId": "d5773aaf-bf8f-41a9-ccbe-b6400e79039a"
      },
      "source": [
        "LSTM_model = get_LSTM_model(input_shape=(window_size, feature_dim),\n",
        "                               units_list=[64, 64, 32, 16])\n",
        "LSTM_model.summary()\n"
      ],
      "execution_count": 45,
      "outputs": [
        {
          "output_type": "stream",
          "text": [
            "Model: \"functional_3\"\n",
            "_________________________________________________________________\n",
            "Layer (type)                 Output Shape              Param #   \n",
            "=================================================================\n",
            "input_2 (InputLayer)         [(None, 20, 60)]          0         \n",
            "_________________________________________________________________\n",
            "lstm (LSTM)                  (None, 20, 64)            32000     \n",
            "_________________________________________________________________\n",
            "dropout_4 (Dropout)          (None, 20, 64)            0         \n",
            "_________________________________________________________________\n",
            "lstm_1 (LSTM)                (None, 20, 64)            33024     \n",
            "_________________________________________________________________\n",
            "dropout_5 (Dropout)          (None, 20, 64)            0         \n",
            "_________________________________________________________________\n",
            "lstm_2 (LSTM)                (None, 20, 32)            12416     \n",
            "_________________________________________________________________\n",
            "dropout_6 (Dropout)          (None, 20, 32)            0         \n",
            "_________________________________________________________________\n",
            "lstm_3 (LSTM)                (None, 20, 16)            3136      \n",
            "_________________________________________________________________\n",
            "dropout_7 (Dropout)          (None, 20, 16)            0         \n",
            "_________________________________________________________________\n",
            "lstm_4 (LSTM)                (None, 16)                2112      \n",
            "_________________________________________________________________\n",
            "dense_1 (Dense)              (None, 16)                272       \n",
            "_________________________________________________________________\n",
            "dense_2 (Dense)              (None, 1)                 17        \n",
            "=================================================================\n",
            "Total params: 82,977\n",
            "Trainable params: 82,977\n",
            "Non-trainable params: 0\n",
            "_________________________________________________________________\n"
          ],
          "name": "stdout"
        }
      ]
    },
    {
      "cell_type": "code",
      "metadata": {
        "colab": {
          "base_uri": "https://localhost:8080/"
        },
        "id": "PpslED87I-zn",
        "outputId": "3e8755dd-c53c-4d32-9695-9c127d4989a3"
      },
      "source": [
        "history = LSTM_model.fit(train_dataset, \n",
        "                          epochs=20, \n",
        "                          steps_per_epoch=len(train_dataset),\n",
        "                          validation_data=validation_dataset, \n",
        "                          validation_steps=len(validation_dataset),\n",
        "                          callbacks=[tf.keras.callbacks.EarlyStopping(monitor='val_root_mean_squared_error', patience=3)],\n",
        "                          verbose=2)"
      ],
      "execution_count": 46,
      "outputs": [
        {
          "output_type": "stream",
          "text": [
            "Epoch 1/20\n",
            "196/196 - 5s - loss: 0.0981 - mean_absolute_error: 0.2986 - root_mean_squared_error: 1.0430 - val_loss: 0.0466 - val_mean_absolute_error: 0.2412 - val_root_mean_squared_error: 0.3053\n",
            "Epoch 2/20\n",
            "196/196 - 3s - loss: 0.0663 - mean_absolute_error: 0.2509 - root_mean_squared_error: 1.0020 - val_loss: 0.0468 - val_mean_absolute_error: 0.2415 - val_root_mean_squared_error: 0.3059\n",
            "Epoch 3/20\n",
            "196/196 - 3s - loss: 0.0666 - mean_absolute_error: 0.2512 - root_mean_squared_error: 1.0020 - val_loss: 0.0464 - val_mean_absolute_error: 0.2411 - val_root_mean_squared_error: 0.3047\n",
            "Epoch 4/20\n",
            "196/196 - 3s - loss: 0.0665 - mean_absolute_error: 0.2512 - root_mean_squared_error: 1.0020 - val_loss: 0.0500 - val_mean_absolute_error: 0.2483 - val_root_mean_squared_error: 0.3163\n",
            "Epoch 5/20\n",
            "196/196 - 3s - loss: 0.0664 - mean_absolute_error: 0.2508 - root_mean_squared_error: 1.0023 - val_loss: 0.0482 - val_mean_absolute_error: 0.2442 - val_root_mean_squared_error: 0.3104\n",
            "Epoch 6/20\n",
            "196/196 - 3s - loss: 0.0667 - mean_absolute_error: 0.2512 - root_mean_squared_error: 1.0022 - val_loss: 0.0473 - val_mean_absolute_error: 0.2454 - val_root_mean_squared_error: 0.3076\n"
          ],
          "name": "stdout"
        }
      ]
    },
    {
      "cell_type": "code",
      "metadata": {
        "colab": {
          "base_uri": "https://localhost:8080/"
        },
        "id": "nWN1jVo6I-zn",
        "outputId": "4278fef8-4708-494d-d3ff-37e819ba08a8"
      },
      "source": [
        "LSTM_model.evaluate(test_dataset, steps=len(test_dataset))"
      ],
      "execution_count": 47,
      "outputs": [
        {
          "output_type": "stream",
          "text": [
            "29/29 [==============================] - 0s 7ms/step - loss: 0.0924 - mean_absolute_error: 0.2888 - root_mean_squared_error: 1.0612\n"
          ],
          "name": "stdout"
        },
        {
          "output_type": "execute_result",
          "data": {
            "text/plain": [
              "[0.09242252939211468, 0.2888363805860357, 1.0612456997355224]"
            ]
          },
          "metadata": {
            "tags": []
          },
          "execution_count": 47
        }
      ]
    },
    {
      "cell_type": "markdown",
      "metadata": {
        "id": "PayTwGepTIbj"
      },
      "source": [
        "Linear regression model"
      ]
    },
    {
      "cell_type": "code",
      "metadata": {
        "colab": {
          "base_uri": "https://localhost:8080/"
        },
        "id": "aRf4K2K526qZ",
        "outputId": "feef62cb-7104-411d-99c4-2df59376a1b5"
      },
      "source": [
        "my_lr_model = get_lr_model(input_shape=(window_size, feature_dim))\n",
        "my_lr_model.summary()"
      ],
      "execution_count": 48,
      "outputs": [
        {
          "output_type": "stream",
          "text": [
            "Model: \"functional_5\"\n",
            "_________________________________________________________________\n",
            "Layer (type)                 Output Shape              Param #   \n",
            "=================================================================\n",
            "input_3 (InputLayer)         [(None, 20, 60)]          0         \n",
            "_________________________________________________________________\n",
            "tf_op_layer_strided_slice (T [(None, 5, 60)]           0         \n",
            "_________________________________________________________________\n",
            "flatten_1 (Flatten)          (None, 300)               0         \n",
            "_________________________________________________________________\n",
            "dense_3 (Dense)              (None, 1)                 301       \n",
            "=================================================================\n",
            "Total params: 301\n",
            "Trainable params: 301\n",
            "Non-trainable params: 0\n",
            "_________________________________________________________________\n"
          ],
          "name": "stdout"
        }
      ]
    },
    {
      "cell_type": "code",
      "metadata": {
        "colab": {
          "base_uri": "https://localhost:8080/"
        },
        "id": "8Fr1EW7Hnw2z",
        "outputId": "629a5158-3c36-4a4b-878a-666b4444a82c"
      },
      "source": [
        "history = my_lr_model.fit(train_dataset, \n",
        "                          epochs=20, \n",
        "                          steps_per_epoch=len(train_dataset),\n",
        "                          validation_data=validation_dataset, \n",
        "                          validation_steps=len(validation_dataset),\n",
        "                          callbacks=[tf.keras.callbacks.EarlyStopping(monitor='val_root_mean_squared_error', patience=3)],\n",
        "                          verbose=2)"
      ],
      "execution_count": 49,
      "outputs": [
        {
          "output_type": "stream",
          "text": [
            "Epoch 1/20\n",
            "196/196 - 1s - loss: 0.6320 - mean_absolute_error: 0.8426 - root_mean_squared_error: 1.4337 - val_loss: 0.6502 - val_mean_absolute_error: 0.9500 - val_root_mean_squared_error: 1.1379\n",
            "Epoch 2/20\n",
            "196/196 - 1s - loss: 0.3996 - mean_absolute_error: 0.6497 - root_mean_squared_error: 1.2361 - val_loss: 0.4303 - val_mean_absolute_error: 0.7402 - val_root_mean_squared_error: 0.9003\n",
            "Epoch 3/20\n",
            "196/196 - 1s - loss: 0.5082 - mean_absolute_error: 0.8083 - root_mean_squared_error: 1.3808 - val_loss: 0.4000 - val_mean_absolute_error: 0.7521 - val_root_mean_squared_error: 0.8903\n",
            "Epoch 4/20\n",
            "196/196 - 1s - loss: 0.4137 - mean_absolute_error: 0.7180 - root_mean_squared_error: 1.3061 - val_loss: 0.2488 - val_mean_absolute_error: 0.5450 - val_root_mean_squared_error: 0.6656\n",
            "Epoch 5/20\n",
            "196/196 - 1s - loss: 0.2626 - mean_absolute_error: 0.5268 - root_mean_squared_error: 1.2037 - val_loss: 0.1892 - val_mean_absolute_error: 0.4476 - val_root_mean_squared_error: 0.5596\n",
            "Epoch 6/20\n",
            "196/196 - 1s - loss: 0.3774 - mean_absolute_error: 0.6695 - root_mean_squared_error: 1.3105 - val_loss: 0.3355 - val_mean_absolute_error: 0.6878 - val_root_mean_squared_error: 0.8148\n",
            "Epoch 7/20\n",
            "196/196 - 1s - loss: 0.3833 - mean_absolute_error: 0.6850 - root_mean_squared_error: 1.3041 - val_loss: 0.1492 - val_mean_absolute_error: 0.4068 - val_root_mean_squared_error: 0.5073\n",
            "Epoch 8/20\n",
            "196/196 - 1s - loss: 0.2713 - mean_absolute_error: 0.5424 - root_mean_squared_error: 1.1558 - val_loss: 0.2113 - val_mean_absolute_error: 0.4933 - val_root_mean_squared_error: 0.6282\n",
            "Epoch 9/20\n",
            "196/196 - 1s - loss: 0.2496 - mean_absolute_error: 0.5215 - root_mean_squared_error: 1.1415 - val_loss: 0.3360 - val_mean_absolute_error: 0.6642 - val_root_mean_squared_error: 0.8243\n",
            "Epoch 10/20\n",
            "196/196 - 1s - loss: 0.2159 - mean_absolute_error: 0.4698 - root_mean_squared_error: 1.1970 - val_loss: 0.0780 - val_mean_absolute_error: 0.2928 - val_root_mean_squared_error: 0.3649\n",
            "Epoch 11/20\n",
            "196/196 - 1s - loss: 0.4885 - mean_absolute_error: 0.8085 - root_mean_squared_error: 1.3846 - val_loss: 0.3243 - val_mean_absolute_error: 0.6431 - val_root_mean_squared_error: 0.7936\n",
            "Epoch 12/20\n",
            "196/196 - 1s - loss: 0.7305 - mean_absolute_error: 1.0673 - root_mean_squared_error: 1.6798 - val_loss: 0.4882 - val_mean_absolute_error: 0.8390 - val_root_mean_squared_error: 1.0115\n",
            "Epoch 13/20\n",
            "196/196 - 1s - loss: 0.4580 - mean_absolute_error: 0.7760 - root_mean_squared_error: 1.3111 - val_loss: 0.8766 - val_mean_absolute_error: 1.2815 - val_root_mean_squared_error: 1.4942\n"
          ],
          "name": "stdout"
        }
      ]
    },
    {
      "cell_type": "code",
      "metadata": {
        "id": "jIyGK8sh26vp",
        "colab": {
          "base_uri": "https://localhost:8080/"
        },
        "outputId": "3448ef16-bb43-4b25-bb8a-d0882bfa0a3d"
      },
      "source": [
        "my_lr_model.evaluate(test_dataset, steps=len(test_dataset))"
      ],
      "execution_count": 50,
      "outputs": [
        {
          "output_type": "stream",
          "text": [
            "29/29 [==============================] - 0s 2ms/step - loss: 0.7897 - mean_absolute_error: 1.1755 - root_mean_squared_error: 1.7144\n"
          ],
          "name": "stdout"
        },
        {
          "output_type": "execute_result",
          "data": {
            "text/plain": [
              "[0.7897250831805206, 1.1754952800142724, 1.7144040251608774]"
            ]
          },
          "metadata": {
            "tags": []
          },
          "execution_count": 50
        }
      ]
    },
    {
      "cell_type": "markdown",
      "metadata": {
        "id": "tkiRWnANauxt"
      },
      "source": [
        "Majority-voting model (simple averaging) uses the above two models: conv1d and LSTM.\n",
        "\n",
        "\n",
        "\n",
        "\n",
        "\n"
      ]
    },
    {
      "cell_type": "code",
      "metadata": {
        "colab": {
          "base_uri": "https://localhost:8080/"
        },
        "id": "moey_ZgfrLT9",
        "outputId": "0c2fa570-e7be-4318-8083-50bb4d6b6bee"
      },
      "source": [
        "maj_model = get_myMajority_model(input_shape=(window_size, feature_dim), models=[conv1d_model, LSTM_model])\n",
        "maj_model.summary() ## no trainable parameters"
      ],
      "execution_count": 51,
      "outputs": [
        {
          "output_type": "stream",
          "text": [
            "Model: \"functional_7\"\n",
            "__________________________________________________________________________________________________\n",
            "Layer (type)                    Output Shape         Param #     Connected to                     \n",
            "==================================================================================================\n",
            "input_4 (InputLayer)            [(None, 20, 60)]     0                                            \n",
            "__________________________________________________________________________________________________\n",
            "functional_1 (Functional)       (None, 1)            64257       input_4[0][0]                    \n",
            "__________________________________________________________________________________________________\n",
            "functional_3 (Functional)       (None, 1)            82977       input_4[0][0]                    \n",
            "__________________________________________________________________________________________________\n",
            "tf_op_layer_stack (TensorFlowOp [(None, 2, 1)]       0           functional_1[0][0]               \n",
            "                                                                 functional_3[0][0]               \n",
            "__________________________________________________________________________________________________\n",
            "flatten_2 (Flatten)             (None, 2)            0           tf_op_layer_stack[0][0]          \n",
            "__________________________________________________________________________________________________\n",
            "tf_op_layer_Mean (TensorFlowOpL [(None, 1)]          0           flatten_2[0][0]                  \n",
            "==================================================================================================\n",
            "Total params: 147,234\n",
            "Trainable params: 0\n",
            "Non-trainable params: 147,234\n",
            "__________________________________________________________________________________________________\n"
          ],
          "name": "stdout"
        }
      ]
    },
    {
      "cell_type": "code",
      "metadata": {
        "colab": {
          "base_uri": "https://localhost:8080/"
        },
        "id": "bWG0w75drPJI",
        "outputId": "888044a7-356e-4fc9-af73-37cfd4dd2c57"
      },
      "source": [
        "maj_model.evaluate(test_dataset, steps=len(test_dataset))"
      ],
      "execution_count": 52,
      "outputs": [
        {
          "output_type": "stream",
          "text": [
            "29/29 [==============================] - 0s 10ms/step - loss: 0.0914 - mean_absolute_error: 0.2859 - root_mean_squared_error: 1.0601\n"
          ],
          "name": "stdout"
        },
        {
          "output_type": "execute_result",
          "data": {
            "text/plain": [
              "[0.09143756401861126, 0.28594911348731883, 1.0600913757053458]"
            ]
          },
          "metadata": {
            "tags": []
          },
          "execution_count": 52
        }
      ]
    },
    {
      "cell_type": "markdown",
      "metadata": {
        "id": "NG1Yf8sKa62m"
      },
      "source": [
        "The ensemble model (weighted averaging) uses the above two models: conv1d and LSTM.\n"
      ]
    },
    {
      "cell_type": "code",
      "metadata": {
        "colab": {
          "base_uri": "https://localhost:8080/"
        },
        "id": "C73ST00ArctK",
        "outputId": "2237997e-899a-4fa9-bf74-e6cf1f7e4505"
      },
      "source": [
        "# ensStack_model = get_myEnsStack_model(input_shape=(window_size, feature_dim), models=[my_lr_model, conv1d_model, LSTM_model])\n",
        "ensStack_model = get_myEnsStack_model(input_shape=(window_size, feature_dim), models=[conv1d_model, LSTM_model])\n",
        "ensStack_model.summary()"
      ],
      "execution_count": 53,
      "outputs": [
        {
          "output_type": "stream",
          "text": [
            "Model: \"functional_9\"\n",
            "__________________________________________________________________________________________________\n",
            "Layer (type)                    Output Shape         Param #     Connected to                     \n",
            "==================================================================================================\n",
            "input_5 (InputLayer)            [(None, 20, 60)]     0                                            \n",
            "__________________________________________________________________________________________________\n",
            "functional_1 (Functional)       (None, 1)            64257       input_5[0][0]                    \n",
            "__________________________________________________________________________________________________\n",
            "functional_3 (Functional)       (None, 1)            82977       input_5[0][0]                    \n",
            "__________________________________________________________________________________________________\n",
            "tf_op_layer_stack_1 (TensorFlow [(None, 2, 1)]       0           functional_1[1][0]               \n",
            "                                                                 functional_3[1][0]               \n",
            "__________________________________________________________________________________________________\n",
            "flatten_3 (Flatten)             (None, 2)            0           tf_op_layer_stack_1[0][0]        \n",
            "__________________________________________________________________________________________________\n",
            "dense_4 (Dense)                 (None, 1)            2           flatten_3[0][0]                  \n",
            "==================================================================================================\n",
            "Total params: 147,236\n",
            "Trainable params: 2\n",
            "Non-trainable params: 147,234\n",
            "__________________________________________________________________________________________________\n"
          ],
          "name": "stdout"
        }
      ]
    },
    {
      "cell_type": "code",
      "metadata": {
        "colab": {
          "base_uri": "https://localhost:8080/"
        },
        "id": "LWGMXogMr8tD",
        "outputId": "4eb5d702-f01c-4497-a961-2277d6ab5680"
      },
      "source": [
        "history = ensStack_model.fit(train_dataset, \n",
        "                            epochs=50, \n",
        "                            steps_per_epoch=len(train_dataset),\n",
        "                            validation_data=validation_dataset, \n",
        "                            validation_steps=len(validation_dataset),\n",
        "                            callbacks=[tf.keras.callbacks.EarlyStopping(monitor='val_root_mean_squared_error', patience=2)],\n",
        "                            verbose=2)"
      ],
      "execution_count": 54,
      "outputs": [
        {
          "output_type": "stream",
          "text": [
            "Epoch 1/50\n",
            "196/196 - 3s - loss: 0.0669 - mean_absolute_error: 0.2523 - root_mean_squared_error: 1.0025 - val_loss: 0.0472 - val_mean_absolute_error: 0.2422 - val_root_mean_squared_error: 0.3072\n",
            "Epoch 2/50\n",
            "196/196 - 2s - loss: 0.0668 - mean_absolute_error: 0.2519 - root_mean_squared_error: 1.0023 - val_loss: 0.0470 - val_mean_absolute_error: 0.2418 - val_root_mean_squared_error: 0.3065\n",
            "Epoch 3/50\n",
            "196/196 - 2s - loss: 0.0663 - mean_absolute_error: 0.2508 - root_mean_squared_error: 1.0018 - val_loss: 0.0468 - val_mean_absolute_error: 0.2416 - val_root_mean_squared_error: 0.3061\n",
            "Epoch 4/50\n",
            "196/196 - 2s - loss: 0.0663 - mean_absolute_error: 0.2506 - root_mean_squared_error: 1.0022 - val_loss: 0.0467 - val_mean_absolute_error: 0.2414 - val_root_mean_squared_error: 0.3057\n",
            "Epoch 5/50\n",
            "196/196 - 2s - loss: 0.0664 - mean_absolute_error: 0.2507 - root_mean_squared_error: 1.0008 - val_loss: 0.0466 - val_mean_absolute_error: 0.2413 - val_root_mean_squared_error: 0.3055\n",
            "Epoch 6/50\n",
            "196/196 - 2s - loss: 0.0664 - mean_absolute_error: 0.2505 - root_mean_squared_error: 1.0019 - val_loss: 0.0466 - val_mean_absolute_error: 0.2412 - val_root_mean_squared_error: 0.3053\n",
            "Epoch 7/50\n",
            "196/196 - 2s - loss: 0.0663 - mean_absolute_error: 0.2504 - root_mean_squared_error: 1.0019 - val_loss: 0.0465 - val_mean_absolute_error: 0.2411 - val_root_mean_squared_error: 0.3051\n",
            "Epoch 8/50\n",
            "196/196 - 2s - loss: 0.0662 - mean_absolute_error: 0.2503 - root_mean_squared_error: 1.0020 - val_loss: 0.0465 - val_mean_absolute_error: 0.2411 - val_root_mean_squared_error: 0.3050\n",
            "Epoch 9/50\n",
            "196/196 - 2s - loss: 0.0663 - mean_absolute_error: 0.2505 - root_mean_squared_error: 1.0018 - val_loss: 0.0465 - val_mean_absolute_error: 0.2411 - val_root_mean_squared_error: 0.3050\n",
            "Epoch 10/50\n",
            "196/196 - 2s - loss: 0.0662 - mean_absolute_error: 0.2501 - root_mean_squared_error: 1.0011 - val_loss: 0.0465 - val_mean_absolute_error: 0.2410 - val_root_mean_squared_error: 0.3049\n",
            "Epoch 11/50\n",
            "196/196 - 2s - loss: 0.0662 - mean_absolute_error: 0.2500 - root_mean_squared_error: 1.0017 - val_loss: 0.0465 - val_mean_absolute_error: 0.2410 - val_root_mean_squared_error: 0.3049\n",
            "Epoch 12/50\n",
            "196/196 - 2s - loss: 0.0661 - mean_absolute_error: 0.2499 - root_mean_squared_error: 1.0017 - val_loss: 0.0464 - val_mean_absolute_error: 0.2410 - val_root_mean_squared_error: 0.3048\n",
            "Epoch 13/50\n",
            "196/196 - 2s - loss: 0.0662 - mean_absolute_error: 0.2500 - root_mean_squared_error: 1.0018 - val_loss: 0.0464 - val_mean_absolute_error: 0.2410 - val_root_mean_squared_error: 0.3048\n",
            "Epoch 14/50\n",
            "196/196 - 2s - loss: 0.0661 - mean_absolute_error: 0.2499 - root_mean_squared_error: 1.0016 - val_loss: 0.0464 - val_mean_absolute_error: 0.2410 - val_root_mean_squared_error: 0.3048\n",
            "Epoch 15/50\n",
            "196/196 - 2s - loss: 0.0660 - mean_absolute_error: 0.2499 - root_mean_squared_error: 1.0019 - val_loss: 0.0464 - val_mean_absolute_error: 0.2410 - val_root_mean_squared_error: 0.3048\n",
            "Epoch 16/50\n",
            "196/196 - 2s - loss: 0.0662 - mean_absolute_error: 0.2499 - root_mean_squared_error: 1.0018 - val_loss: 0.0464 - val_mean_absolute_error: 0.2410 - val_root_mean_squared_error: 0.3048\n",
            "Epoch 17/50\n",
            "196/196 - 2s - loss: 0.0661 - mean_absolute_error: 0.2497 - root_mean_squared_error: 1.0018 - val_loss: 0.0464 - val_mean_absolute_error: 0.2410 - val_root_mean_squared_error: 0.3047\n",
            "Epoch 18/50\n",
            "196/196 - 2s - loss: 0.0660 - mean_absolute_error: 0.2493 - root_mean_squared_error: 1.0017 - val_loss: 0.0464 - val_mean_absolute_error: 0.2410 - val_root_mean_squared_error: 0.3047\n",
            "Epoch 19/50\n",
            "196/196 - 2s - loss: 0.0660 - mean_absolute_error: 0.2495 - root_mean_squared_error: 1.0016 - val_loss: 0.0464 - val_mean_absolute_error: 0.2410 - val_root_mean_squared_error: 0.3047\n",
            "Epoch 20/50\n",
            "196/196 - 2s - loss: 0.0660 - mean_absolute_error: 0.2496 - root_mean_squared_error: 1.0017 - val_loss: 0.0464 - val_mean_absolute_error: 0.2410 - val_root_mean_squared_error: 0.3047\n",
            "Epoch 21/50\n",
            "196/196 - 2s - loss: 0.0661 - mean_absolute_error: 0.2498 - root_mean_squared_error: 1.0018 - val_loss: 0.0464 - val_mean_absolute_error: 0.2410 - val_root_mean_squared_error: 0.3047\n",
            "Epoch 22/50\n",
            "196/196 - 2s - loss: 0.0660 - mean_absolute_error: 0.2495 - root_mean_squared_error: 1.0017 - val_loss: 0.0464 - val_mean_absolute_error: 0.2410 - val_root_mean_squared_error: 0.3047\n",
            "Epoch 23/50\n",
            "196/196 - 2s - loss: 0.0660 - mean_absolute_error: 0.2496 - root_mean_squared_error: 1.0015 - val_loss: 0.0464 - val_mean_absolute_error: 0.2410 - val_root_mean_squared_error: 0.3047\n",
            "Epoch 24/50\n",
            "196/196 - 2s - loss: 0.0661 - mean_absolute_error: 0.2497 - root_mean_squared_error: 1.0016 - val_loss: 0.0464 - val_mean_absolute_error: 0.2410 - val_root_mean_squared_error: 0.3047\n",
            "Epoch 25/50\n",
            "196/196 - 2s - loss: 0.0661 - mean_absolute_error: 0.2496 - root_mean_squared_error: 1.0017 - val_loss: 0.0464 - val_mean_absolute_error: 0.2410 - val_root_mean_squared_error: 0.3047\n"
          ],
          "name": "stdout"
        }
      ]
    },
    {
      "cell_type": "code",
      "metadata": {
        "colab": {
          "base_uri": "https://localhost:8080/"
        },
        "id": "b5zcLDtDvPAV",
        "outputId": "b7a6cc1c-8741-478b-e324-3a7998f5bdf8"
      },
      "source": [
        "ensStack_model.evaluate(test_dataset, steps=len(test_dataset))"
      ],
      "execution_count": 55,
      "outputs": [
        {
          "output_type": "stream",
          "text": [
            "29/29 [==============================] - 0s 7ms/step - loss: 0.0906 - mean_absolute_error: 0.2838 - root_mean_squared_error: 1.0589\n"
          ],
          "name": "stdout"
        },
        {
          "output_type": "execute_result",
          "data": {
            "text/plain": [
              "[0.09063521494887512, 0.2837964556592219, 1.0589495754343035]"
            ]
          },
          "metadata": {
            "tags": []
          },
          "execution_count": 55
        }
      ]
    },
    {
      "cell_type": "markdown",
      "metadata": {
        "id": "-_OseIBW26__"
      },
      "source": [
        "# Model evaluation\n",
        "Here, we will compute the actual root-mean-square error of our predicted level. Also, the predictions are made one by one to simulate the real-time prediction (see the definition of model_eval). "
      ]
    },
    {
      "cell_type": "code",
      "metadata": {
        "id": "caXbeCT9QSMw",
        "colab": {
          "base_uri": "https://localhost:8080/",
          "height": 394
        },
        "outputId": "3f9b4763-6035-4955-a41b-4936164d240d"
      },
      "source": [
        "raw_test_data = feature_data.iloc[-len(test_data):,:].reset_index().drop('index', axis=1)\n",
        "raw_test_data.head()"
      ],
      "execution_count": 56,
      "outputs": [
        {
          "output_type": "execute_result",
          "data": {
            "text/html": [
              "<div>\n",
              "<style scoped>\n",
              "    .dataframe tbody tr th:only-of-type {\n",
              "        vertical-align: middle;\n",
              "    }\n",
              "\n",
              "    .dataframe tbody tr th {\n",
              "        vertical-align: top;\n",
              "    }\n",
              "\n",
              "    .dataframe thead th {\n",
              "        text-align: right;\n",
              "    }\n",
              "</style>\n",
              "<table border=\"1\" class=\"dataframe\">\n",
              "  <thead>\n",
              "    <tr style=\"text-align: right;\">\n",
              "      <th></th>\n",
              "      <th>datetime</th>\n",
              "      <th>sym_level</th>\n",
              "      <th>sym_pct_change_1m</th>\n",
              "      <th>sym_short_ma</th>\n",
              "      <th>sym_short_ma_pct_change_baseline</th>\n",
              "      <th>sym_short_ma_pct_change_10m</th>\n",
              "      <th>sym_short_std</th>\n",
              "      <th>sym_short_std_pct_change_10m</th>\n",
              "      <th>sym_long_ma</th>\n",
              "      <th>sym_long_ma_pct_change_baseline</th>\n",
              "      <th>sym_long_ma_pct_change_60m</th>\n",
              "      <th>sym_long_std</th>\n",
              "      <th>sym_long_std_pct_change_60m</th>\n",
              "      <th>sym_short_ewm</th>\n",
              "      <th>sym_short_ewm_pct_change_baseline</th>\n",
              "      <th>sym_long_ewm</th>\n",
              "      <th>sym_long_ewm_pct_change_baseline</th>\n",
              "      <th>sym_rsi</th>\n",
              "      <th>sym_wma</th>\n",
              "      <th>sym_wma_pct_change</th>\n",
              "      <th>sym_macd</th>\n",
              "      <th>sec_level</th>\n",
              "      <th>sec_pct_change_1m</th>\n",
              "      <th>sec_short_ma</th>\n",
              "      <th>sec_short_ma_pct_change_baseline</th>\n",
              "      <th>sec_short_ma_pct_change_10m</th>\n",
              "      <th>sec_short_std</th>\n",
              "      <th>sec_short_std_pct_change_10m</th>\n",
              "      <th>sec_long_ma</th>\n",
              "      <th>sec_long_ma_pct_change_baseline</th>\n",
              "      <th>sec_long_ma_pct_change_60m</th>\n",
              "      <th>sec_long_std</th>\n",
              "      <th>sec_long_std_pct_change_60m</th>\n",
              "      <th>sec_short_ewm</th>\n",
              "      <th>sec_short_ewm_pct_change_baseline</th>\n",
              "      <th>sec_long_ewm</th>\n",
              "      <th>sec_long_ewm_pct_change_baseline</th>\n",
              "      <th>sec_rsi</th>\n",
              "      <th>sec_wma</th>\n",
              "      <th>sec_wma_pct_change</th>\n",
              "      <th>sec_macd</th>\n",
              "      <th>iss_level</th>\n",
              "      <th>iss_pct_change_1m</th>\n",
              "      <th>iss_short_ma</th>\n",
              "      <th>iss_short_ma_pct_change_baseline</th>\n",
              "      <th>iss_short_ma_pct_change_10m</th>\n",
              "      <th>iss_short_std</th>\n",
              "      <th>iss_short_std_pct_change_10m</th>\n",
              "      <th>iss_long_ma</th>\n",
              "      <th>iss_long_ma_pct_change_baseline</th>\n",
              "      <th>iss_long_ma_pct_change_60m</th>\n",
              "      <th>iss_long_std</th>\n",
              "      <th>iss_long_std_pct_change_60m</th>\n",
              "      <th>iss_short_ewm</th>\n",
              "      <th>iss_short_ewm_pct_change_baseline</th>\n",
              "      <th>iss_long_ewm</th>\n",
              "      <th>iss_long_ewm_pct_change_baseline</th>\n",
              "      <th>iss_rsi</th>\n",
              "      <th>iss_wma</th>\n",
              "      <th>iss_wma_pct_change</th>\n",
              "      <th>iss_macd</th>\n",
              "    </tr>\n",
              "  </thead>\n",
              "  <tbody>\n",
              "    <tr>\n",
              "      <th>0</th>\n",
              "      <td>2020-11-17 13:41:00</td>\n",
              "      <td>328.176669</td>\n",
              "      <td>0.001368</td>\n",
              "      <td>328.926924</td>\n",
              "      <td>0.002286</td>\n",
              "      <td>-0.001739</td>\n",
              "      <td>0.810908</td>\n",
              "      <td>-0.418594</td>\n",
              "      <td>329.579925</td>\n",
              "      <td>0.004276</td>\n",
              "      <td>-0.001874</td>\n",
              "      <td>2.201652</td>\n",
              "      <td>-0.483327</td>\n",
              "      <td>328.862257</td>\n",
              "      <td>0.002089</td>\n",
              "      <td>329.366338</td>\n",
              "      <td>0.003625</td>\n",
              "      <td>46.658919</td>\n",
              "      <td>328.991286</td>\n",
              "      <td>-0.000073</td>\n",
              "      <td>-0.504080</td>\n",
              "      <td>85.665611</td>\n",
              "      <td>0.026283</td>\n",
              "      <td>85.641504</td>\n",
              "      <td>-0.000281</td>\n",
              "      <td>-0.036173</td>\n",
              "      <td>1.893764</td>\n",
              "      <td>-0.209516</td>\n",
              "      <td>88.322620</td>\n",
              "      <td>0.031016</td>\n",
              "      <td>-0.036436</td>\n",
              "      <td>2.535351</td>\n",
              "      <td>-0.385699</td>\n",
              "      <td>85.808095</td>\n",
              "      <td>0.001663</td>\n",
              "      <td>88.263161</td>\n",
              "      <td>0.030322</td>\n",
              "      <td>48.044284</td>\n",
              "      <td>86.897682</td>\n",
              "      <td>-0.001474</td>\n",
              "      <td>-2.455067</td>\n",
              "      <td>87.934112</td>\n",
              "      <td>0.119184</td>\n",
              "      <td>85.084277</td>\n",
              "      <td>-0.032409</td>\n",
              "      <td>-0.061728</td>\n",
              "      <td>2.928070</td>\n",
              "      <td>-0.405747</td>\n",
              "      <td>90.035679</td>\n",
              "      <td>0.023899</td>\n",
              "      <td>-0.055030</td>\n",
              "      <td>4.676086</td>\n",
              "      <td>-0.134044</td>\n",
              "      <td>85.465386</td>\n",
              "      <td>-0.028075</td>\n",
              "      <td>89.711180</td>\n",
              "      <td>0.020209</td>\n",
              "      <td>49.317087</td>\n",
              "      <td>87.370107</td>\n",
              "      <td>-0.000305</td>\n",
              "      <td>-4.245793</td>\n",
              "    </tr>\n",
              "    <tr>\n",
              "      <th>1</th>\n",
              "      <td>2020-11-17 13:42:00</td>\n",
              "      <td>327.452088</td>\n",
              "      <td>-0.002208</td>\n",
              "      <td>328.826949</td>\n",
              "      <td>0.004199</td>\n",
              "      <td>-0.002347</td>\n",
              "      <td>0.929016</td>\n",
              "      <td>-0.262601</td>\n",
              "      <td>329.455319</td>\n",
              "      <td>0.006118</td>\n",
              "      <td>-0.002886</td>\n",
              "      <td>2.103179</td>\n",
              "      <td>-0.496367</td>\n",
              "      <td>328.605863</td>\n",
              "      <td>0.003523</td>\n",
              "      <td>329.303575</td>\n",
              "      <td>0.005654</td>\n",
              "      <td>44.823963</td>\n",
              "      <td>328.919389</td>\n",
              "      <td>-0.000219</td>\n",
              "      <td>-0.697713</td>\n",
              "      <td>82.731644</td>\n",
              "      <td>-0.034249</td>\n",
              "      <td>85.191549</td>\n",
              "      <td>0.029734</td>\n",
              "      <td>-0.039995</td>\n",
              "      <td>2.005345</td>\n",
              "      <td>-0.180836</td>\n",
              "      <td>88.143960</td>\n",
              "      <td>0.065420</td>\n",
              "      <td>-0.039258</td>\n",
              "      <td>2.545496</td>\n",
              "      <td>-0.380932</td>\n",
              "      <td>85.248740</td>\n",
              "      <td>0.030425</td>\n",
              "      <td>88.081800</td>\n",
              "      <td>0.064669</td>\n",
              "      <td>45.993289</td>\n",
              "      <td>86.586566</td>\n",
              "      <td>-0.003580</td>\n",
              "      <td>-2.833060</td>\n",
              "      <td>89.542932</td>\n",
              "      <td>0.018296</td>\n",
              "      <td>85.272917</td>\n",
              "      <td>-0.047687</td>\n",
              "      <td>-0.059502</td>\n",
              "      <td>3.163500</td>\n",
              "      <td>-0.359184</td>\n",
              "      <td>89.899659</td>\n",
              "      <td>0.003984</td>\n",
              "      <td>-0.057589</td>\n",
              "      <td>4.566660</td>\n",
              "      <td>-0.150697</td>\n",
              "      <td>86.206758</td>\n",
              "      <td>-0.037258</td>\n",
              "      <td>89.705663</td>\n",
              "      <td>0.001817</td>\n",
              "      <td>49.952014</td>\n",
              "      <td>87.445257</td>\n",
              "      <td>0.000860</td>\n",
              "      <td>-3.498905</td>\n",
              "    </tr>\n",
              "    <tr>\n",
              "      <th>2</th>\n",
              "      <td>2020-11-17 13:43:00</td>\n",
              "      <td>327.267877</td>\n",
              "      <td>-0.000563</td>\n",
              "      <td>328.705230</td>\n",
              "      <td>0.004392</td>\n",
              "      <td>-0.002941</td>\n",
              "      <td>1.050571</td>\n",
              "      <td>-0.091062</td>\n",
              "      <td>329.329448</td>\n",
              "      <td>0.006299</td>\n",
              "      <td>-0.003861</td>\n",
              "      <td>2.000133</td>\n",
              "      <td>-0.511997</td>\n",
              "      <td>328.362593</td>\n",
              "      <td>0.003345</td>\n",
              "      <td>329.236831</td>\n",
              "      <td>0.006016</td>\n",
              "      <td>44.365100</td>\n",
              "      <td>328.833588</td>\n",
              "      <td>-0.000261</td>\n",
              "      <td>-0.874239</td>\n",
              "      <td>86.828398</td>\n",
              "      <td>0.049519</td>\n",
              "      <td>85.537347</td>\n",
              "      <td>-0.014869</td>\n",
              "      <td>-0.030068</td>\n",
              "      <td>1.953904</td>\n",
              "      <td>-0.343454</td>\n",
              "      <td>88.091473</td>\n",
              "      <td>0.014547</td>\n",
              "      <td>-0.039685</td>\n",
              "      <td>2.539506</td>\n",
              "      <td>-0.383079</td>\n",
              "      <td>85.535951</td>\n",
              "      <td>-0.014885</td>\n",
              "      <td>88.040705</td>\n",
              "      <td>0.013962</td>\n",
              "      <td>49.130123</td>\n",
              "      <td>86.551588</td>\n",
              "      <td>-0.000404</td>\n",
              "      <td>-2.504754</td>\n",
              "      <td>87.573748</td>\n",
              "      <td>-0.021992</td>\n",
              "      <td>85.822887</td>\n",
              "      <td>-0.019993</td>\n",
              "      <td>-0.040672</td>\n",
              "      <td>3.020411</td>\n",
              "      <td>-0.445039</td>\n",
              "      <td>89.833496</td>\n",
              "      <td>0.025804</td>\n",
              "      <td>-0.058613</td>\n",
              "      <td>4.571195</td>\n",
              "      <td>-0.144931</td>\n",
              "      <td>86.455302</td>\n",
              "      <td>-0.012771</td>\n",
              "      <td>89.635765</td>\n",
              "      <td>0.023546</td>\n",
              "      <td>49.172036</td>\n",
              "      <td>87.377925</td>\n",
              "      <td>-0.000770</td>\n",
              "      <td>-3.180463</td>\n",
              "    </tr>\n",
              "    <tr>\n",
              "      <th>3</th>\n",
              "      <td>2020-11-17 13:44:00</td>\n",
              "      <td>327.176165</td>\n",
              "      <td>-0.000280</td>\n",
              "      <td>328.530790</td>\n",
              "      <td>0.004140</td>\n",
              "      <td>-0.003803</td>\n",
              "      <td>1.150878</td>\n",
              "      <td>0.149482</td>\n",
              "      <td>329.222466</td>\n",
              "      <td>0.006254</td>\n",
              "      <td>-0.004746</td>\n",
              "      <td>1.938834</td>\n",
              "      <td>-0.511843</td>\n",
              "      <td>328.146879</td>\n",
              "      <td>0.002967</td>\n",
              "      <td>329.169268</td>\n",
              "      <td>0.006092</td>\n",
              "      <td>44.132416</td>\n",
              "      <td>328.741262</td>\n",
              "      <td>-0.000281</td>\n",
              "      <td>-1.022390</td>\n",
              "      <td>83.641015</td>\n",
              "      <td>-0.036709</td>\n",
              "      <td>85.278921</td>\n",
              "      <td>0.019583</td>\n",
              "      <td>-0.029401</td>\n",
              "      <td>2.022503</td>\n",
              "      <td>-0.324984</td>\n",
              "      <td>88.039598</td>\n",
              "      <td>0.052589</td>\n",
              "      <td>-0.040798</td>\n",
              "      <td>2.598407</td>\n",
              "      <td>-0.355309</td>\n",
              "      <td>85.191417</td>\n",
              "      <td>0.018536</td>\n",
              "      <td>87.896453</td>\n",
              "      <td>0.050877</td>\n",
              "      <td>46.935968</td>\n",
              "      <td>86.311051</td>\n",
              "      <td>-0.002779</td>\n",
              "      <td>-2.705036</td>\n",
              "      <td>80.072406</td>\n",
              "      <td>-0.085657</td>\n",
              "      <td>85.038783</td>\n",
              "      <td>0.062024</td>\n",
              "      <td>-0.042679</td>\n",
              "      <td>3.410039</td>\n",
              "      <td>-0.342767</td>\n",
              "      <td>89.550112</td>\n",
              "      <td>0.118364</td>\n",
              "      <td>-0.063778</td>\n",
              "      <td>4.641135</td>\n",
              "      <td>-0.093697</td>\n",
              "      <td>85.294775</td>\n",
              "      <td>0.065221</td>\n",
              "      <td>89.322212</td>\n",
              "      <td>0.115518</td>\n",
              "      <td>46.321741</td>\n",
              "      <td>86.835829</td>\n",
              "      <td>-0.006204</td>\n",
              "      <td>-4.027436</td>\n",
              "    </tr>\n",
              "    <tr>\n",
              "      <th>4</th>\n",
              "      <td>2020-11-17 13:45:00</td>\n",
              "      <td>326.852622</td>\n",
              "      <td>-0.000989</td>\n",
              "      <td>328.185185</td>\n",
              "      <td>0.004077</td>\n",
              "      <td>-0.005132</td>\n",
              "      <td>1.074017</td>\n",
              "      <td>0.071453</td>\n",
              "      <td>329.111287</td>\n",
              "      <td>0.006910</td>\n",
              "      <td>-0.005633</td>\n",
              "      <td>1.878344</td>\n",
              "      <td>-0.510225</td>\n",
              "      <td>327.911559</td>\n",
              "      <td>0.003240</td>\n",
              "      <td>329.093313</td>\n",
              "      <td>0.006855</td>\n",
              "      <td>43.303567</td>\n",
              "      <td>328.627730</td>\n",
              "      <td>-0.000345</td>\n",
              "      <td>-1.181754</td>\n",
              "      <td>86.100018</td>\n",
              "      <td>0.029399</td>\n",
              "      <td>85.208805</td>\n",
              "      <td>-0.010351</td>\n",
              "      <td>-0.026196</td>\n",
              "      <td>1.975473</td>\n",
              "      <td>-0.311591</td>\n",
              "      <td>87.947689</td>\n",
              "      <td>0.021460</td>\n",
              "      <td>-0.043160</td>\n",
              "      <td>2.567153</td>\n",
              "      <td>-0.340308</td>\n",
              "      <td>85.356617</td>\n",
              "      <td>-0.008634</td>\n",
              "      <td>87.837553</td>\n",
              "      <td>0.020180</td>\n",
              "      <td>48.762208</td>\n",
              "      <td>86.243443</td>\n",
              "      <td>-0.000783</td>\n",
              "      <td>-2.480936</td>\n",
              "      <td>87.549581</td>\n",
              "      <td>0.093380</td>\n",
              "      <td>85.181927</td>\n",
              "      <td>-0.027044</td>\n",
              "      <td>-0.034819</td>\n",
              "      <td>3.489500</td>\n",
              "      <td>-0.320135</td>\n",
              "      <td>89.398771</td>\n",
              "      <td>0.021122</td>\n",
              "      <td>-0.066302</td>\n",
              "      <td>4.553581</td>\n",
              "      <td>-0.104185</td>\n",
              "      <td>85.704740</td>\n",
              "      <td>-0.021072</td>\n",
              "      <td>89.264093</td>\n",
              "      <td>0.019583</td>\n",
              "      <td>49.349210</td>\n",
              "      <td>86.801410</td>\n",
              "      <td>-0.000396</td>\n",
              "      <td>-3.559353</td>\n",
              "    </tr>\n",
              "  </tbody>\n",
              "</table>\n",
              "</div>"
            ],
            "text/plain": [
              "             datetime   sym_level  ...  iss_wma_pct_change  iss_macd\n",
              "0 2020-11-17 13:41:00  328.176669  ...           -0.000305 -4.245793\n",
              "1 2020-11-17 13:42:00  327.452088  ...            0.000860 -3.498905\n",
              "2 2020-11-17 13:43:00  327.267877  ...           -0.000770 -3.180463\n",
              "3 2020-11-17 13:44:00  327.176165  ...           -0.006204 -4.027436\n",
              "4 2020-11-17 13:45:00  326.852622  ...           -0.000396 -3.559353\n",
              "\n",
              "[5 rows x 61 columns]"
            ]
          },
          "metadata": {
            "tags": []
          },
          "execution_count": 56
        }
      ]
    },
    {
      "cell_type": "code",
      "metadata": {
        "colab": {
          "base_uri": "https://localhost:8080/",
          "height": 286
        },
        "id": "v20tcHn1x8zF",
        "outputId": "947d1749-461c-48aa-a3c0-a3e5d2b18ee1"
      },
      "source": [
        "raw_test_data.plot(y='sym_level')"
      ],
      "execution_count": 57,
      "outputs": [
        {
          "output_type": "execute_result",
          "data": {
            "text/plain": [
              "<matplotlib.axes._subplots.AxesSubplot at 0x7f6a52556240>"
            ]
          },
          "metadata": {
            "tags": []
          },
          "execution_count": 57
        },
        {
          "output_type": "display_data",
          "data": {
            "image/png": "[encoded data removed]",
            "text/plain": [
              "<Figure size 432x288 with 1 Axes>"
            ]
          },
          "metadata": {
            "tags": [],
            "needs_background": "light"
          }
        }
      ]
    },
    {
      "cell_type": "code",
      "metadata": {
        "colab": {
          "base_uri": "https://localhost:8080/"
        },
        "id": "BqsVA1DKLgGd",
        "outputId": "b3aa38d8-e195-4581-93d7-e707d4c36293"
      },
      "source": [
        "print(\"baseline_last_trade_model\")\n",
        "rmse_raw, rmse_pct, rmse_level, preds_pct, preds_level_baseline = model_eval(baseline_last_trade_model, raw_test_data, scaler)\n",
        "print(\"rmse_raw\", rmse_raw, \"rmse_pct\", rmse_pct, \"rmse_level\", rmse_level)\n",
        "print('first 5 predicted levels:')\n",
        "for pred in preds_level_baseline[:5]:\n",
        "  print(pred)\n"
      ],
      "execution_count": 58,
      "outputs": [
        {
          "output_type": "stream",
          "text": [
            "baseline_last_trade_model\n",
            "rmse_raw 1.0589019 rmse_pct 0.008415377 rmse_level 2.6530354\n",
            "first 5 predicted levels:\n",
            "[330.4770704]\n",
            "[330.24970864]\n",
            "[330.20914253]\n",
            "[330.59423962]\n",
            "[331.09155396]\n"
          ],
          "name": "stdout"
        }
      ]
    },
    {
      "cell_type": "code",
      "metadata": {
        "colab": {
          "base_uri": "https://localhost:8080/"
        },
        "id": "m0nAp8fnI-zo",
        "outputId": "c4b76641-f28c-483c-a2fd-932c52d09b86"
      },
      "source": [
        "print(\"conv1d_model\")\n",
        "rmse_raw, rmse_pct, rmse_level, preds_pct, preds_level = model_eval(conv1d_model, raw_test_data, scaler)\n",
        "print(\"rmse_raw\", rmse_raw, \"rmse_pct\", rmse_pct, \"rmse_level\", rmse_level)\n",
        "print('first 5 predicted levels:')\n",
        "for pred in preds_pct[:5]:\n",
        "  print(pred)\n"
      ],
      "execution_count": 59,
      "outputs": [
        {
          "output_type": "stream",
          "text": [
            "conv1d_model\n",
            "rmse_raw 1.0592964 rmse_pct 0.0084179025 rmse_level 2.6537316\n",
            "first 5 predicted levels:\n",
            "[-9.88820784208036e-05]\n",
            "[-9.88820784208036e-05]\n",
            "[-9.88820784208036e-05]\n",
            "[-9.88820784208036e-05]\n",
            "[-9.88820784208036e-05]\n"
          ],
          "name": "stdout"
        }
      ]
    },
    {
      "cell_type": "code",
      "metadata": {
        "colab": {
          "base_uri": "https://localhost:8080/"
        },
        "id": "soeD9Q79Nvj2",
        "outputId": "55bcf463-01a0-4a9b-c427-6682a16bcd22"
      },
      "source": [
        "print(\"LSTM_model\")\n",
        "rmse_raw, rmse_pct, rmse_level, preds_pct, preds_level = model_eval(LSTM_model, raw_test_data, scaler)\n",
        "print(\"rmse_raw\", rmse_raw, \"rmse_pct\", rmse_pct, \"rmse_level\", rmse_level)\n",
        "print('first 5 predicted levels:')\n",
        "for pred in preds_pct[:5]:\n",
        "  print(pred)\n"
      ],
      "execution_count": 60,
      "outputs": [
        {
          "output_type": "stream",
          "text": [
            "LSTM_model\n",
            "rmse_raw 1.0612457 rmse_pct 0.008433392 rmse_level 2.6587775\n",
            "first 5 predicted levels:\n",
            "[-0.00040956555596155644]\n",
            "[-0.00040956217931242746]\n",
            "[-0.0004095712699232536]\n",
            "[-0.00040957071018909915]\n",
            "[-0.00040956989837754297]\n"
          ],
          "name": "stdout"
        }
      ]
    },
    {
      "cell_type": "code",
      "metadata": {
        "colab": {
          "base_uri": "https://localhost:8080/"
        },
        "id": "yBuF4NJnTaQ8",
        "outputId": "8e7f8061-3c03-4a81-f351-5954d96f3a0c"
      },
      "source": [
        "print(\"lr_model\")\n",
        "rmse_raw, rmse_pct, rmse_level, preds_pct, preds_level = model_eval(my_lr_model, raw_test_data, scaler)\n",
        "print(\"rmse_raw\", rmse_raw, \"rmse_pct\", rmse_pct, \"rmse_level\", rmse_level)\n",
        "print('first 5 predicted levels:')\n",
        "for pred in preds_pct[:5]:\n",
        "  print(pred)\n"
      ],
      "execution_count": 61,
      "outputs": [
        {
          "output_type": "stream",
          "text": [
            "lr_model\n",
            "rmse_raw 1.714404 rmse_pct 0.01362384 rmse_level 4.464743\n",
            "first 5 predicted levels:\n",
            "[-0.021006152129159825]\n",
            "[-0.020456654786246364]\n",
            "[-0.02162317884118873]\n",
            "[-0.01969638980524175]\n",
            "[-0.02069347656624554]\n"
          ],
          "name": "stdout"
        }
      ]
    },
    {
      "cell_type": "code",
      "metadata": {
        "colab": {
          "base_uri": "https://localhost:8080/"
        },
        "id": "QzAkIlsgTHlo",
        "outputId": "e3301113-d902-4554-a9ab-1a519e598b3f"
      },
      "source": [
        "print(\"maj_model\")\n",
        "rmse_raw, rmse_pct, rmse_level, preds_pct, preds_level = model_eval(maj_model, raw_test_data, scaler)\n",
        "print(\"rmse_raw\", rmse_raw, \"rmse_pct\", rmse_pct, \"rmse_level\", rmse_level)\n",
        "for pred in preds_pct[:5]:\n",
        "  print(pred)\n"
      ],
      "execution_count": 62,
      "outputs": [
        {
          "output_type": "stream",
          "text": [
            "maj_model\n",
            "rmse_raw 1.0600914 rmse_pct 0.008424219 rmse_level 2.655715\n",
            "[-0.00025422381719118005]\n",
            "[-0.0002542221288666156]\n",
            "[-0.00025422667417202856]\n",
            "[-0.0002542263943049514]\n",
            "[-0.0002542259883991733]\n"
          ],
          "name": "stdout"
        }
      ]
    },
    {
      "cell_type": "code",
      "metadata": {
        "colab": {
          "base_uri": "https://localhost:8080/"
        },
        "id": "tiyOamd7TGSK",
        "outputId": "b3e2b58e-6130-4118-e682-3e1b8b5adf1a"
      },
      "source": [
        "print(\"ensStack_model\")\n",
        "rmse_raw, rmse_pct, rmse_level, preds_pct, ens_preds_level = model_eval(ensStack_model, raw_test_data, scaler)\n",
        "print(\"rmse_raw\", rmse_raw, \"rmse_pct\", rmse_pct, \"rmse_level\", rmse_level)\n",
        "for pred in preds_pct[:5]:\n",
        "  print(pred)\n"
      ],
      "execution_count": 63,
      "outputs": [
        {
          "output_type": "stream",
          "text": [
            "ensStack_model\n",
            "rmse_raw 1.0589497 rmse_pct 0.008415146 rmse_level 2.652979\n",
            "[1.2005891566546107e-05]\n",
            "[1.2005501598789388e-05]\n",
            "[1.200655146952683e-05]\n",
            "[1.2006486826069887e-05]\n",
            "[1.2006393070302157e-05]\n"
          ],
          "name": "stdout"
        }
      ]
    },
    {
      "cell_type": "code",
      "metadata": {
        "colab": {
          "base_uri": "https://localhost:8080/",
          "height": 281
        },
        "id": "ISeabJFARb8Q",
        "outputId": "f918fb44-7adf-4016-d552-2107059a0be5"
      },
      "source": [
        "dates = raw_test_data.iloc[window_size:, 0]\n",
        "target_level = raw_test_data.iloc[window_size:, 1]\n",
        "\n",
        "\n",
        "plt.plot(range(len(target_level)), target_level, label='target')\n",
        "plt.plot(range(len(preds_level)), ens_preds_level, label='ensemble') \n",
        "plt.plot(range(len(preds_level_baseline)), preds_level_baseline, label='baseline')\n",
        "plt.legend()\n",
        "plt.title('Results')\n",
        "plt.show()\n"
      ],
      "execution_count": 64,
      "outputs": [
        {
          "output_type": "display_data",
          "data": {
            "image/png": "[encoded data removed]",
            "text/plain": [
              "<Figure size 432x288 with 1 Axes>"
            ]
          },
          "metadata": {
            "tags": [],
            "needs_background": "light"
          }
        }
      ]
    },
    {
      "cell_type": "markdown",
      "metadata": {
        "id": "14qzgvkTco0j"
      },
      "source": [
        "Zoom-in plots"
      ]
    },
    {
      "cell_type": "code",
      "metadata": {
        "id": "_78LhY9wI-zr",
        "colab": {
          "base_uri": "https://localhost:8080/",
          "height": 265
        },
        "outputId": "5ff880ab-21f5-428e-f243-74499ffb287e"
      },
      "source": [
        "len_data = 20\n",
        "zoomed_dates = raw_test_data.iloc[window_size:window_size+len_data, 0]\n",
        "zoomed_target_level = raw_test_data.iloc[window_size:window_size+len_data, 1]\n",
        "zoomed_preds_level = preds_level[:len_data]\n",
        "zoomed_preds_level_baseline = preds_level_baseline[:len_data]\n",
        "\n",
        "plt.plot(zoomed_dates, zoomed_target_level, label='target')\n",
        "plt.plot(zoomed_dates, zoomed_preds_level, label='prediction')\n",
        "plt.plot(zoomed_dates, zoomed_preds_level_baseline, label='baseline')\n",
        "plt.legend()\n",
        "\n",
        "plt.show()"
      ],
      "execution_count": 65,
      "outputs": [
        {
          "output_type": "display_data",
          "data": {
            "image/png": "[encoded data removed]",
            "text/plain": [
              "<Figure size 432x288 with 1 Axes>"
            ]
          },
          "metadata": {
            "tags": [],
            "needs_background": "light"
          }
        }
      ]
    },
    {
      "cell_type": "markdown",
      "metadata": {
        "id": "GPxWwcz6PsSp"
      },
      "source": [
        "# Future work to improve the result: \n",
        "\n",
        "1.   Use cross-validation (time series) to determine hyperparameters, such as window_size, feature dimensions, number of layers, neurons in the neural networks.\n",
        "2.   Add more learned models to the ensemble model, such as support vector regressor, xgboost, random forest, etc. \n",
        "\n"
      ]
    },
    {
      "cell_type": "markdown",
      "metadata": {
        "id": "5oqu5IHgPscH"
      },
      "source": [
        "# Online version of the model\n",
        "In the current ensemble model, the weights of each model are also trained offline. \n",
        "\n",
        "Suppose we have $n$ trained (offline) models (experts). One approach to make it online:\n",
        "\n",
        "We can formulate the online learning problem as a multi-armed bandit problem: at each time step, we pick an individual model (according to some learned distribution) and observe the cost (between prediction and the actual level); there are several well-known algorithms to achieve this, such as $\\epsilon$-greedy, Upper Confidence Bounds (UCB), and Bayesian variants of UCBs. \n",
        "\n",
        "There are also online algorithms that can compute weighted average of $n$ experts, see the reference below. \n",
        "\n",
        "Reference: \n",
        "Cesa-Bianchi, Nicolo, and Gábor Lugosi. Prediction, Learning, and Games. Cambridge university press, 2006.\n",
        "\n",
        "\n",
        "\n"
      ]
    }
  ]
}