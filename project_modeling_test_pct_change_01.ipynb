{
  "nbformat": 4,
  "nbformat_minor": 0,
  "metadata": {
    "accelerator": "GPU",
    "colab": {
      "name": "project_modeling_test_pct_change.ipynb",
      "provenance": [],
      "collapsed_sections": []
    },
    "kernelspec": {
      "display_name": "Python 3",
      "language": "python",
      "name": "python3"
    },
    "language_info": {
      "codemirror_mode": {
        "name": "ipython",
        "version": 3
      },
      "file_extension": ".py",
      "mimetype": "text/x-python",
      "name": "python",
      "nbconvert_exporter": "python",
      "pygments_lexer": "ipython3",
      "version": "3.8.5"
    }
  },
  "cells": [
    {
      "cell_type": "code",
      "metadata": {
        "colab": {
          "base_uri": "https://localhost:8080/"
        },
        "id": "4KKRBHQ3I-ym",
        "outputId": "95821c16-cb2b-459d-c50f-7db49f80642c"
      },
      "source": [
        "!python --version"
      ],
      "execution_count": 237,
      "outputs": [
        {
          "output_type": "stream",
          "text": [
            "Python 3.6.9\n"
          ],
          "name": "stdout"
        }
      ]
    },
    {
      "cell_type": "code",
      "metadata": {
        "id": "AB_y1LAPI-y2"
      },
      "source": [
        "import pandas as pd\n",
        "pd.options.mode.chained_assignment = None  # default='warn'"
      ],
      "execution_count": 238,
      "outputs": []
    },
    {
      "cell_type": "code",
      "metadata": {
        "colab": {
          "base_uri": "https://localhost:8080/",
          "height": 35
        },
        "id": "lzz2cZgcI-y6",
        "outputId": "aa9130c1-ae8c-4fc3-f1ed-8f90ee3df620"
      },
      "source": [
        "pd.__version__"
      ],
      "execution_count": 239,
      "outputs": [
        {
          "output_type": "execute_result",
          "data": {
            "application/vnd.google.colaboratory.intrinsic+json": {
              "type": "string"
            },
            "text/plain": [
              "'1.1.5'"
            ]
          },
          "metadata": {
            "tags": []
          },
          "execution_count": 239
        }
      ]
    },
    {
      "cell_type": "code",
      "metadata": {
        "colab": {
          "base_uri": "https://localhost:8080/"
        },
        "id": "lrEOU_btJDW1",
        "outputId": "23980f30-24f1-44e7-b7a7-e527ea61c096"
      },
      "source": [
        "# Run this cell to connect to your Drive folder\n",
        "\n",
        "from google.colab import drive\n",
        "drive.mount('/content/gdrive')"
      ],
      "execution_count": 240,
      "outputs": [
        {
          "output_type": "stream",
          "text": [
            "Drive already mounted at /content/gdrive; to attempt to forcibly remount, call drive.mount(\"/content/gdrive\", force_remount=True).\n"
          ],
          "name": "stdout"
        }
      ]
    },
    {
      "cell_type": "code",
      "metadata": {
        "id": "M1nYg0vyI-y7"
      },
      "source": [
        "import numpy as np\n",
        "from sklearn.model_selection import TimeSeriesSplit\n",
        "import matplotlib as mpl\n",
        "import matplotlib.pyplot as plt\n",
        "import tensorflow as tf\n",
        "tf.keras.backend.set_floatx('float64')\n",
        "from tensorflow.keras.preprocessing.sequence import TimeseriesGenerator\n",
        "from tensorflow.keras.layers import Conv1D, Input, Flatten, Dense, LSTM, Dropout\n",
        "from tensorflow.keras import Model\n",
        "\n",
        "from statsmodels.tsa.stattools import adfuller\n",
        "from sklearn.preprocessing import StandardScaler, MinMaxScaler\n"
      ],
      "execution_count": 241,
      "outputs": []
    },
    {
      "cell_type": "code",
      "metadata": {
        "colab": {
          "base_uri": "https://localhost:8080/",
          "height": 35
        },
        "id": "8Gv4UKmQI-y9",
        "outputId": "c50a599e-9ae0-4e39-cc12-7f8632ffa472"
      },
      "source": [
        "tf.__version__"
      ],
      "execution_count": 242,
      "outputs": [
        {
          "output_type": "execute_result",
          "data": {
            "application/vnd.google.colaboratory.intrinsic+json": {
              "type": "string"
            },
            "text/plain": [
              "'2.3.0'"
            ]
          },
          "metadata": {
            "tags": []
          },
          "execution_count": 242
        }
      ]
    },
    {
      "cell_type": "markdown",
      "metadata": {
        "id": "qwvjio6Rp2ml"
      },
      "source": [
        "Technical indicators: these indicators are widely-used for stock price data. "
      ]
    },
    {
      "cell_type": "code",
      "metadata": {
        "id": "Ss_InUNRp1jJ"
      },
      "source": [
        "## https://stackoverflow.com/questions/57006437/calculate-rsi-indicator-from-pandas-dataframe/57037866\n",
        "def RSI(df, n=14):\n",
        "  df = pd.DataFrame(df)\n",
        "  def rma(x, n, y0):\n",
        "      a = (n-1) / n\n",
        "      ak = a**np.arange(len(x)-1, -1, -1)\n",
        "      return np.append(y0, np.cumsum(ak * x) / ak / n + y0 * a**np.arange(1, len(x)+1))\n",
        "\n",
        "  df['change'] = df.iloc[:].diff()\n",
        "  df['gain'] = df['change'].mask(df.change < 0, 0.0)\n",
        "  df['loss'] = -df['change'].mask(df.change > 0, -0.0)\n",
        "  df.loc[n:,'avg_gain'] = rma( df.loc[n+1:,'gain'].values, n, df.loc[:n, 'gain'].mean())\n",
        "  df.loc[n:,'avg_loss'] = rma( df.loc[n+1:,'loss'].values, n, df.loc[:n, 'loss'].mean())\n",
        "  df['rs'] = df.avg_gain / df.avg_loss\n",
        "  df['rsi_14'] = 100 - (100 / (1 + df['rs']))\n",
        "  return df['rsi_14']\n",
        "\n",
        "def weighted_moving_average(df, n=30):\n",
        "  df = pd.DataFrame(df)\n",
        "  weights = np.arange(1, n+1)\n",
        "  res = df.iloc[:].rolling(n).apply(lambda x: np.dot(x, weights)/weights.sum(), raw=True)\n",
        "  return res\n",
        "\n",
        "## similar to Moving Average Convergence Divergence (MACD)\n",
        "def MACD(df, slow=60, fast=10):\n",
        "  df = pd.DataFrame(df)\n",
        "  exp1 = df.ewm(span=fast, adjust=False).mean()\n",
        "  exp2 = df.ewm(span=slow, adjust=False).mean()\n",
        "  macd = exp1-exp2\n",
        "  return macd"
      ],
      "execution_count": 243,
      "outputs": []
    },
    {
      "cell_type": "code",
      "metadata": {
        "id": "8nehk6kZI-y-"
      },
      "source": [
        "def create_features(data, name):\n",
        "    data = data[['datetime', 'level']]\n",
        "    data['pct_change_1m'] = data['level'].pct_change(periods=1)\n",
        "    \n",
        "    data['short_ma'] = data['level'].rolling(window=10).mean()\n",
        "    data['short_ma_pct_change_baseline'] = (data['short_ma']-data['level'])/data['level']\n",
        "    data['short_ma_pct_change_10m'] = data['short_ma'].pct_change(periods=10)\n",
        "    data['short_std'] = data['level'].rolling(window=10).std()\n",
        "    data['short_std_pct_change_10m'] = data['short_std'].pct_change(periods=10)\n",
        "\n",
        "    data['long_ma'] = data['level'].rolling(window=60).mean()\n",
        "    data['long_ma_pct_change_baseline'] = (data['long_ma']-data['level'])/data['level']\n",
        "    data['long_ma_pct_change_60m'] = data['long_ma'].pct_change(periods=60)\n",
        "    data['long_std'] = data['level'].rolling(window=60).std()\n",
        "    data['long_std_pct_change_60m'] = data['long_std'].pct_change(periods=60)\n",
        "\n",
        "    data['short_ewm'] = data['level'].ewm(span=10, adjust=False).mean()\n",
        "    data['short_ewm_pct_change_baseline'] = (data['short_ewm']-data['level'])/data['level']\n",
        "\n",
        "    data['long_ewm'] = data['level'].ewm(span=60, adjust=False).mean()\n",
        "    data['long_ewm_pct_change_baseline'] = (data['long_ewm']-data['level'])/data['level']\n",
        "\n",
        "    ## technical indicators\n",
        "    data['rsi'] = RSI(data['level'], n=30)\n",
        "    data['wma'] = weighted_moving_average(data['level'], n=30)\n",
        "    data['wma_pct_change'] = data['wma'].pct_change(periods=1)\n",
        "    data['macd'] = MACD(data['level'], slow=60, fast=10)\n",
        "\n",
        "    # data = data.drop(['level', 'short_ma', 'long_ma', 'short_std', 'long_std', 'short_ewm', 'long_ewm'], axis=1)\n",
        "    # data = data.drop(['level', 'short_ma', 'long_ma', 'short_std', 'long_std'], axis=1)\n",
        "\n",
        "    rename_mapper = {col: name+'_'+col for col in data.columns[1:]}\n",
        "    data = data.rename(columns=rename_mapper)\n",
        "    return data"
      ],
      "execution_count": 244,
      "outputs": []
    },
    {
      "cell_type": "code",
      "metadata": {
        "id": "11iG1ltsI-y-"
      },
      "source": [
        "def create_dataset(data, window_size=5, batch_size=32, shuffle=False):\n",
        "    data = data.dropna()\n",
        "    data = data.reset_index()\n",
        "    data = data.drop(['index', 'datetime'], axis=1)\n",
        "    # target = np.concatenate((np.zeros(window_size), data['sym_pct_change_1m'][window_size:]))\n",
        "    target =  data['sym_pct_change_1m']\n",
        "    x = np.array(data)\n",
        "    \n",
        "    ts_dataset = TimeseriesGenerator(x, target, \n",
        "                                     length=window_size, \n",
        "                                     stride=1,\n",
        "                                     batch_size=batch_size, \n",
        "                                     shuffle=shuffle)\n",
        "    \n",
        "    return ts_dataset\n",
        "    "
      ],
      "execution_count": 245,
      "outputs": []
    },
    {
      "cell_type": "code",
      "metadata": {
        "id": "V9zjjioZI-y_"
      },
      "source": [
        "def train_val_test_split(data, window_size=5, batch_size=32, train_pct=0.7, val_pct=0.2, shuffle=False):\n",
        "    data = data.dropna()\n",
        "    n = data.shape[0]\n",
        "    n_train = int(n*train_pct)\n",
        "    n_validation = int(n*val_pct)\n",
        "    n_test = n-n_train-n_validation\n",
        "    print(\"number of total data samples\", n, \"n_train\", n_train, \"n_validation\", n_validation, \"n_test\", n_test)\n",
        "    train_data = data.iloc[:n_train].copy()\n",
        "    validation_data = data.iloc[n_train-window_size:n_train+n_validation].copy()\n",
        "    test_data = data.iloc[n_train+n_validation-window_size:].copy()\n",
        "    \n",
        "    ## feature scaling\n",
        "    scaler = StandardScaler()\n",
        "    # scaler = MinMaxScaler()\n",
        "    train_data.iloc[:, 1:] = scaler.fit_transform(train_data.iloc[:, 1:])\n",
        "    validation_data.iloc[:, 1:] = scaler.transform(validation_data.iloc[:, 1:])\n",
        "    test_data.iloc[:, 1:] = scaler.transform(test_data.iloc[:, 1:])\n",
        "\n",
        "    ## here, we can temporily use (batch_size=1, shuffle=False) to verify that the dataset object is correct\n",
        "    train_dataset = create_dataset(train_data, window_size=window_size, \n",
        "                                   batch_size=batch_size, shuffle=shuffle)\n",
        "    print(\"train number of batches\", len(train_dataset))\n",
        "    validation_dataset = create_dataset(validation_data, window_size=window_size, \n",
        "                                        batch_size=batch_size, shuffle=shuffle)\n",
        "    print(\"validation number of batches\", len(validation_dataset))\n",
        "    test_dataset = create_dataset(test_data, window_size=window_size, \n",
        "                                  batch_size=batch_size, shuffle=shuffle)\n",
        "    print(\"test number of batches\", len(test_dataset))\n",
        "    \n",
        "#     i = 0\n",
        "#     for x, y in train_dataset:\n",
        "#         assert np.array_equal(x[0], np.array(data.iloc[i:i+window_size, 1:]))\n",
        "#         assert np.array_equal(y[0], np.array(data.iloc[i+window_size, 1]))\n",
        "#         i += 1\n",
        "\n",
        "#     for x, y in validation_dataset:\n",
        "#         assert np.array_equal(x[0], np.array(data.iloc[i:i+window_size, 1:]))\n",
        "#         assert np.array_equal(y[0], np.array(data.iloc[i+window_size, 1]))\n",
        "#         i += 1\n",
        "    \n",
        "#     for x, y in test_dataset:\n",
        "#         assert np.array_equal(x[0], np.array(data.iloc[i:i+window_size, 1:]))\n",
        "#         assert np.array_equal(y[0], np.array(data.iloc[i+window_size, 1]))\n",
        "#         i += 1\n",
        "        \n",
        "    return train_dataset, validation_dataset, test_dataset, test_data, scaler"
      ],
      "execution_count": 246,
      "outputs": []
    },
    {
      "cell_type": "markdown",
      "metadata": {
        "id": "h-QqoC1FMeKF"
      },
      "source": [
        "Baseline model: use the value from last trade"
      ]
    },
    {
      "cell_type": "code",
      "metadata": {
        "id": "8XTxQyorMU4d"
      },
      "source": [
        "class Baseline_last_trade(Model):\n",
        "    def __init__(self, name=None):\n",
        "        super().__init__()\n",
        "        self.model_name = 'Baseline_last_trade'\n",
        "\n",
        "    def call(self, inputs):\n",
        "        return tf.zeros_like(inputs[:, -1:, 0])"
      ],
      "execution_count": 247,
      "outputs": []
    },
    {
      "cell_type": "markdown",
      "metadata": {
        "id": "rUUWpIR2I-zc"
      },
      "source": [
        "Baseline model class: use moving average from previous trades"
      ]
    },
    {
      "cell_type": "code",
      "metadata": {
        "id": "TuWV25qEI-zd"
      },
      "source": [
        "class Baseline_ma(Model):\n",
        "    def __init__(self, ma_index=None):\n",
        "        super().__init__()\n",
        "        if ma_index is None:\n",
        "            raise ValueError('Index of moving average is needed for this baseline model')\n",
        "        self.ma_index = ma_index\n",
        "\n",
        "    def call(self, inputs):\n",
        "        result = inputs[:, -1:, self.ma_index]\n",
        "        return result"
      ],
      "execution_count": 248,
      "outputs": []
    },
    {
      "cell_type": "markdown",
      "metadata": {
        "id": "gJ8wN0viN-aY"
      },
      "source": [
        "Conv1D model"
      ]
    },
    {
      "cell_type": "code",
      "metadata": {
        "id": "XxHw3heSMXgh"
      },
      "source": [
        "def get_conv1d_model(input_shape, conv_width=None, filter_size=None):\n",
        "    if conv_width is None:\n",
        "        raise ValueError(\"conv_width is needed as a list of integers\")\n",
        "    if filter_size is None:\n",
        "        raise ValueError(\"filter_size is needed as a list of integers\")\n",
        "    if len(conv_width) != len(filter_size):\n",
        "        raise ValueError(\"len(conv_width) != filter_size\")\n",
        "    \n",
        "    input_ = Input(input_shape)\n",
        "    x = input_\n",
        "    for width, filters in zip(conv_width, filter_size):\n",
        "        x = Conv1D(filters=filters, kernel_size=(width,), activation='relu')(x)\n",
        "        x = Dropout(0.5)(x)\n",
        "\n",
        "    x = Flatten()(x)\n",
        "#     x = Dense(64)(x)\n",
        "    # x = Dense(16)(x)\n",
        "    output_ = Dense(1)(x)\n",
        "    model = Model(inputs=input_, outputs=output_)\n",
        "    model.compile(loss=tf.losses.Huber(delta=0.01),\n",
        "                optimizer=tf.optimizers.Adam(learning_rate=0.001),\n",
        "                metrics=[tf.metrics.MeanAbsoluteError(), tf.keras.metrics.RootMeanSquaredError()])\n",
        "    return model"
      ],
      "execution_count": 249,
      "outputs": []
    },
    {
      "cell_type": "markdown",
      "metadata": {
        "id": "S1nuklCyOJT7"
      },
      "source": [
        "LSTM model"
      ]
    },
    {
      "cell_type": "code",
      "metadata": {
        "id": "wLsmKpE-MXuf"
      },
      "source": [
        "def get_LSTM_model(input_shape, units_list=None):\n",
        "    if units_list is None:\n",
        "        raise ValueError(\"units is needed as a list of integers\")\n",
        "    \n",
        "    input_ = Input(input_shape)\n",
        "    x = input_\n",
        "    for units in units_list:\n",
        "        x = LSTM(units, return_sequences=True, activation='tanh')(x)\n",
        "        x = Dropout(0.5)(x)\n",
        "        \n",
        "    x = LSTM(units_list[-1], activation='tanh')(x)\n",
        "    x = Dense(units_list[-1])(x)\n",
        "    output_ = Dense(1)(x)\n",
        "    model = Model(inputs=input_, outputs=output_)\n",
        "    model.compile(loss=tf.losses.Huber(),\n",
        "                optimizer=tf.optimizers.Adam(learning_rate=0.1),\n",
        "                metrics=[tf.metrics.MeanAbsoluteError(), tf.keras.metrics.RootMeanSquaredError()])\n",
        "    return model"
      ],
      "execution_count": 250,
      "outputs": []
    },
    {
      "cell_type": "markdown",
      "metadata": {
        "id": "H1rSXgVxmyiH"
      },
      "source": [
        "Linear regression model: to avoid overfitting, the window_size is reduced"
      ]
    },
    {
      "cell_type": "code",
      "metadata": {
        "id": "xihOov1vmxvk"
      },
      "source": [
        "def get_lr_model(input_shape, lr_window_size=5, units_list=None):\n",
        "    input_ = Input(input_shape)\n",
        "    x = input_[:, -lr_window_size:, :]\n",
        "    x = Flatten()(x)\n",
        "    output_ = Dense(1, kernel_regularizer='l1', bias_regularizer='l1')(x)\n",
        "    model = Model(inputs=input_, outputs=output_)\n",
        "    model.compile(loss=tf.losses.Huber(),\n",
        "                optimizer=tf.optimizers.Adam(learning_rate=0.01),\n",
        "                metrics=[tf.metrics.MeanAbsoluteError(), tf.keras.metrics.RootMeanSquaredError()])\n",
        "    return model"
      ],
      "execution_count": 251,
      "outputs": []
    },
    {
      "cell_type": "markdown",
      "metadata": {
        "id": "EFPEatxPqqSh"
      },
      "source": [
        "Ensemble model #1: simple average"
      ]
    },
    {
      "cell_type": "code",
      "metadata": {
        "id": "hGblgk5gqqeT"
      },
      "source": [
        "def get_myMajority_model(input_shape, models=None):\n",
        "    if models is None:\n",
        "        raise ValueError('models are needed for this ensemble model')\n",
        "    for model in models:\n",
        "      model.trainable = False\n",
        "    input_ = Input(input_shape)\n",
        "    outputs_ = [model(input_) for model in models]\n",
        "    outputs_ = tf.stack(outputs_, axis=1)\n",
        "    outputs_ = Flatten()(outputs_)\n",
        "    outputs_ = tf.math.reduce_mean(outputs_, axis=1, keepdims=True)\n",
        "    model = Model(inputs=input_, outputs=outputs_)\n",
        "    model.compile(loss=tf.losses.Huber(),\n",
        "                optimizer=tf.optimizers.Adam(learning_rate=0.001),\n",
        "                metrics=[tf.metrics.MeanAbsoluteError(), tf.keras.metrics.RootMeanSquaredError()])\n",
        "    return model"
      ],
      "execution_count": 252,
      "outputs": []
    },
    {
      "cell_type": "markdown",
      "metadata": {
        "id": "yfYZc-QQqwdJ"
      },
      "source": [
        "Ensemble model #2: learned weighted average"
      ]
    },
    {
      "cell_type": "code",
      "metadata": {
        "id": "37AZfEh5qwu6"
      },
      "source": [
        "def get_myEnsStack_model(input_shape, models=None):\n",
        "    if models is None:\n",
        "        raise ValueError('models are needed for this ensemble model')\n",
        "    for model in models:\n",
        "      model.trainable = False\n",
        "    input_ = Input(input_shape)\n",
        "    outputs_ = [model(input_) for model in models]\n",
        "    outputs_ = tf.stack(outputs_, axis=1)\n",
        "    outputs_ = Flatten()(outputs_)\n",
        "    outputs_ = Dense(1, use_bias=False)(outputs_)\n",
        "    model = Model(inputs=input_, outputs=outputs_)\n",
        "    model.compile(loss=tf.losses.Huber(),\n",
        "                optimizer=tf.optimizers.Adam(learning_rate=0.001),\n",
        "                metrics=[tf.metrics.MeanAbsoluteError(), tf.keras.metrics.RootMeanSquaredError()])\n",
        "    return model"
      ],
      "execution_count": 253,
      "outputs": []
    },
    {
      "cell_type": "markdown",
      "metadata": {
        "id": "XE6k5HAvgLG4"
      },
      "source": [
        "The following function helps compute the actual root-mean-square error of our predicted level. Also, the predictions are made one by one to simulate the real-time prediction."
      ]
    },
    {
      "cell_type": "code",
      "metadata": {
        "id": "bD4CIN3Zbn-i"
      },
      "source": [
        "def model_eval(model, data, scaler):\n",
        "    i = 0\n",
        "    RMSE_raw = []\n",
        "    RMSE_pct = []\n",
        "    RMSE_level = []\n",
        "\n",
        "    preds_raw = []\n",
        "    preds_pct = []\n",
        "    preds_level = []\n",
        "    for i in range(len(data)-window_size):\n",
        "      input_ = data.iloc[i:i+window_size, 1:]\n",
        "      input_ = scaler.transform(input_)\n",
        "      # print(input_[0])\n",
        "      input_ = tf.expand_dims(input_, axis=0)\n",
        "\n",
        "      last_row = data.iloc[i+window_size-1, 1:]\n",
        "      last_price = last_row[0]\n",
        "\n",
        "      target_row = np.array(data.iloc[i+window_size, 1:])\n",
        "      target_row = np.expand_dims(target_row, axis=0)\n",
        "      transformed_target_row = scaler.transform(target_row)\n",
        "      transformed_target = transformed_target_row[:, 1]\n",
        "      target_level = target_row[:, 0]\n",
        "      target_pct = target_row[:, 1]\n",
        "      \n",
        "      transformed_pred_pct = model(input_).numpy()[0, 0]\n",
        "      transformed_pred_row = np.zeros_like(target_row)\n",
        "      transformed_pred_row[:, 1] = transformed_pred_pct\n",
        "      pred_row = scaler.inverse_transform(transformed_pred_row)\n",
        "\n",
        "      if hasattr(model, 'model_name') and model.model_name == 'Baseline_last_trade':\n",
        "        pred_pct = np.array([0.0])\n",
        "      else:\n",
        "        pred_pct = pred_row[:, 1]\n",
        "\n",
        "      pred_level = last_price * (1+pred_pct)\n",
        "      preds_pct.append(pred_pct)\n",
        "      preds_level.append(pred_level)\n",
        "\n",
        "      RMSE_raw.append(tf.math.squared_difference(transformed_target.astype('float32'), transformed_pred_pct.astype('float32')))\n",
        "      RMSE_pct.append(tf.math.squared_difference(target_pct.astype('float32'), pred_pct.astype('float32')))\n",
        "      RMSE_level.append(tf.math.squared_difference(target_level.astype('float32'), pred_level.astype('float32')))\n",
        "\n",
        "      rmse_raw = tf.math.sqrt(tf.math.reduce_mean(RMSE_raw)).numpy()\n",
        "      rmse_pct = tf.math.sqrt(tf.math.reduce_mean(RMSE_pct)).numpy()\n",
        "      rmse_level = tf.math.sqrt(tf.math.reduce_mean(RMSE_level)).numpy()\n",
        "      # break\n",
        "      \n",
        "    return rmse_raw, rmse_pct, rmse_level, preds_pct, preds_level"
      ],
      "execution_count": 254,
      "outputs": []
    },
    {
      "cell_type": "markdown",
      "metadata": {
        "id": "3fwcdejkn-Ou"
      },
      "source": [
        "# Load data"
      ]
    },
    {
      "cell_type": "code",
      "metadata": {
        "colab": {
          "base_uri": "https://localhost:8080/",
          "height": 258
        },
        "id": "hjcU6qq6boHi",
        "outputId": "2ee5ee52-e7c3-489a-b9e8-28aa7afcc615"
      },
      "source": [
        "file_path = \"/content/gdrive/My Drive/Colab Notebooks/project_modeling_test/bond_spreads.csv\"\n",
        "data = pd.read_csv(file_path, index_col=0)\n",
        "data['datetime'] = pd.to_datetime(data['datetime'])\n",
        "data.sort_values(by='datetime')\n",
        "data.head()"
      ],
      "execution_count": 255,
      "outputs": [
        {
          "output_type": "stream",
          "text": [
            "/usr/local/lib/python3.6/dist-packages/numpy/lib/arraysetops.py:569: FutureWarning: elementwise comparison failed; returning scalar instead, but in the future will perform elementwise comparison\n",
            "  mask |= (ar1 == a)\n"
          ],
          "name": "stderr"
        },
        {
          "output_type": "execute_result",
          "data": {
            "text/html": [
              "<div>\n",
              "<style scoped>\n",
              "    .dataframe tbody tr th:only-of-type {\n",
              "        vertical-align: middle;\n",
              "    }\n",
              "\n",
              "    .dataframe tbody tr th {\n",
              "        vertical-align: top;\n",
              "    }\n",
              "\n",
              "    .dataframe thead th {\n",
              "        text-align: right;\n",
              "    }\n",
              "</style>\n",
              "<table border=\"1\" class=\"dataframe\">\n",
              "  <thead>\n",
              "    <tr style=\"text-align: right;\">\n",
              "      <th></th>\n",
              "      <th>datetime</th>\n",
              "      <th>sym</th>\n",
              "      <th>level</th>\n",
              "    </tr>\n",
              "  </thead>\n",
              "  <tbody>\n",
              "    <tr>\n",
              "      <th>0</th>\n",
              "      <td>2020-11-01 08:00:00</td>\n",
              "      <td>US0ATXMR1KXH</td>\n",
              "      <td>135.484079</td>\n",
              "    </tr>\n",
              "    <tr>\n",
              "      <th>1</th>\n",
              "      <td>2020-11-01 08:00:00</td>\n",
              "      <td>US1Q9L9LWF70</td>\n",
              "      <td>134.431820</td>\n",
              "    </tr>\n",
              "    <tr>\n",
              "      <th>2</th>\n",
              "      <td>2020-11-01 08:00:00</td>\n",
              "      <td>US6KJNEMVUB3</td>\n",
              "      <td>173.589274</td>\n",
              "    </tr>\n",
              "    <tr>\n",
              "      <th>3</th>\n",
              "      <td>2020-11-01 08:00:00</td>\n",
              "      <td>USVB60AAKLSG</td>\n",
              "      <td>168.731458</td>\n",
              "    </tr>\n",
              "    <tr>\n",
              "      <th>4</th>\n",
              "      <td>2020-11-01 08:00:00</td>\n",
              "      <td>US0GLYO7VCOH</td>\n",
              "      <td>81.383554</td>\n",
              "    </tr>\n",
              "  </tbody>\n",
              "</table>\n",
              "</div>"
            ],
            "text/plain": [
              "             datetime           sym       level\n",
              "0 2020-11-01 08:00:00  US0ATXMR1KXH  135.484079\n",
              "1 2020-11-01 08:00:00  US1Q9L9LWF70  134.431820\n",
              "2 2020-11-01 08:00:00  US6KJNEMVUB3  173.589274\n",
              "3 2020-11-01 08:00:00  USVB60AAKLSG  168.731458\n",
              "4 2020-11-01 08:00:00  US0GLYO7VCOH   81.383554"
            ]
          },
          "metadata": {
            "tags": []
          },
          "execution_count": 255
        }
      ]
    },
    {
      "cell_type": "code",
      "metadata": {
        "colab": {
          "base_uri": "https://localhost:8080/"
        },
        "id": "LzIXVp85boOC",
        "outputId": "7c8781eb-5578-456a-8a99-a97e87f783de"
      },
      "source": [
        "df_sym_to_sector = pd.read_csv('/content/gdrive/My Drive/Colab Notebooks/project_modeling_test/sym_to_sector.csv')\n",
        "# df_sym_to_sector.head()\n",
        "df_sym_to_sector['sector'].value_counts()"
      ],
      "execution_count": 256,
      "outputs": [
        {
          "output_type": "execute_result",
          "data": {
            "text/plain": [
              "CONSUMER_CYCLICALS    512\n",
              "INDUSTRIALS           330\n",
              "ENERGY                311\n",
              "TECHNOLOGY            292\n",
              "Name: sector, dtype: int64"
            ]
          },
          "metadata": {
            "tags": []
          },
          "execution_count": 256
        }
      ]
    },
    {
      "cell_type": "code",
      "metadata": {
        "colab": {
          "base_uri": "https://localhost:8080/"
        },
        "id": "nhMZkASUjkVS",
        "outputId": "822a5d81-f21e-421a-8399-1caeff47d8bf"
      },
      "source": [
        "df_sym_to_issuer = pd.read_csv('/content/gdrive/My Drive/Colab Notebooks/project_modeling_test/sym_to_issuer.csv')\n",
        "df_sym_to_issuer['issuer'].value_counts()"
      ],
      "execution_count": 257,
      "outputs": [
        {
          "output_type": "execute_result",
          "data": {
            "text/plain": [
              "ECH     94\n",
              "HGJU    94\n",
              "XOY     93\n",
              "X       87\n",
              "TA      86\n",
              "F       85\n",
              "J       73\n",
              "EEQ     60\n",
              "ZBPY    55\n",
              "T       53\n",
              "FV      50\n",
              "D       42\n",
              "OERT    41\n",
              "RY      40\n",
              "NL      40\n",
              "YVPO    39\n",
              "U       39\n",
              "MH      38\n",
              "Q       36\n",
              "LFU     31\n",
              "XPHX    30\n",
              "LGK     29\n",
              "XG      29\n",
              "XZET    26\n",
              "EJMR    23\n",
              "TOT     20\n",
              "C       18\n",
              "VYIV    15\n",
              "NMYQ    13\n",
              "RYDM    13\n",
              "B       10\n",
              "I        8\n",
              "AH       8\n",
              "SPW      7\n",
              "XRC      5\n",
              "KNRI     4\n",
              "WNR      4\n",
              "M        2\n",
              "GV       2\n",
              "GK       1\n",
              "OFR      1\n",
              "TT       1\n",
              "Name: issuer, dtype: int64"
            ]
          },
          "metadata": {
            "tags": []
          },
          "execution_count": 257
        }
      ]
    },
    {
      "cell_type": "code",
      "metadata": {
        "colab": {
          "base_uri": "https://localhost:8080/",
          "height": 204
        },
        "id": "UgYNMdiXjcSv",
        "outputId": "c30beac9-0ddb-447e-b715-1a2051b1fd8d"
      },
      "source": [
        "raw_data = data.merge(df_sym_to_sector, on='sym')\n",
        "raw_data = raw_data.merge(df_sym_to_issuer, on='sym')\n",
        "raw_data.head()"
      ],
      "execution_count": 258,
      "outputs": [
        {
          "output_type": "execute_result",
          "data": {
            "text/html": [
              "<div>\n",
              "<style scoped>\n",
              "    .dataframe tbody tr th:only-of-type {\n",
              "        vertical-align: middle;\n",
              "    }\n",
              "\n",
              "    .dataframe tbody tr th {\n",
              "        vertical-align: top;\n",
              "    }\n",
              "\n",
              "    .dataframe thead th {\n",
              "        text-align: right;\n",
              "    }\n",
              "</style>\n",
              "<table border=\"1\" class=\"dataframe\">\n",
              "  <thead>\n",
              "    <tr style=\"text-align: right;\">\n",
              "      <th></th>\n",
              "      <th>datetime</th>\n",
              "      <th>sym</th>\n",
              "      <th>level</th>\n",
              "      <th>sector</th>\n",
              "      <th>issuer</th>\n",
              "    </tr>\n",
              "  </thead>\n",
              "  <tbody>\n",
              "    <tr>\n",
              "      <th>0</th>\n",
              "      <td>2020-11-01 08:00:00</td>\n",
              "      <td>US0ATXMR1KXH</td>\n",
              "      <td>135.484079</td>\n",
              "      <td>CONSUMER_CYCLICALS</td>\n",
              "      <td>XOY</td>\n",
              "    </tr>\n",
              "    <tr>\n",
              "      <th>1</th>\n",
              "      <td>2020-11-01 08:01:00</td>\n",
              "      <td>US0ATXMR1KXH</td>\n",
              "      <td>133.008120</td>\n",
              "      <td>CONSUMER_CYCLICALS</td>\n",
              "      <td>XOY</td>\n",
              "    </tr>\n",
              "    <tr>\n",
              "      <th>2</th>\n",
              "      <td>2020-11-01 08:02:00</td>\n",
              "      <td>US0ATXMR1KXH</td>\n",
              "      <td>133.269386</td>\n",
              "      <td>CONSUMER_CYCLICALS</td>\n",
              "      <td>XOY</td>\n",
              "    </tr>\n",
              "    <tr>\n",
              "      <th>3</th>\n",
              "      <td>2020-11-01 08:03:00</td>\n",
              "      <td>US0ATXMR1KXH</td>\n",
              "      <td>132.534590</td>\n",
              "      <td>CONSUMER_CYCLICALS</td>\n",
              "      <td>XOY</td>\n",
              "    </tr>\n",
              "    <tr>\n",
              "      <th>4</th>\n",
              "      <td>2020-11-01 08:04:00</td>\n",
              "      <td>US0ATXMR1KXH</td>\n",
              "      <td>134.908804</td>\n",
              "      <td>CONSUMER_CYCLICALS</td>\n",
              "      <td>XOY</td>\n",
              "    </tr>\n",
              "  </tbody>\n",
              "</table>\n",
              "</div>"
            ],
            "text/plain": [
              "             datetime           sym       level              sector issuer\n",
              "0 2020-11-01 08:00:00  US0ATXMR1KXH  135.484079  CONSUMER_CYCLICALS    XOY\n",
              "1 2020-11-01 08:01:00  US0ATXMR1KXH  133.008120  CONSUMER_CYCLICALS    XOY\n",
              "2 2020-11-01 08:02:00  US0ATXMR1KXH  133.269386  CONSUMER_CYCLICALS    XOY\n",
              "3 2020-11-01 08:03:00  US0ATXMR1KXH  132.534590  CONSUMER_CYCLICALS    XOY\n",
              "4 2020-11-01 08:04:00  US0ATXMR1KXH  134.908804  CONSUMER_CYCLICALS    XOY"
            ]
          },
          "metadata": {
            "tags": []
          },
          "execution_count": 258
        }
      ]
    },
    {
      "cell_type": "code",
      "metadata": {
        "colab": {
          "base_uri": "https://localhost:8080/"
        },
        "id": "pD3oQtDjzAE-",
        "outputId": "328495eb-7d45-4cc4-d014-a78b05ea588b"
      },
      "source": [
        "syms_all = raw_data['sym'].unique()\n",
        "syms_all"
      ],
      "execution_count": 259,
      "outputs": [
        {
          "output_type": "execute_result",
          "data": {
            "text/plain": [
              "array(['US0ATXMR1KXH', 'US1Q9L9LWF70', 'US6KJNEMVUB3', ...,\n",
              "       'USL3W14NOS6O', 'USOYXI6CIQ2M', 'USS7E04EJOAJ'], dtype=object)"
            ]
          },
          "metadata": {
            "tags": []
          },
          "execution_count": 259
        }
      ]
    },
    {
      "cell_type": "markdown",
      "metadata": {
        "id": "r-HfJFb6lGJT"
      },
      "source": [
        "Select a target sym"
      ]
    },
    {
      "cell_type": "code",
      "metadata": {
        "colab": {
          "base_uri": "https://localhost:8080/",
          "height": 204
        },
        "id": "gS2aJtvHlGlg",
        "outputId": "a6ac469f-e1b1-45e8-cd14-2e489225454e"
      },
      "source": [
        "sym = 'USV9CQ7RNR6Y'\n",
        "# sym = np.random.choice(syms_all, 1)[0]\n",
        "sym_data = raw_data[raw_data['sym']==sym].reset_index().drop('index', axis=1)\n",
        "sym_data.head()"
      ],
      "execution_count": 260,
      "outputs": [
        {
          "output_type": "execute_result",
          "data": {
            "text/html": [
              "<div>\n",
              "<style scoped>\n",
              "    .dataframe tbody tr th:only-of-type {\n",
              "        vertical-align: middle;\n",
              "    }\n",
              "\n",
              "    .dataframe tbody tr th {\n",
              "        vertical-align: top;\n",
              "    }\n",
              "\n",
              "    .dataframe thead th {\n",
              "        text-align: right;\n",
              "    }\n",
              "</style>\n",
              "<table border=\"1\" class=\"dataframe\">\n",
              "  <thead>\n",
              "    <tr style=\"text-align: right;\">\n",
              "      <th></th>\n",
              "      <th>datetime</th>\n",
              "      <th>sym</th>\n",
              "      <th>level</th>\n",
              "      <th>sector</th>\n",
              "      <th>issuer</th>\n",
              "    </tr>\n",
              "  </thead>\n",
              "  <tbody>\n",
              "    <tr>\n",
              "      <th>0</th>\n",
              "      <td>2020-11-01 08:00:00</td>\n",
              "      <td>USV9CQ7RNR6Y</td>\n",
              "      <td>352.071816</td>\n",
              "      <td>ENERGY</td>\n",
              "      <td>ECH</td>\n",
              "    </tr>\n",
              "    <tr>\n",
              "      <th>1</th>\n",
              "      <td>2020-11-01 08:01:00</td>\n",
              "      <td>USV9CQ7RNR6Y</td>\n",
              "      <td>350.556741</td>\n",
              "      <td>ENERGY</td>\n",
              "      <td>ECH</td>\n",
              "    </tr>\n",
              "    <tr>\n",
              "      <th>2</th>\n",
              "      <td>2020-11-01 08:02:00</td>\n",
              "      <td>USV9CQ7RNR6Y</td>\n",
              "      <td>350.725177</td>\n",
              "      <td>ENERGY</td>\n",
              "      <td>ECH</td>\n",
              "    </tr>\n",
              "    <tr>\n",
              "      <th>3</th>\n",
              "      <td>2020-11-01 08:05:00</td>\n",
              "      <td>USV9CQ7RNR6Y</td>\n",
              "      <td>351.692869</td>\n",
              "      <td>ENERGY</td>\n",
              "      <td>ECH</td>\n",
              "    </tr>\n",
              "    <tr>\n",
              "      <th>4</th>\n",
              "      <td>2020-11-01 08:06:00</td>\n",
              "      <td>USV9CQ7RNR6Y</td>\n",
              "      <td>351.923203</td>\n",
              "      <td>ENERGY</td>\n",
              "      <td>ECH</td>\n",
              "    </tr>\n",
              "  </tbody>\n",
              "</table>\n",
              "</div>"
            ],
            "text/plain": [
              "             datetime           sym       level  sector issuer\n",
              "0 2020-11-01 08:00:00  USV9CQ7RNR6Y  352.071816  ENERGY    ECH\n",
              "1 2020-11-01 08:01:00  USV9CQ7RNR6Y  350.556741  ENERGY    ECH\n",
              "2 2020-11-01 08:02:00  USV9CQ7RNR6Y  350.725177  ENERGY    ECH\n",
              "3 2020-11-01 08:05:00  USV9CQ7RNR6Y  351.692869  ENERGY    ECH\n",
              "4 2020-11-01 08:06:00  USV9CQ7RNR6Y  351.923203  ENERGY    ECH"
            ]
          },
          "metadata": {
            "tags": []
          },
          "execution_count": 260
        }
      ]
    },
    {
      "cell_type": "code",
      "metadata": {
        "colab": {
          "base_uri": "https://localhost:8080/",
          "height": 282
        },
        "id": "IpygI2KjydOF",
        "outputId": "f1797605-77bd-47f8-eee8-2684521d0f2e"
      },
      "source": [
        "sym_data.plot(y='level')"
      ],
      "execution_count": 261,
      "outputs": [
        {
          "output_type": "execute_result",
          "data": {
            "text/plain": [
              "<matplotlib.axes._subplots.AxesSubplot at 0x7f36b09505c0>"
            ]
          },
          "metadata": {
            "tags": []
          },
          "execution_count": 261
        },
        {
          "output_type": "display_data",
          "data": {
            "image/png": "[encoded data removed]",
            "text/plain": [
              "<Figure size 432x288 with 1 Axes>"
            ]
          },
          "metadata": {
            "tags": [],
            "needs_background": "light"
          }
        }
      ]
    },
    {
      "cell_type": "markdown",
      "metadata": {
        "id": "Yd7ZWuunmM2z"
      },
      "source": [
        "Get sector and issuer data of this bond\n",
        "\n",
        "1.   Compute the average price of the sector\n",
        "2.   Compute the average price of the issuer\n",
        "\n",
        "The intuition is: the bonds in the same sector or from the same issuer may provide some information for prediction of this bond. For example, the momentum of the aggregated price data can be informative to our model. \n",
        "\n"
      ]
    },
    {
      "cell_type": "code",
      "metadata": {
        "colab": {
          "base_uri": "https://localhost:8080/",
          "height": 204
        },
        "id": "WPg4kbw3jcaG",
        "outputId": "55e4fbf0-7e9d-438b-eb56-6a945e02c8ac"
      },
      "source": [
        "sec = sym_data.loc[0, 'sector']\n",
        "sec_data = raw_data[raw_data['sector']==sec]\n",
        "sec_avg_price_data = sec_data.groupby(by='datetime').mean()\n",
        "sec_avg_price_data = sec_avg_price_data.reset_index()\n",
        "sec_avg_price_data.head()"
      ],
      "execution_count": 262,
      "outputs": [
        {
          "output_type": "execute_result",
          "data": {
            "text/html": [
              "<div>\n",
              "<style scoped>\n",
              "    .dataframe tbody tr th:only-of-type {\n",
              "        vertical-align: middle;\n",
              "    }\n",
              "\n",
              "    .dataframe tbody tr th {\n",
              "        vertical-align: top;\n",
              "    }\n",
              "\n",
              "    .dataframe thead th {\n",
              "        text-align: right;\n",
              "    }\n",
              "</style>\n",
              "<table border=\"1\" class=\"dataframe\">\n",
              "  <thead>\n",
              "    <tr style=\"text-align: right;\">\n",
              "      <th></th>\n",
              "      <th>datetime</th>\n",
              "      <th>level</th>\n",
              "    </tr>\n",
              "  </thead>\n",
              "  <tbody>\n",
              "    <tr>\n",
              "      <th>0</th>\n",
              "      <td>2020-11-01 08:00:00</td>\n",
              "      <td>111.356382</td>\n",
              "    </tr>\n",
              "    <tr>\n",
              "      <th>1</th>\n",
              "      <td>2020-11-01 08:01:00</td>\n",
              "      <td>108.469130</td>\n",
              "    </tr>\n",
              "    <tr>\n",
              "      <th>2</th>\n",
              "      <td>2020-11-01 08:02:00</td>\n",
              "      <td>108.620382</td>\n",
              "    </tr>\n",
              "    <tr>\n",
              "      <th>3</th>\n",
              "      <td>2020-11-01 08:03:00</td>\n",
              "      <td>107.428109</td>\n",
              "    </tr>\n",
              "    <tr>\n",
              "      <th>4</th>\n",
              "      <td>2020-11-01 08:04:00</td>\n",
              "      <td>108.378047</td>\n",
              "    </tr>\n",
              "  </tbody>\n",
              "</table>\n",
              "</div>"
            ],
            "text/plain": [
              "             datetime       level\n",
              "0 2020-11-01 08:00:00  111.356382\n",
              "1 2020-11-01 08:01:00  108.469130\n",
              "2 2020-11-01 08:02:00  108.620382\n",
              "3 2020-11-01 08:03:00  107.428109\n",
              "4 2020-11-01 08:04:00  108.378047"
            ]
          },
          "metadata": {
            "tags": []
          },
          "execution_count": 262
        }
      ]
    },
    {
      "cell_type": "code",
      "metadata": {
        "colab": {
          "base_uri": "https://localhost:8080/",
          "height": 204
        },
        "id": "mLZWY1B7ncl4",
        "outputId": "ff325e4d-dd74-479b-f481-23dfbc883035"
      },
      "source": [
        "iss = sym_data.loc[0, 'issuer']\n",
        "iss_data = raw_data[raw_data['issuer']==iss]\n",
        "iss_avg_price_data = iss_data.groupby(by='datetime').mean()\n",
        "iss_avg_price_data = iss_avg_price_data.reset_index()\n",
        "iss_avg_price_data.head()"
      ],
      "execution_count": 263,
      "outputs": [
        {
          "output_type": "execute_result",
          "data": {
            "text/html": [
              "<div>\n",
              "<style scoped>\n",
              "    .dataframe tbody tr th:only-of-type {\n",
              "        vertical-align: middle;\n",
              "    }\n",
              "\n",
              "    .dataframe tbody tr th {\n",
              "        vertical-align: top;\n",
              "    }\n",
              "\n",
              "    .dataframe thead th {\n",
              "        text-align: right;\n",
              "    }\n",
              "</style>\n",
              "<table border=\"1\" class=\"dataframe\">\n",
              "  <thead>\n",
              "    <tr style=\"text-align: right;\">\n",
              "      <th></th>\n",
              "      <th>datetime</th>\n",
              "      <th>level</th>\n",
              "    </tr>\n",
              "  </thead>\n",
              "  <tbody>\n",
              "    <tr>\n",
              "      <th>0</th>\n",
              "      <td>2020-11-01 08:00:00</td>\n",
              "      <td>118.409735</td>\n",
              "    </tr>\n",
              "    <tr>\n",
              "      <th>1</th>\n",
              "      <td>2020-11-01 08:01:00</td>\n",
              "      <td>119.734964</td>\n",
              "    </tr>\n",
              "    <tr>\n",
              "      <th>2</th>\n",
              "      <td>2020-11-01 08:02:00</td>\n",
              "      <td>121.233155</td>\n",
              "    </tr>\n",
              "    <tr>\n",
              "      <th>3</th>\n",
              "      <td>2020-11-01 08:03:00</td>\n",
              "      <td>114.618193</td>\n",
              "    </tr>\n",
              "    <tr>\n",
              "      <th>4</th>\n",
              "      <td>2020-11-01 08:04:00</td>\n",
              "      <td>115.389790</td>\n",
              "    </tr>\n",
              "  </tbody>\n",
              "</table>\n",
              "</div>"
            ],
            "text/plain": [
              "             datetime       level\n",
              "0 2020-11-01 08:00:00  118.409735\n",
              "1 2020-11-01 08:01:00  119.734964\n",
              "2 2020-11-01 08:02:00  121.233155\n",
              "3 2020-11-01 08:03:00  114.618193\n",
              "4 2020-11-01 08:04:00  115.389790"
            ]
          },
          "metadata": {
            "tags": []
          },
          "execution_count": 263
        }
      ]
    },
    {
      "cell_type": "markdown",
      "metadata": {
        "id": "cF4IfTEt0vsw"
      },
      "source": [
        "\n",
        "#### Data usage: train_data: 70%, validation_data: 20%, test_data: 10%; in chronological order"
      ]
    },
    {
      "cell_type": "code",
      "metadata": {
        "id": "7ysDEsGbQKGd"
      },
      "source": [
        "train_pct=0.7\n",
        "val_pct=0.2\n",
        "# shuffle = False \n",
        "## here, we do not shuffle data during training, validation, testing; \n",
        "## it is easier to debug\n",
        "## after debugging, it can be set to true\n",
        "shuffle = True "
      ],
      "execution_count": 264,
      "outputs": []
    },
    {
      "cell_type": "markdown",
      "metadata": {
        "id": "RKPO40vjQKeS"
      },
      "source": [
        "# Create features and targets, dataset (generotor)\n",
        "Using sym, sector, issuer data"
      ]
    },
    {
      "cell_type": "code",
      "metadata": {
        "colab": {
          "base_uri": "https://localhost:8080/"
        },
        "id": "qFm8qKVRQUAr",
        "outputId": "1bc326bd-9137-4b32-f2e2-adeefed847c7"
      },
      "source": [
        "sym_feature_data = create_features(data=sym_data, name='sym')\n",
        "sec_feature_data = create_features(data=sec_avg_price_data, name='sec')\n",
        "issuer_feature_data = create_features(data=iss_avg_price_data, name='iss')\n",
        "\n",
        "sym_feature_data.shape, sec_feature_data.shape, issuer_feature_data.shape"
      ],
      "execution_count": 265,
      "outputs": [
        {
          "output_type": "execute_result",
          "data": {
            "text/plain": [
              "((9081, 21), (10000, 21), (10000, 21))"
            ]
          },
          "metadata": {
            "tags": []
          },
          "execution_count": 265
        }
      ]
    },
    {
      "cell_type": "code",
      "metadata": {
        "colab": {
          "base_uri": "https://localhost:8080/",
          "height": 394
        },
        "id": "KxxXJ7gBI-zM",
        "outputId": "c15cde3d-3360-4732-b60d-4f1a0058861b"
      },
      "source": [
        "feature_data = sym_feature_data.merge(sec_feature_data, on='datetime')\n",
        "feature_data = feature_data.merge(issuer_feature_data, on='datetime')\n",
        "feature_data.dropna().head()"
      ],
      "execution_count": 266,
      "outputs": [
        {
          "output_type": "execute_result",
          "data": {
            "text/html": [
              "<div>\n",
              "<style scoped>\n",
              "    .dataframe tbody tr th:only-of-type {\n",
              "        vertical-align: middle;\n",
              "    }\n",
              "\n",
              "    .dataframe tbody tr th {\n",
              "        vertical-align: top;\n",
              "    }\n",
              "\n",
              "    .dataframe thead th {\n",
              "        text-align: right;\n",
              "    }\n",
              "</style>\n",
              "<table border=\"1\" class=\"dataframe\">\n",
              "  <thead>\n",
              "    <tr style=\"text-align: right;\">\n",
              "      <th></th>\n",
              "      <th>datetime</th>\n",
              "      <th>sym_level</th>\n",
              "      <th>sym_pct_change_1m</th>\n",
              "      <th>sym_short_ma</th>\n",
              "      <th>sym_short_ma_pct_change_baseline</th>\n",
              "      <th>sym_short_ma_pct_change_10m</th>\n",
              "      <th>sym_short_std</th>\n",
              "      <th>sym_short_std_pct_change_10m</th>\n",
              "      <th>sym_long_ma</th>\n",
              "      <th>sym_long_ma_pct_change_baseline</th>\n",
              "      <th>sym_long_ma_pct_change_60m</th>\n",
              "      <th>sym_long_std</th>\n",
              "      <th>sym_long_std_pct_change_60m</th>\n",
              "      <th>sym_short_ewm</th>\n",
              "      <th>sym_short_ewm_pct_change_baseline</th>\n",
              "      <th>sym_long_ewm</th>\n",
              "      <th>sym_long_ewm_pct_change_baseline</th>\n",
              "      <th>sym_rsi</th>\n",
              "      <th>sym_wma</th>\n",
              "      <th>sym_wma_pct_change</th>\n",
              "      <th>sym_macd</th>\n",
              "      <th>sec_level</th>\n",
              "      <th>sec_pct_change_1m</th>\n",
              "      <th>sec_short_ma</th>\n",
              "      <th>sec_short_ma_pct_change_baseline</th>\n",
              "      <th>sec_short_ma_pct_change_10m</th>\n",
              "      <th>sec_short_std</th>\n",
              "      <th>sec_short_std_pct_change_10m</th>\n",
              "      <th>sec_long_ma</th>\n",
              "      <th>sec_long_ma_pct_change_baseline</th>\n",
              "      <th>sec_long_ma_pct_change_60m</th>\n",
              "      <th>sec_long_std</th>\n",
              "      <th>sec_long_std_pct_change_60m</th>\n",
              "      <th>sec_short_ewm</th>\n",
              "      <th>sec_short_ewm_pct_change_baseline</th>\n",
              "      <th>sec_long_ewm</th>\n",
              "      <th>sec_long_ewm_pct_change_baseline</th>\n",
              "      <th>sec_rsi</th>\n",
              "      <th>sec_wma</th>\n",
              "      <th>sec_wma_pct_change</th>\n",
              "      <th>sec_macd</th>\n",
              "      <th>iss_level</th>\n",
              "      <th>iss_pct_change_1m</th>\n",
              "      <th>iss_short_ma</th>\n",
              "      <th>iss_short_ma_pct_change_baseline</th>\n",
              "      <th>iss_short_ma_pct_change_10m</th>\n",
              "      <th>iss_short_std</th>\n",
              "      <th>iss_short_std_pct_change_10m</th>\n",
              "      <th>iss_long_ma</th>\n",
              "      <th>iss_long_ma_pct_change_baseline</th>\n",
              "      <th>iss_long_ma_pct_change_60m</th>\n",
              "      <th>iss_long_std</th>\n",
              "      <th>iss_long_std_pct_change_60m</th>\n",
              "      <th>iss_short_ewm</th>\n",
              "      <th>iss_short_ewm_pct_change_baseline</th>\n",
              "      <th>iss_long_ewm</th>\n",
              "      <th>iss_long_ewm_pct_change_baseline</th>\n",
              "      <th>iss_rsi</th>\n",
              "      <th>iss_wma</th>\n",
              "      <th>iss_wma_pct_change</th>\n",
              "      <th>iss_macd</th>\n",
              "    </tr>\n",
              "  </thead>\n",
              "  <tbody>\n",
              "    <tr>\n",
              "      <th>119</th>\n",
              "      <td>2020-11-01 10:08:00</td>\n",
              "      <td>363.025445</td>\n",
              "      <td>-0.001783</td>\n",
              "      <td>362.101787</td>\n",
              "      <td>-0.002544</td>\n",
              "      <td>0.006819</td>\n",
              "      <td>1.444551</td>\n",
              "      <td>0.120024</td>\n",
              "      <td>358.287132</td>\n",
              "      <td>-0.013052</td>\n",
              "      <td>0.012976</td>\n",
              "      <td>2.269223</td>\n",
              "      <td>0.236285</td>\n",
              "      <td>362.331840</td>\n",
              "      <td>-0.001911</td>\n",
              "      <td>358.710578</td>\n",
              "      <td>-0.011886</td>\n",
              "      <td>62.236336</td>\n",
              "      <td>360.980070</td>\n",
              "      <td>0.000590</td>\n",
              "      <td>3.621262</td>\n",
              "      <td>114.915251</td>\n",
              "      <td>0.005788</td>\n",
              "      <td>113.657239</td>\n",
              "      <td>-0.010947</td>\n",
              "      <td>0.020301</td>\n",
              "      <td>1.338272</td>\n",
              "      <td>0.104170</td>\n",
              "      <td>108.852665</td>\n",
              "      <td>-0.052757</td>\n",
              "      <td>0.007424</td>\n",
              "      <td>3.038142</td>\n",
              "      <td>0.382714</td>\n",
              "      <td>113.677289</td>\n",
              "      <td>-0.010773</td>\n",
              "      <td>110.057192</td>\n",
              "      <td>-0.042275</td>\n",
              "      <td>56.857268</td>\n",
              "      <td>112.385105</td>\n",
              "      <td>0.002275</td>\n",
              "      <td>3.620097</td>\n",
              "      <td>124.721856</td>\n",
              "      <td>0.023202</td>\n",
              "      <td>121.485079</td>\n",
              "      <td>-0.025952</td>\n",
              "      <td>0.018431</td>\n",
              "      <td>2.480259</td>\n",
              "      <td>0.011981</td>\n",
              "      <td>117.750473</td>\n",
              "      <td>-0.055895</td>\n",
              "      <td>-0.002283</td>\n",
              "      <td>2.962006</td>\n",
              "      <td>0.037873</td>\n",
              "      <td>121.663390</td>\n",
              "      <td>-0.024522</td>\n",
              "      <td>118.758964</td>\n",
              "      <td>-0.047810</td>\n",
              "      <td>53.932622</td>\n",
              "      <td>120.382416</td>\n",
              "      <td>0.002915</td>\n",
              "      <td>2.904427</td>\n",
              "    </tr>\n",
              "    <tr>\n",
              "      <th>120</th>\n",
              "      <td>2020-11-01 10:09:00</td>\n",
              "      <td>362.074385</td>\n",
              "      <td>-0.002620</td>\n",
              "      <td>362.297772</td>\n",
              "      <td>0.000617</td>\n",
              "      <td>0.006959</td>\n",
              "      <td>1.267018</td>\n",
              "      <td>0.015152</td>\n",
              "      <td>358.353043</td>\n",
              "      <td>-0.010278</td>\n",
              "      <td>0.012874</td>\n",
              "      <td>2.321118</td>\n",
              "      <td>0.215685</td>\n",
              "      <td>362.285030</td>\n",
              "      <td>0.000582</td>\n",
              "      <td>358.820867</td>\n",
              "      <td>-0.008986</td>\n",
              "      <td>59.041655</td>\n",
              "      <td>361.117292</td>\n",
              "      <td>0.000380</td>\n",
              "      <td>3.464163</td>\n",
              "      <td>111.655032</td>\n",
              "      <td>-0.028371</td>\n",
              "      <td>113.532414</td>\n",
              "      <td>0.016814</td>\n",
              "      <td>0.017749</td>\n",
              "      <td>1.468307</td>\n",
              "      <td>0.128190</td>\n",
              "      <td>108.896738</td>\n",
              "      <td>-0.024704</td>\n",
              "      <td>0.007990</td>\n",
              "      <td>3.059577</td>\n",
              "      <td>0.399902</td>\n",
              "      <td>113.309606</td>\n",
              "      <td>0.014819</td>\n",
              "      <td>110.109581</td>\n",
              "      <td>-0.013841</td>\n",
              "      <td>51.996163</td>\n",
              "      <td>112.413791</td>\n",
              "      <td>0.000255</td>\n",
              "      <td>3.200025</td>\n",
              "      <td>120.272341</td>\n",
              "      <td>-0.035676</td>\n",
              "      <td>121.199367</td>\n",
              "      <td>0.007708</td>\n",
              "      <td>0.015785</td>\n",
              "      <td>2.433918</td>\n",
              "      <td>-0.026235</td>\n",
              "      <td>117.796645</td>\n",
              "      <td>-0.020584</td>\n",
              "      <td>-0.001358</td>\n",
              "      <td>2.979607</td>\n",
              "      <td>0.055820</td>\n",
              "      <td>121.410472</td>\n",
              "      <td>0.009463</td>\n",
              "      <td>118.808583</td>\n",
              "      <td>-0.012170</td>\n",
              "      <td>50.940639</td>\n",
              "      <td>120.428189</td>\n",
              "      <td>0.000380</td>\n",
              "      <td>2.601890</td>\n",
              "    </tr>\n",
              "    <tr>\n",
              "      <th>121</th>\n",
              "      <td>2020-11-01 10:10:00</td>\n",
              "      <td>362.010268</td>\n",
              "      <td>-0.000177</td>\n",
              "      <td>362.510391</td>\n",
              "      <td>0.001382</td>\n",
              "      <td>0.007143</td>\n",
              "      <td>0.957583</td>\n",
              "      <td>-0.169164</td>\n",
              "      <td>358.419781</td>\n",
              "      <td>-0.009918</td>\n",
              "      <td>0.012707</td>\n",
              "      <td>2.368062</td>\n",
              "      <td>0.222576</td>\n",
              "      <td>362.235073</td>\n",
              "      <td>0.000621</td>\n",
              "      <td>358.925437</td>\n",
              "      <td>-0.008521</td>\n",
              "      <td>58.831043</td>\n",
              "      <td>361.240511</td>\n",
              "      <td>0.000341</td>\n",
              "      <td>3.309636</td>\n",
              "      <td>112.960841</td>\n",
              "      <td>0.011695</td>\n",
              "      <td>113.550614</td>\n",
              "      <td>0.005221</td>\n",
              "      <td>0.015961</td>\n",
              "      <td>1.459027</td>\n",
              "      <td>0.113615</td>\n",
              "      <td>108.998000</td>\n",
              "      <td>-0.035082</td>\n",
              "      <td>0.009121</td>\n",
              "      <td>3.092240</td>\n",
              "      <td>0.411632</td>\n",
              "      <td>113.246194</td>\n",
              "      <td>0.002526</td>\n",
              "      <td>110.203065</td>\n",
              "      <td>-0.024414</td>\n",
              "      <td>53.638501</td>\n",
              "      <td>112.516223</td>\n",
              "      <td>0.000911</td>\n",
              "      <td>3.043130</td>\n",
              "      <td>122.559112</td>\n",
              "      <td>0.019013</td>\n",
              "      <td>121.382799</td>\n",
              "      <td>-0.009598</td>\n",
              "      <td>0.013702</td>\n",
              "      <td>2.463124</td>\n",
              "      <td>0.063716</td>\n",
              "      <td>117.909144</td>\n",
              "      <td>-0.037941</td>\n",
              "      <td>0.000461</td>\n",
              "      <td>3.030292</td>\n",
              "      <td>0.087511</td>\n",
              "      <td>121.619316</td>\n",
              "      <td>-0.007668</td>\n",
              "      <td>118.931551</td>\n",
              "      <td>-0.029598</td>\n",
              "      <td>52.346165</td>\n",
              "      <td>120.610911</td>\n",
              "      <td>0.001517</td>\n",
              "      <td>2.687765</td>\n",
              "    </tr>\n",
              "    <tr>\n",
              "      <th>122</th>\n",
              "      <td>2020-11-01 10:11:00</td>\n",
              "      <td>361.319092</td>\n",
              "      <td>-0.001909</td>\n",
              "      <td>362.534750</td>\n",
              "      <td>0.003365</td>\n",
              "      <td>0.006398</td>\n",
              "      <td>0.919362</td>\n",
              "      <td>-0.094040</td>\n",
              "      <td>358.489630</td>\n",
              "      <td>-0.007831</td>\n",
              "      <td>0.012599</td>\n",
              "      <td>2.391015</td>\n",
              "      <td>0.236186</td>\n",
              "      <td>362.068531</td>\n",
              "      <td>0.002074</td>\n",
              "      <td>359.003918</td>\n",
              "      <td>-0.006408</td>\n",
              "      <td>56.580309</td>\n",
              "      <td>361.310325</td>\n",
              "      <td>0.000193</td>\n",
              "      <td>3.064613</td>\n",
              "      <td>113.695553</td>\n",
              "      <td>0.006504</td>\n",
              "      <td>113.745660</td>\n",
              "      <td>0.000441</td>\n",
              "      <td>0.016311</td>\n",
              "      <td>1.314007</td>\n",
              "      <td>0.102077</td>\n",
              "      <td>109.148681</td>\n",
              "      <td>-0.039992</td>\n",
              "      <td>0.011583</td>\n",
              "      <td>3.097279</td>\n",
              "      <td>0.417969</td>\n",
              "      <td>113.327896</td>\n",
              "      <td>-0.003234</td>\n",
              "      <td>110.317572</td>\n",
              "      <td>-0.029711</td>\n",
              "      <td>54.543696</td>\n",
              "      <td>112.655661</td>\n",
              "      <td>0.001239</td>\n",
              "      <td>3.010323</td>\n",
              "      <td>120.730867</td>\n",
              "      <td>-0.014917</td>\n",
              "      <td>121.684028</td>\n",
              "      <td>0.007895</td>\n",
              "      <td>0.015014</td>\n",
              "      <td>2.126393</td>\n",
              "      <td>0.005007</td>\n",
              "      <td>117.969370</td>\n",
              "      <td>-0.022873</td>\n",
              "      <td>0.001454</td>\n",
              "      <td>3.050131</td>\n",
              "      <td>0.102783</td>\n",
              "      <td>121.457780</td>\n",
              "      <td>0.006021</td>\n",
              "      <td>118.990545</td>\n",
              "      <td>-0.014415</td>\n",
              "      <td>51.134546</td>\n",
              "      <td>120.660118</td>\n",
              "      <td>0.000408</td>\n",
              "      <td>2.467235</td>\n",
              "    </tr>\n",
              "    <tr>\n",
              "      <th>123</th>\n",
              "      <td>2020-11-01 10:13:00</td>\n",
              "      <td>360.276200</td>\n",
              "      <td>-0.002886</td>\n",
              "      <td>362.441244</td>\n",
              "      <td>0.006009</td>\n",
              "      <td>0.005233</td>\n",
              "      <td>1.098940</td>\n",
              "      <td>0.635582</td>\n",
              "      <td>358.538977</td>\n",
              "      <td>-0.004822</td>\n",
              "      <td>0.012470</td>\n",
              "      <td>2.396915</td>\n",
              "      <td>0.225941</td>\n",
              "      <td>361.742653</td>\n",
              "      <td>0.004070</td>\n",
              "      <td>359.045632</td>\n",
              "      <td>-0.003416</td>\n",
              "      <td>53.391947</td>\n",
              "      <td>361.304284</td>\n",
              "      <td>-0.000017</td>\n",
              "      <td>2.697021</td>\n",
              "      <td>111.272375</td>\n",
              "      <td>-0.009749</td>\n",
              "      <td>113.392419</td>\n",
              "      <td>0.019053</td>\n",
              "      <td>0.011744</td>\n",
              "      <td>1.446497</td>\n",
              "      <td>-0.028156</td>\n",
              "      <td>109.312123</td>\n",
              "      <td>-0.017617</td>\n",
              "      <td>0.014646</td>\n",
              "      <td>3.106290</td>\n",
              "      <td>0.507676</td>\n",
              "      <td>112.811346</td>\n",
              "      <td>0.013831</td>\n",
              "      <td>110.413895</td>\n",
              "      <td>-0.007715</td>\n",
              "      <td>51.087428</td>\n",
              "      <td>112.664241</td>\n",
              "      <td>-0.000312</td>\n",
              "      <td>2.397451</td>\n",
              "      <td>118.504555</td>\n",
              "      <td>0.008879</td>\n",
              "      <td>121.162190</td>\n",
              "      <td>0.022426</td>\n",
              "      <td>0.010951</td>\n",
              "      <td>2.385336</td>\n",
              "      <td>0.099897</td>\n",
              "      <td>118.061939</td>\n",
              "      <td>-0.003735</td>\n",
              "      <td>0.004654</td>\n",
              "      <td>3.002366</td>\n",
              "      <td>0.165955</td>\n",
              "      <td>120.326352</td>\n",
              "      <td>0.015373</td>\n",
              "      <td>118.926124</td>\n",
              "      <td>0.003557</td>\n",
              "      <td>49.716356</td>\n",
              "      <td>120.404927</td>\n",
              "      <td>-0.000781</td>\n",
              "      <td>1.400228</td>\n",
              "    </tr>\n",
              "  </tbody>\n",
              "</table>\n",
              "</div>"
            ],
            "text/plain": [
              "               datetime   sym_level  ...  iss_wma_pct_change  iss_macd\n",
              "119 2020-11-01 10:08:00  363.025445  ...            0.002915  2.904427\n",
              "120 2020-11-01 10:09:00  362.074385  ...            0.000380  2.601890\n",
              "121 2020-11-01 10:10:00  362.010268  ...            0.001517  2.687765\n",
              "122 2020-11-01 10:11:00  361.319092  ...            0.000408  2.467235\n",
              "123 2020-11-01 10:13:00  360.276200  ...           -0.000781  1.400228\n",
              "\n",
              "[5 rows x 61 columns]"
            ]
          },
          "metadata": {
            "tags": []
          },
          "execution_count": 266
        }
      ]
    },
    {
      "cell_type": "code",
      "metadata": {
        "colab": {
          "base_uri": "https://localhost:8080/"
        },
        "id": "ZO-RweAEI-zN",
        "outputId": "d2037d19-c89f-44f4-afcf-d5139e3b2b84"
      },
      "source": [
        "feature_data.shape"
      ],
      "execution_count": 267,
      "outputs": [
        {
          "output_type": "execute_result",
          "data": {
            "text/plain": [
              "(9081, 61)"
            ]
          },
          "metadata": {
            "tags": []
          },
          "execution_count": 267
        }
      ]
    },
    {
      "cell_type": "code",
      "metadata": {
        "id": "PYrl2YzbWU6Z"
      },
      "source": [
        "col_idx_map = {col: idx for idx, col in enumerate(feature_data.columns)}\n",
        "# col_idx_map"
      ],
      "execution_count": 268,
      "outputs": []
    },
    {
      "cell_type": "markdown",
      "metadata": {
        "id": "5-74j0oNRW0A"
      },
      "source": [
        "#### Target variable: sym_pct_change_1m\n",
        "We aim to predict the next-minute level, and the actual target variable is the percentage change of the next-minute level compared to current time (minute). \n",
        "\n",
        "\n",
        "sym_pct_change_1m (target) is stationary via test. "
      ]
    },
    {
      "cell_type": "code",
      "metadata": {
        "colab": {
          "base_uri": "https://localhost:8080/"
        },
        "id": "RqFEyJR0I-zW",
        "outputId": "2e161592-1090-413f-c375-818a4c2375f1"
      },
      "source": [
        "result = adfuller(feature_data['sym_pct_change_1m'].dropna())\n",
        "print('ADF Statistic: {}'.format(result[0]))\n",
        "print('p-value: {}'.format(result[1]))\n",
        "print('Critical Values:')\n",
        "for key, value in result[4].items():\n",
        "    print('\\t{}: {}'.format(key, value))"
      ],
      "execution_count": 269,
      "outputs": [
        {
          "output_type": "stream",
          "text": [
            "ADF Statistic: -58.21697210501099\n",
            "p-value: 0.0\n",
            "Critical Values:\n",
            "\t1%: -3.4310707085122814\n",
            "\t5%: -2.861858506720047\n",
            "\t10%: -2.566939536083911\n"
          ],
          "name": "stdout"
        }
      ]
    },
    {
      "cell_type": "code",
      "metadata": {
        "id": "oxmQ2C-BI-zX"
      },
      "source": [
        "window_size = 20\n",
        "batch_size = 32\n",
        "feature_dim = feature_data.shape[1]-1"
      ],
      "execution_count": 270,
      "outputs": []
    },
    {
      "cell_type": "code",
      "metadata": {
        "colab": {
          "base_uri": "https://localhost:8080/"
        },
        "id": "l-d_jdxyI-za",
        "outputId": "25c8aead-33e5-49d1-bcef-475afcf6bb3f"
      },
      "source": [
        "train_dataset, validation_dataset, test_dataset, test_data, scaler = train_val_test_split(feature_data, \n",
        "                                                                                          window_size=window_size, \n",
        "                                                                                          batch_size=batch_size,\n",
        "                                                                                          train_pct=train_pct, \n",
        "                                                                                          val_pct=val_pct,\n",
        "                                                                                          shuffle=shuffle)\n",
        "## scaler: used to do feature scaling, and to transform data in model evaluation\n"
      ],
      "execution_count": 271,
      "outputs": [
        {
          "output_type": "stream",
          "text": [
            "number of total data samples 8962 n_train 6273 n_validation 1792 n_test 897\n",
            "train number of batches 196\n",
            "validation number of batches 56\n",
            "test number of batches 29\n"
          ],
          "name": "stdout"
        }
      ]
    },
    {
      "cell_type": "markdown",
      "metadata": {
        "id": "A9aG4FY6ujOe"
      },
      "source": [
        "### check the correctness of our created dataset object"
      ]
    },
    {
      "cell_type": "code",
      "metadata": {
        "colab": {
          "base_uri": "https://localhost:8080/",
          "height": 134
        },
        "id": "8ulMneLuBfao",
        "outputId": "35d8fcaf-fed7-43bf-9062-bf32085e6e36"
      },
      "source": [
        "transformed_feature_data = feature_data.dropna().copy()\n",
        "transformed_feature_data.iloc[:, 1:] = scaler.transform(feature_data.dropna().iloc[:, 1:])\n",
        "transformed_feature_data.head(1)"
      ],
      "execution_count": 272,
      "outputs": [
        {
          "output_type": "execute_result",
          "data": {
            "text/html": [
              "<div>\n",
              "<style scoped>\n",
              "    .dataframe tbody tr th:only-of-type {\n",
              "        vertical-align: middle;\n",
              "    }\n",
              "\n",
              "    .dataframe tbody tr th {\n",
              "        vertical-align: top;\n",
              "    }\n",
              "\n",
              "    .dataframe thead th {\n",
              "        text-align: right;\n",
              "    }\n",
              "</style>\n",
              "<table border=\"1\" class=\"dataframe\">\n",
              "  <thead>\n",
              "    <tr style=\"text-align: right;\">\n",
              "      <th></th>\n",
              "      <th>datetime</th>\n",
              "      <th>sym_level</th>\n",
              "      <th>sym_pct_change_1m</th>\n",
              "      <th>sym_short_ma</th>\n",
              "      <th>sym_short_ma_pct_change_baseline</th>\n",
              "      <th>sym_short_ma_pct_change_10m</th>\n",
              "      <th>sym_short_std</th>\n",
              "      <th>sym_short_std_pct_change_10m</th>\n",
              "      <th>sym_long_ma</th>\n",
              "      <th>sym_long_ma_pct_change_baseline</th>\n",
              "      <th>sym_long_ma_pct_change_60m</th>\n",
              "      <th>sym_long_std</th>\n",
              "      <th>sym_long_std_pct_change_60m</th>\n",
              "      <th>sym_short_ewm</th>\n",
              "      <th>sym_short_ewm_pct_change_baseline</th>\n",
              "      <th>sym_long_ewm</th>\n",
              "      <th>sym_long_ewm_pct_change_baseline</th>\n",
              "      <th>sym_rsi</th>\n",
              "      <th>sym_wma</th>\n",
              "      <th>sym_wma_pct_change</th>\n",
              "      <th>sym_macd</th>\n",
              "      <th>sec_level</th>\n",
              "      <th>sec_pct_change_1m</th>\n",
              "      <th>sec_short_ma</th>\n",
              "      <th>sec_short_ma_pct_change_baseline</th>\n",
              "      <th>sec_short_ma_pct_change_10m</th>\n",
              "      <th>sec_short_std</th>\n",
              "      <th>sec_short_std_pct_change_10m</th>\n",
              "      <th>sec_long_ma</th>\n",
              "      <th>sec_long_ma_pct_change_baseline</th>\n",
              "      <th>sec_long_ma_pct_change_60m</th>\n",
              "      <th>sec_long_std</th>\n",
              "      <th>sec_long_std_pct_change_60m</th>\n",
              "      <th>sec_short_ewm</th>\n",
              "      <th>sec_short_ewm_pct_change_baseline</th>\n",
              "      <th>sec_long_ewm</th>\n",
              "      <th>sec_long_ewm_pct_change_baseline</th>\n",
              "      <th>sec_rsi</th>\n",
              "      <th>sec_wma</th>\n",
              "      <th>sec_wma_pct_change</th>\n",
              "      <th>sec_macd</th>\n",
              "      <th>iss_level</th>\n",
              "      <th>iss_pct_change_1m</th>\n",
              "      <th>iss_short_ma</th>\n",
              "      <th>iss_short_ma_pct_change_baseline</th>\n",
              "      <th>iss_short_ma_pct_change_10m</th>\n",
              "      <th>iss_short_std</th>\n",
              "      <th>iss_short_std_pct_change_10m</th>\n",
              "      <th>iss_long_ma</th>\n",
              "      <th>iss_long_ma_pct_change_baseline</th>\n",
              "      <th>iss_long_ma_pct_change_60m</th>\n",
              "      <th>iss_long_std</th>\n",
              "      <th>iss_long_std_pct_change_60m</th>\n",
              "      <th>iss_short_ewm</th>\n",
              "      <th>iss_short_ewm_pct_change_baseline</th>\n",
              "      <th>iss_long_ewm</th>\n",
              "      <th>iss_long_ewm_pct_change_baseline</th>\n",
              "      <th>iss_rsi</th>\n",
              "      <th>iss_wma</th>\n",
              "      <th>iss_wma_pct_change</th>\n",
              "      <th>iss_macd</th>\n",
              "    </tr>\n",
              "  </thead>\n",
              "  <tbody>\n",
              "    <tr>\n",
              "      <th>119</th>\n",
              "      <td>2020-11-01 10:08:00</td>\n",
              "      <td>-0.409749</td>\n",
              "      <td>-0.228713</td>\n",
              "      <td>-0.480381</td>\n",
              "      <td>-0.368388</td>\n",
              "      <td>1.065232</td>\n",
              "      <td>0.185733</td>\n",
              "      <td>-0.096233</td>\n",
              "      <td>-0.765079</td>\n",
              "      <td>-1.107767</td>\n",
              "      <td>0.844292</td>\n",
              "      <td>-0.215232</td>\n",
              "      <td>0.008204</td>\n",
              "      <td>-0.464273</td>\n",
              "      <td>-0.313235</td>\n",
              "      <td>-0.7405</td>\n",
              "      <td>-1.122799</td>\n",
              "      <td>1.503382</td>\n",
              "      <td>-0.563976</td>\n",
              "      <td>1.045834</td>\n",
              "      <td>1.406059</td>\n",
              "      <td>0.576572</td>\n",
              "      <td>0.188202</td>\n",
              "      <td>0.478003</td>\n",
              "      <td>-0.519504</td>\n",
              "      <td>0.912</td>\n",
              "      <td>-1.087625</td>\n",
              "      <td>0.04371</td>\n",
              "      <td>0.038246</td>\n",
              "      <td>-1.427269</td>\n",
              "      <td>0.094009</td>\n",
              "      <td>0.086016</td>\n",
              "      <td>0.730365</td>\n",
              "      <td>0.480469</td>\n",
              "      <td>-0.585218</td>\n",
              "      <td>0.156302</td>\n",
              "      <td>-1.28383</td>\n",
              "      <td>2.257337</td>\n",
              "      <td>0.36399</td>\n",
              "      <td>1.150555</td>\n",
              "      <td>1.474062</td>\n",
              "      <td>0.104436</td>\n",
              "      <td>0.472405</td>\n",
              "      <td>-0.154284</td>\n",
              "      <td>-0.839599</td>\n",
              "      <td>0.803907</td>\n",
              "      <td>-1.043646</td>\n",
              "      <td>-0.143558</td>\n",
              "      <td>-0.490641</td>\n",
              "      <td>-1.359468</td>\n",
              "      <td>-0.116184</td>\n",
              "      <td>-1.593166</td>\n",
              "      <td>0.023599</td>\n",
              "      <td>-0.140781</td>\n",
              "      <td>-0.888204</td>\n",
              "      <td>-0.403878</td>\n",
              "      <td>-1.250266</td>\n",
              "      <td>1.952112</td>\n",
              "      <td>-0.252542</td>\n",
              "      <td>1.18949</td>\n",
              "      <td>1.121424</td>\n",
              "    </tr>\n",
              "  </tbody>\n",
              "</table>\n",
              "</div>"
            ],
            "text/plain": [
              "               datetime  sym_level  ...  iss_wma_pct_change  iss_macd\n",
              "119 2020-11-01 10:08:00  -0.409749  ...             1.18949  1.121424\n",
              "\n",
              "[1 rows x 61 columns]"
            ]
          },
          "metadata": {
            "tags": []
          },
          "execution_count": 272
        }
      ]
    },
    {
      "cell_type": "code",
      "metadata": {
        "id": "UUh1t8_ZI-za"
      },
      "source": [
        "if shuffle==False:\n",
        "  for x, y in train_dataset:\n",
        "      print(\"x.shape: (batch_size, window_size, feature_dimension)\", x.shape)\n",
        "      print(\"y.shape:\", y.shape)\n",
        "      init_idx = feature_data.dropna().index[0]\n",
        "      transformed_row = np.array(scaler.transform(feature_data.iloc[init_idx:init_idx+window_size, 1:]))\n",
        "      print(\"The first time step in the first sample:\")\n",
        "      print(x[0, 0, :])\n",
        "      assert np.array_equal(x[0], transformed_row)\n",
        "      target_row = np.array(feature_data.iloc[init_idx+window_size, 1:])\n",
        "      target_row = scaler.transform(target_row[np.newaxis, :]) \n",
        "      assert np.array_equal(y[0], np.array(target_row[0, 1]))\n",
        "      break"
      ],
      "execution_count": 273,
      "outputs": []
    },
    {
      "cell_type": "markdown",
      "metadata": {
        "id": "BB1XIPQSI-zb"
      },
      "source": [
        "# Create, train and test models\n",
        "The root_mean_squared_error presented here is computed based on the transformed target (percentage change of the next minute), which is not the RMSE of the predicted level of the next minute. The final evaluation of the models will be presented later. \n",
        "\n"
      ]
    },
    {
      "cell_type": "markdown",
      "metadata": {
        "id": "vQ9C4Vpbv2xI"
      },
      "source": [
        "Baseline model #1: use the value from last trade"
      ]
    },
    {
      "cell_type": "code",
      "metadata": {
        "colab": {
          "base_uri": "https://localhost:8080/"
        },
        "id": "4NEa3LEuI-zc",
        "outputId": "6b357246-90a2-46de-e2a1-cac7c0196a66"
      },
      "source": [
        "baseline_last_trade_model = Baseline_last_trade()\n",
        "baseline_last_trade_model.compile(loss=tf.losses.MeanSquaredError(),\n",
        "                                  metrics=[tf.metrics.MeanAbsoluteError(), tf.keras.metrics.RootMeanSquaredError()])\n",
        "baseline_last_trade_model.evaluate(test_dataset, steps=len(test_dataset))"
      ],
      "execution_count": 274,
      "outputs": [
        {
          "output_type": "stream",
          "text": [
            "29/29 [==============================] - 0s 2ms/step - loss: 1.5754 - mean_absolute_error: 0.2920 - root_mean_squared_error: 1.2551\n"
          ],
          "name": "stdout"
        },
        {
          "output_type": "execute_result",
          "data": {
            "text/plain": [
              "[1.575355711039798, 0.2919536098167227, 1.2551317392119767]"
            ]
          },
          "metadata": {
            "tags": []
          },
          "execution_count": 274
        }
      ]
    },
    {
      "cell_type": "markdown",
      "metadata": {
        "id": "fPxRfT64I-zd"
      },
      "source": [
        "Baseline model #2: use the short-term moving average from previous trades"
      ]
    },
    {
      "cell_type": "code",
      "metadata": {
        "colab": {
          "base_uri": "https://localhost:8080/"
        },
        "id": "LHynb9K3I-zf",
        "outputId": "3a1aa9eb-9487-4938-82eb-7115ad3302c5"
      },
      "source": [
        "baseline_st_ma = Baseline_ma(ma_index=col_idx_map['sym_short_ma_pct_change_baseline']-1) ## short-term moving average\n",
        "\n",
        "baseline_st_ma.compile(loss=tf.losses.MeanSquaredError(),\n",
        "                        metrics=[tf.metrics.MeanAbsoluteError(), tf.keras.metrics.RootMeanSquaredError()])\n",
        "baseline_st_ma.evaluate(test_dataset, steps=len(test_dataset))"
      ],
      "execution_count": 275,
      "outputs": [
        {
          "output_type": "stream",
          "text": [
            "29/29 [==============================] - 0s 2ms/step - loss: 3.5554 - mean_absolute_error: 0.6997 - root_mean_squared_error: 1.8856\n"
          ],
          "name": "stdout"
        },
        {
          "output_type": "execute_result",
          "data": {
            "text/plain": [
              "[3.555419055552318, 0.6997337417512067, 1.8855818823203374]"
            ]
          },
          "metadata": {
            "tags": []
          },
          "execution_count": 275
        }
      ]
    },
    {
      "cell_type": "markdown",
      "metadata": {
        "id": "Vdh2duaMI-zi"
      },
      "source": [
        "Baseline model #3: use the long-term moving average from previous trades"
      ]
    },
    {
      "cell_type": "code",
      "metadata": {
        "colab": {
          "base_uri": "https://localhost:8080/"
        },
        "id": "q1VKeNBXI-zj",
        "outputId": "29650a33-5229-4671-dea6-ff392b61a5f4"
      },
      "source": [
        "baseline_lt_ma = Baseline_ma(ma_index=col_idx_map['sym_long_ma_pct_change_baseline']-1) ## long-term moving average\n",
        "\n",
        "baseline_lt_ma.compile(loss=tf.losses.MeanSquaredError(),\n",
        "                        metrics=[tf.metrics.MeanAbsoluteError(), tf.keras.metrics.RootMeanSquaredError()])\n",
        "baseline_lt_ma.evaluate(test_dataset, steps=len(test_dataset))"
      ],
      "execution_count": 276,
      "outputs": [
        {
          "output_type": "stream",
          "text": [
            "29/29 [==============================] - 0s 3ms/step - loss: 9.9349 - mean_absolute_error: 1.4784 - root_mean_squared_error: 3.1520\n"
          ],
          "name": "stdout"
        },
        {
          "output_type": "execute_result",
          "data": {
            "text/plain": [
              "[9.934871737299295, 1.4783711021648054, 3.1519631733139057]"
            ]
          },
          "metadata": {
            "tags": []
          },
          "execution_count": 276
        }
      ]
    },
    {
      "cell_type": "markdown",
      "metadata": {
        "id": "wpq853YtI-zk"
      },
      "source": [
        "Conv1D model"
      ]
    },
    {
      "cell_type": "code",
      "metadata": {
        "colab": {
          "base_uri": "https://localhost:8080/"
        },
        "id": "l8CWqzH_I-zk",
        "outputId": "21ed4dc6-4fc2-4f94-c98f-366da8d83634"
      },
      "source": [
        "conv1d_model = get_conv1d_model(input_shape=(window_size, feature_dim), \n",
        "                                conv_width=[10, 5, 2, 2], \n",
        "                                filter_size=[64, 64, 32, 16])\n",
        "conv1d_model.summary()"
      ],
      "execution_count": 277,
      "outputs": [
        {
          "output_type": "stream",
          "text": [
            "Model: \"functional_31\"\n",
            "_________________________________________________________________\n",
            "Layer (type)                 Output Shape              Param #   \n",
            "=================================================================\n",
            "input_16 (InputLayer)        [(None, 20, 60)]          0         \n",
            "_________________________________________________________________\n",
            "conv1d_12 (Conv1D)           (None, 11, 64)            38464     \n",
            "_________________________________________________________________\n",
            "dropout_24 (Dropout)         (None, 11, 64)            0         \n",
            "_________________________________________________________________\n",
            "conv1d_13 (Conv1D)           (None, 7, 64)             20544     \n",
            "_________________________________________________________________\n",
            "dropout_25 (Dropout)         (None, 7, 64)             0         \n",
            "_________________________________________________________________\n",
            "conv1d_14 (Conv1D)           (None, 6, 32)             4128      \n",
            "_________________________________________________________________\n",
            "dropout_26 (Dropout)         (None, 6, 32)             0         \n",
            "_________________________________________________________________\n",
            "conv1d_15 (Conv1D)           (None, 5, 16)             1040      \n",
            "_________________________________________________________________\n",
            "dropout_27 (Dropout)         (None, 5, 16)             0         \n",
            "_________________________________________________________________\n",
            "flatten_12 (Flatten)         (None, 80)                0         \n",
            "_________________________________________________________________\n",
            "dense_15 (Dense)             (None, 1)                 81        \n",
            "=================================================================\n",
            "Total params: 64,257\n",
            "Trainable params: 64,257\n",
            "Non-trainable params: 0\n",
            "_________________________________________________________________\n"
          ],
          "name": "stdout"
        }
      ]
    },
    {
      "cell_type": "code",
      "metadata": {
        "id": "5M8BM1OgI-zl"
      },
      "source": [
        "# # print('Input shape:', (window_size, 10))\n",
        "# for x, y in train_dataset:\n",
        "#     print('Input shape:', x.shape)\n",
        "#     output_ = conv1d_model(x)\n",
        "#     print('Output shape:', output_.shape)\n",
        "#     print(\"Label shapre:\", y.shape)\n",
        "#     break\n"
      ],
      "execution_count": 278,
      "outputs": []
    },
    {
      "cell_type": "code",
      "metadata": {
        "colab": {
          "base_uri": "https://localhost:8080/"
        },
        "id": "Moztce8vI-zl",
        "outputId": "d3d13bc6-06eb-4d46-c011-912f6e9557c4"
      },
      "source": [
        "history = conv1d_model.fit(train_dataset, \n",
        "                            epochs=50, \n",
        "                            steps_per_epoch=len(train_dataset),\n",
        "                            validation_data=validation_dataset, \n",
        "                            validation_steps=len(validation_dataset),\n",
        "                            callbacks=[tf.keras.callbacks.EarlyStopping(monitor='val_root_mean_squared_error', patience=2)],\n",
        "                            verbose=2)"
      ],
      "execution_count": 279,
      "outputs": [
        {
          "output_type": "stream",
          "text": [
            "Epoch 1/50\n",
            "196/196 - 1s - loss: 0.0036 - mean_absolute_error: 0.3675 - root_mean_squared_error: 1.1982 - val_loss: 0.0024 - val_mean_absolute_error: 0.2445 - val_root_mean_squared_error: 0.3055\n",
            "Epoch 2/50\n",
            "196/196 - 1s - loss: 0.0027 - mean_absolute_error: 0.2702 - root_mean_squared_error: 1.2494 - val_loss: 0.0024 - val_mean_absolute_error: 0.2423 - val_root_mean_squared_error: 0.3057\n",
            "Epoch 3/50\n",
            "196/196 - 1s - loss: 0.0025 - mean_absolute_error: 0.2572 - root_mean_squared_error: 1.0197 - val_loss: 0.0024 - val_mean_absolute_error: 0.2444 - val_root_mean_squared_error: 0.3065\n"
          ],
          "name": "stdout"
        }
      ]
    },
    {
      "cell_type": "code",
      "metadata": {
        "colab": {
          "base_uri": "https://localhost:8080/"
        },
        "id": "meThuAlaI-zm",
        "scrolled": true,
        "outputId": "fc7de2f7-a0ec-4acf-b634-d54e01079f62"
      },
      "source": [
        "conv1d_model.evaluate(test_dataset, steps=len(test_dataset))"
      ],
      "execution_count": 280,
      "outputs": [
        {
          "output_type": "stream",
          "text": [
            "29/29 [==============================] - 0s 3ms/step - loss: 0.0027 - mean_absolute_error: 0.2706 - root_mean_squared_error: 0.9168\n"
          ],
          "name": "stdout"
        },
        {
          "output_type": "execute_result",
          "data": {
            "text/plain": [
              "[0.0026564238320008434, 0.27059751610089644, 0.9167862184896498]"
            ]
          },
          "metadata": {
            "tags": []
          },
          "execution_count": 280
        }
      ]
    },
    {
      "cell_type": "markdown",
      "metadata": {
        "id": "S8ZOZHcPiDAW"
      },
      "source": [
        "LSTM model"
      ]
    },
    {
      "cell_type": "code",
      "metadata": {
        "colab": {
          "base_uri": "https://localhost:8080/"
        },
        "id": "8PU4BXCPI-zn",
        "outputId": "b73aab93-fd1f-472b-bdef-d3a735b0ccaf"
      },
      "source": [
        "LSTM_model = get_LSTM_model(input_shape=(window_size, feature_dim),\n",
        "                               units_list=[64, 64, 32, 16])\n",
        "LSTM_model.summary()\n"
      ],
      "execution_count": 281,
      "outputs": [
        {
          "output_type": "stream",
          "text": [
            "Model: \"functional_33\"\n",
            "_________________________________________________________________\n",
            "Layer (type)                 Output Shape              Param #   \n",
            "=================================================================\n",
            "input_17 (InputLayer)        [(None, 20, 60)]          0         \n",
            "_________________________________________________________________\n",
            "lstm_15 (LSTM)               (None, 20, 64)            32000     \n",
            "_________________________________________________________________\n",
            "dropout_28 (Dropout)         (None, 20, 64)            0         \n",
            "_________________________________________________________________\n",
            "lstm_16 (LSTM)               (None, 20, 64)            33024     \n",
            "_________________________________________________________________\n",
            "dropout_29 (Dropout)         (None, 20, 64)            0         \n",
            "_________________________________________________________________\n",
            "lstm_17 (LSTM)               (None, 20, 32)            12416     \n",
            "_________________________________________________________________\n",
            "dropout_30 (Dropout)         (None, 20, 32)            0         \n",
            "_________________________________________________________________\n",
            "lstm_18 (LSTM)               (None, 20, 16)            3136      \n",
            "_________________________________________________________________\n",
            "dropout_31 (Dropout)         (None, 20, 16)            0         \n",
            "_________________________________________________________________\n",
            "lstm_19 (LSTM)               (None, 16)                2112      \n",
            "_________________________________________________________________\n",
            "dense_16 (Dense)             (None, 16)                272       \n",
            "_________________________________________________________________\n",
            "dense_17 (Dense)             (None, 1)                 17        \n",
            "=================================================================\n",
            "Total params: 82,977\n",
            "Trainable params: 82,977\n",
            "Non-trainable params: 0\n",
            "_________________________________________________________________\n"
          ],
          "name": "stdout"
        }
      ]
    },
    {
      "cell_type": "code",
      "metadata": {
        "colab": {
          "base_uri": "https://localhost:8080/"
        },
        "id": "PpslED87I-zn",
        "outputId": "eacd4324-1e54-4842-f0c7-d984eb0b8cc2"
      },
      "source": [
        "history = LSTM_model.fit(train_dataset, \n",
        "                          epochs=20, \n",
        "                          steps_per_epoch=len(train_dataset),\n",
        "                          validation_data=validation_dataset, \n",
        "                          validation_steps=len(validation_dataset),\n",
        "                          callbacks=[tf.keras.callbacks.EarlyStopping(monitor='val_root_mean_squared_error', patience=3)],\n",
        "                          verbose=2)"
      ],
      "execution_count": 282,
      "outputs": [
        {
          "output_type": "stream",
          "text": [
            "Epoch 1/20\n",
            "196/196 - 5s - loss: 0.0725 - mean_absolute_error: 0.2645 - root_mean_squared_error: 0.7657 - val_loss: 0.0459 - val_mean_absolute_error: 0.2398 - val_root_mean_squared_error: 0.3029\n",
            "Epoch 2/20\n",
            "196/196 - 3s - loss: 0.0570 - mean_absolute_error: 0.2406 - root_mean_squared_error: 0.8312 - val_loss: 0.0471 - val_mean_absolute_error: 0.2395 - val_root_mean_squared_error: 0.3071\n",
            "Epoch 3/20\n",
            "196/196 - 3s - loss: 0.0554 - mean_absolute_error: 0.2407 - root_mean_squared_error: 0.5152 - val_loss: 0.0462 - val_mean_absolute_error: 0.2448 - val_root_mean_squared_error: 0.3041\n",
            "Epoch 4/20\n",
            "196/196 - 3s - loss: 0.0637 - mean_absolute_error: 0.2516 - root_mean_squared_error: 0.8330 - val_loss: 0.0484 - val_mean_absolute_error: 0.2468 - val_root_mean_squared_error: 0.3112\n"
          ],
          "name": "stdout"
        }
      ]
    },
    {
      "cell_type": "code",
      "metadata": {
        "colab": {
          "base_uri": "https://localhost:8080/"
        },
        "id": "nWN1jVo6I-zn",
        "outputId": "2281b6b9-08c7-42eb-8ff9-16120f18a3f5"
      },
      "source": [
        "LSTM_model.evaluate(test_dataset, steps=len(test_dataset))"
      ],
      "execution_count": 283,
      "outputs": [
        {
          "output_type": "stream",
          "text": [
            "29/29 [==============================] - 0s 6ms/step - loss: 0.0888 - mean_absolute_error: 0.2833 - root_mean_squared_error: 1.0427\n"
          ],
          "name": "stdout"
        },
        {
          "output_type": "execute_result",
          "data": {
            "text/plain": [
              "[0.0887708958109905, 0.2833117173047104, 1.0427267768436501]"
            ]
          },
          "metadata": {
            "tags": []
          },
          "execution_count": 283
        }
      ]
    },
    {
      "cell_type": "markdown",
      "metadata": {
        "id": "PayTwGepTIbj"
      },
      "source": [
        "Linear regression model"
      ]
    },
    {
      "cell_type": "code",
      "metadata": {
        "colab": {
          "base_uri": "https://localhost:8080/"
        },
        "id": "aRf4K2K526qZ",
        "outputId": "8e828e3a-8166-4cc3-9c0e-1d35aedfb7bf"
      },
      "source": [
        "my_lr_model = get_lr_model(input_shape=(window_size, feature_dim))\n",
        "my_lr_model.summary()"
      ],
      "execution_count": 284,
      "outputs": [
        {
          "output_type": "stream",
          "text": [
            "Model: \"functional_35\"\n",
            "_________________________________________________________________\n",
            "Layer (type)                 Output Shape              Param #   \n",
            "=================================================================\n",
            "input_18 (InputLayer)        [(None, 20, 60)]          0         \n",
            "_________________________________________________________________\n",
            "tf_op_layer_strided_slice_3  [(None, 5, 60)]           0         \n",
            "_________________________________________________________________\n",
            "flatten_13 (Flatten)         (None, 300)               0         \n",
            "_________________________________________________________________\n",
            "dense_18 (Dense)             (None, 1)                 301       \n",
            "=================================================================\n",
            "Total params: 301\n",
            "Trainable params: 301\n",
            "Non-trainable params: 0\n",
            "_________________________________________________________________\n"
          ],
          "name": "stdout"
        }
      ]
    },
    {
      "cell_type": "code",
      "metadata": {
        "colab": {
          "base_uri": "https://localhost:8080/"
        },
        "id": "8Fr1EW7Hnw2z",
        "outputId": "6c387b52-ecd0-4add-9f54-255d4d1b7f0f"
      },
      "source": [
        "history = my_lr_model.fit(train_dataset, \n",
        "                          epochs=20, \n",
        "                          steps_per_epoch=len(train_dataset),\n",
        "                          validation_data=validation_dataset, \n",
        "                          validation_steps=len(validation_dataset),\n",
        "                          callbacks=[tf.keras.callbacks.EarlyStopping(monitor='val_root_mean_squared_error', patience=3)],\n",
        "                          verbose=2)"
      ],
      "execution_count": 285,
      "outputs": [
        {
          "output_type": "stream",
          "text": [
            "Epoch 1/20\n",
            "196/196 - 1s - loss: 0.1730 - mean_absolute_error: 0.3328 - root_mean_squared_error: 0.5552 - val_loss: 0.0962 - val_mean_absolute_error: 0.3175 - val_root_mean_squared_error: 0.4029\n",
            "Epoch 2/20\n",
            "196/196 - 1s - loss: 0.1167 - mean_absolute_error: 0.3305 - root_mean_squared_error: 1.1356 - val_loss: 0.1499 - val_mean_absolute_error: 0.4193 - val_root_mean_squared_error: 0.5215\n",
            "Epoch 3/20\n",
            "196/196 - 1s - loss: 0.1393 - mean_absolute_error: 0.3456 - root_mean_squared_error: 1.3781 - val_loss: 0.1057 - val_mean_absolute_error: 0.3184 - val_root_mean_squared_error: 0.4035\n",
            "Epoch 4/20\n",
            "196/196 - 1s - loss: 0.1087 - mean_absolute_error: 0.3170 - root_mean_squared_error: 0.8980 - val_loss: 0.2161 - val_mean_absolute_error: 0.5333 - val_root_mean_squared_error: 0.6464\n"
          ],
          "name": "stdout"
        }
      ]
    },
    {
      "cell_type": "code",
      "metadata": {
        "colab": {
          "base_uri": "https://localhost:8080/"
        },
        "id": "jIyGK8sh26vp",
        "outputId": "337fe181-7893-4777-9373-267532f50e23"
      },
      "source": [
        "my_lr_model.evaluate(test_dataset, steps=len(test_dataset))"
      ],
      "execution_count": 286,
      "outputs": [
        {
          "output_type": "stream",
          "text": [
            "29/29 [==============================] - 0s 3ms/step - loss: 0.1846 - mean_absolute_error: 0.4624 - root_mean_squared_error: 0.9021\n"
          ],
          "name": "stdout"
        },
        {
          "output_type": "execute_result",
          "data": {
            "text/plain": [
              "[0.1845934042109283, 0.46237040096951904, 0.9020662619102711]"
            ]
          },
          "metadata": {
            "tags": []
          },
          "execution_count": 286
        }
      ]
    },
    {
      "cell_type": "markdown",
      "metadata": {
        "id": "tkiRWnANauxt"
      },
      "source": [
        "Majority-voting model (simple averaging) uses the above two models: conv1d and LSTM.\n",
        "\n",
        "\n",
        "\n",
        "\n",
        "\n"
      ]
    },
    {
      "cell_type": "code",
      "metadata": {
        "colab": {
          "base_uri": "https://localhost:8080/"
        },
        "id": "moey_ZgfrLT9",
        "outputId": "daadd5eb-4e50-46f8-dacb-cf6df90afe2b"
      },
      "source": [
        "maj_model = get_myMajority_model(input_shape=(window_size, feature_dim), models=[conv1d_model, LSTM_model])\n",
        "maj_model.summary() ## no trainable parameters"
      ],
      "execution_count": 287,
      "outputs": [
        {
          "output_type": "stream",
          "text": [
            "Model: \"functional_37\"\n",
            "__________________________________________________________________________________________________\n",
            "Layer (type)                    Output Shape         Param #     Connected to                     \n",
            "==================================================================================================\n",
            "input_19 (InputLayer)           [(None, 20, 60)]     0                                            \n",
            "__________________________________________________________________________________________________\n",
            "functional_31 (Functional)      (None, 1)            64257       input_19[0][0]                   \n",
            "__________________________________________________________________________________________________\n",
            "functional_33 (Functional)      (None, 1)            82977       input_19[0][0]                   \n",
            "__________________________________________________________________________________________________\n",
            "tf_op_layer_stack_6 (TensorFlow [(None, 2, 1)]       0           functional_31[0][0]              \n",
            "                                                                 functional_33[0][0]              \n",
            "__________________________________________________________________________________________________\n",
            "flatten_14 (Flatten)            (None, 2)            0           tf_op_layer_stack_6[0][0]        \n",
            "__________________________________________________________________________________________________\n",
            "tf_op_layer_Mean_3 (TensorFlowO [(None, 1)]          0           flatten_14[0][0]                 \n",
            "==================================================================================================\n",
            "Total params: 147,234\n",
            "Trainable params: 0\n",
            "Non-trainable params: 147,234\n",
            "__________________________________________________________________________________________________\n"
          ],
          "name": "stdout"
        }
      ]
    },
    {
      "cell_type": "code",
      "metadata": {
        "colab": {
          "base_uri": "https://localhost:8080/"
        },
        "id": "bWG0w75drPJI",
        "outputId": "0c3f79df-6b75-47ca-c7bb-b445eba9fee7"
      },
      "source": [
        "maj_model.evaluate(test_dataset, steps=len(test_dataset))"
      ],
      "execution_count": 288,
      "outputs": [
        {
          "output_type": "stream",
          "text": [
            "29/29 [==============================] - 0s 10ms/step - loss: 0.0753 - mean_absolute_error: 0.2735 - root_mean_squared_error: 0.9163\n"
          ],
          "name": "stdout"
        },
        {
          "output_type": "execute_result",
          "data": {
            "text/plain": [
              "[0.07525185431385863, 0.27354132106075096, 0.9162808176758047]"
            ]
          },
          "metadata": {
            "tags": []
          },
          "execution_count": 288
        }
      ]
    },
    {
      "cell_type": "markdown",
      "metadata": {
        "id": "NG1Yf8sKa62m"
      },
      "source": [
        "The ensemble model (weighted averaging) uses the above two models: conv1d and LSTM.\n"
      ]
    },
    {
      "cell_type": "code",
      "metadata": {
        "colab": {
          "base_uri": "https://localhost:8080/"
        },
        "id": "C73ST00ArctK",
        "outputId": "c00f7608-a01d-48f6-ba76-d23519f30e55"
      },
      "source": [
        "# ensStack_model = get_myEnsStack_model(input_shape=(window_size, feature_dim), models=[my_lr_model, conv1d_model, LSTM_model])\n",
        "ensStack_model = get_myEnsStack_model(input_shape=(window_size, feature_dim), models=[conv1d_model, LSTM_model])\n",
        "ensStack_model.summary()"
      ],
      "execution_count": 289,
      "outputs": [
        {
          "output_type": "stream",
          "text": [
            "Model: \"functional_39\"\n",
            "__________________________________________________________________________________________________\n",
            "Layer (type)                    Output Shape         Param #     Connected to                     \n",
            "==================================================================================================\n",
            "input_20 (InputLayer)           [(None, 20, 60)]     0                                            \n",
            "__________________________________________________________________________________________________\n",
            "functional_31 (Functional)      (None, 1)            64257       input_20[0][0]                   \n",
            "__________________________________________________________________________________________________\n",
            "functional_33 (Functional)      (None, 1)            82977       input_20[0][0]                   \n",
            "__________________________________________________________________________________________________\n",
            "tf_op_layer_stack_7 (TensorFlow [(None, 2, 1)]       0           functional_31[1][0]              \n",
            "                                                                 functional_33[1][0]              \n",
            "__________________________________________________________________________________________________\n",
            "flatten_15 (Flatten)            (None, 2)            0           tf_op_layer_stack_7[0][0]        \n",
            "__________________________________________________________________________________________________\n",
            "dense_19 (Dense)                (None, 1)            2           flatten_15[0][0]                 \n",
            "==================================================================================================\n",
            "Total params: 147,236\n",
            "Trainable params: 2\n",
            "Non-trainable params: 147,234\n",
            "__________________________________________________________________________________________________\n"
          ],
          "name": "stdout"
        }
      ]
    },
    {
      "cell_type": "code",
      "metadata": {
        "colab": {
          "base_uri": "https://localhost:8080/"
        },
        "id": "LWGMXogMr8tD",
        "outputId": "3e1d9c6a-77a2-4645-85c0-0fb63fe2d919"
      },
      "source": [
        "history = ensStack_model.fit(train_dataset, \n",
        "                            epochs=50, \n",
        "                            steps_per_epoch=len(train_dataset),\n",
        "                            validation_data=validation_dataset, \n",
        "                            validation_steps=len(validation_dataset),\n",
        "                            callbacks=[tf.keras.callbacks.EarlyStopping(monitor='val_root_mean_squared_error', patience=2)],\n",
        "                            verbose=2)"
      ],
      "execution_count": 290,
      "outputs": [
        {
          "output_type": "stream",
          "text": [
            "Epoch 1/50\n",
            "196/196 - 3s - loss: 0.0576 - mean_absolute_error: 0.2447 - root_mean_squared_error: 0.6711 - val_loss: 0.0485 - val_mean_absolute_error: 0.2523 - val_root_mean_squared_error: 0.3114\n",
            "Epoch 2/50\n",
            "196/196 - 2s - loss: 0.0580 - mean_absolute_error: 0.2435 - root_mean_squared_error: 0.6893 - val_loss: 0.0484 - val_mean_absolute_error: 0.2465 - val_root_mean_squared_error: 0.3114\n",
            "Epoch 3/50\n",
            "196/196 - 2s - loss: 0.0731 - mean_absolute_error: 0.2583 - root_mean_squared_error: 1.1835 - val_loss: 0.0476 - val_mean_absolute_error: 0.2461 - val_root_mean_squared_error: 0.3086\n",
            "Epoch 4/50\n",
            "196/196 - 2s - loss: 0.0667 - mean_absolute_error: 0.2510 - root_mean_squared_error: 1.0747 - val_loss: 0.0445 - val_mean_absolute_error: 0.2379 - val_root_mean_squared_error: 0.2985\n",
            "Epoch 5/50\n",
            "196/196 - 2s - loss: 0.0542 - mean_absolute_error: 0.2360 - root_mean_squared_error: 0.5368 - val_loss: 0.0443 - val_mean_absolute_error: 0.2350 - val_root_mean_squared_error: 0.2975\n",
            "Epoch 6/50\n",
            "196/196 - 2s - loss: 0.0475 - mean_absolute_error: 0.2281 - root_mean_squared_error: 0.4432 - val_loss: 0.0447 - val_mean_absolute_error: 0.2394 - val_root_mean_squared_error: 0.2991\n",
            "Epoch 7/50\n",
            "196/196 - 2s - loss: 0.0460 - mean_absolute_error: 0.2305 - root_mean_squared_error: 0.3810 - val_loss: 0.0459 - val_mean_absolute_error: 0.2436 - val_root_mean_squared_error: 0.3032\n"
          ],
          "name": "stdout"
        }
      ]
    },
    {
      "cell_type": "code",
      "metadata": {
        "colab": {
          "base_uri": "https://localhost:8080/"
        },
        "id": "b5zcLDtDvPAV",
        "outputId": "cc3e36e4-bacc-4198-ed65-84b118de121c"
      },
      "source": [
        "ensStack_model.evaluate(test_dataset, steps=len(test_dataset))"
      ],
      "execution_count": 291,
      "outputs": [
        {
          "output_type": "stream",
          "text": [
            "29/29 [==============================] - 0s 7ms/step - loss: 0.0620 - mean_absolute_error: 0.2577 - root_mean_squared_error: 0.5869\n"
          ],
          "name": "stdout"
        },
        {
          "output_type": "execute_result",
          "data": {
            "text/plain": [
              "[0.062035888754602135, 0.2577401158653403, 0.586855239042349]"
            ]
          },
          "metadata": {
            "tags": []
          },
          "execution_count": 291
        }
      ]
    },
    {
      "cell_type": "markdown",
      "metadata": {
        "id": "-_OseIBW26__"
      },
      "source": [
        "# Model evaluation\n",
        "Here, we will compute the actual root-mean-square error of our predicted level. Also, the predictions are made one by one to simulate the real-time prediction (see the definition of model_eval). "
      ]
    },
    {
      "cell_type": "code",
      "metadata": {
        "colab": {
          "base_uri": "https://localhost:8080/",
          "height": 394
        },
        "id": "caXbeCT9QSMw",
        "outputId": "812508bc-13de-4ec0-ae31-b9d3f5bf88d6"
      },
      "source": [
        "raw_test_data = feature_data.iloc[-len(test_data):,:].reset_index().drop('index', axis=1)\n",
        "raw_test_data.head()"
      ],
      "execution_count": 292,
      "outputs": [
        {
          "output_type": "execute_result",
          "data": {
            "text/html": [
              "<div>\n",
              "<style scoped>\n",
              "    .dataframe tbody tr th:only-of-type {\n",
              "        vertical-align: middle;\n",
              "    }\n",
              "\n",
              "    .dataframe tbody tr th {\n",
              "        vertical-align: top;\n",
              "    }\n",
              "\n",
              "    .dataframe thead th {\n",
              "        text-align: right;\n",
              "    }\n",
              "</style>\n",
              "<table border=\"1\" class=\"dataframe\">\n",
              "  <thead>\n",
              "    <tr style=\"text-align: right;\">\n",
              "      <th></th>\n",
              "      <th>datetime</th>\n",
              "      <th>sym_level</th>\n",
              "      <th>sym_pct_change_1m</th>\n",
              "      <th>sym_short_ma</th>\n",
              "      <th>sym_short_ma_pct_change_baseline</th>\n",
              "      <th>sym_short_ma_pct_change_10m</th>\n",
              "      <th>sym_short_std</th>\n",
              "      <th>sym_short_std_pct_change_10m</th>\n",
              "      <th>sym_long_ma</th>\n",
              "      <th>sym_long_ma_pct_change_baseline</th>\n",
              "      <th>sym_long_ma_pct_change_60m</th>\n",
              "      <th>sym_long_std</th>\n",
              "      <th>sym_long_std_pct_change_60m</th>\n",
              "      <th>sym_short_ewm</th>\n",
              "      <th>sym_short_ewm_pct_change_baseline</th>\n",
              "      <th>sym_long_ewm</th>\n",
              "      <th>sym_long_ewm_pct_change_baseline</th>\n",
              "      <th>sym_rsi</th>\n",
              "      <th>sym_wma</th>\n",
              "      <th>sym_wma_pct_change</th>\n",
              "      <th>sym_macd</th>\n",
              "      <th>sec_level</th>\n",
              "      <th>sec_pct_change_1m</th>\n",
              "      <th>sec_short_ma</th>\n",
              "      <th>sec_short_ma_pct_change_baseline</th>\n",
              "      <th>sec_short_ma_pct_change_10m</th>\n",
              "      <th>sec_short_std</th>\n",
              "      <th>sec_short_std_pct_change_10m</th>\n",
              "      <th>sec_long_ma</th>\n",
              "      <th>sec_long_ma_pct_change_baseline</th>\n",
              "      <th>sec_long_ma_pct_change_60m</th>\n",
              "      <th>sec_long_std</th>\n",
              "      <th>sec_long_std_pct_change_60m</th>\n",
              "      <th>sec_short_ewm</th>\n",
              "      <th>sec_short_ewm_pct_change_baseline</th>\n",
              "      <th>sec_long_ewm</th>\n",
              "      <th>sec_long_ewm_pct_change_baseline</th>\n",
              "      <th>sec_rsi</th>\n",
              "      <th>sec_wma</th>\n",
              "      <th>sec_wma_pct_change</th>\n",
              "      <th>sec_macd</th>\n",
              "      <th>iss_level</th>\n",
              "      <th>iss_pct_change_1m</th>\n",
              "      <th>iss_short_ma</th>\n",
              "      <th>iss_short_ma_pct_change_baseline</th>\n",
              "      <th>iss_short_ma_pct_change_10m</th>\n",
              "      <th>iss_short_std</th>\n",
              "      <th>iss_short_std_pct_change_10m</th>\n",
              "      <th>iss_long_ma</th>\n",
              "      <th>iss_long_ma_pct_change_baseline</th>\n",
              "      <th>iss_long_ma_pct_change_60m</th>\n",
              "      <th>iss_long_std</th>\n",
              "      <th>iss_long_std_pct_change_60m</th>\n",
              "      <th>iss_short_ewm</th>\n",
              "      <th>iss_short_ewm_pct_change_baseline</th>\n",
              "      <th>iss_long_ewm</th>\n",
              "      <th>iss_long_ewm_pct_change_baseline</th>\n",
              "      <th>iss_rsi</th>\n",
              "      <th>iss_wma</th>\n",
              "      <th>iss_wma_pct_change</th>\n",
              "      <th>iss_macd</th>\n",
              "    </tr>\n",
              "  </thead>\n",
              "  <tbody>\n",
              "    <tr>\n",
              "      <th>0</th>\n",
              "      <td>2020-11-17 13:41:00</td>\n",
              "      <td>328.176669</td>\n",
              "      <td>0.001368</td>\n",
              "      <td>328.926924</td>\n",
              "      <td>0.002286</td>\n",
              "      <td>-0.001739</td>\n",
              "      <td>0.810908</td>\n",
              "      <td>-0.418594</td>\n",
              "      <td>329.579925</td>\n",
              "      <td>0.004276</td>\n",
              "      <td>-0.001874</td>\n",
              "      <td>2.201652</td>\n",
              "      <td>-0.483327</td>\n",
              "      <td>328.862257</td>\n",
              "      <td>0.002089</td>\n",
              "      <td>329.366338</td>\n",
              "      <td>0.003625</td>\n",
              "      <td>46.658919</td>\n",
              "      <td>328.991286</td>\n",
              "      <td>-0.000073</td>\n",
              "      <td>-0.504080</td>\n",
              "      <td>85.665611</td>\n",
              "      <td>0.026283</td>\n",
              "      <td>85.641504</td>\n",
              "      <td>-0.000281</td>\n",
              "      <td>-0.036173</td>\n",
              "      <td>1.893764</td>\n",
              "      <td>-0.209516</td>\n",
              "      <td>88.322620</td>\n",
              "      <td>0.031016</td>\n",
              "      <td>-0.036436</td>\n",
              "      <td>2.535351</td>\n",
              "      <td>-0.385699</td>\n",
              "      <td>85.808095</td>\n",
              "      <td>0.001663</td>\n",
              "      <td>88.263161</td>\n",
              "      <td>0.030322</td>\n",
              "      <td>48.044284</td>\n",
              "      <td>86.897682</td>\n",
              "      <td>-0.001474</td>\n",
              "      <td>-2.455067</td>\n",
              "      <td>87.934112</td>\n",
              "      <td>0.119184</td>\n",
              "      <td>85.084277</td>\n",
              "      <td>-0.032409</td>\n",
              "      <td>-0.061728</td>\n",
              "      <td>2.928070</td>\n",
              "      <td>-0.405747</td>\n",
              "      <td>90.035679</td>\n",
              "      <td>0.023899</td>\n",
              "      <td>-0.055030</td>\n",
              "      <td>4.676086</td>\n",
              "      <td>-0.134044</td>\n",
              "      <td>85.465386</td>\n",
              "      <td>-0.028075</td>\n",
              "      <td>89.711180</td>\n",
              "      <td>0.020209</td>\n",
              "      <td>49.317087</td>\n",
              "      <td>87.370107</td>\n",
              "      <td>-0.000305</td>\n",
              "      <td>-4.245793</td>\n",
              "    </tr>\n",
              "    <tr>\n",
              "      <th>1</th>\n",
              "      <td>2020-11-17 13:42:00</td>\n",
              "      <td>327.452088</td>\n",
              "      <td>-0.002208</td>\n",
              "      <td>328.826949</td>\n",
              "      <td>0.004199</td>\n",
              "      <td>-0.002347</td>\n",
              "      <td>0.929016</td>\n",
              "      <td>-0.262601</td>\n",
              "      <td>329.455319</td>\n",
              "      <td>0.006118</td>\n",
              "      <td>-0.002886</td>\n",
              "      <td>2.103179</td>\n",
              "      <td>-0.496367</td>\n",
              "      <td>328.605863</td>\n",
              "      <td>0.003523</td>\n",
              "      <td>329.303575</td>\n",
              "      <td>0.005654</td>\n",
              "      <td>44.823963</td>\n",
              "      <td>328.919389</td>\n",
              "      <td>-0.000219</td>\n",
              "      <td>-0.697713</td>\n",
              "      <td>82.731644</td>\n",
              "      <td>-0.034249</td>\n",
              "      <td>85.191549</td>\n",
              "      <td>0.029734</td>\n",
              "      <td>-0.039995</td>\n",
              "      <td>2.005345</td>\n",
              "      <td>-0.180836</td>\n",
              "      <td>88.143960</td>\n",
              "      <td>0.065420</td>\n",
              "      <td>-0.039258</td>\n",
              "      <td>2.545496</td>\n",
              "      <td>-0.380932</td>\n",
              "      <td>85.248740</td>\n",
              "      <td>0.030425</td>\n",
              "      <td>88.081800</td>\n",
              "      <td>0.064669</td>\n",
              "      <td>45.993289</td>\n",
              "      <td>86.586566</td>\n",
              "      <td>-0.003580</td>\n",
              "      <td>-2.833060</td>\n",
              "      <td>89.542932</td>\n",
              "      <td>0.018296</td>\n",
              "      <td>85.272917</td>\n",
              "      <td>-0.047687</td>\n",
              "      <td>-0.059502</td>\n",
              "      <td>3.163500</td>\n",
              "      <td>-0.359184</td>\n",
              "      <td>89.899659</td>\n",
              "      <td>0.003984</td>\n",
              "      <td>-0.057589</td>\n",
              "      <td>4.566660</td>\n",
              "      <td>-0.150697</td>\n",
              "      <td>86.206758</td>\n",
              "      <td>-0.037258</td>\n",
              "      <td>89.705663</td>\n",
              "      <td>0.001817</td>\n",
              "      <td>49.952014</td>\n",
              "      <td>87.445257</td>\n",
              "      <td>0.000860</td>\n",
              "      <td>-3.498905</td>\n",
              "    </tr>\n",
              "    <tr>\n",
              "      <th>2</th>\n",
              "      <td>2020-11-17 13:43:00</td>\n",
              "      <td>327.267877</td>\n",
              "      <td>-0.000563</td>\n",
              "      <td>328.705230</td>\n",
              "      <td>0.004392</td>\n",
              "      <td>-0.002941</td>\n",
              "      <td>1.050571</td>\n",
              "      <td>-0.091062</td>\n",
              "      <td>329.329448</td>\n",
              "      <td>0.006299</td>\n",
              "      <td>-0.003861</td>\n",
              "      <td>2.000133</td>\n",
              "      <td>-0.511997</td>\n",
              "      <td>328.362593</td>\n",
              "      <td>0.003345</td>\n",
              "      <td>329.236831</td>\n",
              "      <td>0.006016</td>\n",
              "      <td>44.365100</td>\n",
              "      <td>328.833588</td>\n",
              "      <td>-0.000261</td>\n",
              "      <td>-0.874239</td>\n",
              "      <td>86.828398</td>\n",
              "      <td>0.049519</td>\n",
              "      <td>85.537347</td>\n",
              "      <td>-0.014869</td>\n",
              "      <td>-0.030068</td>\n",
              "      <td>1.953904</td>\n",
              "      <td>-0.343454</td>\n",
              "      <td>88.091473</td>\n",
              "      <td>0.014547</td>\n",
              "      <td>-0.039685</td>\n",
              "      <td>2.539506</td>\n",
              "      <td>-0.383079</td>\n",
              "      <td>85.535951</td>\n",
              "      <td>-0.014885</td>\n",
              "      <td>88.040705</td>\n",
              "      <td>0.013962</td>\n",
              "      <td>49.130123</td>\n",
              "      <td>86.551588</td>\n",
              "      <td>-0.000404</td>\n",
              "      <td>-2.504754</td>\n",
              "      <td>87.573748</td>\n",
              "      <td>-0.021992</td>\n",
              "      <td>85.822887</td>\n",
              "      <td>-0.019993</td>\n",
              "      <td>-0.040672</td>\n",
              "      <td>3.020411</td>\n",
              "      <td>-0.445039</td>\n",
              "      <td>89.833496</td>\n",
              "      <td>0.025804</td>\n",
              "      <td>-0.058613</td>\n",
              "      <td>4.571195</td>\n",
              "      <td>-0.144931</td>\n",
              "      <td>86.455302</td>\n",
              "      <td>-0.012771</td>\n",
              "      <td>89.635765</td>\n",
              "      <td>0.023546</td>\n",
              "      <td>49.172036</td>\n",
              "      <td>87.377925</td>\n",
              "      <td>-0.000770</td>\n",
              "      <td>-3.180463</td>\n",
              "    </tr>\n",
              "    <tr>\n",
              "      <th>3</th>\n",
              "      <td>2020-11-17 13:44:00</td>\n",
              "      <td>327.176165</td>\n",
              "      <td>-0.000280</td>\n",
              "      <td>328.530790</td>\n",
              "      <td>0.004140</td>\n",
              "      <td>-0.003803</td>\n",
              "      <td>1.150878</td>\n",
              "      <td>0.149482</td>\n",
              "      <td>329.222466</td>\n",
              "      <td>0.006254</td>\n",
              "      <td>-0.004746</td>\n",
              "      <td>1.938834</td>\n",
              "      <td>-0.511843</td>\n",
              "      <td>328.146879</td>\n",
              "      <td>0.002967</td>\n",
              "      <td>329.169268</td>\n",
              "      <td>0.006092</td>\n",
              "      <td>44.132416</td>\n",
              "      <td>328.741262</td>\n",
              "      <td>-0.000281</td>\n",
              "      <td>-1.022390</td>\n",
              "      <td>83.641015</td>\n",
              "      <td>-0.036709</td>\n",
              "      <td>85.278921</td>\n",
              "      <td>0.019583</td>\n",
              "      <td>-0.029401</td>\n",
              "      <td>2.022503</td>\n",
              "      <td>-0.324984</td>\n",
              "      <td>88.039598</td>\n",
              "      <td>0.052589</td>\n",
              "      <td>-0.040798</td>\n",
              "      <td>2.598407</td>\n",
              "      <td>-0.355309</td>\n",
              "      <td>85.191417</td>\n",
              "      <td>0.018536</td>\n",
              "      <td>87.896453</td>\n",
              "      <td>0.050877</td>\n",
              "      <td>46.935968</td>\n",
              "      <td>86.311051</td>\n",
              "      <td>-0.002779</td>\n",
              "      <td>-2.705036</td>\n",
              "      <td>80.072406</td>\n",
              "      <td>-0.085657</td>\n",
              "      <td>85.038783</td>\n",
              "      <td>0.062024</td>\n",
              "      <td>-0.042679</td>\n",
              "      <td>3.410039</td>\n",
              "      <td>-0.342767</td>\n",
              "      <td>89.550112</td>\n",
              "      <td>0.118364</td>\n",
              "      <td>-0.063778</td>\n",
              "      <td>4.641135</td>\n",
              "      <td>-0.093697</td>\n",
              "      <td>85.294775</td>\n",
              "      <td>0.065221</td>\n",
              "      <td>89.322212</td>\n",
              "      <td>0.115518</td>\n",
              "      <td>46.321741</td>\n",
              "      <td>86.835829</td>\n",
              "      <td>-0.006204</td>\n",
              "      <td>-4.027436</td>\n",
              "    </tr>\n",
              "    <tr>\n",
              "      <th>4</th>\n",
              "      <td>2020-11-17 13:45:00</td>\n",
              "      <td>326.852622</td>\n",
              "      <td>-0.000989</td>\n",
              "      <td>328.185185</td>\n",
              "      <td>0.004077</td>\n",
              "      <td>-0.005132</td>\n",
              "      <td>1.074017</td>\n",
              "      <td>0.071453</td>\n",
              "      <td>329.111287</td>\n",
              "      <td>0.006910</td>\n",
              "      <td>-0.005633</td>\n",
              "      <td>1.878344</td>\n",
              "      <td>-0.510225</td>\n",
              "      <td>327.911559</td>\n",
              "      <td>0.003240</td>\n",
              "      <td>329.093313</td>\n",
              "      <td>0.006855</td>\n",
              "      <td>43.303567</td>\n",
              "      <td>328.627730</td>\n",
              "      <td>-0.000345</td>\n",
              "      <td>-1.181754</td>\n",
              "      <td>86.100018</td>\n",
              "      <td>0.029399</td>\n",
              "      <td>85.208805</td>\n",
              "      <td>-0.010351</td>\n",
              "      <td>-0.026196</td>\n",
              "      <td>1.975473</td>\n",
              "      <td>-0.311591</td>\n",
              "      <td>87.947689</td>\n",
              "      <td>0.021460</td>\n",
              "      <td>-0.043160</td>\n",
              "      <td>2.567153</td>\n",
              "      <td>-0.340308</td>\n",
              "      <td>85.356617</td>\n",
              "      <td>-0.008634</td>\n",
              "      <td>87.837553</td>\n",
              "      <td>0.020180</td>\n",
              "      <td>48.762208</td>\n",
              "      <td>86.243443</td>\n",
              "      <td>-0.000783</td>\n",
              "      <td>-2.480936</td>\n",
              "      <td>87.549581</td>\n",
              "      <td>0.093380</td>\n",
              "      <td>85.181927</td>\n",
              "      <td>-0.027044</td>\n",
              "      <td>-0.034819</td>\n",
              "      <td>3.489500</td>\n",
              "      <td>-0.320135</td>\n",
              "      <td>89.398771</td>\n",
              "      <td>0.021122</td>\n",
              "      <td>-0.066302</td>\n",
              "      <td>4.553581</td>\n",
              "      <td>-0.104185</td>\n",
              "      <td>85.704740</td>\n",
              "      <td>-0.021072</td>\n",
              "      <td>89.264093</td>\n",
              "      <td>0.019583</td>\n",
              "      <td>49.349210</td>\n",
              "      <td>86.801410</td>\n",
              "      <td>-0.000396</td>\n",
              "      <td>-3.559353</td>\n",
              "    </tr>\n",
              "  </tbody>\n",
              "</table>\n",
              "</div>"
            ],
            "text/plain": [
              "             datetime   sym_level  ...  iss_wma_pct_change  iss_macd\n",
              "0 2020-11-17 13:41:00  328.176669  ...           -0.000305 -4.245793\n",
              "1 2020-11-17 13:42:00  327.452088  ...            0.000860 -3.498905\n",
              "2 2020-11-17 13:43:00  327.267877  ...           -0.000770 -3.180463\n",
              "3 2020-11-17 13:44:00  327.176165  ...           -0.006204 -4.027436\n",
              "4 2020-11-17 13:45:00  326.852622  ...           -0.000396 -3.559353\n",
              "\n",
              "[5 rows x 61 columns]"
            ]
          },
          "metadata": {
            "tags": []
          },
          "execution_count": 292
        }
      ]
    },
    {
      "cell_type": "code",
      "metadata": {
        "colab": {
          "base_uri": "https://localhost:8080/",
          "height": 286
        },
        "id": "v20tcHn1x8zF",
        "outputId": "2274caa8-77a4-416a-e2d3-9bc1aa076082"
      },
      "source": [
        "raw_test_data.plot(y='sym_level')"
      ],
      "execution_count": 293,
      "outputs": [
        {
          "output_type": "execute_result",
          "data": {
            "text/plain": [
              "<matplotlib.axes._subplots.AxesSubplot at 0x7f3658242470>"
            ]
          },
          "metadata": {
            "tags": []
          },
          "execution_count": 293
        },
        {
          "output_type": "display_data",
          "data": {
            "image/png": "[encoded data removed]",
            "text/plain": [
              "<Figure size 432x288 with 1 Axes>"
            ]
          },
          "metadata": {
            "tags": [],
            "needs_background": "light"
          }
        }
      ]
    },
    {
      "cell_type": "code",
      "metadata": {
        "colab": {
          "base_uri": "https://localhost:8080/"
        },
        "id": "BqsVA1DKLgGd",
        "outputId": "fcaec5de-086d-4301-b707-142ec5cef87b"
      },
      "source": [
        "print(\"baseline_last_trade_model\")\n",
        "rmse_raw, rmse_pct, rmse_level, preds_pct, preds_level_baseline = model_eval(baseline_last_trade_model, raw_test_data, scaler)\n",
        "print(\"rmse_raw\", rmse_raw, \"rmse_pct\", rmse_pct, \"rmse_level\", rmse_level)\n",
        "print('first 5 predicted levels:')\n",
        "for pred in preds_level_baseline[:5]:\n",
        "  print(pred)\n"
      ],
      "execution_count": 294,
      "outputs": [
        {
          "output_type": "stream",
          "text": [
            "baseline_last_trade_model\n",
            "rmse_raw 1.0589019 rmse_pct 0.008415377 rmse_level 2.6530354\n",
            "first 5 predicted levels:\n",
            "[330.4770704]\n",
            "[330.24970864]\n",
            "[330.20914253]\n",
            "[330.59423962]\n",
            "[331.09155396]\n"
          ],
          "name": "stdout"
        }
      ]
    },
    {
      "cell_type": "code",
      "metadata": {
        "colab": {
          "base_uri": "https://localhost:8080/"
        },
        "id": "m0nAp8fnI-zo",
        "outputId": "97dd42c4-b4ce-4189-d383-6c5c669ba671"
      },
      "source": [
        "print(\"conv1d_model\")\n",
        "rmse_raw, rmse_pct, rmse_level, preds_pct, preds_level_conv1d = model_eval(conv1d_model, raw_test_data, scaler)\n",
        "print(\"rmse_raw\", rmse_raw, \"rmse_pct\", rmse_pct, \"rmse_level\", rmse_level)\n",
        "print('first 5 predicted levels:')\n",
        "for pred in preds_level_conv1d[:5]:\n",
        "  print(pred)\n"
      ],
      "execution_count": 295,
      "outputs": [
        {
          "output_type": "stream",
          "text": [
            "conv1d_model\n",
            "rmse_raw 1.059249 rmse_pct 0.008417525 rmse_level 2.653622\n",
            "first 5 predicted levels:\n",
            "[330.44834766812545]\n",
            "[330.2210056647227]\n",
            "[330.18044308257055]\n",
            "[330.56550669670594]\n",
            "[331.06277782335377]\n"
          ],
          "name": "stdout"
        }
      ]
    },
    {
      "cell_type": "code",
      "metadata": {
        "colab": {
          "base_uri": "https://localhost:8080/"
        },
        "id": "soeD9Q79Nvj2",
        "outputId": "d8fd71c5-5c4d-4753-ef8c-951ace1c4ee7"
      },
      "source": [
        "print(\"LSTM_model\")\n",
        "rmse_raw, rmse_pct, rmse_level, preds_pct, preds_level_LSTM = model_eval(LSTM_model, raw_test_data, scaler)\n",
        "print(\"rmse_raw\", rmse_raw, \"rmse_pct\", rmse_pct, \"rmse_level\", rmse_level)\n",
        "print('first 5 predicted levels:')\n",
        "for pred in preds_level_LSTM[:5]:\n",
        "  print(pred)\n"
      ],
      "execution_count": 296,
      "outputs": [
        {
          "output_type": "stream",
          "text": [
            "LSTM_model\n",
            "rmse_raw 1.0606697 rmse_pct 0.008428816 rmse_level 2.6572332\n",
            "first 5 predicted levels:\n",
            "[330.3657273114745]\n",
            "[330.13847001715715]\n",
            "[330.09786412722895]\n",
            "[330.48283616188473]\n",
            "[330.97999512674505]\n"
          ],
          "name": "stdout"
        }
      ]
    },
    {
      "cell_type": "code",
      "metadata": {
        "colab": {
          "base_uri": "https://localhost:8080/"
        },
        "id": "yBuF4NJnTaQ8",
        "outputId": "52bf7159-491a-4d17-e4fa-e6bd12b546dd"
      },
      "source": [
        "print(\"lr_model\")\n",
        "rmse_raw, rmse_pct, rmse_level, preds_pct, preds_level_lr = model_eval(my_lr_model, raw_test_data, scaler)\n",
        "print(\"rmse_raw\", rmse_raw, \"rmse_pct\", rmse_pct, \"rmse_level\", rmse_level)\n",
        "print('first 5 predicted levels:')\n",
        "for pred in preds_level_lr[:5]:\n",
        "  print(pred)\n"
      ],
      "execution_count": 297,
      "outputs": [
        {
          "output_type": "stream",
          "text": [
            "lr_model\n",
            "rmse_raw 1.1416467 rmse_pct 0.009072315 rmse_level 2.9010828\n",
            "first 5 predicted levels:\n",
            "[333.42806231025725]\n",
            "[332.7159384967553]\n",
            "[332.59812555015515]\n",
            "[332.47572626096684]\n",
            "[333.5338464211716]\n"
          ],
          "name": "stdout"
        }
      ]
    },
    {
      "cell_type": "code",
      "metadata": {
        "colab": {
          "base_uri": "https://localhost:8080/"
        },
        "id": "QzAkIlsgTHlo",
        "outputId": "0a6f328b-947d-40ea-bde9-d9deae555fe5"
      },
      "source": [
        "print(\"maj_model\")\n",
        "rmse_raw, rmse_pct, rmse_level, preds_pct, preds_level_maj = model_eval(maj_model, raw_test_data, scaler)\n",
        "print(\"rmse_raw\", rmse_raw, \"rmse_pct\", rmse_pct, \"rmse_level\", rmse_level)\n",
        "for pred in preds_level_maj[:5]:\n",
        "  print(pred)\n"
      ],
      "execution_count": 298,
      "outputs": [
        {
          "output_type": "stream",
          "text": [
            "maj_model\n",
            "rmse_raw 1.0598428 rmse_pct 0.008422244 rmse_level 2.655078\n",
            "[330.40703748979996]\n",
            "[330.17973784093994]\n",
            "[330.1391536048997]\n",
            "[330.52417142929534]\n",
            "[331.0213864750494]\n"
          ],
          "name": "stdout"
        }
      ]
    },
    {
      "cell_type": "code",
      "metadata": {
        "id": "tiyOamd7TGSK",
        "colab": {
          "base_uri": "https://localhost:8080/"
        },
        "outputId": "077dcfbb-d040-415a-dd6e-5486f8e0ffa2"
      },
      "source": [
        "print(\"ensStack_model\")\n",
        "rmse_raw, rmse_pct, rmse_level, preds_pct, preds_level_ens = model_eval(ensStack_model, raw_test_data, scaler)\n",
        "print(\"rmse_raw\", rmse_raw, \"rmse_pct\", rmse_pct, \"rmse_level\", rmse_level)\n",
        "for pred in preds_level_ens[:5]:\n",
        "  print(pred)\n"
      ],
      "execution_count": 299,
      "outputs": [
        {
          "output_type": "stream",
          "text": [
            "ensStack_model\n",
            "rmse_raw 1.059798 rmse_pct 0.008421888 rmse_level 2.6549644\n",
            "[330.4098071044696]\n",
            "[330.1825089908113]\n",
            "[330.1419178157948]\n",
            "[330.5269394473444]\n",
            "[331.0241601632659]\n"
          ],
          "name": "stdout"
        }
      ]
    },
    {
      "cell_type": "code",
      "metadata": {
        "id": "ISeabJFARb8Q",
        "colab": {
          "base_uri": "https://localhost:8080/",
          "height": 281
        },
        "outputId": "1837697b-c11b-4469-c48b-eaa7e4e0900b"
      },
      "source": [
        "dates = raw_test_data.iloc[window_size:, 0]\n",
        "target_level = raw_test_data.iloc[window_size:, 1]\n",
        "\n",
        "\n",
        "plt.plot(range(len(target_level)), target_level, label='target')\n",
        "plt.plot(range(len(preds_level_ens)), preds_level_ens, label='ensemble') \n",
        "plt.plot(range(len(preds_level_baseline)), preds_level_baseline, label='baseline')\n",
        "plt.legend()\n",
        "plt.title('Results')\n",
        "plt.show()\n"
      ],
      "execution_count": 300,
      "outputs": [
        {
          "output_type": "display_data",
          "data": {
            "image/png": "[encoded data removed]",
            "text/plain": [
              "<Figure size 432x288 with 1 Axes>"
            ]
          },
          "metadata": {
            "tags": [],
            "needs_background": "light"
          }
        }
      ]
    },
    {
      "cell_type": "markdown",
      "metadata": {
        "id": "14qzgvkTco0j"
      },
      "source": [
        "Zoom-in plots"
      ]
    },
    {
      "cell_type": "code",
      "metadata": {
        "id": "_78LhY9wI-zr",
        "colab": {
          "base_uri": "https://localhost:8080/",
          "height": 265
        },
        "outputId": "3265c2f2-2cfc-4977-e6f3-2f9729ec342e"
      },
      "source": [
        "len_data = 10\n",
        "zoomed_dates = raw_test_data.iloc[window_size:window_size+len_data, 0]\n",
        "zoomed_target_level = raw_test_data.iloc[window_size:window_size+len_data, 1]\n",
        "zoomed_preds_level_ens = preds_level_ens[:len_data]\n",
        "zoomed_preds_level_baseline = preds_level_baseline[:len_data]\n",
        "\n",
        "plt.plot(zoomed_dates, zoomed_target_level, label='target')\n",
        "plt.plot(zoomed_dates, zoomed_preds_level_ens, label='prediction')\n",
        "plt.plot(zoomed_dates, zoomed_preds_level_baseline, label='baseline')\n",
        "plt.legend()\n",
        "\n",
        "plt.show()"
      ],
      "execution_count": 301,
      "outputs": [
        {
          "output_type": "display_data",
          "data": {
            "image/png": "[encoded data removed]",
            "text/plain": [
              "<Figure size 432x288 with 1 Axes>"
            ]
          },
          "metadata": {
            "tags": [],
            "needs_background": "light"
          }
        }
      ]
    },
    {
      "cell_type": "markdown",
      "metadata": {
        "id": "GPxWwcz6PsSp"
      },
      "source": [
        "# Future work to improve the result: \n",
        "\n",
        "1.   Use cross-validation (time series) to determine hyperparameters, such as window_size, feature dimensions, number of layers, neurons in the neural networks.\n",
        "2.   Add more learned models to the ensemble model, such as support vector regressor, xgboost, random forest, etc. \n",
        "\n"
      ]
    },
    {
      "cell_type": "markdown",
      "metadata": {
        "id": "5oqu5IHgPscH"
      },
      "source": [
        "# Online version of the model\n",
        "In the current ensemble model, the weights of each model are also trained offline. \n",
        "\n",
        "Suppose we have $n$ trained (offline) models (experts). One approach to make it online:\n",
        "\n",
        "We can formulate the online learning problem as a multi-armed bandit problem: at each time step, we pick an individual model (according to some learned distribution) and observe the cost (between prediction and the actual level); there are several well-known algorithms to achieve this, such as $\\epsilon$-greedy, Upper Confidence Bounds (UCB), and Bayesian variants of UCBs. \n",
        "\n",
        "There are also online algorithms that can compute weighted average of $n$ experts, see the reference below. \n",
        "\n",
        "Reference: \n",
        "Cesa-Bianchi, Nicolo, and Gábor Lugosi. Prediction, Learning, and Games. Cambridge university press, 2006.\n",
        "\n",
        "\n",
        "\n"
      ]
    },
    {
      "cell_type": "code",
      "metadata": {
        "id": "IhaN8Med8Uf-"
      },
      "source": [
        ""
      ],
      "execution_count": 301,
      "outputs": []
    }
  ]
}